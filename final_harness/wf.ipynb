{
 "cells": [
  {
   "cell_type": "code",
   "execution_count": 1,
   "id": "ed16e89e-9105-47c4-a57f-817ec25c5d10",
   "metadata": {},
   "outputs": [],
   "source": [
    "import pandas as pd\n",
    "import numpy as np\n",
    "\n",
    "import pickle\n",
    "\n",
    "import matplotlib.pyplot as plt\n",
    "\n",
    "import statsmodels.api as sm\n",
    "import statsmodels.formula.api as smf\n",
    "\n",
    "from importlib import reload \n",
    "\n",
    "from sklearn import metrics\n",
    "import seaborn as sns\n",
    "sns.set()\n",
    "\n",
    "\n",
    "from IPython.display import clear_output, display"
   ]
  },
  {
   "cell_type": "code",
   "execution_count": 2,
   "id": "f98fc17d-19a9-4fe6-a417-51a49d4d3ee7",
   "metadata": {},
   "outputs": [],
   "source": [
    "from preproc_functions import pre_process"
   ]
  },
  {
   "cell_type": "code",
   "execution_count": 3,
   "id": "20c2eb50-be89-4c10-ba5d-d36f373a47af",
   "metadata": {},
   "outputs": [],
   "source": [
    "from model_functions import SplitModel"
   ]
  },
  {
   "cell_type": "markdown",
   "id": "c00e0db3-2016-4c4b-a621-f79673fe8c7d",
   "metadata": {},
   "source": [
    "## Walk forward"
   ]
  },
  {
   "cell_type": "code",
   "execution_count": 4,
   "id": "c194cc6f-6f32-4d08-be4f-2f674fa7704c",
   "metadata": {},
   "outputs": [],
   "source": [
    "def progress_bar(k, n, incr_txt=\"Step\", bar_len = 10):\n",
    "   \n",
    "    bar_char  = u'\\u25A5'\n",
    "    line_char = u'\\u21E2' # u'\\u2192'  u'\\u23AF' u'\\u25AD'\n",
    "    \n",
    "    places   = int(np.ceil(n/bar_len))\n",
    "    pct      = k/n\n",
    "    n_str    = \"{:,.0f}\".format(n)        \n",
    "    k_str    = \"{:,.0f}\".format(k)\n",
    "    pct_str  = \"{:,.0f}%\".format(k/n * 100)\n",
    "    # d_format = \"%\" + str(places) + \"d\"\n",
    "    \n",
    "    if k == n-1:\n",
    "        n_bars = bar_len\n",
    "        n_spaces = 0\n",
    "        text_txt = \"Completed \" + n_str + \" \" + incr_txt + \"s.\"\n",
    "    else:\n",
    "        n_bars   = int(np.floor(pct * bar_len))\n",
    "        n_spaces = bar_len - n_bars\n",
    "        text_txt = \" \" + pct_str +  \" (\" + incr_txt + \" \" + k_str + \" of  \" + n_str + \").\"\n",
    "\n",
    "    bar_txt  = \"[\" + \"\".ljust(n_bars,bar_char) + \"\".rjust(n_spaces,line_char) + \"]  \" \n",
    "\n",
    "    clear_output()\n",
    "    display(bar_txt + text_txt)"
   ]
  },
  {
   "cell_type": "code",
   "execution_count": 102,
   "id": "92f95325-8582-4002-91cc-1cf7f05a6756",
   "metadata": {},
   "outputs": [],
   "source": [
    "def walk_forward_harness(df, start, date_col = 'Date', step_size = 1):     \n",
    "    predictions = []\n",
    "    model_list = []\n",
    "    group_list = []\n",
    "    \n",
    "    stats_list = []\n",
    "    def_percent = []\n",
    "\n",
    "    labels = []\n",
    "\n",
    "    ### features for first firm\n",
    "    first_features = [\n",
    "        # 'asst_tot_quantile_values', ####\n",
    "        'financial_leverage_quantile_values',\n",
    "        'profitability_ratio_quantile_values',\n",
    "        # 'net_income_growth_quantile_values',\n",
    "        'quick_ratio_v2_quantile_values',\n",
    "        # 'sales_growth_quantile_values',\n",
    "        # 'cash_assets_ratio_quantile_values', ####\n",
    "        'dscr_quantile_values',\n",
    "        'roe_quantile_values',\n",
    "        # 'ebitda',\n",
    "        # 'ateco_sector_pd',\n",
    "        # 'sector_group_pd', ####\n",
    "        # 'regional_code', \n",
    "        'regional_code_pd' ####\n",
    "    ]\n",
    "\n",
    "    ### features for recurring firms\n",
    "    rec_features = [\n",
    "        # 'asst_tot_quantile_values',\n",
    "        'financial_leverage_quantile_values',\n",
    "        'profitability_ratio_quantile_values',\n",
    "        'net_income_growth_quantile_values',\n",
    "        'quick_ratio_v2_quantile_values',\n",
    "        'sales_growth_quantile_values',\n",
    "        # 'cash_assets_ratio_quantile_values',\n",
    "        'dscr_quantile_values',\n",
    "        'roe_quantile_values',\n",
    "        # 'ebitda',\n",
    "        # 'ateco_sector_pd',\n",
    "        # 'sector_group_pd',\n",
    "        # 'regional_code', \n",
    "        'regional_code_pd'\n",
    "    \n",
    "    ]\n",
    "\n",
    "\n",
    "    with open('quantile_custom_bins.pkl', 'rb') as file:\n",
    "        custom_bins = pickle.load(file)\n",
    "    \n",
    "    preproc_params = {\n",
    "        'quantile_bins' : {},\n",
    "        'quantile_values' : {}\n",
    "    }\n",
    "    \n",
    "    # df[date_col] = pd.to_datetime(df[date_col])\n",
    "    # walk_range = df[date_col].dt.year.unique()\n",
    "    walk_range = df['fs_year'].unique()\n",
    "    \n",
    "    for i in range(start,len(walk_range), step_size):\n",
    "        print(stats_list)\n",
    "        \n",
    "        train_idx = walk_range[:i]\n",
    "        test_idx = [walk_range[i]]\n",
    "        print('Training range:',train_idx)\n",
    "        print('Test step:',test_idx)\n",
    "\n",
    "        # print('train',train_idx)\n",
    "        # print('test',test_idx)\n",
    "        \n",
    "        # train_data = df[df[date_col].dt.year.isin(train_idx)].copy()\n",
    "        # test_data = df[df[date_col].dt.year.isin(test_idx)].copy()\n",
    "        train_data = df[df['fs_year'].isin(train_idx)].copy()\n",
    "        test_data = df[df['fs_year'].isin(test_idx)].copy()\n",
    "        print(train_data.shape)\n",
    "        print(test_data.shape)\n",
    "\n",
    "        train_data_proc , preproc_params = pre_process(train_data, \n",
    "                                                       custom_bins=custom_bins, \n",
    "                                                       preproc_params = preproc_params,  \n",
    "                                                       quantiles = 50, \n",
    "                                                       days_until_statement = 150)\n",
    "        # test_data_proc , preproc_params = preprocessor(test_data, preproc_params, new=False)\n",
    "        test_data_proc , preproc_params = pre_process(test_data, \n",
    "                                                     historical_df=train_data_proc, \n",
    "                                                     new=False, \n",
    "                                                     preproc_params = preproc_params,  \n",
    "                                                     quantiles = 50, \n",
    "                                                     days_until_statement = 150)\n",
    "        print(train_data_proc['default'].mean())\n",
    "        print(test_data_proc['default'].mean())\n",
    "\n",
    "        # print(train_data_proc['is_first_occurrence'].value_counts())\n",
    "        # print(test_data_proc['is_first_occurrence'].value_counts())\n",
    "\n",
    "        \n",
    "\n",
    "        model = SplitModel(algo=smf.probit, first_features=first_features, rec_features=rec_features)\n",
    "        model.train(train_data_proc)\n",
    "        \n",
    "        prediction = model.predict(test_data_proc)\n",
    "        \n",
    "        labels += list(test_data_proc['default'].values)\n",
    "        predictions += list(prediction.values)\n",
    "        group_list += test_idx * len(prediction)\n",
    "        \n",
    "        preds = pd.DataFrame([labels,predictions,group_list]).T\n",
    "        preds.columns = ['label','prediction','group']\n",
    "        \n",
    "        score = metrics.roc_auc_score(y_score=preds['prediction'], y_true=preds['label'])\n",
    "        \n",
    "        stats_list.append(score)\n",
    "        model_list.append(model)\n",
    "\n",
    "        progress_bar(i, len(walk_range))\n",
    "    \n",
    "    predictions = pd.DataFrame([labels,predictions,group_list]).T\n",
    "    predictions.columns = ['label','prediction','group']\n",
    "    #predictions.set_index('index', inplace=True)\n",
    "    \n",
    "    return(predictions, model_list, stats_list)"
   ]
  },
  {
   "cell_type": "code",
   "execution_count": 103,
   "id": "92b04394-546a-478a-9c1a-dc88f7a34772",
   "metadata": {},
   "outputs": [
    {
     "data": {
      "text/plain": [
       "(1023552, 44)"
      ]
     },
     "execution_count": 103,
     "metadata": {},
     "output_type": "execute_result"
    }
   ],
   "source": [
    "modeling_df = pd.read_csv('../data/train.csv')\n",
    "modeling_df.shape"
   ]
  },
  {
   "cell_type": "code",
   "execution_count": 104,
   "id": "8de7af7a-2e05-48a8-b0ec-342f6c419be3",
   "metadata": {},
   "outputs": [],
   "source": [
    "modeling_df['stmt_date'] = pd.to_datetime(modeling_df['stmt_date'])\n",
    "modeling_df['def_date'] = pd.to_datetime(modeling_df['def_date'], format=\"%d/%m/%Y\")"
   ]
  },
  {
   "cell_type": "code",
   "execution_count": 105,
   "id": "e5a8deeb-23f4-461f-b2e0-608e3012414b",
   "metadata": {},
   "outputs": [],
   "source": [
    "### we'll try dropping NA's for now\n",
    "# modeling_df = modeling_df[~(modeling_df[features].isna().sum(axis=1)>0)].copy()\n",
    "modeling_df.sort_values('stmt_date', inplace=True)"
   ]
  },
  {
   "cell_type": "code",
   "execution_count": 106,
   "id": "be9e8c57-72ca-4581-84c8-aa51995d41eb",
   "metadata": {
    "jupyter": {
     "source_hidden": true
    }
   },
   "outputs": [],
   "source": [
    "features_needed = ['id',\n",
    "                     'stmt_date',\n",
    "                     'HQ_city',\n",
    "                     # 'legal_struct',\n",
    "                     'ateco_sector',\n",
    "                     'def_date',\n",
    "                     'fs_year',\n",
    "                     # 'asst_intang_fixed',\n",
    "                     # 'asst_tang_fixed',\n",
    "                     # 'asst_fixed_fin',\n",
    "                     # 'asst_current',\n",
    "                     'AR',\n",
    "                     'cash_and_equiv',\n",
    "                     'asst_tot',\n",
    "                     'eqty_tot',\n",
    "                     # 'eqty_corp_family_tot',\n",
    "                     # 'liab_lt',\n",
    "                     # 'liab_lt_emp',\n",
    "                     # 'debt_bank_st',\n",
    "                     # 'debt_bank_lt',\n",
    "                     # 'debt_fin_st',\n",
    "                     # 'debt_fin_lt',\n",
    "                     # 'AP_st',\n",
    "                     # 'AP_lt',\n",
    "                     'debt_st',\n",
    "                     'debt_lt',\n",
    "                     'rev_operating',\n",
    "                     # 'COGS',\n",
    "                     'prof_operations',\n",
    "                     # 'goodwill',\n",
    "                     # 'inc_financing',\n",
    "                     'exp_financing',\n",
    "                     # 'prof_financing',\n",
    "                     # 'inc_extraord',\n",
    "                     # 'taxes',\n",
    "                     'profit',\n",
    "                     # 'days_rec',\n",
    "                     'ebitda',\n",
    "                     # 'roa',\n",
    "                     # 'roe',\n",
    "                     # 'wc_net',\n",
    "                     # 'margin_fin',\n",
    "                     # 'cf_operations'\n",
    "                  ]"
   ]
  },
  {
   "cell_type": "code",
   "execution_count": 107,
   "id": "0a7006af-49fd-4c4f-9830-1d490df37741",
   "metadata": {},
   "outputs": [
    {
     "data": {
      "text/plain": [
       "['id',\n",
       " 'stmt_date',\n",
       " 'HQ_city',\n",
       " 'ateco_sector',\n",
       " 'def_date',\n",
       " 'fs_year',\n",
       " 'AR',\n",
       " 'cash_and_equiv',\n",
       " 'asst_tot',\n",
       " 'eqty_tot',\n",
       " 'debt_st',\n",
       " 'debt_lt',\n",
       " 'rev_operating',\n",
       " 'prof_operations',\n",
       " 'exp_financing',\n",
       " 'profit',\n",
       " 'ebitda']"
      ]
     },
     "execution_count": 107,
     "metadata": {},
     "output_type": "execute_result"
    }
   ],
   "source": [
    "features_needed"
   ]
  },
  {
   "cell_type": "code",
   "execution_count": 108,
   "id": "8fef8778-6199-48fb-bd7a-034bc5bbf9f8",
   "metadata": {},
   "outputs": [],
   "source": [
    "modeling_df = modeling_df[features_needed]"
   ]
  },
  {
   "cell_type": "code",
   "execution_count": 109,
   "id": "da124277-d801-4f16-8f01-051ac4f7affd",
   "metadata": {},
   "outputs": [],
   "source": [
    "modeling_df['def_date'] = pd.to_datetime(modeling_df['def_date'], format=\"%d/%m/%Y\")"
   ]
  },
  {
   "cell_type": "code",
   "execution_count": 110,
   "id": "907ffda8-bbce-4e99-9f97-a9ef82cd4e54",
   "metadata": {
    "scrolled": true
   },
   "outputs": [
    {
     "data": {
      "text/plain": [
       "'[▥▥▥▥▥▥▥▥▥▥]  Completed 6 Steps.'"
      ]
     },
     "metadata": {},
     "output_type": "display_data"
    }
   ],
   "source": [
    "predictions, model_list, stats_list = walk_forward_harness(modeling_df,\n",
    "                                                           date_col = 'stmt_date',\n",
    "                                                           start = 2, \n",
    "                                                           step_size = 1)"
   ]
  },
  {
   "cell_type": "code",
   "execution_count": 111,
   "id": "33d48258-b4cc-4a37-8eed-de8568947652",
   "metadata": {},
   "outputs": [
    {
     "data": {
      "text/plain": [
       "label         0\n",
       "prediction    0\n",
       "group         0\n",
       "dtype: int64"
      ]
     },
     "execution_count": 111,
     "metadata": {},
     "output_type": "execute_result"
    }
   ],
   "source": [
    "predictions.isna().sum()"
   ]
  },
  {
   "cell_type": "code",
   "execution_count": 112,
   "id": "513d4d77-3b41-4a91-aa3f-db0f34796288",
   "metadata": {},
   "outputs": [],
   "source": [
    "# predictions = predictions.dropna()"
   ]
  },
  {
   "cell_type": "code",
   "execution_count": 113,
   "id": "ac32b556-db1a-4d9f-8fce-25ffb2116382",
   "metadata": {},
   "outputs": [
    {
     "name": "stdout",
     "output_type": "stream",
     "text": [
      "ROC AUC 0.8154075151113771\n"
     ]
    },
    {
     "data": {
      "text/plain": [
       "<sklearn.metrics._plot.roc_curve.RocCurveDisplay at 0x2db816c40>"
      ]
     },
     "execution_count": 113,
     "metadata": {},
     "output_type": "execute_result"
    },
    {
     "data": {
      "image/png": "[encoded data removed]",
      "text/plain": [
       "<Figure size 640x480 with 1 Axes>"
      ]
     },
     "metadata": {},
     "output_type": "display_data"
    }
   ],
   "source": [
    "fpr, tpr, thresholds = metrics.roc_curve(predictions['label'], predictions['prediction'])\n",
    "roc_auc = metrics.auc(fpr, tpr)\n",
    "roc_display = metrics.RocCurveDisplay(fpr=fpr, tpr=tpr, roc_auc=roc_auc)\n",
    "print(f'ROC AUC {roc_auc}')\n",
    "roc_display.plot()"
   ]
  },
  {
   "cell_type": "code",
   "execution_count": 114,
   "id": "3313c6bb-e71a-46bf-b269-e8d955e8cecd",
   "metadata": {},
   "outputs": [
    {
     "data": {
      "text/plain": [
       "Text(0, 0.5, 'ROC AUC score (for that test set of size Step)')"
      ]
     },
     "execution_count": 114,
     "metadata": {},
     "output_type": "execute_result"
    },
    {
     "data": {
      "image/png": "[encoded data removed]",
      "text/plain": [
       "<Figure size 640x480 with 1 Axes>"
      ]
     },
     "metadata": {},
     "output_type": "display_data"
    }
   ],
   "source": [
    "sns.lineplot(x=predictions['group'].unique(), y=stats_list, marker=\"o\")\n",
    "plt.title('ROC AUC scores over each step iteration')\n",
    "plt.xlabel('Walk forward Iteration')\n",
    "plt.ylabel('ROC AUC score (for that test set of size Step)')"
   ]
  },
  {
   "cell_type": "code",
   "execution_count": 115,
   "id": "23a0a9a2-092a-4bbd-bb4b-e7175792fe91",
   "metadata": {},
   "outputs": [],
   "source": [
    "default_data_viz = predictions.groupby('group')['label'].mean()"
   ]
  },
  {
   "cell_type": "code",
   "execution_count": 116,
   "id": "33e9dbd6-ce2d-4892-8783-d6556befb54a",
   "metadata": {},
   "outputs": [
    {
     "data": {
      "text/plain": [
       "Text(0, 0.5, '% of defaults')"
      ]
     },
     "execution_count": 116,
     "metadata": {},
     "output_type": "execute_result"
    },
    {
     "data": {
      "image/png": "[encoded data removed]",
      "text/plain": [
       "<Figure size 640x480 with 1 Axes>"
      ]
     },
     "metadata": {},
     "output_type": "display_data"
    }
   ],
   "source": [
    "sns.lineplot(x=default_data_viz.index, y=default_data_viz, marker=\"o\")\n",
    "plt.title('% of defaults in each test set of walkforward')\n",
    "plt.xlabel('Walk forward Iteration')\n",
    "plt.ylabel('% of defaults')"
   ]
  },
  {
   "cell_type": "code",
   "execution_count": 77,
   "id": "c7465e8e-df60-42aa-880c-bf9748bd5475",
   "metadata": {},
   "outputs": [
    {
     "data": {
      "text/plain": [
       "np.float64(0.8131164357402816)"
      ]
     },
     "execution_count": 77,
     "metadata": {},
     "output_type": "execute_result"
    }
   ],
   "source": [
    "stats_list[-1]"
   ]
  },
  {
   "cell_type": "code",
   "execution_count": 72,
   "id": "7ce0ff65-e770-4a0b-a864-ad82cd0ae26d",
   "metadata": {},
   "outputs": [],
   "source": [
    "last_model = model_list[-1]"
   ]
  },
  {
   "cell_type": "code",
   "execution_count": 75,
   "id": "b5646284-7070-41ed-8973-b770c156f77e",
   "metadata": {
    "scrolled": true
   },
   "outputs": [
    {
     "data": {
      "text/html": [
       "<table class=\"simpletable\">\n",
       "<caption>Logit Regression Results</caption>\n",
       "<tr>\n",
       "  <th>Dep. Variable:</th>        <td>default</td>     <th>  No. Observations:  </th>  <td>612920</td> \n",
       "</tr>\n",
       "<tr>\n",
       "  <th>Model:</th>                 <td>Logit</td>      <th>  Df Residuals:      </th>  <td>612911</td> \n",
       "</tr>\n",
       "<tr>\n",
       "  <th>Method:</th>                 <td>MLE</td>       <th>  Df Model:          </th>  <td>     8</td> \n",
       "</tr>\n",
       "<tr>\n",
       "  <th>Date:</th>            <td>Tue, 12 Nov 2024</td> <th>  Pseudo R-squ.:     </th>  <td>0.1794</td> \n",
       "</tr>\n",
       "<tr>\n",
       "  <th>Time:</th>                <td>19:51:24</td>     <th>  Log-Likelihood:    </th> <td> -38797.</td>\n",
       "</tr>\n",
       "<tr>\n",
       "  <th>converged:</th>             <td>True</td>       <th>  LL-Null:           </th> <td> -47280.</td>\n",
       "</tr>\n",
       "<tr>\n",
       "  <th>Covariance Type:</th>     <td>nonrobust</td>    <th>  LLR p-value:       </th>  <td> 0.000</td> \n",
       "</tr>\n",
       "</table>\n",
       "<table class=\"simpletable\">\n",
       "<tr>\n",
       "                   <td></td>                      <th>coef</th>     <th>std err</th>      <th>z</th>      <th>P>|z|</th>  <th>[0.025</th>    <th>0.975]</th>  \n",
       "</tr>\n",
       "<tr>\n",
       "  <th>Intercept</th>                           <td>   -7.0672</td> <td>    0.067</td> <td> -105.408</td> <td> 0.000</td> <td>   -7.199</td> <td>   -6.936</td>\n",
       "</tr>\n",
       "<tr>\n",
       "  <th>financial_leverage_quantile_values</th>  <td>    3.3452</td> <td>    0.189</td> <td>   17.688</td> <td> 0.000</td> <td>    2.975</td> <td>    3.716</td>\n",
       "</tr>\n",
       "<tr>\n",
       "  <th>profitability_ratio_quantile_values</th> <td>    4.7284</td> <td>    0.207</td> <td>   22.791</td> <td> 0.000</td> <td>    4.322</td> <td>    5.135</td>\n",
       "</tr>\n",
       "<tr>\n",
       "  <th>net_income_growth_quantile_values</th>   <td>    5.5614</td> <td>    0.436</td> <td>   12.752</td> <td> 0.000</td> <td>    4.707</td> <td>    6.416</td>\n",
       "</tr>\n",
       "<tr>\n",
       "  <th>quick_ratio_v2_quantile_values</th>      <td>   40.2202</td> <td>    2.190</td> <td>   18.364</td> <td> 0.000</td> <td>   35.928</td> <td>   44.513</td>\n",
       "</tr>\n",
       "<tr>\n",
       "  <th>sales_growth_quantile_values</th>        <td>   21.7656</td> <td>    1.035</td> <td>   21.034</td> <td> 0.000</td> <td>   19.737</td> <td>   23.794</td>\n",
       "</tr>\n",
       "<tr>\n",
       "  <th>dscr_quantile_values</th>                <td>   17.7857</td> <td>    0.572</td> <td>   31.111</td> <td> 0.000</td> <td>   16.665</td> <td>   18.906</td>\n",
       "</tr>\n",
       "<tr>\n",
       "  <th>roe_quantile_values</th>                 <td>   15.1294</td> <td>    0.405</td> <td>   37.375</td> <td> 0.000</td> <td>   14.336</td> <td>   15.923</td>\n",
       "</tr>\n",
       "<tr>\n",
       "  <th>regional_code_pd</th>                    <td>   62.9039</td> <td>    3.895</td> <td>   16.150</td> <td> 0.000</td> <td>   55.270</td> <td>   70.538</td>\n",
       "</tr>\n",
       "</table>"
      ],
      "text/latex": [
       "\\begin{center}\n",
       "\\begin{tabular}{lclc}\n",
       "\\toprule\n",
       "\\textbf{Dep. Variable:}                         &     default      & \\textbf{  No. Observations:  } &   612920    \\\\\n",
       "\\textbf{Model:}                                 &      Logit       & \\textbf{  Df Residuals:      } &   612911    \\\\\n",
       "\\textbf{Method:}                                &       MLE        & \\textbf{  Df Model:          } &        8    \\\\\n",
       "\\textbf{Date:}                                  & Tue, 12 Nov 2024 & \\textbf{  Pseudo R-squ.:     } &   0.1794    \\\\\n",
       "\\textbf{Time:}                                  &     19:51:24     & \\textbf{  Log-Likelihood:    } &   -38797.   \\\\\n",
       "\\textbf{converged:}                             &       True       & \\textbf{  LL-Null:           } &   -47280.   \\\\\n",
       "\\textbf{Covariance Type:}                       &    nonrobust     & \\textbf{  LLR p-value:       } &    0.000    \\\\\n",
       "\\bottomrule\n",
       "\\end{tabular}\n",
       "\\begin{tabular}{lcccccc}\n",
       "                                                & \\textbf{coef} & \\textbf{std err} & \\textbf{z} & \\textbf{P$> |$z$|$} & \\textbf{[0.025} & \\textbf{0.975]}  \\\\\n",
       "\\midrule\n",
       "\\textbf{Intercept}                              &      -7.0672  &        0.067     &  -105.408  &         0.000        &       -7.199    &       -6.936     \\\\\n",
       "\\textbf{financial\\_leverage\\_quantile\\_values}  &       3.3452  &        0.189     &    17.688  &         0.000        &        2.975    &        3.716     \\\\\n",
       "\\textbf{profitability\\_ratio\\_quantile\\_values} &       4.7284  &        0.207     &    22.791  &         0.000        &        4.322    &        5.135     \\\\\n",
       "\\textbf{net\\_income\\_growth\\_quantile\\_values}  &       5.5614  &        0.436     &    12.752  &         0.000        &        4.707    &        6.416     \\\\\n",
       "\\textbf{quick\\_ratio\\_v2\\_quantile\\_values}     &      40.2202  &        2.190     &    18.364  &         0.000        &       35.928    &       44.513     \\\\\n",
       "\\textbf{sales\\_growth\\_quantile\\_values}        &      21.7656  &        1.035     &    21.034  &         0.000        &       19.737    &       23.794     \\\\\n",
       "\\textbf{dscr\\_quantile\\_values}                 &      17.7857  &        0.572     &    31.111  &         0.000        &       16.665    &       18.906     \\\\\n",
       "\\textbf{roe\\_quantile\\_values}                  &      15.1294  &        0.405     &    37.375  &         0.000        &       14.336    &       15.923     \\\\\n",
       "\\textbf{regional\\_code\\_pd}                     &      62.9039  &        3.895     &    16.150  &         0.000        &       55.270    &       70.538     \\\\\n",
       "\\bottomrule\n",
       "\\end{tabular}\n",
       "%\\caption{Logit Regression Results}\n",
       "\\end{center}"
      ],
      "text/plain": [
       "<class 'statsmodels.iolib.summary.Summary'>\n",
       "\"\"\"\n",
       "                           Logit Regression Results                           \n",
       "==============================================================================\n",
       "Dep. Variable:                default   No. Observations:               612920\n",
       "Model:                          Logit   Df Residuals:                   612911\n",
       "Method:                           MLE   Df Model:                            8\n",
       "Date:                Tue, 12 Nov 2024   Pseudo R-squ.:                  0.1794\n",
       "Time:                        19:51:24   Log-Likelihood:                -38797.\n",
       "converged:                       True   LL-Null:                       -47280.\n",
       "Covariance Type:            nonrobust   LLR p-value:                     0.000\n",
       "=======================================================================================================\n",
       "                                          coef    std err          z      P>|z|      [0.025      0.975]\n",
       "-------------------------------------------------------------------------------------------------------\n",
       "Intercept                              -7.0672      0.067   -105.408      0.000      -7.199      -6.936\n",
       "financial_leverage_quantile_values      3.3452      0.189     17.688      0.000       2.975       3.716\n",
       "profitability_ratio_quantile_values     4.7284      0.207     22.791      0.000       4.322       5.135\n",
       "net_income_growth_quantile_values       5.5614      0.436     12.752      0.000       4.707       6.416\n",
       "quick_ratio_v2_quantile_values         40.2202      2.190     18.364      0.000      35.928      44.513\n",
       "sales_growth_quantile_values           21.7656      1.035     21.034      0.000      19.737      23.794\n",
       "dscr_quantile_values                   17.7857      0.572     31.111      0.000      16.665      18.906\n",
       "roe_quantile_values                    15.1294      0.405     37.375      0.000      14.336      15.923\n",
       "regional_code_pd                       62.9039      3.895     16.150      0.000      55.270      70.538\n",
       "=======================================================================================================\n",
       "\"\"\""
      ]
     },
     "execution_count": 75,
     "metadata": {},
     "output_type": "execute_result"
    }
   ],
   "source": [
    "last_model.rec_fitted_model.summary()"
   ]
  },
  {
   "cell_type": "code",
   "execution_count": 74,
   "id": "9fa530e5-9695-42db-a65e-5e4df1620ff0",
   "metadata": {
    "scrolled": true
   },
   "outputs": [
    {
     "data": {
      "text/html": [
       "<table class=\"simpletable\">\n",
       "<caption>Logit Regression Results</caption>\n",
       "<tr>\n",
       "  <th>Dep. Variable:</th>        <td>default</td>     <th>  No. Observations:  </th>  <td>224993</td> \n",
       "</tr>\n",
       "<tr>\n",
       "  <th>Model:</th>                 <td>Logit</td>      <th>  Df Residuals:      </th>  <td>224986</td> \n",
       "</tr>\n",
       "<tr>\n",
       "  <th>Method:</th>                 <td>MLE</td>       <th>  Df Model:          </th>  <td>     6</td> \n",
       "</tr>\n",
       "<tr>\n",
       "  <th>Date:</th>            <td>Tue, 12 Nov 2024</td> <th>  Pseudo R-squ.:     </th>  <td>0.1072</td> \n",
       "</tr>\n",
       "<tr>\n",
       "  <th>Time:</th>                <td>19:49:44</td>     <th>  Log-Likelihood:    </th> <td> -11393.</td>\n",
       "</tr>\n",
       "<tr>\n",
       "  <th>converged:</th>             <td>True</td>       <th>  LL-Null:           </th> <td> -12761.</td>\n",
       "</tr>\n",
       "<tr>\n",
       "  <th>Covariance Type:</th>     <td>nonrobust</td>    <th>  LLR p-value:       </th>  <td> 0.000</td> \n",
       "</tr>\n",
       "</table>\n",
       "<table class=\"simpletable\">\n",
       "<tr>\n",
       "                   <td></td>                      <th>coef</th>     <th>std err</th>      <th>z</th>      <th>P>|z|</th>  <th>[0.025</th>    <th>0.975]</th>  \n",
       "</tr>\n",
       "<tr>\n",
       "  <th>Intercept</th>                           <td>   -6.6438</td> <td>    0.124</td> <td>  -53.693</td> <td> 0.000</td> <td>   -6.886</td> <td>   -6.401</td>\n",
       "</tr>\n",
       "<tr>\n",
       "  <th>financial_leverage_quantile_values</th>  <td>    4.2854</td> <td>    0.403</td> <td>   10.645</td> <td> 0.000</td> <td>    3.496</td> <td>    5.074</td>\n",
       "</tr>\n",
       "<tr>\n",
       "  <th>profitability_ratio_quantile_values</th> <td>    6.9056</td> <td>    0.439</td> <td>   15.739</td> <td> 0.000</td> <td>    6.046</td> <td>    7.766</td>\n",
       "</tr>\n",
       "<tr>\n",
       "  <th>quick_ratio_v2_quantile_values</th>      <td>   34.9860</td> <td>    4.247</td> <td>    8.238</td> <td> 0.000</td> <td>   26.662</td> <td>   43.310</td>\n",
       "</tr>\n",
       "<tr>\n",
       "  <th>dscr_quantile_values</th>                <td>   13.7369</td> <td>    1.178</td> <td>   11.662</td> <td> 0.000</td> <td>   11.428</td> <td>   16.046</td>\n",
       "</tr>\n",
       "<tr>\n",
       "  <th>roe_quantile_values</th>                 <td>   11.9757</td> <td>    0.764</td> <td>   15.680</td> <td> 0.000</td> <td>   10.479</td> <td>   13.473</td>\n",
       "</tr>\n",
       "<tr>\n",
       "  <th>regional_code_pd</th>                    <td>   57.2127</td> <td>    7.346</td> <td>    7.789</td> <td> 0.000</td> <td>   42.816</td> <td>   71.610</td>\n",
       "</tr>\n",
       "</table>"
      ],
      "text/latex": [
       "\\begin{center}\n",
       "\\begin{tabular}{lclc}\n",
       "\\toprule\n",
       "\\textbf{Dep. Variable:}                         &     default      & \\textbf{  No. Observations:  } &   224993    \\\\\n",
       "\\textbf{Model:}                                 &      Logit       & \\textbf{  Df Residuals:      } &   224986    \\\\\n",
       "\\textbf{Method:}                                &       MLE        & \\textbf{  Df Model:          } &        6    \\\\\n",
       "\\textbf{Date:}                                  & Tue, 12 Nov 2024 & \\textbf{  Pseudo R-squ.:     } &   0.1072    \\\\\n",
       "\\textbf{Time:}                                  &     19:49:44     & \\textbf{  Log-Likelihood:    } &   -11393.   \\\\\n",
       "\\textbf{converged:}                             &       True       & \\textbf{  LL-Null:           } &   -12761.   \\\\\n",
       "\\textbf{Covariance Type:}                       &    nonrobust     & \\textbf{  LLR p-value:       } &    0.000    \\\\\n",
       "\\bottomrule\n",
       "\\end{tabular}\n",
       "\\begin{tabular}{lcccccc}\n",
       "                                                & \\textbf{coef} & \\textbf{std err} & \\textbf{z} & \\textbf{P$> |$z$|$} & \\textbf{[0.025} & \\textbf{0.975]}  \\\\\n",
       "\\midrule\n",
       "\\textbf{Intercept}                              &      -6.6438  &        0.124     &   -53.693  &         0.000        &       -6.886    &       -6.401     \\\\\n",
       "\\textbf{financial\\_leverage\\_quantile\\_values}  &       4.2854  &        0.403     &    10.645  &         0.000        &        3.496    &        5.074     \\\\\n",
       "\\textbf{profitability\\_ratio\\_quantile\\_values} &       6.9056  &        0.439     &    15.739  &         0.000        &        6.046    &        7.766     \\\\\n",
       "\\textbf{quick\\_ratio\\_v2\\_quantile\\_values}     &      34.9860  &        4.247     &     8.238  &         0.000        &       26.662    &       43.310     \\\\\n",
       "\\textbf{dscr\\_quantile\\_values}                 &      13.7369  &        1.178     &    11.662  &         0.000        &       11.428    &       16.046     \\\\\n",
       "\\textbf{roe\\_quantile\\_values}                  &      11.9757  &        0.764     &    15.680  &         0.000        &       10.479    &       13.473     \\\\\n",
       "\\textbf{regional\\_code\\_pd}                     &      57.2127  &        7.346     &     7.789  &         0.000        &       42.816    &       71.610     \\\\\n",
       "\\bottomrule\n",
       "\\end{tabular}\n",
       "%\\caption{Logit Regression Results}\n",
       "\\end{center}"
      ],
      "text/plain": [
       "<class 'statsmodels.iolib.summary.Summary'>\n",
       "\"\"\"\n",
       "                           Logit Regression Results                           \n",
       "==============================================================================\n",
       "Dep. Variable:                default   No. Observations:               224993\n",
       "Model:                          Logit   Df Residuals:                   224986\n",
       "Method:                           MLE   Df Model:                            6\n",
       "Date:                Tue, 12 Nov 2024   Pseudo R-squ.:                  0.1072\n",
       "Time:                        19:49:44   Log-Likelihood:                -11393.\n",
       "converged:                       True   LL-Null:                       -12761.\n",
       "Covariance Type:            nonrobust   LLR p-value:                     0.000\n",
       "=======================================================================================================\n",
       "                                          coef    std err          z      P>|z|      [0.025      0.975]\n",
       "-------------------------------------------------------------------------------------------------------\n",
       "Intercept                              -6.6438      0.124    -53.693      0.000      -6.886      -6.401\n",
       "financial_leverage_quantile_values      4.2854      0.403     10.645      0.000       3.496       5.074\n",
       "profitability_ratio_quantile_values     6.9056      0.439     15.739      0.000       6.046       7.766\n",
       "quick_ratio_v2_quantile_values         34.9860      4.247      8.238      0.000      26.662      43.310\n",
       "dscr_quantile_values                   13.7369      1.178     11.662      0.000      11.428      16.046\n",
       "roe_quantile_values                    11.9757      0.764     15.680      0.000      10.479      13.473\n",
       "regional_code_pd                       57.2127      7.346      7.789      0.000      42.816      71.610\n",
       "=======================================================================================================\n",
       "\"\"\""
      ]
     },
     "execution_count": 74,
     "metadata": {},
     "output_type": "execute_result"
    }
   ],
   "source": [
    "last_model.first_fitted_model.summary()"
   ]
  },
  {
   "cell_type": "code",
   "execution_count": 76,
   "id": "fb1df299-1cd2-43a4-ae7c-323f8118a3c5",
   "metadata": {},
   "outputs": [
    {
     "data": {
      "text/plain": [
       "837913"
      ]
     },
     "execution_count": 76,
     "metadata": {},
     "output_type": "execute_result"
    }
   ],
   "source": [
    "224993+612920"
   ]
  },
  {
   "cell_type": "code",
   "execution_count": null,
   "id": "07266e9f-e7b6-441e-a7a8-a067d5afb30c",
   "metadata": {},
   "outputs": [],
   "source": [
    "metrics.roc_auc_score()"
   ]
  },
  {
   "cell_type": "code",
   "execution_count": 82,
   "id": "7829fedf-5e98-4b3f-bb46-37b34594f5be",
   "metadata": {},
   "outputs": [],
   "source": []
  },
  {
   "cell_type": "code",
   "execution_count": 83,
   "id": "d07c1db4-ef95-4f9f-871b-2a059ce6efa5",
   "metadata": {},
   "outputs": [
    {
     "data": {
      "text/plain": [
       "np.float64(0.8488916443372173)"
      ]
     },
     "execution_count": 83,
     "metadata": {},
     "output_type": "execute_result"
    }
   ],
   "source": []
  },
  {
   "cell_type": "code",
   "execution_count": 117,
   "id": "d272dd72-592b-4afd-961e-211fb9a7376c",
   "metadata": {},
   "outputs": [
    {
     "name": "stdout",
     "output_type": "stream",
     "text": [
      "2009.0 0.7941728719899361\n",
      "2010.0 0.7881381112668416\n",
      "2011.0 0.8115053950213774\n",
      "2012.0 0.8514146316683037\n"
     ]
    }
   ],
   "source": [
    "for year in predictions['group'].unique():\n",
    "    preds = predictions[predictions['group']==year]['prediction']\n",
    "    true = predictions[predictions['group']==year]['label']\n",
    "    print(year, metrics.roc_auc_score(y_true=true, y_score=preds))"
   ]
  },
  {
   "cell_type": "code",
   "execution_count": null,
   "id": "b0eadc77-898e-4ffe-8a94-df149b2006f5",
   "metadata": {},
   "outputs": [],
   "source": []
  }
 ],
 "metadata": {
  "kernelspec": {
   "display_name": "Python 3 (ipykernel)",
   "language": "python",
   "name": "python3"
  },
  "language_info": {
   "codemirror_mode": {
    "name": "ipython",
    "version": 3
   },
   "file_extension": ".py",
   "mimetype": "text/x-python",
   "name": "python",
   "nbconvert_exporter": "python",
   "pygments_lexer": "ipython3",
   "version": "3.13.0"
  }
 },
 "nbformat": 4,
 "nbformat_minor": 5
}
