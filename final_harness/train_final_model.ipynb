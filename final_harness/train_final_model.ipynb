{
 "cells": [
  {
   "cell_type": "code",
   "execution_count": 1,
   "id": "1eff6324-7dea-4122-a2c8-e48de00fe14f",
   "metadata": {},
   "outputs": [],
   "source": [
    "import pandas as pd\n",
    "import numpy as np\n",
    "\n",
    "import pickle\n",
    "\n",
    "import matplotlib.pyplot as plt\n",
    "\n",
    "import statsmodels.api as sm\n",
    "import statsmodels.formula.api as smf\n",
    "\n",
    "from importlib import reload  # Python 3.4+\n",
    "\n",
    "from sklearn import metrics\n",
    "import seaborn as sns\n",
    "sns.set()\n",
    "\n",
    "from sklearn.calibration import CalibratedClassifierCV\n",
    "\n",
    "from IPython.display import clear_output, display"
   ]
  },
  {
   "cell_type": "code",
   "execution_count": 2,
   "id": "38f1c957-1cfa-4e51-bce8-bdde9c34f8b6",
   "metadata": {},
   "outputs": [
    {
     "data": {
      "text/plain": [
       "(837913, 44)"
      ]
     },
     "execution_count": 2,
     "metadata": {},
     "output_type": "execute_result"
    }
   ],
   "source": [
    "train_df = pd.read_csv('train_for_2012.csv')\n",
    "train_df.shape"
   ]
  },
  {
   "cell_type": "code",
   "execution_count": 3,
   "id": "ea89b540-5578-4f6f-8e10-6cc483d6fb41",
   "metadata": {},
   "outputs": [
    {
     "data": {
      "text/plain": [
       "(185639, 44)"
      ]
     },
     "execution_count": 3,
     "metadata": {},
     "output_type": "execute_result"
    }
   ],
   "source": [
    "test_df = pd.read_csv('test_for_2012.csv')\n",
    "test_df.shape"
   ]
  },
  {
   "cell_type": "code",
   "execution_count": 4,
   "id": "1462a855-804f-4309-9aa0-37f2a565dfe6",
   "metadata": {},
   "outputs": [],
   "source": [
    "# df['is_first_occurrence'] = (df['id'] != df['id'].shift()).astype(int)"
   ]
  },
  {
   "cell_type": "code",
   "execution_count": 32,
   "id": "cf14ffa3-39f6-4152-aa5e-d0ff617767d2",
   "metadata": {},
   "outputs": [
    {
     "name": "stdout",
     "output_type": "stream",
     "text": [
      "(237711, 45)\n"
     ]
    },
    {
     "data": {
      "text/plain": [
       "0.23224125398611892"
      ]
     },
     "execution_count": 32,
     "metadata": {},
     "output_type": "execute_result"
    }
   ],
   "source": [
    "# modeling_df = df[df['is_first_occurrence']==1].copy()\n",
    "# print(modeling_df.shape)\n",
    "# len(modeling_df)/len(df)"
   ]
  },
  {
   "cell_type": "code",
   "execution_count": 5,
   "id": "0b483136-afa0-4ca2-9291-0a69b78cc69f",
   "metadata": {},
   "outputs": [],
   "source": [
    "train_df['stmt_date'] = pd.to_datetime(train_df['stmt_date'])\n",
    "train_df['def_date'] = pd.to_datetime(train_df['def_date'], format=\"%d/%m/%Y\")\n",
    "train_df.sort_values('stmt_date', inplace=True)"
   ]
  },
  {
   "cell_type": "code",
   "execution_count": 6,
   "id": "feece20d-4986-410b-8036-94214855861d",
   "metadata": {},
   "outputs": [],
   "source": [
    "### we'll try dropping NA's for now\n",
    "train_df.sort_values('stmt_date', inplace=True)"
   ]
  },
  {
   "cell_type": "markdown",
   "id": "a8539a41-b6c1-4546-82ed-011ea5d2be96",
   "metadata": {},
   "source": [
    "## Get preprocessing data ready"
   ]
  },
  {
   "cell_type": "code",
   "execution_count": 9,
   "id": "325b908f-51c6-44d3-9e96-f9f38e0024e0",
   "metadata": {},
   "outputs": [],
   "source": [
    "from harness_functions import pre_process"
   ]
  },
  {
   "cell_type": "code",
   "execution_count": 11,
   "id": "57d4fe13-11e9-4af6-9dfd-0fae52b9b906",
   "metadata": {},
   "outputs": [],
   "source": [
    "with open('quantile_custom_bins.pkl', 'rb') as file:\n",
    "    custom_bins = pickle.load(file)"
   ]
  },
  {
   "cell_type": "code",
   "execution_count": 12,
   "id": "92b2bf71-1ba5-42c9-9c6a-17d0d000d829",
   "metadata": {},
   "outputs": [],
   "source": [
    "preproc_params = {\n",
    "    'quantile_bins' : {},\n",
    "    'quantile_values' : {}\n",
    "}"
   ]
  },
  {
   "cell_type": "code",
   "execution_count": 13,
   "id": "d823607c-20d7-42a0-b5c6-862a7dcc92d5",
   "metadata": {},
   "outputs": [
    {
     "name": "stdout",
     "output_type": "stream",
     "text": [
      "Custom bins for financial_leverage_quantile\n",
      "Custom bins for profitability_ratio_quantile\n",
      "Custom bins for net_income_growth_quantile\n"
     ]
    }
   ],
   "source": [
    "train_data_proc , preproc_params = pre_process(train_df, \n",
    "                                               custom_bins=custom_bins, \n",
    "                                               preproc_params = preproc_params,  \n",
    "                                               quantiles = 50, \n",
    "                                               days_until_statement = 150)"
   ]
  },
  {
   "cell_type": "markdown",
   "id": "141a3163-6c6b-4aa2-9fbe-9863846c310d",
   "metadata": {},
   "source": [
    "## Train algorithm"
   ]
  },
  {
   "cell_type": "code",
   "execution_count": 16,
   "id": "e8583e1d-412b-4b3e-b778-3b90365f44c3",
   "metadata": {},
   "outputs": [],
   "source": [
    "### features for first firm\n",
    "features = [\n",
    "    'asst_tot_quantile_values',\n",
    "    'financial_leverage_quantile_values',\n",
    "    'profitability_ratio_quantile_values',\n",
    "    # 'net_income_growth_quantile_values',\n",
    "    'quick_ratio_v2_quantile_values',\n",
    "    # 'sales_growth_quantile_values',\n",
    "    'cash_assets_ratio_quantile_values',\n",
    "    'dscr_quantile_values',\n",
    "    # 'ebitda',\n",
    "]\n"
   ]
  },
  {
   "cell_type": "code",
   "execution_count": 18,
   "id": "f3d9a494-7c0b-42e2-bfb9-3143f6e69f70",
   "metadata": {},
   "outputs": [],
   "source": [
    "### features for recurring firms\n",
    "rec_features = [\n",
    "    'asst_tot_quantile_values',\n",
    "    'financial_leverage_quantile_values',\n",
    "    'profitability_ratio_quantile_values',\n",
    "    'net_income_growth_quantile_values',\n",
    "    'quick_ratio_v2_quantile_values',\n",
    "    'sales_growth_quantile_values',\n",
    "    'cash_assets_ratio_quantile_values',\n",
    "    'dscr_quantile_values',\n",
    "    # 'ebitda',\n",
    "\n",
    "]"
   ]
  },
  {
   "cell_type": "code",
   "execution_count": 21,
   "id": "4aa5a597-96e8-469e-af7f-3058d6a3be93",
   "metadata": {},
   "outputs": [
    {
     "data": {
      "text/plain": [
       "'default ~ asst_tot_quantile_values + financial_leverage_quantile_values + profitability_ratio_quantile_values + net_income_growth_quantile_values + quick_ratio_v2_quantile_values + sales_growth_quantile_values + cash_assets_ratio_quantile_values + dscr_quantile_values'"
      ]
     },
     "execution_count": 21,
     "metadata": {},
     "output_type": "execute_result"
    }
   ],
   "source": [
    "formula = 'default ~ '+' + '.join(features)\n",
    "#formula = 'default ~ '+' + '.join(rec_features)\n",
    "formula"
   ]
  },
  {
   "cell_type": "code",
   "execution_count": 38,
   "id": "70d09a91-daf6-4b1b-baf4-57befd884c75",
   "metadata": {},
   "outputs": [
    {
     "name": "stdout",
     "output_type": "stream",
     "text": [
      "Optimization terminated successfully.\n",
      "         Current function value: 0.060405\n",
      "         Iterations 9\n"
     ]
    }
   ],
   "source": [
    "algo = smf.probit\n",
    "\n",
    "model = algo(formula, data = train_data_proc) \n",
    "fitted_model = model.fit()"
   ]
  },
  {
   "cell_type": "markdown",
   "id": "30d54067-d349-46a9-bd11-7fc9d2b76b85",
   "metadata": {},
   "source": [
    "### Model results"
   ]
  },
  {
   "cell_type": "code",
   "execution_count": 39,
   "id": "c1f2a21b-c05f-4f8a-b6c6-a9756bd4330a",
   "metadata": {},
   "outputs": [
    {
     "name": "stdout",
     "output_type": "stream",
     "text": [
      "                          Probit Regression Results                           \n",
      "==============================================================================\n",
      "Dep. Variable:                default   No. Observations:               837913\n",
      "Model:                         Probit   Df Residuals:                   837904\n",
      "Method:                           MLE   Df Model:                            8\n",
      "Date:                Mon, 11 Nov 2024   Pseudo R-squ.:                  0.1590\n",
      "Time:                        18:38:38   Log-Likelihood:                -50615.\n",
      "converged:                       True   LL-Null:                       -60183.\n",
      "Covariance Type:            nonrobust   LLR p-value:                     0.000\n",
      "=======================================================================================================\n",
      "                                          coef    std err          z      P>|z|      [0.025      0.975]\n",
      "-------------------------------------------------------------------------------------------------------\n",
      "Intercept                              -3.5319      0.042    -84.079      0.000      -3.614      -3.450\n",
      "asst_tot_quantile_values               29.0236      2.594     11.187      0.000      23.939      34.109\n",
      "financial_leverage_quantile_values      2.8128      0.081     34.812      0.000       2.654       2.971\n",
      "profitability_ratio_quantile_values     3.6488      0.091     40.273      0.000       3.471       3.826\n",
      "net_income_growth_quantile_values       3.8664      0.206     18.759      0.000       3.462       4.270\n",
      "quick_ratio_v2_quantile_values         15.5507      0.783     19.853      0.000      14.015      17.086\n",
      "sales_growth_quantile_values            9.2561      0.408     22.714      0.000       8.457      10.055\n",
      "cash_assets_ratio_quantile_values      12.9907      1.299     10.001      0.000      10.445      15.537\n",
      "dscr_quantile_values                    8.1276      0.217     37.479      0.000       7.703       8.553\n",
      "=======================================================================================================\n"
     ]
    }
   ],
   "source": [
    "print(fitted_model.summary())"
   ]
  },
  {
   "cell_type": "code",
   "execution_count": 40,
   "id": "06cd2ccc-40e3-4117-86e7-364394c857b9",
   "metadata": {},
   "outputs": [
    {
     "name": "stdout",
     "output_type": "stream",
     "text": [
      "       Probit Marginal Effects       \n",
      "=====================================\n",
      "Dep. Variable:                default\n",
      "Method:                          dydx\n",
      "At:                           overall\n",
      "=======================================================================================================\n",
      "                                         dy/dx    std err          z      P>|z|      [0.025      0.975]\n",
      "-------------------------------------------------------------------------------------------------------\n",
      "asst_tot_quantile_values                0.8545      0.077     11.148      0.000       0.704       1.005\n",
      "financial_leverage_quantile_values      0.0828      0.002     34.136      0.000       0.078       0.088\n",
      "profitability_ratio_quantile_values     0.1074      0.003     39.068      0.000       0.102       0.113\n",
      "net_income_growth_quantile_values       0.1138      0.006     18.616      0.000       0.102       0.126\n",
      "quick_ratio_v2_quantile_values          0.4579      0.023     19.623      0.000       0.412       0.504\n",
      "sales_growth_quantile_values            0.2725      0.012     22.399      0.000       0.249       0.296\n",
      "cash_assets_ratio_quantile_values       0.3825      0.038      9.969      0.000       0.307       0.458\n",
      "dscr_quantile_values                    0.2393      0.007     35.944      0.000       0.226       0.252\n",
      "=======================================================================================================\n"
     ]
    }
   ],
   "source": [
    "print(fitted_model.get_margeff().summary())"
   ]
  },
  {
   "cell_type": "markdown",
   "id": "f9f91e1f-3151-44ef-842f-466533408e1d",
   "metadata": {},
   "source": [
    "## Process test data"
   ]
  },
  {
   "cell_type": "code",
   "execution_count": 41,
   "id": "28651cf6-0cba-4f35-a140-a731440755ed",
   "metadata": {},
   "outputs": [],
   "source": [
    "test_df['stmt_date'] = pd.to_datetime(test_df['stmt_date'])\n",
    "test_df['def_date'] = pd.to_datetime(test_df['def_date'], format=\"%d/%m/%Y\")\n",
    "test_df.sort_values('stmt_date', inplace=True)"
   ]
  },
  {
   "cell_type": "code",
   "execution_count": 42,
   "id": "52079ea7-9963-4f29-a0d7-99d9ac711ec1",
   "metadata": {},
   "outputs": [
    {
     "name": "stdout",
     "output_type": "stream",
     "text": [
      "asst_tot_quantile\n",
      "financial_leverage_quantile\n",
      "profitability_ratio_quantile\n",
      "net_income_growth_quantile\n",
      "quick_ratio_v2_quantile\n",
      "sales_growth_quantile\n",
      "cash_assets_ratio_quantile\n",
      "dscr_quantile\n"
     ]
    }
   ],
   "source": [
    "test_data_proc , preproc_params = pre_process(test_df, \n",
    "                                             historical_df=train_data_proc, \n",
    "                                             new=False, \n",
    "                                             preproc_params = preproc_params,  \n",
    "                                             quantiles = 50, \n",
    "                                             days_until_statement = 150)"
   ]
  },
  {
   "cell_type": "code",
   "execution_count": 51,
   "id": "194af98c-3e69-49ee-a5ff-10d912cfff93",
   "metadata": {},
   "outputs": [
    {
     "data": {
      "text/html": [
       "<div>\n",
       "<style scoped>\n",
       "    .dataframe tbody tr th:only-of-type {\n",
       "        vertical-align: middle;\n",
       "    }\n",
       "\n",
       "    .dataframe tbody tr th {\n",
       "        vertical-align: top;\n",
       "    }\n",
       "\n",
       "    .dataframe thead th {\n",
       "        text-align: right;\n",
       "    }\n",
       "</style>\n",
       "<table border=\"1\" class=\"dataframe\">\n",
       "  <thead>\n",
       "    <tr style=\"text-align: right;\">\n",
       "      <th></th>\n",
       "      <th>Unnamed: 0</th>\n",
       "      <th>id</th>\n",
       "      <th>stmt_date</th>\n",
       "      <th>HQ_city</th>\n",
       "      <th>legal_struct</th>\n",
       "      <th>ateco_sector</th>\n",
       "      <th>def_date</th>\n",
       "      <th>fs_year</th>\n",
       "      <th>asst_intang_fixed</th>\n",
       "      <th>asst_tang_fixed</th>\n",
       "      <th>...</th>\n",
       "      <th>sales</th>\n",
       "      <th>sales_growth</th>\n",
       "      <th>sales_growth_quantile</th>\n",
       "      <th>sales_growth_quantile_values</th>\n",
       "      <th>cash_assets_ratio</th>\n",
       "      <th>cash_assets_ratio_quantile</th>\n",
       "      <th>cash_assets_ratio_quantile_values</th>\n",
       "      <th>dscr</th>\n",
       "      <th>dscr_quantile</th>\n",
       "      <th>dscr_quantile_values</th>\n",
       "    </tr>\n",
       "  </thead>\n",
       "  <tbody>\n",
       "    <tr>\n",
       "      <th>0</th>\n",
       "      <td>21</td>\n",
       "      <td>520288</td>\n",
       "      <td>2012-12-31</td>\n",
       "      <td>28.0</td>\n",
       "      <td>SRL</td>\n",
       "      <td>14.0</td>\n",
       "      <td>NaT</td>\n",
       "      <td>2012</td>\n",
       "      <td>15195.0</td>\n",
       "      <td>1116938.0</td>\n",
       "      <td>...</td>\n",
       "      <td>319790.0</td>\n",
       "      <td>0.0</td>\n",
       "      <td>19</td>\n",
       "      <td>0.010524</td>\n",
       "      <td>0.003496</td>\n",
       "      <td>18</td>\n",
       "      <td>0.016469</td>\n",
       "      <td>-11.487373</td>\n",
       "      <td>4</td>\n",
       "      <td>0.069459</td>\n",
       "    </tr>\n",
       "    <tr>\n",
       "      <th>1</th>\n",
       "      <td>50</td>\n",
       "      <td>1650282</td>\n",
       "      <td>2012-12-31</td>\n",
       "      <td>27.0</td>\n",
       "      <td>SRL</td>\n",
       "      <td>25.0</td>\n",
       "      <td>NaT</td>\n",
       "      <td>2012</td>\n",
       "      <td>14380.0</td>\n",
       "      <td>1151565.0</td>\n",
       "      <td>...</td>\n",
       "      <td>17401237.0</td>\n",
       "      <td>0.0</td>\n",
       "      <td>19</td>\n",
       "      <td>0.010524</td>\n",
       "      <td>0.297391</td>\n",
       "      <td>50</td>\n",
       "      <td>0.007937</td>\n",
       "      <td>11.098045</td>\n",
       "      <td>39</td>\n",
       "      <td>0.004833</td>\n",
       "    </tr>\n",
       "    <tr>\n",
       "      <th>2</th>\n",
       "      <td>57</td>\n",
       "      <td>1930130</td>\n",
       "      <td>2012-12-31</td>\n",
       "      <td>13.0</td>\n",
       "      <td>SRL</td>\n",
       "      <td>43.0</td>\n",
       "      <td>NaT</td>\n",
       "      <td>2012</td>\n",
       "      <td>5462.0</td>\n",
       "      <td>361323.0</td>\n",
       "      <td>...</td>\n",
       "      <td>2150214.0</td>\n",
       "      <td>0.0</td>\n",
       "      <td>19</td>\n",
       "      <td>0.010524</td>\n",
       "      <td>0.339159</td>\n",
       "      <td>50</td>\n",
       "      <td>0.007937</td>\n",
       "      <td>95.801490</td>\n",
       "      <td>47</td>\n",
       "      <td>0.005132</td>\n",
       "    </tr>\n",
       "    <tr>\n",
       "      <th>3</th>\n",
       "      <td>70</td>\n",
       "      <td>2040061</td>\n",
       "      <td>2012-12-31</td>\n",
       "      <td>6.0</td>\n",
       "      <td>SPA</td>\n",
       "      <td>46.0</td>\n",
       "      <td>NaT</td>\n",
       "      <td>2012</td>\n",
       "      <td>31764.0</td>\n",
       "      <td>2418009.0</td>\n",
       "      <td>...</td>\n",
       "      <td>3451023.0</td>\n",
       "      <td>0.0</td>\n",
       "      <td>19</td>\n",
       "      <td>0.010524</td>\n",
       "      <td>0.022331</td>\n",
       "      <td>31</td>\n",
       "      <td>0.013247</td>\n",
       "      <td>3.483102</td>\n",
       "      <td>28</td>\n",
       "      <td>0.006206</td>\n",
       "    </tr>\n",
       "    <tr>\n",
       "      <th>4</th>\n",
       "      <td>83</td>\n",
       "      <td>2340420</td>\n",
       "      <td>2012-12-31</td>\n",
       "      <td>42.0</td>\n",
       "      <td>SRL</td>\n",
       "      <td>47.0</td>\n",
       "      <td>NaT</td>\n",
       "      <td>2012</td>\n",
       "      <td>273.0</td>\n",
       "      <td>51407.0</td>\n",
       "      <td>...</td>\n",
       "      <td>2060412.0</td>\n",
       "      <td>0.0</td>\n",
       "      <td>19</td>\n",
       "      <td>0.010524</td>\n",
       "      <td>0.106596</td>\n",
       "      <td>43</td>\n",
       "      <td>0.008831</td>\n",
       "      <td>-5.712281</td>\n",
       "      <td>5</td>\n",
       "      <td>0.069459</td>\n",
       "    </tr>\n",
       "  </tbody>\n",
       "</table>\n",
       "<p>5 rows × 72 columns</p>\n",
       "</div>"
      ],
      "text/plain": [
       "   Unnamed: 0       id  stmt_date  HQ_city legal_struct  ateco_sector  \\\n",
       "0          21   520288 2012-12-31     28.0          SRL          14.0   \n",
       "1          50  1650282 2012-12-31     27.0          SRL          25.0   \n",
       "2          57  1930130 2012-12-31     13.0          SRL          43.0   \n",
       "3          70  2040061 2012-12-31      6.0          SPA          46.0   \n",
       "4          83  2340420 2012-12-31     42.0          SRL          47.0   \n",
       "\n",
       "  def_date  fs_year  asst_intang_fixed  asst_tang_fixed  ...       sales  \\\n",
       "0      NaT     2012            15195.0        1116938.0  ...    319790.0   \n",
       "1      NaT     2012            14380.0        1151565.0  ...  17401237.0   \n",
       "2      NaT     2012             5462.0         361323.0  ...   2150214.0   \n",
       "3      NaT     2012            31764.0        2418009.0  ...   3451023.0   \n",
       "4      NaT     2012              273.0          51407.0  ...   2060412.0   \n",
       "\n",
       "   sales_growth  sales_growth_quantile  sales_growth_quantile_values  \\\n",
       "0           0.0                     19                      0.010524   \n",
       "1           0.0                     19                      0.010524   \n",
       "2           0.0                     19                      0.010524   \n",
       "3           0.0                     19                      0.010524   \n",
       "4           0.0                     19                      0.010524   \n",
       "\n",
       "   cash_assets_ratio  cash_assets_ratio_quantile  \\\n",
       "0           0.003496                          18   \n",
       "1           0.297391                          50   \n",
       "2           0.339159                          50   \n",
       "3           0.022331                          31   \n",
       "4           0.106596                          43   \n",
       "\n",
       "   cash_assets_ratio_quantile_values       dscr  dscr_quantile  \\\n",
       "0                           0.016469 -11.487373              4   \n",
       "1                           0.007937  11.098045             39   \n",
       "2                           0.007937  95.801490             47   \n",
       "3                           0.013247   3.483102             28   \n",
       "4                           0.008831  -5.712281              5   \n",
       "\n",
       "   dscr_quantile_values  \n",
       "0              0.069459  \n",
       "1              0.004833  \n",
       "2              0.005132  \n",
       "3              0.006206  \n",
       "4              0.069459  \n",
       "\n",
       "[5 rows x 72 columns]"
      ]
     },
     "execution_count": 51,
     "metadata": {},
     "output_type": "execute_result"
    }
   ],
   "source": [
    "test_data_proc.head()"
   ]
  },
  {
   "cell_type": "code",
   "execution_count": 52,
   "id": "caed3c7f-d898-4540-97ed-fcf8eb23f959",
   "metadata": {},
   "outputs": [],
   "source": [
    "test_predictions = fitted_model.predict(test_data_proc)"
   ]
  },
  {
   "cell_type": "code",
   "execution_count": 53,
   "id": "64417597-5aca-4109-a235-801dd19a296e",
   "metadata": {},
   "outputs": [],
   "source": [
    "test_results = test_data_proc[['default']].copy()\n",
    "test_results['predictions'] = test_predictions"
   ]
  },
  {
   "cell_type": "code",
   "execution_count": 54,
   "id": "4311f23a-b7d0-4ccb-9f43-abad57886b5d",
   "metadata": {},
   "outputs": [
    {
     "data": {
      "text/html": [
       "<div>\n",
       "<style scoped>\n",
       "    .dataframe tbody tr th:only-of-type {\n",
       "        vertical-align: middle;\n",
       "    }\n",
       "\n",
       "    .dataframe tbody tr th {\n",
       "        vertical-align: top;\n",
       "    }\n",
       "\n",
       "    .dataframe thead th {\n",
       "        text-align: right;\n",
       "    }\n",
       "</style>\n",
       "<table border=\"1\" class=\"dataframe\">\n",
       "  <thead>\n",
       "    <tr style=\"text-align: right;\">\n",
       "      <th></th>\n",
       "      <th>default</th>\n",
       "      <th>predictions</th>\n",
       "    </tr>\n",
       "  </thead>\n",
       "  <tbody>\n",
       "    <tr>\n",
       "      <th>0</th>\n",
       "      <td>0</td>\n",
       "      <td>0.051163</td>\n",
       "    </tr>\n",
       "    <tr>\n",
       "      <th>1</th>\n",
       "      <td>0</td>\n",
       "      <td>0.003326</td>\n",
       "    </tr>\n",
       "    <tr>\n",
       "      <th>2</th>\n",
       "      <td>0</td>\n",
       "      <td>0.003840</td>\n",
       "    </tr>\n",
       "    <tr>\n",
       "      <th>3</th>\n",
       "      <td>0</td>\n",
       "      <td>0.005677</td>\n",
       "    </tr>\n",
       "    <tr>\n",
       "      <th>4</th>\n",
       "      <td>0</td>\n",
       "      <td>0.016024</td>\n",
       "    </tr>\n",
       "  </tbody>\n",
       "</table>\n",
       "</div>"
      ],
      "text/plain": [
       "   default  predictions\n",
       "0        0     0.051163\n",
       "1        0     0.003326\n",
       "2        0     0.003840\n",
       "3        0     0.005677\n",
       "4        0     0.016024"
      ]
     },
     "execution_count": 54,
     "metadata": {},
     "output_type": "execute_result"
    }
   ],
   "source": [
    "test_results.head()"
   ]
  },
  {
   "cell_type": "code",
   "execution_count": 55,
   "id": "553f3f09-94e8-4b0c-b6dd-baec9d8b4265",
   "metadata": {},
   "outputs": [
    {
     "data": {
      "text/plain": [
       "np.float64(0.8267216449669654)"
      ]
     },
     "execution_count": 55,
     "metadata": {},
     "output_type": "execute_result"
    }
   ],
   "source": [
    "metrics.roc_auc_score(y_score=test_results['predictions'], y_true=test_results['default'])"
   ]
  },
  {
   "cell_type": "code",
   "execution_count": 56,
   "id": "f60080e8-3e9e-4ee6-85ec-0cd7b4a02320",
   "metadata": {},
   "outputs": [
    {
     "name": "stdout",
     "output_type": "stream",
     "text": [
      "ROC AUC 0.8267216449669654\n"
     ]
    },
    {
     "data": {
      "text/plain": [
       "<sklearn.metrics._plot.roc_curve.RocCurveDisplay at 0x29647a990>"
      ]
     },
     "execution_count": 56,
     "metadata": {},
     "output_type": "execute_result"
    },
    {
     "data": {
      "image/png": "[encoded data removed]",
      "text/plain": [
       "<Figure size 640x480 with 1 Axes>"
      ]
     },
     "metadata": {},
     "output_type": "display_data"
    }
   ],
   "source": [
    "fpr, tpr, thresholds = metrics.roc_curve(test_results['default'], test_results['predictions'])\n",
    "roc_auc = metrics.auc(fpr, tpr)\n",
    "roc_display = metrics.RocCurveDisplay(fpr=fpr, tpr=tpr, roc_auc=roc_auc)\n",
    "print(f'ROC AUC {roc_auc}')\n",
    "roc_display.plot()"
   ]
  },
  {
   "cell_type": "code",
   "execution_count": 50,
   "id": "b7f77dc3-b272-4adc-8bc2-cd0ab5f5c072",
   "metadata": {},
   "outputs": [],
   "source": [
    "train_data_proc.to_csv('train_processed_data_for_2012.csv', index=False)\n",
    "test_data_proc.to_csv('test_processed_data_for_2012.csv', index=False)"
   ]
  },
  {
   "cell_type": "code",
   "execution_count": null,
   "id": "67c85647-8ed5-4d86-bdfe-9c13657462ab",
   "metadata": {},
   "outputs": [],
   "source": []
  }
 ],
 "metadata": {
  "kernelspec": {
   "display_name": "Python 3 (ipykernel)",
   "language": "python",
   "name": "python3"
  },
  "language_info": {
   "codemirror_mode": {
    "name": "ipython",
    "version": 3
   },
   "file_extension": ".py",
   "mimetype": "text/x-python",
   "name": "python",
   "nbconvert_exporter": "python",
   "pygments_lexer": "ipython3",
   "version": "3.13.0"
  }
 },
 "nbformat": 4,
 "nbformat_minor": 5
}
