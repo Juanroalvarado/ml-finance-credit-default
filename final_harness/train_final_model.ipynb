{
 "cells": [
  {
   "cell_type": "code",
   "execution_count": 1,
   "id": "1eff6324-7dea-4122-a2c8-e48de00fe14f",
   "metadata": {},
   "outputs": [],
   "source": [
    "import pandas as pd\n",
    "import numpy as np\n",
    "\n",
    "import pickle\n",
    "\n",
    "import matplotlib.pyplot as plt\n",
    "\n",
    "import statsmodels.api as sm\n",
    "import statsmodels.formula.api as smf\n",
    "\n",
    "from importlib import reload  # Python 3.4+\n",
    "\n",
    "from sklearn import metrics\n",
    "import seaborn as sns\n",
    "sns.set()\n",
    "\n",
    "from sklearn.calibration import CalibratedClassifierCV\n",
    "\n",
    "from IPython.display import clear_output, display"
   ]
  },
  {
   "cell_type": "code",
   "execution_count": 2,
   "id": "38f1c957-1cfa-4e51-bce8-bdde9c34f8b6",
   "metadata": {},
   "outputs": [
    {
     "data": {
      "text/plain": [
       "(837913, 43)"
      ]
     },
     "execution_count": 2,
     "metadata": {},
     "output_type": "execute_result"
    }
   ],
   "source": [
    "train_df = pd.read_csv('train_for_2012.csv',index_col=0)\n",
    "train_df.shape"
   ]
  },
  {
   "cell_type": "code",
   "execution_count": 3,
   "id": "ea89b540-5578-4f6f-8e10-6cc483d6fb41",
   "metadata": {},
   "outputs": [
    {
     "data": {
      "text/plain": [
       "(185639, 43)"
      ]
     },
     "execution_count": 3,
     "metadata": {},
     "output_type": "execute_result"
    }
   ],
   "source": [
    "test_df = pd.read_csv('test_for_2012.csv',index_col=0)\n",
    "test_df.shape"
   ]
  },
  {
   "cell_type": "code",
   "execution_count": 4,
   "id": "1462a855-804f-4309-9aa0-37f2a565dfe6",
   "metadata": {},
   "outputs": [],
   "source": [
    "# df['is_first_occurrence'] = (df['id'] != df['id'].shift()).astype(int)"
   ]
  },
  {
   "cell_type": "code",
   "execution_count": 5,
   "id": "cf14ffa3-39f6-4152-aa5e-d0ff617767d2",
   "metadata": {},
   "outputs": [],
   "source": [
    "# modeling_df = df[df['is_first_occurrence']==1].copy()\n",
    "# print(modeling_df.shape)\n",
    "# len(modeling_df)/len(df)"
   ]
  },
  {
   "cell_type": "code",
   "execution_count": 6,
   "id": "0b483136-afa0-4ca2-9291-0a69b78cc69f",
   "metadata": {},
   "outputs": [],
   "source": [
    "train_df['stmt_date'] = pd.to_datetime(train_df['stmt_date'])\n",
    "train_df['def_date'] = pd.to_datetime(train_df['def_date'], format=\"%d/%m/%Y\")\n",
    "train_df.sort_values('stmt_date', inplace=True)"
   ]
  },
  {
   "cell_type": "code",
   "execution_count": 7,
   "id": "feece20d-4986-410b-8036-94214855861d",
   "metadata": {},
   "outputs": [],
   "source": [
    "### we'll try dropping NA's for now\n",
    "train_df.sort_values('stmt_date', inplace=True)"
   ]
  },
  {
   "cell_type": "markdown",
   "id": "a8539a41-b6c1-4546-82ed-011ea5d2be96",
   "metadata": {},
   "source": [
    "## Get preprocessing data ready"
   ]
  },
  {
   "cell_type": "code",
   "execution_count": 8,
   "id": "325b908f-51c6-44d3-9e96-f9f38e0024e0",
   "metadata": {},
   "outputs": [],
   "source": [
    "from harness_functions import pre_process"
   ]
  },
  {
   "cell_type": "code",
   "execution_count": 9,
   "id": "57d4fe13-11e9-4af6-9dfd-0fae52b9b906",
   "metadata": {},
   "outputs": [],
   "source": [
    "with open('quantile_custom_bins.pkl', 'rb') as file:\n",
    "    custom_bins = pickle.load(file)"
   ]
  },
  {
   "cell_type": "code",
   "execution_count": 10,
   "id": "92b2bf71-1ba5-42c9-9c6a-17d0d000d829",
   "metadata": {},
   "outputs": [],
   "source": [
    "preproc_params = {\n",
    "    'quantile_bins' : {},\n",
    "    'quantile_values' : {}\n",
    "}"
   ]
  },
  {
   "cell_type": "code",
   "execution_count": 11,
   "id": "d823607c-20d7-42a0-b5c6-862a7dcc92d5",
   "metadata": {},
   "outputs": [
    {
     "name": "stdout",
     "output_type": "stream",
     "text": [
      "Custom bins for financial_leverage_quantile\n",
      "Custom bins for profitability_ratio_quantile\n",
      "Custom bins for net_income_growth_quantile\n"
     ]
    }
   ],
   "source": [
    "train_data_proc , preproc_params = pre_process(train_df, \n",
    "                                               custom_bins=custom_bins, \n",
    "                                               preproc_params = preproc_params,  \n",
    "                                               quantiles = 50, \n",
    "                                               days_until_statement = 150)"
   ]
  },
  {
   "cell_type": "markdown",
   "id": "141a3163-6c6b-4aa2-9fbe-9863846c310d",
   "metadata": {},
   "source": [
    "## Train algorithm"
   ]
  },
  {
   "cell_type": "code",
   "execution_count": 12,
   "id": "e8583e1d-412b-4b3e-b778-3b90365f44c3",
   "metadata": {},
   "outputs": [],
   "source": [
    "### features for first firm\n",
    "first_features = [\n",
    "    'asst_tot_quantile_values',\n",
    "    'financial_leverage_quantile_values',\n",
    "    'profitability_ratio_quantile_values',\n",
    "    # 'net_income_growth_quantile_values',\n",
    "    'quick_ratio_v2_quantile_values',\n",
    "    # 'sales_growth_quantile_values',\n",
    "    'cash_assets_ratio_quantile_values',\n",
    "    'dscr_quantile_values',\n",
    "    # 'ebitda',\n",
    "]\n"
   ]
  },
  {
   "cell_type": "code",
   "execution_count": 13,
   "id": "f3d9a494-7c0b-42e2-bfb9-3143f6e69f70",
   "metadata": {},
   "outputs": [],
   "source": [
    "### features for recurring firms\n",
    "rec_features = [\n",
    "    'asst_tot_quantile_values',\n",
    "    'financial_leverage_quantile_values',\n",
    "    'profitability_ratio_quantile_values',\n",
    "    'net_income_growth_quantile_values',\n",
    "    'quick_ratio_v2_quantile_values',\n",
    "    'sales_growth_quantile_values',\n",
    "    'cash_assets_ratio_quantile_values',\n",
    "    'dscr_quantile_values',\n",
    "    # 'ebitda',\n",
    "\n",
    "]"
   ]
  },
  {
   "cell_type": "code",
   "execution_count": 14,
   "id": "4aa5a597-96e8-469e-af7f-3058d6a3be93",
   "metadata": {},
   "outputs": [
    {
     "data": {
      "text/plain": [
       "'default ~ asst_tot_quantile_values + financial_leverage_quantile_values + profitability_ratio_quantile_values + quick_ratio_v2_quantile_values + cash_assets_ratio_quantile_values + dscr_quantile_values'"
      ]
     },
     "execution_count": 14,
     "metadata": {},
     "output_type": "execute_result"
    }
   ],
   "source": [
    "first_formula = 'default ~ '+' + '.join(first_features)\n",
    "first_formula"
   ]
  },
  {
   "cell_type": "code",
   "execution_count": 15,
   "id": "d077d95b-3b02-4671-9b23-cc04465da36f",
   "metadata": {},
   "outputs": [
    {
     "data": {
      "text/plain": [
       "'default ~ asst_tot_quantile_values + financial_leverage_quantile_values + profitability_ratio_quantile_values + net_income_growth_quantile_values + quick_ratio_v2_quantile_values + sales_growth_quantile_values + cash_assets_ratio_quantile_values + dscr_quantile_values'"
      ]
     },
     "execution_count": 15,
     "metadata": {},
     "output_type": "execute_result"
    }
   ],
   "source": [
    "rec_formula = 'default ~ '+' + '.join(rec_features)\n",
    "rec_formula"
   ]
  },
  {
   "cell_type": "code",
   "execution_count": 37,
   "id": "f00fcf6f-e02b-4ac0-bf19-f08bf38b5f3c",
   "metadata": {},
   "outputs": [],
   "source": [
    "class SplitModel():\n",
    "    def __init__(self, algo):\n",
    "        self.first_formula = 'default ~ '+' + '.join(first_features)\n",
    "        self.rec_formula = 'default ~ '+' + '.join(rec_features)\n",
    "\n",
    "        self.algo = algo\n",
    "    \n",
    "    def train(self, data):\n",
    "        \n",
    "        rec_data = data[data['is_first_occurrence']==0]\n",
    "        first_data = data[data['is_first_occurrence']==1]\n",
    "        \n",
    "        self.first_model = self.algo(self.first_formula, data = first_data)\n",
    "        self.first_fitted_model = self.first_model.fit()\n",
    "\n",
    "        self.rec_model = self.algo(self.rec_formula, data = rec_data)\n",
    "        self.rec_fitted_model = self.rec_model.fit()\n",
    "        print(\"models fit\")\n",
    "\n",
    "    def predict(self, data):\n",
    "        rec_data = data[data['is_first_occurrence']==0]\n",
    "        first_data = data[data['is_first_occurrence']==1]\n",
    "        print('rec data length',len(rec_data))\n",
    "        print('first data length',len(first_data))\n",
    "        \n",
    "        rec_preds = self.rec_fitted_model.predict(rec_data)\n",
    "        rec_preds = rec_preds.reindex(rec_data.index)\n",
    "        \n",
    "        first_preds = self.first_fitted_model.predict(first_data)\n",
    "        first_preds = first_preds.reindex(first_data.index)\n",
    "\n",
    "        predictions = pd.concat([rec_preds,first_preds]).reindex(data.index)\n",
    "        \n",
    "        return predictions\n",
    "\n",
    "    def summary(self):\n",
    "        print('~~~~~ First Time First Model ~~~~~~')\n",
    "        print(self.first_fitted_model.summary())\n",
    "        print(self.first_fitted_model.get_margeff().summary())\n",
    "        print('\\n')\n",
    "        print('~~~~~ Recurring First Model ~~~~~~')\n",
    "        print(self.rec_fitted_model.summary())\n",
    "        print(self.rec_fitted_model.get_margeff().summary())\n",
    "        print('\\n')\n",
    "        "
   ]
  },
  {
   "cell_type": "code",
   "execution_count": 39,
   "id": "46c506b3-f8cd-471d-99da-4256eae83967",
   "metadata": {},
   "outputs": [],
   "source": [
    "model = SplitModel(algo=smf.logit)"
   ]
  },
  {
   "cell_type": "code",
   "execution_count": 40,
   "id": "70d09a91-daf6-4b1b-baf4-57befd884c75",
   "metadata": {},
   "outputs": [
    {
     "name": "stdout",
     "output_type": "stream",
     "text": [
      "Optimization terminated successfully.\n",
      "         Current function value: 0.051107\n",
      "         Iterations 11\n",
      "Optimization terminated successfully.\n",
      "         Current function value: 0.064320\n",
      "         Iterations 10\n",
      "models fit\n"
     ]
    }
   ],
   "source": [
    "model.train(train_data_proc)"
   ]
  },
  {
   "cell_type": "code",
   "execution_count": 41,
   "id": "a95d7afb-f828-47b0-80ec-d551ed7691b6",
   "metadata": {},
   "outputs": [
    {
     "name": "stdout",
     "output_type": "stream",
     "text": [
      "rec data length 612920\n",
      "first data length 224993\n"
     ]
    }
   ],
   "source": [
    "preds = model.predict(train_data_proc)"
   ]
  },
  {
   "cell_type": "markdown",
   "id": "30d54067-d349-46a9-bd11-7fc9d2b76b85",
   "metadata": {},
   "source": [
    "### Model results"
   ]
  },
  {
   "cell_type": "code",
   "execution_count": 42,
   "id": "c1f2a21b-c05f-4f8a-b6c6-a9756bd4330a",
   "metadata": {},
   "outputs": [
    {
     "name": "stdout",
     "output_type": "stream",
     "text": [
      "~~~~~ First Time First Model ~~~~~~\n",
      "                           Logit Regression Results                           \n",
      "==============================================================================\n",
      "Dep. Variable:                default   No. Observations:               224993\n",
      "Model:                          Logit   Df Residuals:                   224986\n",
      "Method:                           MLE   Df Model:                            6\n",
      "Date:                Mon, 11 Nov 2024   Pseudo R-squ.:                 0.09890\n",
      "Time:                        22:26:33   Log-Likelihood:                -11499.\n",
      "converged:                       True   LL-Null:                       -12761.\n",
      "Covariance Type:            nonrobust   LLR p-value:                     0.000\n",
      "=======================================================================================================\n",
      "                                          coef    std err          z      P>|z|      [0.025      0.975]\n",
      "-------------------------------------------------------------------------------------------------------\n",
      "Intercept                              -7.1463      0.220    -32.462      0.000      -7.578      -6.715\n",
      "asst_tot_quantile_values               68.8869     13.342      5.163      0.000      42.737      95.037\n",
      "financial_leverage_quantile_values      5.6140      0.374     14.995      0.000       4.880       6.348\n",
      "profitability_ratio_quantile_values     8.4183      0.423     19.887      0.000       7.589       9.248\n",
      "quick_ratio_v2_quantile_values         34.4388      4.300      8.009      0.000      26.011      42.867\n",
      "cash_assets_ratio_quantile_values      33.2393      6.752      4.923      0.000      20.006      46.472\n",
      "dscr_quantile_values                   17.8540      1.113     16.044      0.000      15.673      20.035\n",
      "=======================================================================================================\n",
      "        Logit Marginal Effects       \n",
      "=====================================\n",
      "Dep. Variable:                default\n",
      "Method:                          dydx\n",
      "At:                           overall\n",
      "=======================================================================================================\n",
      "                                         dy/dx    std err          z      P>|z|      [0.025      0.975]\n",
      "-------------------------------------------------------------------------------------------------------\n",
      "asst_tot_quantile_values                0.6528      0.127      5.137      0.000       0.404       0.902\n",
      "financial_leverage_quantile_values      0.0532      0.004     14.676      0.000       0.046       0.060\n",
      "profitability_ratio_quantile_values     0.0798      0.004     18.992      0.000       0.072       0.088\n",
      "quick_ratio_v2_quantile_values          0.3264      0.041      7.915      0.000       0.246       0.407\n",
      "cash_assets_ratio_quantile_values       0.3150      0.064      4.901      0.000       0.189       0.441\n",
      "dscr_quantile_values                    0.1692      0.011     15.260      0.000       0.147       0.191\n",
      "=======================================================================================================\n",
      "\n",
      "\n",
      "~~~~~ Recurring First Model ~~~~~~\n",
      "                           Logit Regression Results                           \n",
      "==============================================================================\n",
      "Dep. Variable:                default   No. Observations:               612920\n",
      "Model:                          Logit   Df Residuals:                   612911\n",
      "Method:                           MLE   Df Model:                            8\n",
      "Date:                Mon, 11 Nov 2024   Pseudo R-squ.:                  0.1662\n",
      "Time:                        22:26:34   Log-Likelihood:                -39423.\n",
      "converged:                       True   LL-Null:                       -47280.\n",
      "Covariance Type:            nonrobust   LLR p-value:                     0.000\n",
      "=======================================================================================================\n",
      "                                          coef    std err          z      P>|z|      [0.025      0.975]\n",
      "-------------------------------------------------------------------------------------------------------\n",
      "Intercept                              -7.5349      0.119    -63.406      0.000      -7.768      -7.302\n",
      "asst_tot_quantile_values               68.6960      7.449      9.222      0.000      54.096      83.296\n",
      "financial_leverage_quantile_values      4.8777      0.174     27.955      0.000       4.536       5.220\n",
      "profitability_ratio_quantile_values     6.6143      0.199     33.279      0.000       6.225       7.004\n",
      "net_income_growth_quantile_values       7.8552      0.433     18.159      0.000       7.007       8.703\n",
      "quick_ratio_v2_quantile_values         41.9159      2.212     18.946      0.000      37.580      46.252\n",
      "sales_growth_quantile_values           20.8034      1.044     19.920      0.000      18.757      22.850\n",
      "cash_assets_ratio_quantile_values      37.1915      3.767      9.874      0.000      29.809      44.574\n",
      "dscr_quantile_values                   21.6157      0.548     39.427      0.000      20.541      22.690\n",
      "=======================================================================================================\n",
      "        Logit Marginal Effects       \n",
      "=====================================\n",
      "Dep. Variable:                default\n",
      "Method:                          dydx\n",
      "At:                           overall\n",
      "=======================================================================================================\n",
      "                                         dy/dx    std err          z      P>|z|      [0.025      0.975]\n",
      "-------------------------------------------------------------------------------------------------------\n",
      "asst_tot_quantile_values                0.8937      0.097      9.189      0.000       0.703       1.084\n",
      "financial_leverage_quantile_values      0.0635      0.002     27.688      0.000       0.059       0.068\n",
      "profitability_ratio_quantile_values     0.0860      0.003     32.461      0.000       0.081       0.091\n",
      "net_income_growth_quantile_values       0.1022      0.006     18.005      0.000       0.091       0.113\n",
      "quick_ratio_v2_quantile_values          0.5453      0.029     18.659      0.000       0.488       0.603\n",
      "sales_growth_quantile_values            0.2706      0.014     19.590      0.000       0.244       0.298\n",
      "cash_assets_ratio_quantile_values       0.4838      0.049      9.830      0.000       0.387       0.580\n",
      "dscr_quantile_values                    0.2812      0.008     36.861      0.000       0.266       0.296\n",
      "=======================================================================================================\n",
      "\n",
      "\n"
     ]
    }
   ],
   "source": [
    "model.summary()"
   ]
  },
  {
   "cell_type": "markdown",
   "id": "f9f91e1f-3151-44ef-842f-466533408e1d",
   "metadata": {},
   "source": [
    "## Process test data"
   ]
  },
  {
   "cell_type": "code",
   "execution_count": 23,
   "id": "28651cf6-0cba-4f35-a140-a731440755ed",
   "metadata": {},
   "outputs": [],
   "source": [
    "test_df['stmt_date'] = pd.to_datetime(test_df['stmt_date'])\n",
    "test_df['def_date'] = pd.to_datetime(test_df['def_date'], format=\"%d/%m/%Y\")\n",
    "test_df.sort_values('stmt_date', inplace=True)"
   ]
  },
  {
   "cell_type": "code",
   "execution_count": 24,
   "id": "52079ea7-9963-4f29-a0d7-99d9ac711ec1",
   "metadata": {},
   "outputs": [
    {
     "name": "stdout",
     "output_type": "stream",
     "text": [
      "asst_tot_quantile\n",
      "financial_leverage_quantile\n",
      "profitability_ratio_quantile\n",
      "net_income_growth_quantile\n",
      "quick_ratio_v2_quantile\n",
      "sales_growth_quantile\n",
      "cash_assets_ratio_quantile\n",
      "dscr_quantile\n"
     ]
    }
   ],
   "source": [
    "test_data_proc , preproc_params = pre_process(test_df, \n",
    "                                             historical_df=train_data_proc, \n",
    "                                             new=False, \n",
    "                                             preproc_params = preproc_params,  \n",
    "                                             quantiles = 50, \n",
    "                                             days_until_statement = 150)"
   ]
  },
  {
   "cell_type": "code",
   "execution_count": 26,
   "id": "caed3c7f-d898-4540-97ed-fcf8eb23f959",
   "metadata": {},
   "outputs": [
    {
     "name": "stdout",
     "output_type": "stream",
     "text": [
      "rec data length 172921\n",
      "first data length 12718\n"
     ]
    }
   ],
   "source": [
    "test_predictions = model.predict(test_data_proc)"
   ]
  },
  {
   "cell_type": "code",
   "execution_count": 27,
   "id": "64417597-5aca-4109-a235-801dd19a296e",
   "metadata": {},
   "outputs": [],
   "source": [
    "test_results = test_data_proc[['default']].copy()\n",
    "test_results['predictions'] = test_predictions"
   ]
  },
  {
   "cell_type": "code",
   "execution_count": 28,
   "id": "4311f23a-b7d0-4ccb-9f43-abad57886b5d",
   "metadata": {},
   "outputs": [
    {
     "data": {
      "text/html": [
       "<div>\n",
       "<style scoped>\n",
       "    .dataframe tbody tr th:only-of-type {\n",
       "        vertical-align: middle;\n",
       "    }\n",
       "\n",
       "    .dataframe tbody tr th {\n",
       "        vertical-align: top;\n",
       "    }\n",
       "\n",
       "    .dataframe thead th {\n",
       "        text-align: right;\n",
       "    }\n",
       "</style>\n",
       "<table border=\"1\" class=\"dataframe\">\n",
       "  <thead>\n",
       "    <tr style=\"text-align: right;\">\n",
       "      <th></th>\n",
       "      <th>default</th>\n",
       "      <th>predictions</th>\n",
       "    </tr>\n",
       "    <tr>\n",
       "      <th>Unnamed: 0</th>\n",
       "      <th></th>\n",
       "      <th></th>\n",
       "    </tr>\n",
       "  </thead>\n",
       "  <tbody>\n",
       "    <tr>\n",
       "      <th>21</th>\n",
       "      <td>0</td>\n",
       "      <td>0.079840</td>\n",
       "    </tr>\n",
       "    <tr>\n",
       "      <th>2757816</th>\n",
       "      <td>0</td>\n",
       "      <td>0.042655</td>\n",
       "    </tr>\n",
       "    <tr>\n",
       "      <th>2757825</th>\n",
       "      <td>0</td>\n",
       "      <td>0.010355</td>\n",
       "    </tr>\n",
       "    <tr>\n",
       "      <th>2757832</th>\n",
       "      <td>0</td>\n",
       "      <td>0.005724</td>\n",
       "    </tr>\n",
       "    <tr>\n",
       "      <th>2757853</th>\n",
       "      <td>0</td>\n",
       "      <td>0.003923</td>\n",
       "    </tr>\n",
       "  </tbody>\n",
       "</table>\n",
       "</div>"
      ],
      "text/plain": [
       "            default  predictions\n",
       "Unnamed: 0                      \n",
       "21                0     0.079840\n",
       "2757816           0     0.042655\n",
       "2757825           0     0.010355\n",
       "2757832           0     0.005724\n",
       "2757853           0     0.003923"
      ]
     },
     "execution_count": 28,
     "metadata": {},
     "output_type": "execute_result"
    }
   ],
   "source": [
    "test_results.head()"
   ]
  },
  {
   "cell_type": "code",
   "execution_count": 29,
   "id": "553f3f09-94e8-4b0c-b6dd-baec9d8b4265",
   "metadata": {},
   "outputs": [
    {
     "data": {
      "text/plain": [
       "np.float64(0.8297808554130456)"
      ]
     },
     "execution_count": 29,
     "metadata": {},
     "output_type": "execute_result"
    }
   ],
   "source": [
    "metrics.roc_auc_score(y_score=test_results['predictions'], y_true=test_results['default'])"
   ]
  },
  {
   "cell_type": "code",
   "execution_count": 30,
   "id": "f60080e8-3e9e-4ee6-85ec-0cd7b4a02320",
   "metadata": {},
   "outputs": [
    {
     "name": "stdout",
     "output_type": "stream",
     "text": [
      "ROC AUC 0.8297808554130456\n"
     ]
    },
    {
     "data": {
      "text/plain": [
       "<sklearn.metrics._plot.roc_curve.RocCurveDisplay at 0x30cd11160>"
      ]
     },
     "execution_count": 30,
     "metadata": {},
     "output_type": "execute_result"
    },
    {
     "data": {
      "image/png": "[encoded data removed]",
      "text/plain": [
       "<Figure size 640x480 with 1 Axes>"
      ]
     },
     "metadata": {},
     "output_type": "display_data"
    }
   ],
   "source": [
    "fpr, tpr, thresholds = metrics.roc_curve(test_results['default'], test_results['predictions'])\n",
    "roc_auc = metrics.auc(fpr, tpr)\n",
    "roc_display = metrics.RocCurveDisplay(fpr=fpr, tpr=tpr, roc_auc=roc_auc)\n",
    "print(f'ROC AUC {roc_auc}')\n",
    "roc_display.plot()"
   ]
  },
  {
   "cell_type": "code",
   "execution_count": 50,
   "id": "b7f77dc3-b272-4adc-8bc2-cd0ab5f5c072",
   "metadata": {},
   "outputs": [],
   "source": [
    "# train_data_proc.to_csv('train_processed_data_for_2012.csv', index=False)\n",
    "# test_data_proc.to_csv('test_processed_data_for_2012.csv', index=False)"
   ]
  },
  {
   "cell_type": "markdown",
   "id": "b60d49b6-0c07-4efa-8134-66b8370c44f7",
   "metadata": {},
   "source": [
    "## saving components for harness"
   ]
  },
  {
   "cell_type": "code",
   "execution_count": 58,
   "id": "267b7b2b-50c6-4a2a-a27d-bca71e8eddaa",
   "metadata": {},
   "outputs": [],
   "source": [
    "growth_features = [\n",
    "    'id',\n",
    "    'stmt_date',\n",
    "    'net_income',\n",
    "    'sales'\n",
    "]"
   ]
  },
  {
   "cell_type": "code",
   "execution_count": 59,
   "id": "608cc8e4-b39f-4c8a-becb-c99a0c038ff1",
   "metadata": {},
   "outputs": [
    {
     "data": {
      "text/html": [
       "<div>\n",
       "<style scoped>\n",
       "    .dataframe tbody tr th:only-of-type {\n",
       "        vertical-align: middle;\n",
       "    }\n",
       "\n",
       "    .dataframe tbody tr th {\n",
       "        vertical-align: top;\n",
       "    }\n",
       "\n",
       "    .dataframe thead th {\n",
       "        text-align: right;\n",
       "    }\n",
       "</style>\n",
       "<table border=\"1\" class=\"dataframe\">\n",
       "  <thead>\n",
       "    <tr style=\"text-align: right;\">\n",
       "      <th></th>\n",
       "      <th>Unnamed: 0</th>\n",
       "      <th>id</th>\n",
       "      <th>stmt_date</th>\n",
       "      <th>HQ_city</th>\n",
       "      <th>legal_struct</th>\n",
       "      <th>ateco_sector</th>\n",
       "      <th>def_date</th>\n",
       "      <th>fs_year</th>\n",
       "      <th>asst_intang_fixed</th>\n",
       "      <th>asst_tang_fixed</th>\n",
       "      <th>...</th>\n",
       "      <th>sales</th>\n",
       "      <th>sales_growth</th>\n",
       "      <th>sales_growth_quantile</th>\n",
       "      <th>sales_growth_quantile_values</th>\n",
       "      <th>cash_assets_ratio</th>\n",
       "      <th>cash_assets_ratio_quantile</th>\n",
       "      <th>cash_assets_ratio_quantile_values</th>\n",
       "      <th>dscr</th>\n",
       "      <th>dscr_quantile</th>\n",
       "      <th>dscr_quantile_values</th>\n",
       "    </tr>\n",
       "  </thead>\n",
       "  <tbody>\n",
       "    <tr>\n",
       "      <th>3</th>\n",
       "      <td>22</td>\n",
       "      <td>520288</td>\n",
       "      <td>2007-12-31</td>\n",
       "      <td>28.0</td>\n",
       "      <td>SRL</td>\n",
       "      <td>14.0</td>\n",
       "      <td>NaT</td>\n",
       "      <td>2007</td>\n",
       "      <td>126603.0</td>\n",
       "      <td>1127807.0</td>\n",
       "      <td>...</td>\n",
       "      <td>2041155.0</td>\n",
       "      <td>0.000000</td>\n",
       "      <td>19</td>\n",
       "      <td>0.010524</td>\n",
       "      <td>0.008071</td>\n",
       "      <td>23</td>\n",
       "      <td>0.015813</td>\n",
       "      <td>11.280124</td>\n",
       "      <td>39</td>\n",
       "      <td>0.004833</td>\n",
       "    </tr>\n",
       "    <tr>\n",
       "      <th>1</th>\n",
       "      <td>18</td>\n",
       "      <td>520288</td>\n",
       "      <td>2008-12-31</td>\n",
       "      <td>28.0</td>\n",
       "      <td>SRL</td>\n",
       "      <td>14.0</td>\n",
       "      <td>NaT</td>\n",
       "      <td>2008</td>\n",
       "      <td>256438.0</td>\n",
       "      <td>1181416.0</td>\n",
       "      <td>...</td>\n",
       "      <td>967389.0</td>\n",
       "      <td>-0.526058</td>\n",
       "      <td>5</td>\n",
       "      <td>0.031686</td>\n",
       "      <td>0.002570</td>\n",
       "      <td>16</td>\n",
       "      <td>0.017604</td>\n",
       "      <td>0.926243</td>\n",
       "      <td>13</td>\n",
       "      <td>0.010204</td>\n",
       "    </tr>\n",
       "    <tr>\n",
       "      <th>2</th>\n",
       "      <td>19</td>\n",
       "      <td>520288</td>\n",
       "      <td>2009-12-31</td>\n",
       "      <td>28.0</td>\n",
       "      <td>SRL</td>\n",
       "      <td>14.0</td>\n",
       "      <td>NaT</td>\n",
       "      <td>2009</td>\n",
       "      <td>194046.0</td>\n",
       "      <td>1152014.0</td>\n",
       "      <td>...</td>\n",
       "      <td>638687.0</td>\n",
       "      <td>-0.339783</td>\n",
       "      <td>7</td>\n",
       "      <td>0.025480</td>\n",
       "      <td>0.005310</td>\n",
       "      <td>21</td>\n",
       "      <td>0.016470</td>\n",
       "      <td>1.918641</td>\n",
       "      <td>20</td>\n",
       "      <td>0.012293</td>\n",
       "    </tr>\n",
       "    <tr>\n",
       "      <th>4</th>\n",
       "      <td>23</td>\n",
       "      <td>520288</td>\n",
       "      <td>2010-12-31</td>\n",
       "      <td>28.0</td>\n",
       "      <td>SRL</td>\n",
       "      <td>14.0</td>\n",
       "      <td>NaT</td>\n",
       "      <td>2010</td>\n",
       "      <td>130973.0</td>\n",
       "      <td>1136731.0</td>\n",
       "      <td>...</td>\n",
       "      <td>564622.0</td>\n",
       "      <td>-0.115964</td>\n",
       "      <td>12</td>\n",
       "      <td>0.015813</td>\n",
       "      <td>0.003440</td>\n",
       "      <td>18</td>\n",
       "      <td>0.016469</td>\n",
       "      <td>0.253106</td>\n",
       "      <td>10</td>\n",
       "      <td>0.021958</td>\n",
       "    </tr>\n",
       "    <tr>\n",
       "      <th>0</th>\n",
       "      <td>17</td>\n",
       "      <td>520288</td>\n",
       "      <td>2011-12-31</td>\n",
       "      <td>28.0</td>\n",
       "      <td>SRL</td>\n",
       "      <td>14.0</td>\n",
       "      <td>NaT</td>\n",
       "      <td>2011</td>\n",
       "      <td>67537.0</td>\n",
       "      <td>1137566.0</td>\n",
       "      <td>...</td>\n",
       "      <td>538081.0</td>\n",
       "      <td>-0.047007</td>\n",
       "      <td>16</td>\n",
       "      <td>0.009667</td>\n",
       "      <td>0.001070</td>\n",
       "      <td>12</td>\n",
       "      <td>0.016171</td>\n",
       "      <td>0.406302</td>\n",
       "      <td>11</td>\n",
       "      <td>0.017126</td>\n",
       "    </tr>\n",
       "    <tr>\n",
       "      <th>...</th>\n",
       "      <td>...</td>\n",
       "      <td>...</td>\n",
       "      <td>...</td>\n",
       "      <td>...</td>\n",
       "      <td>...</td>\n",
       "      <td>...</td>\n",
       "      <td>...</td>\n",
       "      <td>...</td>\n",
       "      <td>...</td>\n",
       "      <td>...</td>\n",
       "      <td>...</td>\n",
       "      <td>...</td>\n",
       "      <td>...</td>\n",
       "      <td>...</td>\n",
       "      <td>...</td>\n",
       "      <td>...</td>\n",
       "      <td>...</td>\n",
       "      <td>...</td>\n",
       "      <td>...</td>\n",
       "      <td>...</td>\n",
       "      <td>...</td>\n",
       "    </tr>\n",
       "    <tr>\n",
       "      <th>776130</th>\n",
       "      <td>4437676</td>\n",
       "      <td>98111220178</td>\n",
       "      <td>2011-12-31</td>\n",
       "      <td>17.0</td>\n",
       "      <td>SRL</td>\n",
       "      <td>70.0</td>\n",
       "      <td>NaT</td>\n",
       "      <td>2011</td>\n",
       "      <td>0.0</td>\n",
       "      <td>54284.0</td>\n",
       "      <td>...</td>\n",
       "      <td>41583.0</td>\n",
       "      <td>0.386100</td>\n",
       "      <td>33</td>\n",
       "      <td>0.010085</td>\n",
       "      <td>0.002758</td>\n",
       "      <td>17</td>\n",
       "      <td>0.016231</td>\n",
       "      <td>-115.380952</td>\n",
       "      <td>2</td>\n",
       "      <td>0.030493</td>\n",
       "    </tr>\n",
       "    <tr>\n",
       "      <th>776132</th>\n",
       "      <td>4437705</td>\n",
       "      <td>98120940170</td>\n",
       "      <td>2008-12-31</td>\n",
       "      <td>17.0</td>\n",
       "      <td>SRU</td>\n",
       "      <td>38.0</td>\n",
       "      <td>NaT</td>\n",
       "      <td>2008</td>\n",
       "      <td>6749.0</td>\n",
       "      <td>111056.0</td>\n",
       "      <td>...</td>\n",
       "      <td>2279183.0</td>\n",
       "      <td>0.000000</td>\n",
       "      <td>19</td>\n",
       "      <td>0.010524</td>\n",
       "      <td>0.472416</td>\n",
       "      <td>51</td>\n",
       "      <td>0.012590</td>\n",
       "      <td>3.993937</td>\n",
       "      <td>29</td>\n",
       "      <td>0.005490</td>\n",
       "    </tr>\n",
       "    <tr>\n",
       "      <th>776131</th>\n",
       "      <td>4437703</td>\n",
       "      <td>98120940170</td>\n",
       "      <td>2009-12-31</td>\n",
       "      <td>17.0</td>\n",
       "      <td>SRU</td>\n",
       "      <td>38.0</td>\n",
       "      <td>NaT</td>\n",
       "      <td>2009</td>\n",
       "      <td>8640.0</td>\n",
       "      <td>125236.0</td>\n",
       "      <td>...</td>\n",
       "      <td>1931329.0</td>\n",
       "      <td>-0.152622</td>\n",
       "      <td>11</td>\n",
       "      <td>0.016589</td>\n",
       "      <td>0.289645</td>\n",
       "      <td>49</td>\n",
       "      <td>0.006325</td>\n",
       "      <td>-1.864468</td>\n",
       "      <td>6</td>\n",
       "      <td>0.050361</td>\n",
       "    </tr>\n",
       "    <tr>\n",
       "      <th>776134</th>\n",
       "      <td>4437709</td>\n",
       "      <td>98120940170</td>\n",
       "      <td>2010-12-31</td>\n",
       "      <td>17.0</td>\n",
       "      <td>SRU</td>\n",
       "      <td>38.0</td>\n",
       "      <td>NaT</td>\n",
       "      <td>2010</td>\n",
       "      <td>16127.0</td>\n",
       "      <td>72130.0</td>\n",
       "      <td>...</td>\n",
       "      <td>2164420.0</td>\n",
       "      <td>0.120689</td>\n",
       "      <td>28</td>\n",
       "      <td>0.007399</td>\n",
       "      <td>0.119598</td>\n",
       "      <td>44</td>\n",
       "      <td>0.008235</td>\n",
       "      <td>0.659516</td>\n",
       "      <td>12</td>\n",
       "      <td>0.013665</td>\n",
       "    </tr>\n",
       "    <tr>\n",
       "      <th>776133</th>\n",
       "      <td>4437706</td>\n",
       "      <td>98120940170</td>\n",
       "      <td>2011-12-31</td>\n",
       "      <td>17.0</td>\n",
       "      <td>SRU</td>\n",
       "      <td>38.0</td>\n",
       "      <td>NaT</td>\n",
       "      <td>2011</td>\n",
       "      <td>54491.0</td>\n",
       "      <td>108892.0</td>\n",
       "      <td>...</td>\n",
       "      <td>1843174.0</td>\n",
       "      <td>-0.148421</td>\n",
       "      <td>11</td>\n",
       "      <td>0.016589</td>\n",
       "      <td>0.254840</td>\n",
       "      <td>49</td>\n",
       "      <td>0.006325</td>\n",
       "      <td>1.768816</td>\n",
       "      <td>19</td>\n",
       "      <td>0.011099</td>\n",
       "    </tr>\n",
       "  </tbody>\n",
       "</table>\n",
       "<p>837913 rows × 72 columns</p>\n",
       "</div>"
      ],
      "text/plain": [
       "        Unnamed: 0           id  stmt_date  HQ_city legal_struct  \\\n",
       "3               22       520288 2007-12-31     28.0          SRL   \n",
       "1               18       520288 2008-12-31     28.0          SRL   \n",
       "2               19       520288 2009-12-31     28.0          SRL   \n",
       "4               23       520288 2010-12-31     28.0          SRL   \n",
       "0               17       520288 2011-12-31     28.0          SRL   \n",
       "...            ...          ...        ...      ...          ...   \n",
       "776130     4437676  98111220178 2011-12-31     17.0          SRL   \n",
       "776132     4437705  98120940170 2008-12-31     17.0          SRU   \n",
       "776131     4437703  98120940170 2009-12-31     17.0          SRU   \n",
       "776134     4437709  98120940170 2010-12-31     17.0          SRU   \n",
       "776133     4437706  98120940170 2011-12-31     17.0          SRU   \n",
       "\n",
       "        ateco_sector def_date  fs_year  asst_intang_fixed  asst_tang_fixed  \\\n",
       "3               14.0      NaT     2007           126603.0        1127807.0   \n",
       "1               14.0      NaT     2008           256438.0        1181416.0   \n",
       "2               14.0      NaT     2009           194046.0        1152014.0   \n",
       "4               14.0      NaT     2010           130973.0        1136731.0   \n",
       "0               14.0      NaT     2011            67537.0        1137566.0   \n",
       "...              ...      ...      ...                ...              ...   \n",
       "776130          70.0      NaT     2011                0.0          54284.0   \n",
       "776132          38.0      NaT     2008             6749.0         111056.0   \n",
       "776131          38.0      NaT     2009             8640.0         125236.0   \n",
       "776134          38.0      NaT     2010            16127.0          72130.0   \n",
       "776133          38.0      NaT     2011            54491.0         108892.0   \n",
       "\n",
       "        ...      sales  sales_growth  sales_growth_quantile  \\\n",
       "3       ...  2041155.0      0.000000                     19   \n",
       "1       ...   967389.0     -0.526058                      5   \n",
       "2       ...   638687.0     -0.339783                      7   \n",
       "4       ...   564622.0     -0.115964                     12   \n",
       "0       ...   538081.0     -0.047007                     16   \n",
       "...     ...        ...           ...                    ...   \n",
       "776130  ...    41583.0      0.386100                     33   \n",
       "776132  ...  2279183.0      0.000000                     19   \n",
       "776131  ...  1931329.0     -0.152622                     11   \n",
       "776134  ...  2164420.0      0.120689                     28   \n",
       "776133  ...  1843174.0     -0.148421                     11   \n",
       "\n",
       "        sales_growth_quantile_values  cash_assets_ratio  \\\n",
       "3                           0.010524           0.008071   \n",
       "1                           0.031686           0.002570   \n",
       "2                           0.025480           0.005310   \n",
       "4                           0.015813           0.003440   \n",
       "0                           0.009667           0.001070   \n",
       "...                              ...                ...   \n",
       "776130                      0.010085           0.002758   \n",
       "776132                      0.010524           0.472416   \n",
       "776131                      0.016589           0.289645   \n",
       "776134                      0.007399           0.119598   \n",
       "776133                      0.016589           0.254840   \n",
       "\n",
       "        cash_assets_ratio_quantile  cash_assets_ratio_quantile_values  \\\n",
       "3                               23                           0.015813   \n",
       "1                               16                           0.017604   \n",
       "2                               21                           0.016470   \n",
       "4                               18                           0.016469   \n",
       "0                               12                           0.016171   \n",
       "...                            ...                                ...   \n",
       "776130                          17                           0.016231   \n",
       "776132                          51                           0.012590   \n",
       "776131                          49                           0.006325   \n",
       "776134                          44                           0.008235   \n",
       "776133                          49                           0.006325   \n",
       "\n",
       "              dscr  dscr_quantile  dscr_quantile_values  \n",
       "3        11.280124             39              0.004833  \n",
       "1         0.926243             13              0.010204  \n",
       "2         1.918641             20              0.012293  \n",
       "4         0.253106             10              0.021958  \n",
       "0         0.406302             11              0.017126  \n",
       "...            ...            ...                   ...  \n",
       "776130 -115.380952              2              0.030493  \n",
       "776132    3.993937             29              0.005490  \n",
       "776131   -1.864468              6              0.050361  \n",
       "776134    0.659516             12              0.013665  \n",
       "776133    1.768816             19              0.011099  \n",
       "\n",
       "[837913 rows x 72 columns]"
      ]
     },
     "execution_count": 59,
     "metadata": {},
     "output_type": "execute_result"
    }
   ],
   "source": [
    "train_data_proc"
   ]
  },
  {
   "cell_type": "code",
   "execution_count": null,
   "id": "e67044e0-254c-4141-9adf-e91b575d56e3",
   "metadata": {},
   "outputs": [],
   "source": []
  }
 ],
 "metadata": {
  "kernelspec": {
   "display_name": "Python 3 (ipykernel)",
   "language": "python",
   "name": "python3"
  },
  "language_info": {
   "codemirror_mode": {
    "name": "ipython",
    "version": 3
   },
   "file_extension": ".py",
   "mimetype": "text/x-python",
   "name": "python",
   "nbconvert_exporter": "python",
   "pygments_lexer": "ipython3",
   "version": "3.13.0"
  }
 },
 "nbformat": 4,
 "nbformat_minor": 5
}
