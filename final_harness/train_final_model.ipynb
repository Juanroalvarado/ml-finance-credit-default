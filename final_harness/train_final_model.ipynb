{
 "cells": [
  {
   "cell_type": "code",
   "execution_count": 3,
   "id": "1eff6324-7dea-4122-a2c8-e48de00fe14f",
   "metadata": {},
   "outputs": [],
   "source": [
    "import pandas as pd\n",
    "import numpy as np\n",
    "\n",
    "import pickle\n",
    "\n",
    "import matplotlib.pyplot as plt\n",
    "\n",
    "import statsmodels.api as sm\n",
    "import statsmodels.formula.api as smf\n",
    "\n",
    "from importlib import reload  # Python 3.4+\n",
    "\n",
    "from sklearn import metrics\n",
    "import seaborn as sns\n",
    "sns.set()\n",
    "\n",
    "from sklearn.calibration import CalibratedClassifierCV\n",
    "\n",
    "from IPython.display import clear_output, display"
   ]
  },
  {
   "cell_type": "code",
   "execution_count": 4,
   "id": "38f1c957-1cfa-4e51-bce8-bdde9c34f8b6",
   "metadata": {},
   "outputs": [
    {
     "data": {
      "text/plain": [
       "(837913, 43)"
      ]
     },
     "execution_count": 4,
     "metadata": {},
     "output_type": "execute_result"
    }
   ],
   "source": [
    "train_df = pd.read_csv('train_for_2012.csv',index_col=0)\n",
    "train_df.shape"
   ]
  },
  {
   "cell_type": "code",
   "execution_count": 5,
   "id": "ea89b540-5578-4f6f-8e10-6cc483d6fb41",
   "metadata": {},
   "outputs": [
    {
     "data": {
      "text/plain": [
       "(185639, 43)"
      ]
     },
     "execution_count": 5,
     "metadata": {},
     "output_type": "execute_result"
    }
   ],
   "source": [
    "test_df = pd.read_csv('test_for_2012.csv',index_col=0)\n",
    "test_df.shape"
   ]
  },
  {
   "cell_type": "code",
   "execution_count": 6,
   "id": "1462a855-804f-4309-9aa0-37f2a565dfe6",
   "metadata": {},
   "outputs": [],
   "source": [
    "# df['is_first_occurrence'] = (df['id'] != df['id'].shift()).astype(int)"
   ]
  },
  {
   "cell_type": "code",
   "execution_count": 7,
   "id": "cf14ffa3-39f6-4152-aa5e-d0ff617767d2",
   "metadata": {},
   "outputs": [],
   "source": [
    "# modeling_df = df[df['is_first_occurrence']==1].copy()\n",
    "# print(modeling_df.shape)\n",
    "# len(modeling_df)/len(df)"
   ]
  },
  {
   "cell_type": "code",
   "execution_count": 8,
   "id": "0b483136-afa0-4ca2-9291-0a69b78cc69f",
   "metadata": {},
   "outputs": [],
   "source": [
    "train_df['stmt_date'] = pd.to_datetime(train_df['stmt_date'])\n",
    "train_df['def_date'] = pd.to_datetime(train_df['def_date'], format=\"%d/%m/%Y\")\n",
    "train_df.sort_values('stmt_date', inplace=True)"
   ]
  },
  {
   "cell_type": "code",
   "execution_count": 9,
   "id": "feece20d-4986-410b-8036-94214855861d",
   "metadata": {},
   "outputs": [],
   "source": [
    "### we'll try dropping NA's for now\n",
    "train_df.sort_values('stmt_date', inplace=True)"
   ]
  },
  {
   "cell_type": "code",
   "execution_count": 10,
   "id": "b3e13e16-3cd7-4658-b173-02787ad68f9e",
   "metadata": {},
   "outputs": [],
   "source": [
    "test_df['stmt_date'] = pd.to_datetime(test_df['stmt_date'])\n",
    "test_df['def_date'] = pd.to_datetime(test_df['def_date'], format=\"%d/%m/%Y\")\n",
    "test_df.sort_values('stmt_date', inplace=True)"
   ]
  },
  {
   "cell_type": "markdown",
   "id": "a8539a41-b6c1-4546-82ed-011ea5d2be96",
   "metadata": {},
   "source": [
    "## Get preprocessing data ready"
   ]
  },
  {
   "cell_type": "code",
   "execution_count": 11,
   "id": "325b908f-51c6-44d3-9e96-f9f38e0024e0",
   "metadata": {},
   "outputs": [],
   "source": [
    "from preproc_functions import pre_process"
   ]
  },
  {
   "cell_type": "code",
   "execution_count": 12,
   "id": "57d4fe13-11e9-4af6-9dfd-0fae52b9b906",
   "metadata": {},
   "outputs": [],
   "source": [
    "with open('quantile_custom_bins.pkl', 'rb') as file:\n",
    "    custom_bins = pickle.load(file)"
   ]
  },
  {
   "cell_type": "code",
   "execution_count": 13,
   "id": "92b2bf71-1ba5-42c9-9c6a-17d0d000d829",
   "metadata": {},
   "outputs": [],
   "source": [
    "preproc_params = {\n",
    "    'quantile_bins' : {},\n",
    "    'quantile_values' : {}\n",
    "}"
   ]
  },
  {
   "cell_type": "code",
   "execution_count": 14,
   "id": "d823607c-20d7-42a0-b5c6-862a7dcc92d5",
   "metadata": {},
   "outputs": [
    {
     "name": "stdout",
     "output_type": "stream",
     "text": [
      "Custom bins for financial_leverage_quantile\n",
      "Custom bins for profitability_ratio_quantile\n"
     ]
    },
    {
     "name": "stderr",
     "output_type": "stream",
     "text": [
      "/Users/juanroalvarado/miniconda3/envs/horserace/lib/python3.13/site-packages/numpy/lib/_function_base_impl.py:4620: RuntimeWarning: invalid value encountered in subtract\n",
      "  diff_b_a = subtract(b, a)\n"
     ]
    },
    {
     "name": "stdout",
     "output_type": "stream",
     "text": [
      "Custom bins for net_income_growth_quantile\n"
     ]
    },
    {
     "name": "stderr",
     "output_type": "stream",
     "text": [
      "/Users/juanroalvarado/miniconda3/envs/horserace/lib/python3.13/site-packages/numpy/lib/_function_base_impl.py:4620: RuntimeWarning: invalid value encountered in subtract\n",
      "  diff_b_a = subtract(b, a)\n",
      "/Users/juanroalvarado/miniconda3/envs/horserace/lib/python3.13/site-packages/numpy/lib/_function_base_impl.py:4622: RuntimeWarning: invalid value encountered in multiply\n",
      "  lerp_interpolation = asanyarray(add(a, diff_b_a * t, out=out))\n"
     ]
    }
   ],
   "source": [
    "train_data_proc , preproc_params = pre_process(train_df, \n",
    "                                               custom_bins=custom_bins, \n",
    "                                               preproc_params = preproc_params,  \n",
    "                                               quantiles = 50, \n",
    "                                               days_until_statement = 150)"
   ]
  },
  {
   "cell_type": "code",
   "execution_count": 15,
   "id": "cb53b86c-5176-4848-a68a-f0babfddb59e",
   "metadata": {},
   "outputs": [
    {
     "name": "stdout",
     "output_type": "stream",
     "text": [
      "asst_tot_quantile\n",
      "financial_leverage_quantile\n",
      "profitability_ratio_quantile\n",
      "roe_quantile\n",
      "net_income_growth_quantile\n",
      "quick_ratio_v2_quantile\n",
      "sales_growth_quantile\n",
      "cash_assets_ratio_quantile\n",
      "dscr_quantile\n"
     ]
    }
   ],
   "source": [
    "test_data_proc , preproc_params = pre_process(test_df, \n",
    "                                             historical_df=train_data_proc, \n",
    "                                             new=False, \n",
    "                                             preproc_params = preproc_params,  \n",
    "                                             quantiles = 50, \n",
    "                                             days_until_statement = 150)"
   ]
  },
  {
   "cell_type": "markdown",
   "id": "141a3163-6c6b-4aa2-9fbe-9863846c310d",
   "metadata": {},
   "source": [
    "## Train algorithm"
   ]
  },
  {
   "cell_type": "code",
   "execution_count": 16,
   "id": "e8583e1d-412b-4b3e-b778-3b90365f44c3",
   "metadata": {},
   "outputs": [],
   "source": [
    "### features for first firm\n",
    "first_features = [\n",
    "    # 'asst_tot_quantile_values', ####\n",
    "    'financial_leverage_quantile_values',\n",
    "    'profitability_ratio_quantile_values',\n",
    "    # 'net_income_growth_quantile_values',\n",
    "    'quick_ratio_v2_quantile_values',\n",
    "    # 'sales_growth_quantile_values',\n",
    "    # 'cash_assets_ratio_quantile_values', ####\n",
    "    'dscr_quantile_values',\n",
    "    'roe_quantile_values',\n",
    "    # 'ebitda',\n",
    "    # 'ateco_sector_pd',\n",
    "    # 'sector_group_pd', ####\n",
    "    # 'regional_code', \n",
    "    'regional_code_pd' ####\n",
    "]\n"
   ]
  },
  {
   "cell_type": "code",
   "execution_count": 17,
   "id": "f3d9a494-7c0b-42e2-bfb9-3143f6e69f70",
   "metadata": {},
   "outputs": [],
   "source": [
    "### features for recurring firms\n",
    "rec_features = [\n",
    "    # 'asst_tot_quantile_values',\n",
    "    'financial_leverage_quantile_values',\n",
    "    'profitability_ratio_quantile_values',\n",
    "    'net_income_growth_quantile_values',\n",
    "    'quick_ratio_v2_quantile_values',\n",
    "    'sales_growth_quantile_values',\n",
    "    # 'cash_assets_ratio_quantile_values',\n",
    "    'dscr_quantile_values',\n",
    "    'roe_quantile_values',\n",
    "    # 'ebitda',\n",
    "    # 'ateco_sector_pd',\n",
    "    # 'sector_group_pd',\n",
    "    # 'regional_code', \n",
    "    'regional_code_pd'\n",
    "\n",
    "]"
   ]
  },
  {
   "cell_type": "code",
   "execution_count": 18,
   "id": "bfa0b0f0-62be-4d1f-820c-fae1fee4bd20",
   "metadata": {},
   "outputs": [
    {
     "data": {
      "text/plain": [
       "financial_leverage_quantile_values     0\n",
       "profitability_ratio_quantile_values    0\n",
       "net_income_growth_quantile_values      0\n",
       "quick_ratio_v2_quantile_values         0\n",
       "sales_growth_quantile_values           0\n",
       "dscr_quantile_values                   0\n",
       "roe_quantile_values                    0\n",
       "regional_code_pd                       0\n",
       "dtype: int64"
      ]
     },
     "execution_count": 18,
     "metadata": {},
     "output_type": "execute_result"
    }
   ],
   "source": [
    "train_data_proc[rec_features].isna().sum()"
   ]
  },
  {
   "cell_type": "code",
   "execution_count": null,
   "id": "dff898ee-581e-40b4-81f8-cce6b8591c5c",
   "metadata": {},
   "outputs": [],
   "source": []
  },
  {
   "cell_type": "code",
   "execution_count": 19,
   "id": "60203c6d-fb66-4cfc-a67b-f0bb5925df8c",
   "metadata": {},
   "outputs": [
    {
     "data": {
      "image/png": "[encoded data removed]",
      "text/plain": [
       "<Figure size 800x600 with 2 Axes>"
      ]
     },
     "metadata": {},
     "output_type": "display_data"
    }
   ],
   "source": [
    "# Compute the correlation matrix\n",
    "corr = train_data_proc[rec_features].corr()\n",
    "\n",
    "# Set up the matplotlib figure\n",
    "plt.figure(figsize=(8, 6))\n",
    "\n",
    "# Generate a custom diverging colormap\n",
    "cmap = sns.diverging_palette(230, 20, as_cmap=True)\n",
    "\n",
    "# Create the heatmap with annotations\n",
    "ax = sns.heatmap(corr, annot=True, fmt=\".2f\", cmap=cmap, center=0,\n",
    "            square=True, linewidths=0.5, cbar_kws={\"shrink\": 0.8})\n",
    "\n",
    "# Set title and display the plot\n",
    "plt.title(\"Correlation Matrix\", fontsize=16)\n",
    "ticks = [i.split('_quantile_values')[0] for i in corr.index]\n",
    "ax.set_xticklabels(ticks, rotation=45, ha='right')\n",
    "ax.set_yticklabels(ticks, rotation=0, va='center')\n",
    "\n",
    "# plt.xticks(rotation0)\n",
    "plt.show()\n"
   ]
  },
  {
   "cell_type": "code",
   "execution_count": 20,
   "id": "3c340929-c324-401e-bc3d-7438932f88b7",
   "metadata": {},
   "outputs": [],
   "source": [
    " from statsmodels.stats.outliers_influence import variance_inflation_factor\n"
   ]
  },
  {
   "cell_type": "code",
   "execution_count": 21,
   "id": "c4f1dca0-330f-4672-8416-eeb15e24bc01",
   "metadata": {},
   "outputs": [
    {
     "name": "stdout",
     "output_type": "stream",
     "text": [
      "                               feature       VIF\n",
      "0   financial_leverage_quantile_values  1.815620\n",
      "1  profitability_ratio_quantile_values  2.134195\n",
      "2    net_income_growth_quantile_values  2.462308\n",
      "3       quick_ratio_v2_quantile_values  6.486552\n",
      "4         sales_growth_quantile_values  3.867670\n",
      "5                 dscr_quantile_values  2.411793\n",
      "6                  roe_quantile_values  2.092819\n",
      "7                     regional_code_pd  8.232991\n"
     ]
    }
   ],
   "source": [
    "\n",
    "# VIF dataframe\n",
    "vif_data = pd.DataFrame()\n",
    "vif_data[\"feature\"] = train_data_proc[rec_features].columns\n",
    "\n",
    "# calculating VIF for each feature\n",
    "vif_data[\"VIF\"] = [variance_inflation_factor(train_data_proc[rec_features].values, i)\n",
    "                          for i in range(len(train_data_proc[rec_features].columns))]\n",
    "\n",
    "print(vif_data)"
   ]
  },
  {
   "cell_type": "code",
   "execution_count": 22,
   "id": "4aa5a597-96e8-469e-af7f-3058d6a3be93",
   "metadata": {},
   "outputs": [
    {
     "data": {
      "text/plain": [
       "'default ~ financial_leverage_quantile_values + profitability_ratio_quantile_values + quick_ratio_v2_quantile_values + dscr_quantile_values + roe_quantile_values + regional_code_pd'"
      ]
     },
     "execution_count": 22,
     "metadata": {},
     "output_type": "execute_result"
    }
   ],
   "source": [
    "first_formula = 'default ~ '+' + '.join(first_features)\n",
    "first_formula"
   ]
  },
  {
   "cell_type": "code",
   "execution_count": 23,
   "id": "d077d95b-3b02-4671-9b23-cc04465da36f",
   "metadata": {},
   "outputs": [
    {
     "data": {
      "text/plain": [
       "'default ~ financial_leverage_quantile_values + profitability_ratio_quantile_values + net_income_growth_quantile_values + quick_ratio_v2_quantile_values + sales_growth_quantile_values + dscr_quantile_values + roe_quantile_values + regional_code_pd'"
      ]
     },
     "execution_count": 23,
     "metadata": {},
     "output_type": "execute_result"
    }
   ],
   "source": [
    "rec_formula = 'default ~ '+' + '.join(rec_features)\n",
    "rec_formula"
   ]
  },
  {
   "cell_type": "code",
   "execution_count": 24,
   "id": "f00fcf6f-e02b-4ac0-bf19-f08bf38b5f3c",
   "metadata": {},
   "outputs": [],
   "source": [
    "class SplitModel():\n",
    "    def __init__(self, algo):\n",
    "        self.first_formula = 'default ~ '+' + '.join(first_features)\n",
    "        self.rec_formula = 'default ~ '+' + '.join(rec_features)\n",
    "\n",
    "        self.algo = algo\n",
    "    \n",
    "    def train(self, data):\n",
    "        \n",
    "        rec_data = data[data['is_first_occurrence']==0]\n",
    "        first_data = data[data['is_first_occurrence']==1]\n",
    "        \n",
    "        self.first_model = self.algo(self.first_formula, data = first_data)\n",
    "        self.first_fitted_model = self.first_model.fit()\n",
    "\n",
    "        self.rec_model = self.algo(self.rec_formula, data = rec_data)\n",
    "        self.rec_fitted_model = self.rec_model.fit()\n",
    "        print(\"models fit\")\n",
    "\n",
    "    def predict(self, data):\n",
    "        rec_data = data[data['is_first_occurrence']==0]\n",
    "        first_data = data[data['is_first_occurrence']==1]\n",
    "        print('rec data length',len(rec_data))\n",
    "        print('first data length',len(first_data))\n",
    "        \n",
    "        rec_preds = self.rec_fitted_model.predict(rec_data)\n",
    "        rec_preds = rec_preds.reindex(rec_data.index)\n",
    "        \n",
    "        first_preds = self.first_fitted_model.predict(first_data)\n",
    "        first_preds = first_preds.reindex(first_data.index)\n",
    "\n",
    "        predictions = pd.concat([rec_preds,first_preds]).reindex(data.index)\n",
    "        \n",
    "        return predictions\n",
    "\n",
    "    def summary(self):\n",
    "        print('~~~~~ First Time First Model ~~~~~~')\n",
    "        print(self.first_fitted_model.summary())\n",
    "        print(self.first_fitted_model.get_margeff().summary())\n",
    "        print('\\n')\n",
    "        print('~~~~~ Recurring First Model ~~~~~~')\n",
    "        print(self.rec_fitted_model.summary())\n",
    "        print(self.rec_fitted_model.get_margeff().summary())\n",
    "        print('\\n')\n",
    "        "
   ]
  },
  {
   "cell_type": "code",
   "execution_count": 25,
   "id": "a8486ba2-f0bc-4d38-8041-e8f7451c1263",
   "metadata": {},
   "outputs": [
    {
     "data": {
      "text/plain": [
       "(837913, 78)"
      ]
     },
     "execution_count": 25,
     "metadata": {},
     "output_type": "execute_result"
    }
   ],
   "source": [
    "train_data_proc.shape"
   ]
  },
  {
   "cell_type": "code",
   "execution_count": 37,
   "id": "b285999c-2bcb-4733-9f84-2ed62c6f8583",
   "metadata": {},
   "outputs": [
    {
     "data": {
      "text/plain": [
       "(185639, 78)"
      ]
     },
     "execution_count": 37,
     "metadata": {},
     "output_type": "execute_result"
    }
   ],
   "source": [
    "test_data_proc.shape"
   ]
  },
  {
   "cell_type": "code",
   "execution_count": 26,
   "id": "46c506b3-f8cd-471d-99da-4256eae83967",
   "metadata": {},
   "outputs": [],
   "source": [
    "model = SplitModel(algo=smf.logit)"
   ]
  },
  {
   "cell_type": "code",
   "execution_count": 27,
   "id": "70d09a91-daf6-4b1b-baf4-57befd884c75",
   "metadata": {},
   "outputs": [
    {
     "name": "stdout",
     "output_type": "stream",
     "text": [
      "Optimization terminated successfully.\n",
      "         Current function value: 0.050638\n",
      "         Iterations 10\n",
      "Optimization terminated successfully.\n",
      "         Current function value: 0.063298\n",
      "         Iterations 10\n",
      "models fit\n"
     ]
    }
   ],
   "source": [
    "model.train(train_data_proc)"
   ]
  },
  {
   "cell_type": "code",
   "execution_count": 28,
   "id": "a95d7afb-f828-47b0-80ec-d551ed7691b6",
   "metadata": {},
   "outputs": [
    {
     "name": "stdout",
     "output_type": "stream",
     "text": [
      "rec data length 612920\n",
      "first data length 224993\n"
     ]
    }
   ],
   "source": [
    "preds = model.predict(train_data_proc)"
   ]
  },
  {
   "cell_type": "code",
   "execution_count": 29,
   "id": "96d98075-d3ed-47e2-908d-defeeea27e23",
   "metadata": {},
   "outputs": [
    {
     "data": {
      "text/plain": [
       "Unnamed: 0\n",
       "22         0.008382\n",
       "18         0.048913\n",
       "19         0.055967\n",
       "23         0.008654\n",
       "17         0.008155\n",
       "             ...   \n",
       "4437676    0.009507\n",
       "4437705    0.004563\n",
       "4437703    0.030330\n",
       "4437709    0.004441\n",
       "4437706    0.006379\n",
       "Length: 837913, dtype: float64"
      ]
     },
     "execution_count": 29,
     "metadata": {},
     "output_type": "execute_result"
    }
   ],
   "source": [
    "preds"
   ]
  },
  {
   "cell_type": "markdown",
   "id": "30d54067-d349-46a9-bd11-7fc9d2b76b85",
   "metadata": {},
   "source": [
    "### Model results"
   ]
  },
  {
   "cell_type": "code",
   "execution_count": 30,
   "id": "c1f2a21b-c05f-4f8a-b6c6-a9756bd4330a",
   "metadata": {},
   "outputs": [
    {
     "name": "stdout",
     "output_type": "stream",
     "text": [
      "~~~~~ First Time First Model ~~~~~~\n",
      "                           Logit Regression Results                           \n",
      "==============================================================================\n",
      "Dep. Variable:                default   No. Observations:               224993\n",
      "Model:                          Logit   Df Residuals:                   224986\n",
      "Method:                           MLE   Df Model:                            6\n",
      "Date:                Tue, 12 Nov 2024   Pseudo R-squ.:                  0.1072\n",
      "Time:                        19:51:07   Log-Likelihood:                -11393.\n",
      "converged:                       True   LL-Null:                       -12761.\n",
      "Covariance Type:            nonrobust   LLR p-value:                     0.000\n",
      "=======================================================================================================\n",
      "                                          coef    std err          z      P>|z|      [0.025      0.975]\n",
      "-------------------------------------------------------------------------------------------------------\n",
      "Intercept                              -6.6438      0.124    -53.693      0.000      -6.886      -6.401\n",
      "financial_leverage_quantile_values      4.2854      0.403     10.645      0.000       3.496       5.074\n",
      "profitability_ratio_quantile_values     6.9056      0.439     15.739      0.000       6.046       7.766\n",
      "quick_ratio_v2_quantile_values         34.9860      4.247      8.238      0.000      26.662      43.310\n",
      "dscr_quantile_values                   13.7369      1.178     11.662      0.000      11.428      16.046\n",
      "roe_quantile_values                    11.9757      0.764     15.680      0.000      10.479      13.473\n",
      "regional_code_pd                       57.2127      7.346      7.789      0.000      42.816      71.610\n",
      "=======================================================================================================\n",
      "        Logit Marginal Effects       \n",
      "=====================================\n",
      "Dep. Variable:                default\n",
      "Method:                          dydx\n",
      "At:                           overall\n",
      "=======================================================================================================\n",
      "                                         dy/dx    std err          z      P>|z|      [0.025      0.975]\n",
      "-------------------------------------------------------------------------------------------------------\n",
      "financial_leverage_quantile_values      0.0407      0.004     10.571      0.000       0.033       0.048\n",
      "profitability_ratio_quantile_values     0.0655      0.004     15.329      0.000       0.057       0.074\n",
      "quick_ratio_v2_quantile_values          0.3319      0.041      8.138      0.000       0.252       0.412\n",
      "dscr_quantile_values                    0.1303      0.011     11.358      0.000       0.108       0.153\n",
      "roe_quantile_values                     0.1136      0.008     14.974      0.000       0.099       0.128\n",
      "regional_code_pd                        0.5427      0.070      7.709      0.000       0.405       0.681\n",
      "=======================================================================================================\n",
      "\n",
      "\n",
      "~~~~~ Recurring First Model ~~~~~~\n",
      "                           Logit Regression Results                           \n",
      "==============================================================================\n",
      "Dep. Variable:                default   No. Observations:               612920\n",
      "Model:                          Logit   Df Residuals:                   612911\n",
      "Method:                           MLE   Df Model:                            8\n",
      "Date:                Tue, 12 Nov 2024   Pseudo R-squ.:                  0.1794\n",
      "Time:                        19:51:08   Log-Likelihood:                -38797.\n",
      "converged:                       True   LL-Null:                       -47280.\n",
      "Covariance Type:            nonrobust   LLR p-value:                     0.000\n",
      "=======================================================================================================\n",
      "                                          coef    std err          z      P>|z|      [0.025      0.975]\n",
      "-------------------------------------------------------------------------------------------------------\n",
      "Intercept                              -7.0672      0.067   -105.408      0.000      -7.199      -6.936\n",
      "financial_leverage_quantile_values      3.3452      0.189     17.688      0.000       2.975       3.716\n",
      "profitability_ratio_quantile_values     4.7284      0.207     22.791      0.000       4.322       5.135\n",
      "net_income_growth_quantile_values       5.5614      0.436     12.752      0.000       4.707       6.416\n",
      "quick_ratio_v2_quantile_values         40.2202      2.190     18.364      0.000      35.928      44.513\n",
      "sales_growth_quantile_values           21.7656      1.035     21.034      0.000      19.737      23.794\n",
      "dscr_quantile_values                   17.7857      0.572     31.111      0.000      16.665      18.906\n",
      "roe_quantile_values                    15.1294      0.405     37.375      0.000      14.336      15.923\n",
      "regional_code_pd                       62.9039      3.895     16.150      0.000      55.270      70.538\n",
      "=======================================================================================================\n",
      "        Logit Marginal Effects       \n",
      "=====================================\n",
      "Dep. Variable:                default\n",
      "Method:                          dydx\n",
      "At:                           overall\n",
      "=======================================================================================================\n",
      "                                         dy/dx    std err          z      P>|z|      [0.025      0.975]\n",
      "-------------------------------------------------------------------------------------------------------\n",
      "financial_leverage_quantile_values      0.0434      0.002     17.716      0.000       0.039       0.048\n",
      "profitability_ratio_quantile_values     0.0614      0.003     22.603      0.000       0.056       0.067\n",
      "net_income_growth_quantile_values       0.0722      0.006     12.718      0.000       0.061       0.083\n",
      "quick_ratio_v2_quantile_values          0.5222      0.029     18.116      0.000       0.466       0.579\n",
      "sales_growth_quantile_values            0.2826      0.014     20.665      0.000       0.256       0.309\n",
      "dscr_quantile_values                    0.2309      0.008     29.883      0.000       0.216       0.246\n",
      "roe_quantile_values                     0.1964      0.006     35.329      0.000       0.186       0.207\n",
      "regional_code_pd                        0.8168      0.051     16.007      0.000       0.717       0.917\n",
      "=======================================================================================================\n",
      "\n",
      "\n"
     ]
    }
   ],
   "source": [
    "model.summary()"
   ]
  },
  {
   "cell_type": "code",
   "execution_count": null,
   "id": "0a9ac77e-4820-48d9-8f35-89b6e5792576",
   "metadata": {},
   "outputs": [],
   "source": []
  },
  {
   "cell_type": "markdown",
   "id": "f9f91e1f-3151-44ef-842f-466533408e1d",
   "metadata": {},
   "source": [
    "## Process test data"
   ]
  },
  {
   "cell_type": "code",
   "execution_count": 31,
   "id": "caed3c7f-d898-4540-97ed-fcf8eb23f959",
   "metadata": {},
   "outputs": [
    {
     "name": "stdout",
     "output_type": "stream",
     "text": [
      "rec data length 172921\n",
      "first data length 12718\n"
     ]
    }
   ],
   "source": [
    "test_predictions = model.predict(test_data_proc)"
   ]
  },
  {
   "cell_type": "code",
   "execution_count": 32,
   "id": "64417597-5aca-4109-a235-801dd19a296e",
   "metadata": {},
   "outputs": [],
   "source": [
    "test_results = test_data_proc[['default']].copy()\n",
    "test_results['predictions'] = test_predictions"
   ]
  },
  {
   "cell_type": "code",
   "execution_count": 33,
   "id": "4311f23a-b7d0-4ccb-9f43-abad57886b5d",
   "metadata": {},
   "outputs": [
    {
     "data": {
      "text/html": [
       "<div>\n",
       "<style scoped>\n",
       "    .dataframe tbody tr th:only-of-type {\n",
       "        vertical-align: middle;\n",
       "    }\n",
       "\n",
       "    .dataframe tbody tr th {\n",
       "        vertical-align: top;\n",
       "    }\n",
       "\n",
       "    .dataframe thead th {\n",
       "        text-align: right;\n",
       "    }\n",
       "</style>\n",
       "<table border=\"1\" class=\"dataframe\">\n",
       "  <thead>\n",
       "    <tr style=\"text-align: right;\">\n",
       "      <th></th>\n",
       "      <th>default</th>\n",
       "      <th>predictions</th>\n",
       "    </tr>\n",
       "    <tr>\n",
       "      <th>Unnamed: 0</th>\n",
       "      <th></th>\n",
       "      <th></th>\n",
       "    </tr>\n",
       "  </thead>\n",
       "  <tbody>\n",
       "    <tr>\n",
       "      <th>21</th>\n",
       "      <td>0</td>\n",
       "      <td>0.069405</td>\n",
       "    </tr>\n",
       "    <tr>\n",
       "      <th>2757816</th>\n",
       "      <td>0</td>\n",
       "      <td>0.060868</td>\n",
       "    </tr>\n",
       "    <tr>\n",
       "      <th>2757825</th>\n",
       "      <td>0</td>\n",
       "      <td>0.007682</td>\n",
       "    </tr>\n",
       "    <tr>\n",
       "      <th>2757832</th>\n",
       "      <td>0</td>\n",
       "      <td>0.002762</td>\n",
       "    </tr>\n",
       "    <tr>\n",
       "      <th>2757853</th>\n",
       "      <td>0</td>\n",
       "      <td>0.003682</td>\n",
       "    </tr>\n",
       "  </tbody>\n",
       "</table>\n",
       "</div>"
      ],
      "text/plain": [
       "            default  predictions\n",
       "Unnamed: 0                      \n",
       "21                0     0.069405\n",
       "2757816           0     0.060868\n",
       "2757825           0     0.007682\n",
       "2757832           0     0.002762\n",
       "2757853           0     0.003682"
      ]
     },
     "execution_count": 33,
     "metadata": {},
     "output_type": "execute_result"
    }
   ],
   "source": [
    "test_results.head()"
   ]
  },
  {
   "cell_type": "code",
   "execution_count": 34,
   "id": "553f3f09-94e8-4b0c-b6dd-baec9d8b4265",
   "metadata": {},
   "outputs": [
    {
     "data": {
      "text/plain": [
       "np.float64(0.8488916443372173)"
      ]
     },
     "execution_count": 34,
     "metadata": {},
     "output_type": "execute_result"
    }
   ],
   "source": [
    "metrics.roc_auc_score(y_score=test_results['predictions'], y_true=test_results['default'])"
   ]
  },
  {
   "cell_type": "code",
   "execution_count": 35,
   "id": "f60080e8-3e9e-4ee6-85ec-0cd7b4a02320",
   "metadata": {},
   "outputs": [
    {
     "name": "stdout",
     "output_type": "stream",
     "text": [
      "ROC AUC 0.8488916443372173\n"
     ]
    },
    {
     "data": {
      "text/plain": [
       "<sklearn.metrics._plot.roc_curve.RocCurveDisplay at 0x306b03230>"
      ]
     },
     "execution_count": 35,
     "metadata": {},
     "output_type": "execute_result"
    },
    {
     "data": {
      "image/png": "[encoded data removed]",
      "text/plain": [
       "<Figure size 640x480 with 1 Axes>"
      ]
     },
     "metadata": {},
     "output_type": "display_data"
    }
   ],
   "source": [
    "fpr, tpr, thresholds = metrics.roc_curve(test_results['default'], test_results['predictions'])\n",
    "roc_auc = metrics.auc(fpr, tpr)\n",
    "roc_display = metrics.RocCurveDisplay(fpr=fpr, tpr=tpr, roc_auc=roc_auc)\n",
    "print(f'ROC AUC {roc_auc}')\n",
    "roc_display.plot()"
   ]
  },
  {
   "cell_type": "code",
   "execution_count": 36,
   "id": "b7f77dc3-b272-4adc-8bc2-cd0ab5f5c072",
   "metadata": {},
   "outputs": [],
   "source": [
    "# train_data_proc.to_csv('train_processed_data_for_2012.csv', index=False)\n",
    "# test_data_proc.to_csv('test_processed_data_for_2012.csv', index=False)"
   ]
  },
  {
   "cell_type": "markdown",
   "id": "b60d49b6-0c07-4efa-8134-66b8370c44f7",
   "metadata": {},
   "source": [
    "## saving components for harness"
   ]
  },
  {
   "cell_type": "code",
   "execution_count": 40,
   "id": "267b7b2b-50c6-4a2a-a27d-bca71e8eddaa",
   "metadata": {},
   "outputs": [],
   "source": [
    "growth_features = [\n",
    "    'id',\n",
    "    'stmt_date',\n",
    "    'net_income',\n",
    "    'sales'\n",
    "]"
   ]
  },
  {
   "cell_type": "code",
   "execution_count": 41,
   "id": "608cc8e4-b39f-4c8a-becb-c99a0c038ff1",
   "metadata": {},
   "outputs": [
    {
     "data": {
      "text/html": [
       "<div>\n",
       "<style scoped>\n",
       "    .dataframe tbody tr th:only-of-type {\n",
       "        vertical-align: middle;\n",
       "    }\n",
       "\n",
       "    .dataframe tbody tr th {\n",
       "        vertical-align: top;\n",
       "    }\n",
       "\n",
       "    .dataframe thead th {\n",
       "        text-align: right;\n",
       "    }\n",
       "</style>\n",
       "<table border=\"1\" class=\"dataframe\">\n",
       "  <thead>\n",
       "    <tr style=\"text-align: right;\">\n",
       "      <th></th>\n",
       "      <th>id</th>\n",
       "      <th>stmt_date</th>\n",
       "      <th>net_income</th>\n",
       "      <th>sales</th>\n",
       "    </tr>\n",
       "    <tr>\n",
       "      <th>Unnamed: 0</th>\n",
       "      <th></th>\n",
       "      <th></th>\n",
       "      <th></th>\n",
       "      <th></th>\n",
       "    </tr>\n",
       "  </thead>\n",
       "  <tbody>\n",
       "    <tr>\n",
       "      <th>22</th>\n",
       "      <td>520288</td>\n",
       "      <td>2007-12-31</td>\n",
       "      <td>36733.0</td>\n",
       "      <td>2041155.0</td>\n",
       "    </tr>\n",
       "    <tr>\n",
       "      <th>18</th>\n",
       "      <td>520288</td>\n",
       "      <td>2008-12-31</td>\n",
       "      <td>-107382.0</td>\n",
       "      <td>967389.0</td>\n",
       "    </tr>\n",
       "    <tr>\n",
       "      <th>19</th>\n",
       "      <td>520288</td>\n",
       "      <td>2009-12-31</td>\n",
       "      <td>-77819.0</td>\n",
       "      <td>638687.0</td>\n",
       "    </tr>\n",
       "    <tr>\n",
       "      <th>23</th>\n",
       "      <td>520288</td>\n",
       "      <td>2010-12-31</td>\n",
       "      <td>-83593.0</td>\n",
       "      <td>564622.0</td>\n",
       "    </tr>\n",
       "    <tr>\n",
       "      <th>17</th>\n",
       "      <td>520288</td>\n",
       "      <td>2011-12-31</td>\n",
       "      <td>-81288.0</td>\n",
       "      <td>538081.0</td>\n",
       "    </tr>\n",
       "  </tbody>\n",
       "</table>\n",
       "</div>"
      ],
      "text/plain": [
       "                id  stmt_date  net_income      sales\n",
       "Unnamed: 0                                          \n",
       "22          520288 2007-12-31     36733.0  2041155.0\n",
       "18          520288 2008-12-31   -107382.0   967389.0\n",
       "19          520288 2009-12-31    -77819.0   638687.0\n",
       "23          520288 2010-12-31    -83593.0   564622.0\n",
       "17          520288 2011-12-31    -81288.0   538081.0"
      ]
     },
     "execution_count": 41,
     "metadata": {},
     "output_type": "execute_result"
    }
   ],
   "source": [
    "historical_growth = train_data_proc[growth_features]#.to_csv('historical_features.csv')\n",
    "historical_growth.head()"
   ]
  },
  {
   "cell_type": "code",
   "execution_count": 42,
   "id": "e67044e0-254c-4141-9adf-e91b575d56e3",
   "metadata": {},
   "outputs": [],
   "source": [
    "historical_growth.to_csv('historical_features.csv')"
   ]
  },
  {
   "cell_type": "code",
   "execution_count": 43,
   "id": "c205cfc7-7bc9-4b51-aebd-6ddd5a1b5895",
   "metadata": {
    "scrolled": true
   },
   "outputs": [],
   "source": [
    "with open('custom_bins.pkl', 'wb') as output:\n",
    "    pickle.dump(custom_bins, output)"
   ]
  },
  {
   "cell_type": "code",
   "execution_count": 44,
   "id": "e136f662-9a9d-49ee-89a6-180035bd73c2",
   "metadata": {},
   "outputs": [],
   "source": [
    "with open('preproc_params.pkl', 'wb') as output:\n",
    "    pickle.dump(preproc_params, output)"
   ]
  },
  {
   "cell_type": "code",
   "execution_count": 45,
   "id": "ace4d607-dac4-4af3-91c0-5ed1a5371e13",
   "metadata": {},
   "outputs": [],
   "source": [
    "with open('trained_model.pkl', 'wb') as output:\n",
    "    pickle.dump(model, output)"
   ]
  },
  {
   "cell_type": "code",
   "execution_count": null,
   "id": "f33af8ce-f0e7-4a92-bc16-dc8fb1bd171f",
   "metadata": {},
   "outputs": [],
   "source": []
  }
 ],
 "metadata": {
  "kernelspec": {
   "display_name": "Python 3 (ipykernel)",
   "language": "python",
   "name": "python3"
  },
  "language_info": {
   "codemirror_mode": {
    "name": "ipython",
    "version": 3
   },
   "file_extension": ".py",
   "mimetype": "text/x-python",
   "name": "python",
   "nbconvert_exporter": "python",
   "pygments_lexer": "ipython3",
   "version": "3.13.0"
  }
 },
 "nbformat": 4,
 "nbformat_minor": 5
}
