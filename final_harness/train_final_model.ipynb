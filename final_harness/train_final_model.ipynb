{
 "cells": [
  {
   "cell_type": "code",
   "execution_count": 1,
   "id": "1eff6324-7dea-4122-a2c8-e48de00fe14f",
   "metadata": {},
   "outputs": [],
   "source": [
    "import pandas as pd\n",
    "import numpy as np\n",
    "\n",
    "import pickle\n",
    "\n",
    "import matplotlib.pyplot as plt\n",
    "\n",
    "import statsmodels.api as sm\n",
    "import statsmodels.formula.api as smf\n",
    "\n",
    "from importlib import reload  # Python 3.4+\n",
    "\n",
    "from sklearn import metrics\n",
    "import seaborn as sns\n",
    "sns.set()\n",
    "\n",
    "from sklearn.calibration import CalibratedClassifierCV\n",
    "\n",
    "from IPython.display import clear_output, display"
   ]
  },
  {
   "cell_type": "code",
   "execution_count": 2,
   "id": "38f1c957-1cfa-4e51-bce8-bdde9c34f8b6",
   "metadata": {},
   "outputs": [
    {
     "data": {
      "text/plain": [
       "(837913, 43)"
      ]
     },
     "execution_count": 2,
     "metadata": {},
     "output_type": "execute_result"
    }
   ],
   "source": [
    "train_df = pd.read_csv('train_for_2012.csv',index_col=0)\n",
    "train_df.shape"
   ]
  },
  {
   "cell_type": "code",
   "execution_count": 3,
   "id": "ea89b540-5578-4f6f-8e10-6cc483d6fb41",
   "metadata": {},
   "outputs": [
    {
     "data": {
      "text/plain": [
       "(185639, 43)"
      ]
     },
     "execution_count": 3,
     "metadata": {},
     "output_type": "execute_result"
    }
   ],
   "source": [
    "test_df = pd.read_csv('test_for_2012.csv',index_col=0)\n",
    "test_df.shape"
   ]
  },
  {
   "cell_type": "code",
   "execution_count": 4,
   "id": "1462a855-804f-4309-9aa0-37f2a565dfe6",
   "metadata": {},
   "outputs": [],
   "source": [
    "# df['is_first_occurrence'] = (df['id'] != df['id'].shift()).astype(int)"
   ]
  },
  {
   "cell_type": "code",
   "execution_count": 5,
   "id": "cf14ffa3-39f6-4152-aa5e-d0ff617767d2",
   "metadata": {},
   "outputs": [],
   "source": [
    "# modeling_df = df[df['is_first_occurrence']==1].copy()\n",
    "# print(modeling_df.shape)\n",
    "# len(modeling_df)/len(df)"
   ]
  },
  {
   "cell_type": "code",
   "execution_count": 6,
   "id": "0b483136-afa0-4ca2-9291-0a69b78cc69f",
   "metadata": {},
   "outputs": [],
   "source": [
    "train_df['stmt_date'] = pd.to_datetime(train_df['stmt_date'])\n",
    "train_df['def_date'] = pd.to_datetime(train_df['def_date'], format=\"%d/%m/%Y\")\n",
    "train_df.sort_values('stmt_date', inplace=True)"
   ]
  },
  {
   "cell_type": "code",
   "execution_count": 7,
   "id": "feece20d-4986-410b-8036-94214855861d",
   "metadata": {},
   "outputs": [],
   "source": [
    "### we'll try dropping NA's for now\n",
    "train_df.sort_values('stmt_date', inplace=True)"
   ]
  },
  {
   "cell_type": "code",
   "execution_count": 8,
   "id": "b3e13e16-3cd7-4658-b173-02787ad68f9e",
   "metadata": {},
   "outputs": [],
   "source": [
    "test_df['stmt_date'] = pd.to_datetime(test_df['stmt_date'])\n",
    "test_df['def_date'] = pd.to_datetime(test_df['def_date'], format=\"%d/%m/%Y\")\n",
    "test_df.sort_values('stmt_date', inplace=True)"
   ]
  },
  {
   "cell_type": "markdown",
   "id": "a8539a41-b6c1-4546-82ed-011ea5d2be96",
   "metadata": {},
   "source": [
    "## Get preprocessing data ready"
   ]
  },
  {
   "cell_type": "code",
   "execution_count": 9,
   "id": "325b908f-51c6-44d3-9e96-f9f38e0024e0",
   "metadata": {},
   "outputs": [],
   "source": [
    "from preproc_functions import pre_process"
   ]
  },
  {
   "cell_type": "code",
   "execution_count": 10,
   "id": "57d4fe13-11e9-4af6-9dfd-0fae52b9b906",
   "metadata": {},
   "outputs": [],
   "source": [
    "with open('quantile_custom_bins.pkl', 'rb') as file:\n",
    "    custom_bins = pickle.load(file)"
   ]
  },
  {
   "cell_type": "code",
   "execution_count": 11,
   "id": "92b2bf71-1ba5-42c9-9c6a-17d0d000d829",
   "metadata": {},
   "outputs": [],
   "source": [
    "preproc_params = {\n",
    "    'quantile_bins' : {},\n",
    "    'quantile_values' : {}\n",
    "}"
   ]
  },
  {
   "cell_type": "code",
   "execution_count": 12,
   "id": "d823607c-20d7-42a0-b5c6-862a7dcc92d5",
   "metadata": {},
   "outputs": [
    {
     "name": "stdout",
     "output_type": "stream",
     "text": [
      "Custom bins for financial_leverage_quantile\n",
      "Custom bins for profitability_ratio_quantile\n"
     ]
    },
    {
     "name": "stderr",
     "output_type": "stream",
     "text": [
      "/Users/juanroalvarado/miniconda3/envs/horserace/lib/python3.13/site-packages/numpy/lib/_function_base_impl.py:4620: RuntimeWarning: invalid value encountered in subtract\n",
      "  diff_b_a = subtract(b, a)\n",
      "/Users/juanroalvarado/nyu/finance/ml-finance-credit-default/final_harness/preproc_functions.py:149: FutureWarning: A value is trying to be set on a copy of a DataFrame or Series through chained assignment using an inplace method.\n",
      "The behavior will change in pandas 3.0. This inplace method will never work because the intermediate object on which we are setting values always behaves as a copy.\n",
      "\n",
      "For example, when doing 'df[col].method(value, inplace=True)', try using 'df.method({col: value}, inplace=True)' or df[col] = df[col].method(value) instead, to perform the operation inplace on the original object.\n",
      "\n",
      "\n",
      "  df[growth_feature].fillna(0, inplace=True)\n"
     ]
    },
    {
     "name": "stdout",
     "output_type": "stream",
     "text": [
      "Custom bins for net_income_growth_quantile\n"
     ]
    },
    {
     "name": "stderr",
     "output_type": "stream",
     "text": [
      "/Users/juanroalvarado/nyu/finance/ml-finance-credit-default/final_harness/preproc_functions.py:149: FutureWarning: A value is trying to be set on a copy of a DataFrame or Series through chained assignment using an inplace method.\n",
      "The behavior will change in pandas 3.0. This inplace method will never work because the intermediate object on which we are setting values always behaves as a copy.\n",
      "\n",
      "For example, when doing 'df[col].method(value, inplace=True)', try using 'df.method({col: value}, inplace=True)' or df[col] = df[col].method(value) instead, to perform the operation inplace on the original object.\n",
      "\n",
      "\n",
      "  df[growth_feature].fillna(0, inplace=True)\n",
      "/Users/juanroalvarado/miniconda3/envs/horserace/lib/python3.13/site-packages/numpy/lib/_function_base_impl.py:4620: RuntimeWarning: invalid value encountered in subtract\n",
      "  diff_b_a = subtract(b, a)\n",
      "/Users/juanroalvarado/miniconda3/envs/horserace/lib/python3.13/site-packages/numpy/lib/_function_base_impl.py:4622: RuntimeWarning: invalid value encountered in multiply\n",
      "  lerp_interpolation = asanyarray(add(a, diff_b_a * t, out=out))\n"
     ]
    }
   ],
   "source": [
    "train_data_proc , preproc_params = pre_process(train_df, \n",
    "                                               custom_bins=custom_bins, \n",
    "                                               preproc_params = preproc_params,  \n",
    "                                               quantiles = 50, \n",
    "                                               days_until_statement = 150)"
   ]
  },
  {
   "cell_type": "code",
   "execution_count": 13,
   "id": "cb53b86c-5176-4848-a68a-f0babfddb59e",
   "metadata": {},
   "outputs": [
    {
     "name": "stdout",
     "output_type": "stream",
     "text": [
      "asst_tot_quantile\n",
      "financial_leverage_quantile\n",
      "profitability_ratio_quantile\n",
      "roe_quantile\n"
     ]
    },
    {
     "name": "stderr",
     "output_type": "stream",
     "text": [
      "/Users/juanroalvarado/nyu/finance/ml-finance-credit-default/final_harness/preproc_functions.py:171: FutureWarning: A value is trying to be set on a copy of a DataFrame or Series through chained assignment using an inplace method.\n",
      "The behavior will change in pandas 3.0. This inplace method will never work because the intermediate object on which we are setting values always behaves as a copy.\n",
      "\n",
      "For example, when doing 'df[col].method(value, inplace=True)', try using 'df.method({col: value}, inplace=True)' or df[col] = df[col].method(value) instead, to perform the operation inplace on the original object.\n",
      "\n",
      "\n",
      "  df[growth_feature_name].fillna(0, inplace=True)\n"
     ]
    },
    {
     "name": "stdout",
     "output_type": "stream",
     "text": [
      "net_income_growth_quantile\n",
      "quick_ratio_v2_quantile\n"
     ]
    },
    {
     "name": "stderr",
     "output_type": "stream",
     "text": [
      "/Users/juanroalvarado/nyu/finance/ml-finance-credit-default/final_harness/preproc_functions.py:171: FutureWarning: A value is trying to be set on a copy of a DataFrame or Series through chained assignment using an inplace method.\n",
      "The behavior will change in pandas 3.0. This inplace method will never work because the intermediate object on which we are setting values always behaves as a copy.\n",
      "\n",
      "For example, when doing 'df[col].method(value, inplace=True)', try using 'df.method({col: value}, inplace=True)' or df[col] = df[col].method(value) instead, to perform the operation inplace on the original object.\n",
      "\n",
      "\n",
      "  df[growth_feature_name].fillna(0, inplace=True)\n"
     ]
    },
    {
     "name": "stdout",
     "output_type": "stream",
     "text": [
      "sales_growth_quantile\n",
      "cash_assets_ratio_quantile\n",
      "dscr_quantile\n",
      "cfo_quantile\n"
     ]
    }
   ],
   "source": [
    "test_data_proc , preproc_params = pre_process(test_df, \n",
    "                                             historical_df=train_data_proc, \n",
    "                                             new=False, \n",
    "                                             preproc_params = preproc_params,  \n",
    "                                             quantiles = 50, \n",
    "                                             days_until_statement = 150)"
   ]
  },
  {
   "cell_type": "code",
   "execution_count": 15,
   "id": "10d8e77f-b13d-4ddd-ab58-053b0b8d4b79",
   "metadata": {},
   "outputs": [
    {
     "data": {
      "text/plain": [
       "Index(['id', 'stmt_date', 'HQ_city', 'legal_struct', 'ateco_sector',\n",
       "       'def_date', 'fs_year', 'asst_intang_fixed', 'asst_tang_fixed',\n",
       "       'asst_fixed_fin', 'asst_current', 'AR', 'cash_and_equiv', 'asst_tot',\n",
       "       'eqty_tot', 'eqty_corp_family_tot', 'liab_lt', 'liab_lt_emp',\n",
       "       'debt_bank_st', 'debt_bank_lt', 'debt_fin_st', 'debt_fin_lt', 'AP_st',\n",
       "       'AP_lt', 'debt_st', 'debt_lt', 'rev_operating', 'COGS',\n",
       "       'prof_operations', 'goodwill', 'inc_financing', 'exp_financing',\n",
       "       'prof_financing', 'inc_extraord', 'taxes', 'profit', 'days_rec',\n",
       "       'ebitda', 'roa', 'roe', 'wc_net', 'margin_fin', 'cf_operations',\n",
       "       'default', 'asst_tot_quantile', 'asst_tot_quantile_values', 'liab_tot',\n",
       "       'financial_leverage', 'financial_leverage_quantile',\n",
       "       'financial_leverage_quantile_values', 'profitability_ratio',\n",
       "       'profitability_ratio_quantile', 'profitability_ratio_quantile_values',\n",
       "       'roe_quantile', 'roe_quantile_values', 'net_income',\n",
       "       'net_income_growth', 'is_first_occurrence',\n",
       "       'net_income_growth_quantile', 'net_income_growth_quantile_values',\n",
       "       'quick_ratio_v2', 'quick_ratio_v2_quantile',\n",
       "       'quick_ratio_v2_quantile_values', 'sales', 'sales_growth',\n",
       "       'sales_growth_quantile', 'sales_growth_quantile_values',\n",
       "       'cash_assets_ratio', 'cash_assets_ratio_quantile',\n",
       "       'cash_assets_ratio_quantile_values', 'dscr', 'dscr_quantile',\n",
       "       'dscr_quantile_values', 'sector_group', 'ateco_sector_pd',\n",
       "       'sector_group_pd', 'regional_code', 'regional_code_pd', 'liab_st',\n",
       "       'cfo', 'cfo_quantile', 'cfo_quantile_values', 'legal_struct_pd'],\n",
       "      dtype='object')"
      ]
     },
     "execution_count": 15,
     "metadata": {},
     "output_type": "execute_result"
    }
   ],
   "source": [
    "test_data_proc.columns#.tail(10)"
   ]
  },
  {
   "cell_type": "markdown",
   "id": "141a3163-6c6b-4aa2-9fbe-9863846c310d",
   "metadata": {},
   "source": [
    "## Train algorithm"
   ]
  },
  {
   "cell_type": "code",
   "execution_count": 73,
   "id": "e8583e1d-412b-4b3e-b778-3b90365f44c3",
   "metadata": {},
   "outputs": [],
   "source": [
    "### features for first firm\n",
    "first_features = [\n",
    "    # 'asst_tot_quantile_values', ####\n",
    "    'financial_leverage_quantile_values',\n",
    "    'profitability_ratio_quantile_values',\n",
    "    # 'net_income_growth_quantile_values',\n",
    "    'quick_ratio_v2_quantile_values',\n",
    "    # 'sales_growth_quantile_values',\n",
    "    # 'cash_assets_ratio_quantile_values', ####\n",
    "    'dscr_quantile_values',\n",
    "    'roe_quantile_values',\n",
    "    'cfo_quantile_values',\n",
    "    # 'ebitda',\n",
    "    # 'ateco_sector_pd',\n",
    "    # 'sector_group_pd', ####\n",
    "    # 'legal_struct_pd',\n",
    "    'regional_code_pd' ####\n",
    "]\n"
   ]
  },
  {
   "cell_type": "code",
   "execution_count": 74,
   "id": "f3d9a494-7c0b-42e2-bfb9-3143f6e69f70",
   "metadata": {},
   "outputs": [],
   "source": [
    "### features for recurring firms\n",
    "rec_features = [\n",
    "    # 'asst_tot_quantile_values', ###\n",
    "    'financial_leverage_quantile_values',\n",
    "    'profitability_ratio_quantile_values',\n",
    "    'net_income_growth_quantile_values',\n",
    "    'quick_ratio_v2_quantile_values',\n",
    "    'sales_growth_quantile_values',\n",
    "    # 'cash_assets_ratio_quantile_values',###\n",
    "    'dscr_quantile_values',\n",
    "    'roe_quantile_values',\n",
    "    'cfo_quantile_values',\n",
    "    # 'ebitda', ###\n",
    "    # 'ateco_sector_pd',###\n",
    "    # 'sector_group_pd',###\n",
    "    # 'legal_struct_pd',###\n",
    "    'regional_code_pd'\n",
    "\n",
    "]"
   ]
  },
  {
   "cell_type": "code",
   "execution_count": 75,
   "id": "bfa0b0f0-62be-4d1f-820c-fae1fee4bd20",
   "metadata": {},
   "outputs": [
    {
     "data": {
      "text/plain": [
       "financial_leverage_quantile_values     0\n",
       "profitability_ratio_quantile_values    0\n",
       "net_income_growth_quantile_values      0\n",
       "quick_ratio_v2_quantile_values         0\n",
       "sales_growth_quantile_values           0\n",
       "dscr_quantile_values                   0\n",
       "roe_quantile_values                    0\n",
       "cfo_quantile_values                    0\n",
       "regional_code_pd                       0\n",
       "dtype: int64"
      ]
     },
     "execution_count": 75,
     "metadata": {},
     "output_type": "execute_result"
    }
   ],
   "source": [
    "train_data_proc[rec_features].isna().sum()"
   ]
  },
  {
   "cell_type": "code",
   "execution_count": null,
   "id": "dff898ee-581e-40b4-81f8-cce6b8591c5c",
   "metadata": {},
   "outputs": [],
   "source": []
  },
  {
   "cell_type": "code",
   "execution_count": 76,
   "id": "60203c6d-fb66-4cfc-a67b-f0bb5925df8c",
   "metadata": {},
   "outputs": [
    {
     "data": {
      "image/png": "[encoded data removed]",
      "text/plain": [
       "<Figure size 1000x800 with 2 Axes>"
      ]
     },
     "metadata": {},
     "output_type": "display_data"
    }
   ],
   "source": [
    "# Compute the correlation matrix\n",
    "corr = train_data_proc[train_data_proc['is_first_occurrence']==0][rec_features].corr()\n",
    "\n",
    "# Set up the matplotlib figure\n",
    "plt.figure(figsize=(10, 8))\n",
    "\n",
    "# Generate a custom diverging colormap\n",
    "cmap = sns.diverging_palette(230, 20, as_cmap=True)\n",
    "\n",
    "# Create the heatmap with annotations\n",
    "ax = sns.heatmap(corr, annot=True, fmt=\".2f\", cmap=cmap, center=0,\n",
    "            square=True, linewidths=0.5, cbar_kws={\"shrink\": 0.8})\n",
    "\n",
    "# Set title and display the plot\n",
    "plt.title(\"Correlation Matrix\", fontsize=16)\n",
    "ticks = [i.split('_quantile_values')[0] for i in corr.index]\n",
    "ax.set_xticklabels(ticks, rotation=45, ha='right')\n",
    "ax.set_yticklabels(ticks, rotation=0, va='center')\n",
    "\n",
    "# plt.xticks(rotation0)\n",
    "plt.show()\n"
   ]
  },
  {
   "cell_type": "code",
   "execution_count": 77,
   "id": "3c340929-c324-401e-bc3d-7438932f88b7",
   "metadata": {},
   "outputs": [],
   "source": [
    " from statsmodels.stats.outliers_influence import variance_inflation_factor"
   ]
  },
  {
   "cell_type": "code",
   "execution_count": 78,
   "id": "c4f1dca0-330f-4672-8416-eeb15e24bc01",
   "metadata": {},
   "outputs": [
    {
     "name": "stdout",
     "output_type": "stream",
     "text": [
      "                               feature       VIF\n",
      "0   financial_leverage_quantile_values  1.823451\n",
      "1  profitability_ratio_quantile_values  2.956553\n",
      "2    net_income_growth_quantile_values  2.392645\n",
      "3       quick_ratio_v2_quantile_values  6.391628\n",
      "4         sales_growth_quantile_values  3.712859\n",
      "5                 dscr_quantile_values  3.036103\n",
      "6                  roe_quantile_values  2.204549\n",
      "7                  cfo_quantile_values  3.490608\n",
      "8                     regional_code_pd  7.927132\n"
     ]
    }
   ],
   "source": [
    "\n",
    "# VIF dataframe\n",
    "vif_data = pd.DataFrame()\n",
    "vif_data[\"feature\"] = train_data_proc[rec_features].columns\n",
    "\n",
    "# calculating VIF for each feature\n",
    "vif_data[\"VIF\"] = [variance_inflation_factor(train_data_proc[train_data_proc['is_first_occurrence']==0][rec_features].values, i)\n",
    "                          for i in range(len(train_data_proc[train_data_proc['is_first_occurrence']==0][rec_features].columns))]\n",
    "\n",
    "print(vif_data)"
   ]
  },
  {
   "cell_type": "code",
   "execution_count": 79,
   "id": "504dfc03-39e2-49fb-bb94-ed9055b92f91",
   "metadata": {},
   "outputs": [
    {
     "name": "stdout",
     "output_type": "stream",
     "text": [
      "                               feature       VIF\n",
      "0   financial_leverage_quantile_values  1.880187\n",
      "1  profitability_ratio_quantile_values  2.729893\n",
      "2       quick_ratio_v2_quantile_values  6.699677\n",
      "3                 dscr_quantile_values  2.692984\n",
      "4                  roe_quantile_values  1.922172\n",
      "5                  cfo_quantile_values  3.369052\n",
      "6                     regional_code_pd  6.897326\n"
     ]
    }
   ],
   "source": [
    "\n",
    "# VIF dataframe\n",
    "vif_data = pd.DataFrame()\n",
    "vif_data[\"feature\"] = train_data_proc[first_features].columns\n",
    "\n",
    "# calculating VIF for each feature\n",
    "vif_data[\"VIF\"] = [variance_inflation_factor(train_data_proc[train_data_proc['is_first_occurrence']==1][first_features].values, i)\n",
    "                          for i in range(len(train_data_proc[train_data_proc['is_first_occurrence']==1][first_features].columns))]\n",
    "\n",
    "print(vif_data)"
   ]
  },
  {
   "cell_type": "code",
   "execution_count": 80,
   "id": "4aa5a597-96e8-469e-af7f-3058d6a3be93",
   "metadata": {},
   "outputs": [
    {
     "data": {
      "text/plain": [
       "'default ~ financial_leverage_quantile_values + profitability_ratio_quantile_values + quick_ratio_v2_quantile_values + dscr_quantile_values + roe_quantile_values + cfo_quantile_values + regional_code_pd'"
      ]
     },
     "execution_count": 80,
     "metadata": {},
     "output_type": "execute_result"
    }
   ],
   "source": [
    "first_formula = 'default ~ '+' + '.join(first_features)\n",
    "first_formula"
   ]
  },
  {
   "cell_type": "code",
   "execution_count": 81,
   "id": "d077d95b-3b02-4671-9b23-cc04465da36f",
   "metadata": {},
   "outputs": [
    {
     "data": {
      "text/plain": [
       "'default ~ financial_leverage_quantile_values + profitability_ratio_quantile_values + net_income_growth_quantile_values + quick_ratio_v2_quantile_values + sales_growth_quantile_values + dscr_quantile_values + roe_quantile_values + cfo_quantile_values + regional_code_pd'"
      ]
     },
     "execution_count": 81,
     "metadata": {},
     "output_type": "execute_result"
    }
   ],
   "source": [
    "rec_formula = 'default ~ '+' + '.join(rec_features)\n",
    "rec_formula"
   ]
  },
  {
   "cell_type": "code",
   "execution_count": 82,
   "id": "f00fcf6f-e02b-4ac0-bf19-f08bf38b5f3c",
   "metadata": {},
   "outputs": [],
   "source": [
    "class SplitModel():\n",
    "    def __init__(self, algo):\n",
    "        self.first_formula = 'default ~ '+' + '.join(first_features)\n",
    "        self.rec_formula = 'default ~ '+' + '.join(rec_features)\n",
    "\n",
    "        self.algo = algo\n",
    "    \n",
    "    def train(self, data):\n",
    "        \n",
    "        rec_data = data[data['is_first_occurrence']==0]\n",
    "        first_data = data[data['is_first_occurrence']==1]\n",
    "        \n",
    "        self.first_model = self.algo(self.first_formula, data = first_data)\n",
    "        self.first_fitted_model = self.first_model.fit()\n",
    "\n",
    "        self.rec_model = self.algo(self.rec_formula, data = rec_data)\n",
    "        self.rec_fitted_model = self.rec_model.fit()\n",
    "        print(\"models fit\")\n",
    "\n",
    "    def predict(self, data):\n",
    "        rec_data = data[data['is_first_occurrence']==0]\n",
    "        first_data = data[data['is_first_occurrence']==1]\n",
    "        print('rec data length',len(rec_data))\n",
    "        print('first data length',len(first_data))\n",
    "        \n",
    "        rec_preds = self.rec_fitted_model.predict(rec_data)\n",
    "        rec_preds = rec_preds.reindex(rec_data.index)\n",
    "        \n",
    "        first_preds = self.first_fitted_model.predict(first_data)\n",
    "        first_preds = first_preds.reindex(first_data.index)\n",
    "\n",
    "        predictions = pd.concat([rec_preds,first_preds]).reindex(data.index)\n",
    "        \n",
    "        return predictions\n",
    "\n",
    "    def summary(self):\n",
    "        print('~~~~~ First Time First Model ~~~~~~')\n",
    "        print(self.first_fitted_model.summary())\n",
    "        print(self.first_fitted_model.get_margeff().summary())\n",
    "        print('\\n')\n",
    "        print('~~~~~ Recurring First Model ~~~~~~')\n",
    "        print(self.rec_fitted_model.summary())\n",
    "        print(self.rec_fitted_model.get_margeff().summary())\n",
    "        print('\\n')\n",
    "        "
   ]
  },
  {
   "cell_type": "code",
   "execution_count": 83,
   "id": "a8486ba2-f0bc-4d38-8041-e8f7451c1263",
   "metadata": {},
   "outputs": [
    {
     "data": {
      "text/plain": [
       "(837913, 83)"
      ]
     },
     "execution_count": 83,
     "metadata": {},
     "output_type": "execute_result"
    }
   ],
   "source": [
    "train_data_proc.shape"
   ]
  },
  {
   "cell_type": "code",
   "execution_count": 84,
   "id": "b285999c-2bcb-4733-9f84-2ed62c6f8583",
   "metadata": {},
   "outputs": [
    {
     "data": {
      "text/plain": [
       "(185639, 83)"
      ]
     },
     "execution_count": 84,
     "metadata": {},
     "output_type": "execute_result"
    }
   ],
   "source": [
    "test_data_proc.shape"
   ]
  },
  {
   "cell_type": "code",
   "execution_count": 99,
   "id": "46c506b3-f8cd-471d-99da-4256eae83967",
   "metadata": {},
   "outputs": [],
   "source": [
    "model = SplitModel(algo=smf.probit)"
   ]
  },
  {
   "cell_type": "code",
   "execution_count": 100,
   "id": "70d09a91-daf6-4b1b-baf4-57befd884c75",
   "metadata": {},
   "outputs": [
    {
     "name": "stdout",
     "output_type": "stream",
     "text": [
      "Optimization terminated successfully.\n",
      "         Current function value: 0.050370\n",
      "         Iterations 9\n",
      "Optimization terminated successfully.\n",
      "         Current function value: 0.062840\n",
      "         Iterations 9\n",
      "models fit\n"
     ]
    }
   ],
   "source": [
    "model.train(train_data_proc)"
   ]
  },
  {
   "cell_type": "code",
   "execution_count": 101,
   "id": "a95d7afb-f828-47b0-80ec-d551ed7691b6",
   "metadata": {},
   "outputs": [
    {
     "name": "stdout",
     "output_type": "stream",
     "text": [
      "rec data length 612920\n",
      "first data length 224993\n"
     ]
    }
   ],
   "source": [
    "preds = model.predict(train_data_proc)"
   ]
  },
  {
   "cell_type": "code",
   "execution_count": 102,
   "id": "96d98075-d3ed-47e2-908d-defeeea27e23",
   "metadata": {},
   "outputs": [
    {
     "data": {
      "text/plain": [
       "Unnamed: 0\n",
       "22         0.008117\n",
       "18         0.048828\n",
       "19         0.053491\n",
       "23         0.007954\n",
       "17         0.007661\n",
       "             ...   \n",
       "4437676    0.008795\n",
       "4437705    0.004192\n",
       "4437703    0.031861\n",
       "4437709    0.003937\n",
       "4437706    0.006013\n",
       "Length: 837913, dtype: float64"
      ]
     },
     "execution_count": 102,
     "metadata": {},
     "output_type": "execute_result"
    }
   ],
   "source": [
    "preds"
   ]
  },
  {
   "cell_type": "markdown",
   "id": "30d54067-d349-46a9-bd11-7fc9d2b76b85",
   "metadata": {},
   "source": [
    "### Model results"
   ]
  },
  {
   "cell_type": "code",
   "execution_count": 103,
   "id": "c1f2a21b-c05f-4f8a-b6c6-a9756bd4330a",
   "metadata": {},
   "outputs": [
    {
     "name": "stdout",
     "output_type": "stream",
     "text": [
      "~~~~~ First Time First Model ~~~~~~\n",
      "                          Probit Regression Results                           \n",
      "==============================================================================\n",
      "Dep. Variable:                default   No. Observations:               224993\n",
      "Model:                         Probit   Df Residuals:                   224985\n",
      "Method:                           MLE   Df Model:                            7\n",
      "Date:                Thu, 14 Nov 2024   Pseudo R-squ.:                  0.1119\n",
      "Time:                        13:06:42   Log-Likelihood:                -11333.\n",
      "converged:                       True   LL-Null:                       -12761.\n",
      "Covariance Type:            nonrobust   LLR p-value:                     0.000\n",
      "=======================================================================================================\n",
      "                                          coef    std err          z      P>|z|      [0.025      0.975]\n",
      "-------------------------------------------------------------------------------------------------------\n",
      "Intercept                              -3.1493      0.051    -62.249      0.000      -3.248      -3.050\n",
      "financial_leverage_quantile_values      2.5530      0.193     13.234      0.000       2.175       2.931\n",
      "profitability_ratio_quantile_values     2.4563      0.270      9.106      0.000       1.928       2.985\n",
      "quick_ratio_v2_quantile_values         12.8870      1.627      7.922      0.000       9.699      16.075\n",
      "dscr_quantile_values                    3.2748      0.560      5.852      0.000       2.178       4.372\n",
      "roe_quantile_values                     4.4456      0.324     13.726      0.000       3.811       5.080\n",
      "cfo_quantile_values                     3.8014      0.537      7.077      0.000       2.749       4.854\n",
      "regional_code_pd                       23.0551      3.117      7.397      0.000      16.946      29.164\n",
      "=======================================================================================================\n",
      "       Probit Marginal Effects       \n",
      "=====================================\n",
      "Dep. Variable:                default\n",
      "Method:                          dydx\n",
      "At:                           overall\n",
      "=======================================================================================================\n",
      "                                         dy/dx    std err          z      P>|z|      [0.025      0.975]\n",
      "-------------------------------------------------------------------------------------------------------\n",
      "financial_leverage_quantile_values      0.0619      0.005     13.027      0.000       0.053       0.071\n",
      "profitability_ratio_quantile_values     0.0596      0.007      9.039      0.000       0.047       0.072\n",
      "quick_ratio_v2_quantile_values          0.3125      0.040      7.848      0.000       0.234       0.391\n",
      "dscr_quantile_values                    0.0794      0.014      5.820      0.000       0.053       0.106\n",
      "roe_quantile_values                     0.1078      0.008     13.355      0.000       0.092       0.124\n",
      "cfo_quantile_values                     0.0922      0.013      7.021      0.000       0.066       0.118\n",
      "regional_code_pd                        0.5591      0.076      7.339      0.000       0.410       0.708\n",
      "=======================================================================================================\n",
      "\n",
      "\n",
      "~~~~~ Recurring First Model ~~~~~~\n",
      "                          Probit Regression Results                           \n",
      "==============================================================================\n",
      "Dep. Variable:                default   No. Observations:               612920\n",
      "Model:                         Probit   Df Residuals:                   612910\n",
      "Method:                           MLE   Df Model:                            9\n",
      "Date:                Thu, 14 Nov 2024   Pseudo R-squ.:                  0.1854\n",
      "Time:                        13:06:43   Log-Likelihood:                -38516.\n",
      "converged:                       True   LL-Null:                       -47280.\n",
      "Covariance Type:            nonrobust   LLR p-value:                     0.000\n",
      "=======================================================================================================\n",
      "                                          coef    std err          z      P>|z|      [0.025      0.975]\n",
      "-------------------------------------------------------------------------------------------------------\n",
      "Intercept                              -3.4097      0.029   -117.105      0.000      -3.467      -3.353\n",
      "financial_leverage_quantile_values      2.2795      0.094     24.143      0.000       2.094       2.465\n",
      "profitability_ratio_quantile_values     1.7594      0.126     13.911      0.000       1.511       2.007\n",
      "net_income_growth_quantile_values       2.6903      0.216     12.440      0.000       2.266       3.114\n",
      "quick_ratio_v2_quantile_values         16.1108      0.885     18.201      0.000      14.376      17.846\n",
      "sales_growth_quantile_values            8.9994      0.443     20.331      0.000       8.132       9.867\n",
      "dscr_quantile_values                    5.5263      0.293     18.853      0.000       4.952       6.101\n",
      "roe_quantile_values                     6.1811      0.187     33.054      0.000       5.815       6.548\n",
      "cfo_quantile_values                     3.1839      0.264     12.047      0.000       2.666       3.702\n",
      "regional_code_pd                       28.2557      1.756     16.093      0.000      24.815      31.697\n",
      "=======================================================================================================\n",
      "       Probit Marginal Effects       \n",
      "=====================================\n",
      "Dep. Variable:                default\n",
      "Method:                          dydx\n",
      "At:                           overall\n",
      "=======================================================================================================\n",
      "                                         dy/dx    std err          z      P>|z|      [0.025      0.975]\n",
      "-------------------------------------------------------------------------------------------------------\n",
      "financial_leverage_quantile_values      0.0707      0.003     23.947      0.000       0.065       0.076\n",
      "profitability_ratio_quantile_values     0.0545      0.004     13.879      0.000       0.047       0.062\n",
      "net_income_growth_quantile_values       0.0834      0.007     12.395      0.000       0.070       0.097\n",
      "quick_ratio_v2_quantile_values          0.4994      0.028     17.991      0.000       0.445       0.554\n",
      "sales_growth_quantile_values            0.2790      0.014     20.052      0.000       0.252       0.306\n",
      "dscr_quantile_values                    0.1713      0.009     18.625      0.000       0.153       0.189\n",
      "roe_quantile_values                     0.1916      0.006     31.899      0.000       0.180       0.203\n",
      "cfo_quantile_values                     0.0987      0.008     11.977      0.000       0.083       0.115\n",
      "regional_code_pd                        0.8759      0.055     15.966      0.000       0.768       0.983\n",
      "=======================================================================================================\n",
      "\n",
      "\n"
     ]
    }
   ],
   "source": [
    "model.summary()"
   ]
  },
  {
   "cell_type": "code",
   "execution_count": 104,
   "id": "0a9ac77e-4820-48d9-8f35-89b6e5792576",
   "metadata": {},
   "outputs": [],
   "source": [
    "# train_data_proc.to_csv('train_processed_data_for_2012.csv')\n",
    "# test_data_proc.to_csv('test_processed_data_for_2012.csv')"
   ]
  },
  {
   "cell_type": "markdown",
   "id": "f9f91e1f-3151-44ef-842f-466533408e1d",
   "metadata": {},
   "source": [
    "## Process test data"
   ]
  },
  {
   "cell_type": "code",
   "execution_count": 105,
   "id": "caed3c7f-d898-4540-97ed-fcf8eb23f959",
   "metadata": {},
   "outputs": [
    {
     "name": "stdout",
     "output_type": "stream",
     "text": [
      "rec data length 172921\n",
      "first data length 12718\n"
     ]
    }
   ],
   "source": [
    "test_predictions = model.predict(test_data_proc)"
   ]
  },
  {
   "cell_type": "code",
   "execution_count": 106,
   "id": "64417597-5aca-4109-a235-801dd19a296e",
   "metadata": {},
   "outputs": [],
   "source": [
    "test_results = test_data_proc[['default']].copy()\n",
    "test_results['predictions'] = test_predictions"
   ]
  },
  {
   "cell_type": "code",
   "execution_count": 107,
   "id": "4311f23a-b7d0-4ccb-9f43-abad57886b5d",
   "metadata": {},
   "outputs": [
    {
     "data": {
      "text/html": [
       "<div>\n",
       "<style scoped>\n",
       "    .dataframe tbody tr th:only-of-type {\n",
       "        vertical-align: middle;\n",
       "    }\n",
       "\n",
       "    .dataframe tbody tr th {\n",
       "        vertical-align: top;\n",
       "    }\n",
       "\n",
       "    .dataframe thead th {\n",
       "        text-align: right;\n",
       "    }\n",
       "</style>\n",
       "<table border=\"1\" class=\"dataframe\">\n",
       "  <thead>\n",
       "    <tr style=\"text-align: right;\">\n",
       "      <th></th>\n",
       "      <th>default</th>\n",
       "      <th>predictions</th>\n",
       "    </tr>\n",
       "    <tr>\n",
       "      <th>Unnamed: 0</th>\n",
       "      <th></th>\n",
       "      <th></th>\n",
       "    </tr>\n",
       "  </thead>\n",
       "  <tbody>\n",
       "    <tr>\n",
       "      <th>21</th>\n",
       "      <td>0</td>\n",
       "      <td>0.069132</td>\n",
       "    </tr>\n",
       "    <tr>\n",
       "      <th>2757816</th>\n",
       "      <td>0</td>\n",
       "      <td>0.074200</td>\n",
       "    </tr>\n",
       "    <tr>\n",
       "      <th>2757825</th>\n",
       "      <td>0</td>\n",
       "      <td>0.007069</td>\n",
       "    </tr>\n",
       "    <tr>\n",
       "      <th>2757832</th>\n",
       "      <td>0</td>\n",
       "      <td>0.001861</td>\n",
       "    </tr>\n",
       "    <tr>\n",
       "      <th>2757853</th>\n",
       "      <td>0</td>\n",
       "      <td>0.002758</td>\n",
       "    </tr>\n",
       "  </tbody>\n",
       "</table>\n",
       "</div>"
      ],
      "text/plain": [
       "            default  predictions\n",
       "Unnamed: 0                      \n",
       "21                0     0.069132\n",
       "2757816           0     0.074200\n",
       "2757825           0     0.007069\n",
       "2757832           0     0.001861\n",
       "2757853           0     0.002758"
      ]
     },
     "execution_count": 107,
     "metadata": {},
     "output_type": "execute_result"
    }
   ],
   "source": [
    "test_results.head()"
   ]
  },
  {
   "cell_type": "code",
   "execution_count": 108,
   "id": "553f3f09-94e8-4b0c-b6dd-baec9d8b4265",
   "metadata": {},
   "outputs": [
    {
     "data": {
      "text/plain": [
       "np.float64(0.8520403815037432)"
      ]
     },
     "execution_count": 108,
     "metadata": {},
     "output_type": "execute_result"
    }
   ],
   "source": [
    "metrics.roc_auc_score(y_score=test_results['predictions'], y_true=test_results['default'])"
   ]
  },
  {
   "cell_type": "code",
   "execution_count": 109,
   "id": "f60080e8-3e9e-4ee6-85ec-0cd7b4a02320",
   "metadata": {},
   "outputs": [
    {
     "name": "stdout",
     "output_type": "stream",
     "text": [
      "ROC AUC 0.8520403815037432\n"
     ]
    },
    {
     "data": {
      "text/plain": [
       "<sklearn.metrics._plot.roc_curve.RocCurveDisplay at 0x2a1092210>"
      ]
     },
     "execution_count": 109,
     "metadata": {},
     "output_type": "execute_result"
    },
    {
     "data": {
      "image/png": "[encoded data removed]",
      "text/plain": [
       "<Figure size 640x480 with 1 Axes>"
      ]
     },
     "metadata": {},
     "output_type": "display_data"
    }
   ],
   "source": [
    "fpr, tpr, thresholds = metrics.roc_curve(test_results['default'], test_results['predictions'])\n",
    "roc_auc = metrics.auc(fpr, tpr)\n",
    "roc_display = metrics.RocCurveDisplay(fpr=fpr, tpr=tpr, roc_auc=roc_auc)\n",
    "print(f'ROC AUC {roc_auc}')\n",
    "roc_display.plot()"
   ]
  },
  {
   "cell_type": "code",
   "execution_count": 110,
   "id": "b7f77dc3-b272-4adc-8bc2-cd0ab5f5c072",
   "metadata": {},
   "outputs": [],
   "source": [
    "# train_data_proc.to_csv('train_processed_data_for_2012.csv', index=False)\n",
    "# test_data_proc.to_csv('test_processed_data_for_2012.csv', index=False)"
   ]
  },
  {
   "cell_type": "markdown",
   "id": "b60d49b6-0c07-4efa-8134-66b8370c44f7",
   "metadata": {},
   "source": [
    "## saving components for harness"
   ]
  },
  {
   "cell_type": "code",
   "execution_count": 111,
   "id": "267b7b2b-50c6-4a2a-a27d-bca71e8eddaa",
   "metadata": {},
   "outputs": [],
   "source": [
    "growth_features = [\n",
    "    'id',\n",
    "    'stmt_date',\n",
    "    'net_income',\n",
    "    'sales'\n",
    "]"
   ]
  },
  {
   "cell_type": "code",
   "execution_count": 112,
   "id": "608cc8e4-b39f-4c8a-becb-c99a0c038ff1",
   "metadata": {},
   "outputs": [
    {
     "data": {
      "text/html": [
       "<div>\n",
       "<style scoped>\n",
       "    .dataframe tbody tr th:only-of-type {\n",
       "        vertical-align: middle;\n",
       "    }\n",
       "\n",
       "    .dataframe tbody tr th {\n",
       "        vertical-align: top;\n",
       "    }\n",
       "\n",
       "    .dataframe thead th {\n",
       "        text-align: right;\n",
       "    }\n",
       "</style>\n",
       "<table border=\"1\" class=\"dataframe\">\n",
       "  <thead>\n",
       "    <tr style=\"text-align: right;\">\n",
       "      <th></th>\n",
       "      <th>id</th>\n",
       "      <th>stmt_date</th>\n",
       "      <th>net_income</th>\n",
       "      <th>sales</th>\n",
       "    </tr>\n",
       "    <tr>\n",
       "      <th>Unnamed: 0</th>\n",
       "      <th></th>\n",
       "      <th></th>\n",
       "      <th></th>\n",
       "      <th></th>\n",
       "    </tr>\n",
       "  </thead>\n",
       "  <tbody>\n",
       "    <tr>\n",
       "      <th>22</th>\n",
       "      <td>520288</td>\n",
       "      <td>2007-12-31</td>\n",
       "      <td>36733.0</td>\n",
       "      <td>2041155.0</td>\n",
       "    </tr>\n",
       "    <tr>\n",
       "      <th>18</th>\n",
       "      <td>520288</td>\n",
       "      <td>2008-12-31</td>\n",
       "      <td>-107382.0</td>\n",
       "      <td>967389.0</td>\n",
       "    </tr>\n",
       "    <tr>\n",
       "      <th>19</th>\n",
       "      <td>520288</td>\n",
       "      <td>2009-12-31</td>\n",
       "      <td>-77819.0</td>\n",
       "      <td>638687.0</td>\n",
       "    </tr>\n",
       "    <tr>\n",
       "      <th>23</th>\n",
       "      <td>520288</td>\n",
       "      <td>2010-12-31</td>\n",
       "      <td>-83593.0</td>\n",
       "      <td>564622.0</td>\n",
       "    </tr>\n",
       "    <tr>\n",
       "      <th>17</th>\n",
       "      <td>520288</td>\n",
       "      <td>2011-12-31</td>\n",
       "      <td>-81288.0</td>\n",
       "      <td>538081.0</td>\n",
       "    </tr>\n",
       "  </tbody>\n",
       "</table>\n",
       "</div>"
      ],
      "text/plain": [
       "                id  stmt_date  net_income      sales\n",
       "Unnamed: 0                                          \n",
       "22          520288 2007-12-31     36733.0  2041155.0\n",
       "18          520288 2008-12-31   -107382.0   967389.0\n",
       "19          520288 2009-12-31    -77819.0   638687.0\n",
       "23          520288 2010-12-31    -83593.0   564622.0\n",
       "17          520288 2011-12-31    -81288.0   538081.0"
      ]
     },
     "execution_count": 112,
     "metadata": {},
     "output_type": "execute_result"
    }
   ],
   "source": [
    "historical_growth = train_data_proc[growth_features]#.to_csv('historical_features.csv')\n",
    "historical_growth.head()"
   ]
  },
  {
   "cell_type": "code",
   "execution_count": 42,
   "id": "e67044e0-254c-4141-9adf-e91b575d56e3",
   "metadata": {},
   "outputs": [],
   "source": [
    "historical_growth.to_csv('historical_features.csv')"
   ]
  },
  {
   "cell_type": "code",
   "execution_count": 43,
   "id": "c205cfc7-7bc9-4b51-aebd-6ddd5a1b5895",
   "metadata": {
    "scrolled": true
   },
   "outputs": [],
   "source": [
    "with open('custom_bins.pkl', 'wb') as output:\n",
    "    pickle.dump(custom_bins, output)"
   ]
  },
  {
   "cell_type": "code",
   "execution_count": 44,
   "id": "e136f662-9a9d-49ee-89a6-180035bd73c2",
   "metadata": {},
   "outputs": [],
   "source": [
    "with open('preproc_params.pkl', 'wb') as output:\n",
    "    pickle.dump(preproc_params, output)"
   ]
  },
  {
   "cell_type": "code",
   "execution_count": 45,
   "id": "ace4d607-dac4-4af3-91c0-5ed1a5371e13",
   "metadata": {},
   "outputs": [],
   "source": [
    "with open('trained_model.pkl', 'wb') as output:\n",
    "    pickle.dump(model, output)"
   ]
  },
  {
   "cell_type": "code",
   "execution_count": null,
   "id": "f33af8ce-f0e7-4a92-bc16-dc8fb1bd171f",
   "metadata": {},
   "outputs": [],
   "source": []
  }
 ],
 "metadata": {
  "kernelspec": {
   "display_name": "Python 3 (ipykernel)",
   "language": "python",
   "name": "python3"
  },
  "language_info": {
   "codemirror_mode": {
    "name": "ipython",
    "version": 3
   },
   "file_extension": ".py",
   "mimetype": "text/x-python",
   "name": "python",
   "nbconvert_exporter": "python",
   "pygments_lexer": "ipython3",
   "version": "3.13.0"
  }
 },
 "nbformat": 4,
 "nbformat_minor": 5
}
