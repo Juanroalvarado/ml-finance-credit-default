{
 "cells": [
  {
   "cell_type": "code",
   "execution_count": 1,
   "id": "1eff6324-7dea-4122-a2c8-e48de00fe14f",
   "metadata": {},
   "outputs": [],
   "source": [
    "import pandas as pd\n",
    "import numpy as np\n",
    "\n",
    "import pickle\n",
    "\n",
    "import matplotlib.pyplot as plt\n",
    "\n",
    "import statsmodels.api as sm\n",
    "import statsmodels.formula.api as smf\n",
    "\n",
    "from importlib import reload  # Python 3.4+\n",
    "\n",
    "from sklearn import metrics\n",
    "import seaborn as sns\n",
    "sns.set()\n",
    "\n",
    "from sklearn.calibration import CalibratedClassifierCV\n",
    "\n",
    "from IPython.display import clear_output, display"
   ]
  },
  {
   "cell_type": "code",
   "execution_count": 2,
   "id": "38f1c957-1cfa-4e51-bce8-bdde9c34f8b6",
   "metadata": {},
   "outputs": [
    {
     "data": {
      "text/plain": [
       "(837913, 43)"
      ]
     },
     "execution_count": 2,
     "metadata": {},
     "output_type": "execute_result"
    }
   ],
   "source": [
    "train_df = pd.read_csv('train_for_2012.csv',index_col=0)\n",
    "train_df.shape"
   ]
  },
  {
   "cell_type": "code",
   "execution_count": 3,
   "id": "ea89b540-5578-4f6f-8e10-6cc483d6fb41",
   "metadata": {},
   "outputs": [
    {
     "data": {
      "text/plain": [
       "(185639, 43)"
      ]
     },
     "execution_count": 3,
     "metadata": {},
     "output_type": "execute_result"
    }
   ],
   "source": [
    "test_df = pd.read_csv('test_for_2012.csv',index_col=0)\n",
    "test_df.shape"
   ]
  },
  {
   "cell_type": "code",
   "execution_count": 4,
   "id": "1462a855-804f-4309-9aa0-37f2a565dfe6",
   "metadata": {},
   "outputs": [],
   "source": [
    "# df['is_first_occurrence'] = (df['id'] != df['id'].shift()).astype(int)"
   ]
  },
  {
   "cell_type": "code",
   "execution_count": 5,
   "id": "cf14ffa3-39f6-4152-aa5e-d0ff617767d2",
   "metadata": {},
   "outputs": [],
   "source": [
    "# modeling_df = df[df['is_first_occurrence']==1].copy()\n",
    "# print(modeling_df.shape)\n",
    "# len(modeling_df)/len(df)"
   ]
  },
  {
   "cell_type": "code",
   "execution_count": 6,
   "id": "0b483136-afa0-4ca2-9291-0a69b78cc69f",
   "metadata": {},
   "outputs": [],
   "source": [
    "train_df['stmt_date'] = pd.to_datetime(train_df['stmt_date'])\n",
    "train_df['def_date'] = pd.to_datetime(train_df['def_date'], format=\"%d/%m/%Y\")\n",
    "train_df.sort_values('stmt_date', inplace=True)"
   ]
  },
  {
   "cell_type": "code",
   "execution_count": 7,
   "id": "feece20d-4986-410b-8036-94214855861d",
   "metadata": {},
   "outputs": [],
   "source": [
    "### we'll try dropping NA's for now\n",
    "train_df.sort_values('stmt_date', inplace=True)"
   ]
  },
  {
   "cell_type": "markdown",
   "id": "a8539a41-b6c1-4546-82ed-011ea5d2be96",
   "metadata": {},
   "source": [
    "## Get preprocessing data ready"
   ]
  },
  {
   "cell_type": "code",
   "execution_count": 10,
   "id": "325b908f-51c6-44d3-9e96-f9f38e0024e0",
   "metadata": {},
   "outputs": [],
   "source": [
    "from preproc_functions import pre_process"
   ]
  },
  {
   "cell_type": "code",
   "execution_count": 11,
   "id": "57d4fe13-11e9-4af6-9dfd-0fae52b9b906",
   "metadata": {},
   "outputs": [],
   "source": [
    "with open('quantile_custom_bins.pkl', 'rb') as file:\n",
    "    custom_bins = pickle.load(file)"
   ]
  },
  {
   "cell_type": "code",
   "execution_count": 12,
   "id": "92b2bf71-1ba5-42c9-9c6a-17d0d000d829",
   "metadata": {},
   "outputs": [],
   "source": [
    "preproc_params = {\n",
    "    'quantile_bins' : {},\n",
    "    'quantile_values' : {}\n",
    "}"
   ]
  },
  {
   "cell_type": "code",
   "execution_count": 13,
   "id": "d823607c-20d7-42a0-b5c6-862a7dcc92d5",
   "metadata": {},
   "outputs": [
    {
     "name": "stdout",
     "output_type": "stream",
     "text": [
      "Custom bins for financial_leverage_quantile\n",
      "Custom bins for profitability_ratio_quantile\n",
      "Custom bins for net_income_growth_quantile\n"
     ]
    }
   ],
   "source": [
    "train_data_proc , preproc_params = pre_process(train_df, \n",
    "                                               custom_bins=custom_bins, \n",
    "                                               preproc_params = preproc_params,  \n",
    "                                               quantiles = 50, \n",
    "                                               days_until_statement = 150)"
   ]
  },
  {
   "cell_type": "markdown",
   "id": "141a3163-6c6b-4aa2-9fbe-9863846c310d",
   "metadata": {},
   "source": [
    "## Train algorithm"
   ]
  },
  {
   "cell_type": "code",
   "execution_count": 14,
   "id": "e8583e1d-412b-4b3e-b778-3b90365f44c3",
   "metadata": {},
   "outputs": [],
   "source": [
    "### features for first firm\n",
    "first_features = [\n",
    "    'asst_tot_quantile_values',\n",
    "    'financial_leverage_quantile_values',\n",
    "    'profitability_ratio_quantile_values',\n",
    "    # 'net_income_growth_quantile_values',\n",
    "    'quick_ratio_v2_quantile_values',\n",
    "    # 'sales_growth_quantile_values',\n",
    "    'cash_assets_ratio_quantile_values',\n",
    "    'dscr_quantile_values',\n",
    "    'roe_quantile_values',\n",
    "    # 'ebitda',\n",
    "]\n"
   ]
  },
  {
   "cell_type": "code",
   "execution_count": 15,
   "id": "f3d9a494-7c0b-42e2-bfb9-3143f6e69f70",
   "metadata": {},
   "outputs": [],
   "source": [
    "### features for recurring firms\n",
    "rec_features = [\n",
    "    'asst_tot_quantile_values',\n",
    "    'financial_leverage_quantile_values',\n",
    "    'profitability_ratio_quantile_values',\n",
    "    'net_income_growth_quantile_values',\n",
    "    'quick_ratio_v2_quantile_values',\n",
    "    'sales_growth_quantile_values',\n",
    "    'cash_assets_ratio_quantile_values',\n",
    "    'dscr_quantile_values',\n",
    "    'roe_quantile_values',\n",
    "    # 'ebitda',\n",
    "\n",
    "]"
   ]
  },
  {
   "cell_type": "code",
   "execution_count": 16,
   "id": "4aa5a597-96e8-469e-af7f-3058d6a3be93",
   "metadata": {},
   "outputs": [
    {
     "data": {
      "text/plain": [
       "'default ~ asst_tot_quantile_values + financial_leverage_quantile_values + profitability_ratio_quantile_values + quick_ratio_v2_quantile_values + cash_assets_ratio_quantile_values + dscr_quantile_values + roe_quantile_values'"
      ]
     },
     "execution_count": 16,
     "metadata": {},
     "output_type": "execute_result"
    }
   ],
   "source": [
    "first_formula = 'default ~ '+' + '.join(first_features)\n",
    "first_formula"
   ]
  },
  {
   "cell_type": "code",
   "execution_count": 17,
   "id": "d077d95b-3b02-4671-9b23-cc04465da36f",
   "metadata": {},
   "outputs": [
    {
     "data": {
      "text/plain": [
       "'default ~ asst_tot_quantile_values + financial_leverage_quantile_values + profitability_ratio_quantile_values + net_income_growth_quantile_values + quick_ratio_v2_quantile_values + sales_growth_quantile_values + cash_assets_ratio_quantile_values + dscr_quantile_values + roe_quantile_values'"
      ]
     },
     "execution_count": 17,
     "metadata": {},
     "output_type": "execute_result"
    }
   ],
   "source": [
    "rec_formula = 'default ~ '+' + '.join(rec_features)\n",
    "rec_formula"
   ]
  },
  {
   "cell_type": "code",
   "execution_count": 18,
   "id": "f00fcf6f-e02b-4ac0-bf19-f08bf38b5f3c",
   "metadata": {},
   "outputs": [],
   "source": [
    "class SplitModel():\n",
    "    def __init__(self, algo):\n",
    "        self.first_formula = 'default ~ '+' + '.join(first_features)\n",
    "        self.rec_formula = 'default ~ '+' + '.join(rec_features)\n",
    "\n",
    "        self.algo = algo\n",
    "    \n",
    "    def train(self, data):\n",
    "        \n",
    "        rec_data = data[data['is_first_occurrence']==0]\n",
    "        first_data = data[data['is_first_occurrence']==1]\n",
    "        \n",
    "        self.first_model = self.algo(self.first_formula, data = first_data)\n",
    "        self.first_fitted_model = self.first_model.fit()\n",
    "\n",
    "        self.rec_model = self.algo(self.rec_formula, data = rec_data)\n",
    "        self.rec_fitted_model = self.rec_model.fit()\n",
    "        print(\"models fit\")\n",
    "\n",
    "    def predict(self, data):\n",
    "        rec_data = data[data['is_first_occurrence']==0]\n",
    "        first_data = data[data['is_first_occurrence']==1]\n",
    "        print('rec data length',len(rec_data))\n",
    "        print('first data length',len(first_data))\n",
    "        \n",
    "        rec_preds = self.rec_fitted_model.predict(rec_data)\n",
    "        rec_preds = rec_preds.reindex(rec_data.index)\n",
    "        \n",
    "        first_preds = self.first_fitted_model.predict(first_data)\n",
    "        first_preds = first_preds.reindex(first_data.index)\n",
    "\n",
    "        predictions = pd.concat([rec_preds,first_preds]).reindex(data.index)\n",
    "        \n",
    "        return predictions\n",
    "\n",
    "    def summary(self):\n",
    "        print('~~~~~ First Time First Model ~~~~~~')\n",
    "        print(self.first_fitted_model.summary())\n",
    "        print(self.first_fitted_model.get_margeff().summary())\n",
    "        print('\\n')\n",
    "        print('~~~~~ Recurring First Model ~~~~~~')\n",
    "        print(self.rec_fitted_model.summary())\n",
    "        print(self.rec_fitted_model.get_margeff().summary())\n",
    "        print('\\n')\n",
    "        "
   ]
  },
  {
   "cell_type": "code",
   "execution_count": 19,
   "id": "46c506b3-f8cd-471d-99da-4256eae83967",
   "metadata": {},
   "outputs": [],
   "source": [
    "model = SplitModel(algo=smf.logit)"
   ]
  },
  {
   "cell_type": "code",
   "execution_count": 20,
   "id": "70d09a91-daf6-4b1b-baf4-57befd884c75",
   "metadata": {},
   "outputs": [
    {
     "name": "stdout",
     "output_type": "stream",
     "text": [
      "Optimization terminated successfully.\n",
      "         Current function value: 0.050667\n",
      "         Iterations 11\n",
      "Optimization terminated successfully.\n",
      "         Current function value: 0.063442\n",
      "         Iterations 10\n",
      "models fit\n"
     ]
    }
   ],
   "source": [
    "model.train(train_data_proc)"
   ]
  },
  {
   "cell_type": "code",
   "execution_count": 21,
   "id": "a95d7afb-f828-47b0-80ec-d551ed7691b6",
   "metadata": {},
   "outputs": [
    {
     "name": "stdout",
     "output_type": "stream",
     "text": [
      "rec data length 612920\n",
      "first data length 224993\n"
     ]
    }
   ],
   "source": [
    "preds = model.predict(train_data_proc)"
   ]
  },
  {
   "cell_type": "markdown",
   "id": "30d54067-d349-46a9-bd11-7fc9d2b76b85",
   "metadata": {},
   "source": [
    "### Model results"
   ]
  },
  {
   "cell_type": "code",
   "execution_count": 22,
   "id": "c1f2a21b-c05f-4f8a-b6c6-a9756bd4330a",
   "metadata": {},
   "outputs": [
    {
     "name": "stdout",
     "output_type": "stream",
     "text": [
      "~~~~~ First Time First Model ~~~~~~\n",
      "                           Logit Regression Results                           \n",
      "==============================================================================\n",
      "Dep. Variable:                default   No. Observations:               224993\n",
      "Model:                          Logit   Df Residuals:                   224985\n",
      "Method:                           MLE   Df Model:                            7\n",
      "Date:                Tue, 12 Nov 2024   Pseudo R-squ.:                  0.1067\n",
      "Time:                        10:23:38   Log-Likelihood:                -11400.\n",
      "converged:                       True   LL-Null:                       -12761.\n",
      "Covariance Type:            nonrobust   LLR p-value:                     0.000\n",
      "=======================================================================================================\n",
      "                                          coef    std err          z      P>|z|      [0.025      0.975]\n",
      "-------------------------------------------------------------------------------------------------------\n",
      "Intercept                              -7.1931      0.221    -32.564      0.000      -7.626      -6.760\n",
      "asst_tot_quantile_values               66.8825     13.378      5.000      0.000      40.663      93.102\n",
      "financial_leverage_quantile_values      4.0040      0.410      9.774      0.000       3.201       4.807\n",
      "profitability_ratio_quantile_values     7.2252      0.437     16.539      0.000       6.369       8.081\n",
      "quick_ratio_v2_quantile_values         33.0084      4.312      7.655      0.000      24.557      41.460\n",
      "cash_assets_ratio_quantile_values      32.0589      6.739      4.757      0.000      18.850      45.268\n",
      "dscr_quantile_values                   13.6291      1.180     11.553      0.000      11.317      15.941\n",
      "roe_quantile_values                    11.3590      0.757     15.007      0.000       9.875      12.843\n",
      "=======================================================================================================\n",
      "        Logit Marginal Effects       \n",
      "=====================================\n",
      "Dep. Variable:                default\n",
      "Method:                          dydx\n",
      "At:                           overall\n",
      "=======================================================================================================\n",
      "                                         dy/dx    std err          z      P>|z|      [0.025      0.975]\n",
      "-------------------------------------------------------------------------------------------------------\n",
      "asst_tot_quantile_values                0.6346      0.128      4.976      0.000       0.385       0.885\n",
      "financial_leverage_quantile_values      0.0380      0.004      9.727      0.000       0.030       0.046\n",
      "profitability_ratio_quantile_values     0.0686      0.004     16.045      0.000       0.060       0.077\n",
      "quick_ratio_v2_quantile_values          0.3132      0.041      7.574      0.000       0.232       0.394\n",
      "cash_assets_ratio_quantile_values       0.3042      0.064      4.738      0.000       0.178       0.430\n",
      "dscr_quantile_values                    0.1293      0.011     11.255      0.000       0.107       0.152\n",
      "roe_quantile_values                     0.1078      0.007     14.383      0.000       0.093       0.122\n",
      "=======================================================================================================\n",
      "\n",
      "\n",
      "~~~~~ Recurring First Model ~~~~~~\n",
      "                           Logit Regression Results                           \n",
      "==============================================================================\n",
      "Dep. Variable:                default   No. Observations:               612920\n",
      "Model:                          Logit   Df Residuals:                   612910\n",
      "Method:                           MLE   Df Model:                            9\n",
      "Date:                Tue, 12 Nov 2024   Pseudo R-squ.:                  0.1776\n",
      "Time:                        10:23:39   Log-Likelihood:                -38885.\n",
      "converged:                       True   LL-Null:                       -47280.\n",
      "Covariance Type:            nonrobust   LLR p-value:                     0.000\n",
      "=======================================================================================================\n",
      "                                          coef    std err          z      P>|z|      [0.025      0.975]\n",
      "-------------------------------------------------------------------------------------------------------\n",
      "Intercept                              -7.4742      0.119    -62.850      0.000      -7.707      -7.241\n",
      "asst_tot_quantile_values               65.1661      7.452      8.744      0.000      50.560      79.773\n",
      "financial_leverage_quantile_values      3.0073      0.193     15.596      0.000       2.629       3.385\n",
      "profitability_ratio_quantile_values     5.0960      0.206     24.794      0.000       4.693       5.499\n",
      "net_income_growth_quantile_values       5.5810      0.437     12.766      0.000       4.724       6.438\n",
      "quick_ratio_v2_quantile_values         38.3237      2.230     17.188      0.000      33.954      42.694\n",
      "sales_growth_quantile_values           19.9010      1.042     19.106      0.000      17.859      21.942\n",
      "cash_assets_ratio_quantile_values      32.9109      3.768      8.734      0.000      25.525      40.297\n",
      "dscr_quantile_values                   17.8691      0.571     31.278      0.000      16.749      18.989\n",
      "roe_quantile_values                    14.2855      0.407     35.067      0.000      13.487      15.084\n",
      "=======================================================================================================\n",
      "        Logit Marginal Effects       \n",
      "=====================================\n",
      "Dep. Variable:                default\n",
      "Method:                          dydx\n",
      "At:                           overall\n",
      "=======================================================================================================\n",
      "                                         dy/dx    std err          z      P>|z|      [0.025      0.975]\n",
      "-------------------------------------------------------------------------------------------------------\n",
      "asst_tot_quantile_values                0.8471      0.097      8.718      0.000       0.657       1.037\n",
      "financial_leverage_quantile_values      0.0391      0.002     15.642      0.000       0.034       0.044\n",
      "profitability_ratio_quantile_values     0.0662      0.003     24.508      0.000       0.061       0.072\n",
      "net_income_growth_quantile_values       0.0725      0.006     12.732      0.000       0.061       0.084\n",
      "quick_ratio_v2_quantile_values          0.4982      0.029     16.983      0.000       0.441       0.556\n",
      "sales_growth_quantile_values            0.2587      0.014     18.825      0.000       0.232       0.286\n",
      "cash_assets_ratio_quantile_values       0.4278      0.049      8.705      0.000       0.331       0.524\n",
      "dscr_quantile_values                    0.2323      0.008     30.023      0.000       0.217       0.247\n",
      "roe_quantile_values                     0.1857      0.006     33.348      0.000       0.175       0.197\n",
      "=======================================================================================================\n",
      "\n",
      "\n"
     ]
    }
   ],
   "source": [
    "model.summary()"
   ]
  },
  {
   "cell_type": "markdown",
   "id": "f9f91e1f-3151-44ef-842f-466533408e1d",
   "metadata": {},
   "source": [
    "## Process test data"
   ]
  },
  {
   "cell_type": "code",
   "execution_count": 23,
   "id": "28651cf6-0cba-4f35-a140-a731440755ed",
   "metadata": {},
   "outputs": [],
   "source": [
    "test_df['stmt_date'] = pd.to_datetime(test_df['stmt_date'])\n",
    "test_df['def_date'] = pd.to_datetime(test_df['def_date'], format=\"%d/%m/%Y\")\n",
    "test_df.sort_values('stmt_date', inplace=True)"
   ]
  },
  {
   "cell_type": "code",
   "execution_count": 24,
   "id": "52079ea7-9963-4f29-a0d7-99d9ac711ec1",
   "metadata": {},
   "outputs": [
    {
     "name": "stdout",
     "output_type": "stream",
     "text": [
      "asst_tot_quantile\n",
      "financial_leverage_quantile\n",
      "profitability_ratio_quantile\n",
      "roe_quantile\n",
      "net_income_growth_quantile\n",
      "quick_ratio_v2_quantile\n",
      "sales_growth_quantile\n",
      "cash_assets_ratio_quantile\n",
      "dscr_quantile\n"
     ]
    }
   ],
   "source": [
    "test_data_proc , preproc_params = pre_process(test_df, \n",
    "                                             historical_df=train_data_proc, \n",
    "                                             new=False, \n",
    "                                             preproc_params = preproc_params,  \n",
    "                                             quantiles = 50, \n",
    "                                             days_until_statement = 150)"
   ]
  },
  {
   "cell_type": "code",
   "execution_count": 25,
   "id": "caed3c7f-d898-4540-97ed-fcf8eb23f959",
   "metadata": {},
   "outputs": [
    {
     "name": "stdout",
     "output_type": "stream",
     "text": [
      "rec data length 172921\n",
      "first data length 12718\n"
     ]
    }
   ],
   "source": [
    "test_predictions = model.predict(test_data_proc)"
   ]
  },
  {
   "cell_type": "code",
   "execution_count": 26,
   "id": "64417597-5aca-4109-a235-801dd19a296e",
   "metadata": {},
   "outputs": [],
   "source": [
    "test_results = test_data_proc[['default']].copy()\n",
    "test_results['predictions'] = test_predictions"
   ]
  },
  {
   "cell_type": "code",
   "execution_count": 27,
   "id": "4311f23a-b7d0-4ccb-9f43-abad57886b5d",
   "metadata": {},
   "outputs": [
    {
     "data": {
      "text/html": [
       "<div>\n",
       "<style scoped>\n",
       "    .dataframe tbody tr th:only-of-type {\n",
       "        vertical-align: middle;\n",
       "    }\n",
       "\n",
       "    .dataframe tbody tr th {\n",
       "        vertical-align: top;\n",
       "    }\n",
       "\n",
       "    .dataframe thead th {\n",
       "        text-align: right;\n",
       "    }\n",
       "</style>\n",
       "<table border=\"1\" class=\"dataframe\">\n",
       "  <thead>\n",
       "    <tr style=\"text-align: right;\">\n",
       "      <th></th>\n",
       "      <th>default</th>\n",
       "      <th>predictions</th>\n",
       "    </tr>\n",
       "    <tr>\n",
       "      <th>Unnamed: 0</th>\n",
       "      <th></th>\n",
       "      <th></th>\n",
       "    </tr>\n",
       "  </thead>\n",
       "  <tbody>\n",
       "    <tr>\n",
       "      <th>21</th>\n",
       "      <td>0</td>\n",
       "      <td>0.096428</td>\n",
       "    </tr>\n",
       "    <tr>\n",
       "      <th>2757816</th>\n",
       "      <td>0</td>\n",
       "      <td>0.104018</td>\n",
       "    </tr>\n",
       "    <tr>\n",
       "      <th>2757825</th>\n",
       "      <td>0</td>\n",
       "      <td>0.013074</td>\n",
       "    </tr>\n",
       "    <tr>\n",
       "      <th>2757832</th>\n",
       "      <td>0</td>\n",
       "      <td>0.005334</td>\n",
       "    </tr>\n",
       "    <tr>\n",
       "      <th>2757853</th>\n",
       "      <td>0</td>\n",
       "      <td>0.003629</td>\n",
       "    </tr>\n",
       "  </tbody>\n",
       "</table>\n",
       "</div>"
      ],
      "text/plain": [
       "            default  predictions\n",
       "Unnamed: 0                      \n",
       "21                0     0.096428\n",
       "2757816           0     0.104018\n",
       "2757825           0     0.013074\n",
       "2757832           0     0.005334\n",
       "2757853           0     0.003629"
      ]
     },
     "execution_count": 27,
     "metadata": {},
     "output_type": "execute_result"
    }
   ],
   "source": [
    "test_results.head()"
   ]
  },
  {
   "cell_type": "code",
   "execution_count": 28,
   "id": "553f3f09-94e8-4b0c-b6dd-baec9d8b4265",
   "metadata": {},
   "outputs": [
    {
     "data": {
      "text/plain": [
       "np.float64(0.8406422816938761)"
      ]
     },
     "execution_count": 28,
     "metadata": {},
     "output_type": "execute_result"
    }
   ],
   "source": [
    "metrics.roc_auc_score(y_score=test_results['predictions'], y_true=test_results['default'])"
   ]
  },
  {
   "cell_type": "code",
   "execution_count": 29,
   "id": "f60080e8-3e9e-4ee6-85ec-0cd7b4a02320",
   "metadata": {},
   "outputs": [
    {
     "name": "stdout",
     "output_type": "stream",
     "text": [
      "ROC AUC 0.8406422816938761\n"
     ]
    },
    {
     "data": {
      "text/plain": [
       "<sklearn.metrics._plot.roc_curve.RocCurveDisplay at 0x142dea7b0>"
      ]
     },
     "execution_count": 29,
     "metadata": {},
     "output_type": "execute_result"
    },
    {
     "data": {
      "image/png": "[encoded data removed]",
      "text/plain": [
       "<Figure size 640x480 with 1 Axes>"
      ]
     },
     "metadata": {},
     "output_type": "display_data"
    }
   ],
   "source": [
    "fpr, tpr, thresholds = metrics.roc_curve(test_results['default'], test_results['predictions'])\n",
    "roc_auc = metrics.auc(fpr, tpr)\n",
    "roc_display = metrics.RocCurveDisplay(fpr=fpr, tpr=tpr, roc_auc=roc_auc)\n",
    "print(f'ROC AUC {roc_auc}')\n",
    "roc_display.plot()"
   ]
  },
  {
   "cell_type": "code",
   "execution_count": 30,
   "id": "b7f77dc3-b272-4adc-8bc2-cd0ab5f5c072",
   "metadata": {},
   "outputs": [],
   "source": [
    "# train_data_proc.to_csv('train_processed_data_for_2012.csv', index=False)\n",
    "# test_data_proc.to_csv('test_processed_data_for_2012.csv', index=False)"
   ]
  },
  {
   "cell_type": "markdown",
   "id": "b60d49b6-0c07-4efa-8134-66b8370c44f7",
   "metadata": {},
   "source": [
    "## saving components for harness"
   ]
  },
  {
   "cell_type": "code",
   "execution_count": 31,
   "id": "267b7b2b-50c6-4a2a-a27d-bca71e8eddaa",
   "metadata": {},
   "outputs": [],
   "source": [
    "growth_features = [\n",
    "    'id',\n",
    "    'stmt_date',\n",
    "    'net_income',\n",
    "    'sales'\n",
    "]"
   ]
  },
  {
   "cell_type": "code",
   "execution_count": 35,
   "id": "608cc8e4-b39f-4c8a-becb-c99a0c038ff1",
   "metadata": {},
   "outputs": [
    {
     "data": {
      "text/html": [
       "<div>\n",
       "<style scoped>\n",
       "    .dataframe tbody tr th:only-of-type {\n",
       "        vertical-align: middle;\n",
       "    }\n",
       "\n",
       "    .dataframe tbody tr th {\n",
       "        vertical-align: top;\n",
       "    }\n",
       "\n",
       "    .dataframe thead th {\n",
       "        text-align: right;\n",
       "    }\n",
       "</style>\n",
       "<table border=\"1\" class=\"dataframe\">\n",
       "  <thead>\n",
       "    <tr style=\"text-align: right;\">\n",
       "      <th></th>\n",
       "      <th>id</th>\n",
       "      <th>stmt_date</th>\n",
       "      <th>net_income</th>\n",
       "      <th>sales</th>\n",
       "    </tr>\n",
       "    <tr>\n",
       "      <th>Unnamed: 0</th>\n",
       "      <th></th>\n",
       "      <th></th>\n",
       "      <th></th>\n",
       "      <th></th>\n",
       "    </tr>\n",
       "  </thead>\n",
       "  <tbody>\n",
       "    <tr>\n",
       "      <th>22</th>\n",
       "      <td>520288</td>\n",
       "      <td>2007-12-31</td>\n",
       "      <td>36733.0</td>\n",
       "      <td>2041155.0</td>\n",
       "    </tr>\n",
       "    <tr>\n",
       "      <th>18</th>\n",
       "      <td>520288</td>\n",
       "      <td>2008-12-31</td>\n",
       "      <td>-107382.0</td>\n",
       "      <td>967389.0</td>\n",
       "    </tr>\n",
       "    <tr>\n",
       "      <th>19</th>\n",
       "      <td>520288</td>\n",
       "      <td>2009-12-31</td>\n",
       "      <td>-77819.0</td>\n",
       "      <td>638687.0</td>\n",
       "    </tr>\n",
       "    <tr>\n",
       "      <th>23</th>\n",
       "      <td>520288</td>\n",
       "      <td>2010-12-31</td>\n",
       "      <td>-83593.0</td>\n",
       "      <td>564622.0</td>\n",
       "    </tr>\n",
       "    <tr>\n",
       "      <th>17</th>\n",
       "      <td>520288</td>\n",
       "      <td>2011-12-31</td>\n",
       "      <td>-81288.0</td>\n",
       "      <td>538081.0</td>\n",
       "    </tr>\n",
       "  </tbody>\n",
       "</table>\n",
       "</div>"
      ],
      "text/plain": [
       "                id  stmt_date  net_income      sales\n",
       "Unnamed: 0                                          \n",
       "22          520288 2007-12-31     36733.0  2041155.0\n",
       "18          520288 2008-12-31   -107382.0   967389.0\n",
       "19          520288 2009-12-31    -77819.0   638687.0\n",
       "23          520288 2010-12-31    -83593.0   564622.0\n",
       "17          520288 2011-12-31    -81288.0   538081.0"
      ]
     },
     "execution_count": 35,
     "metadata": {},
     "output_type": "execute_result"
    }
   ],
   "source": [
    "historical_growth = train_data_proc[growth_features]#.to_csv('historical_features.csv')\n",
    "historical_growth.head()"
   ]
  },
  {
   "cell_type": "code",
   "execution_count": 36,
   "id": "e67044e0-254c-4141-9adf-e91b575d56e3",
   "metadata": {},
   "outputs": [],
   "source": [
    "historical_growth.to_csv('historical_features.csv')"
   ]
  },
  {
   "cell_type": "code",
   "execution_count": 38,
   "id": "c205cfc7-7bc9-4b51-aebd-6ddd5a1b5895",
   "metadata": {
    "scrolled": true
   },
   "outputs": [],
   "source": [
    "with open('custom_bins.pkl', 'wb') as output:\n",
    "    pickle.dump(custom_bins, output)"
   ]
  },
  {
   "cell_type": "code",
   "execution_count": 39,
   "id": "e136f662-9a9d-49ee-89a6-180035bd73c2",
   "metadata": {},
   "outputs": [],
   "source": [
    "with open('preproc_params.pkl', 'wb') as output:\n",
    "    pickle.dump(preproc_params, output)"
   ]
  },
  {
   "cell_type": "code",
   "execution_count": 41,
   "id": "ace4d607-dac4-4af3-91c0-5ed1a5371e13",
   "metadata": {},
   "outputs": [],
   "source": [
    "with open('trained_model.pkl', 'wb') as output:\n",
    "    pickle.dump(model, output)"
   ]
  },
  {
   "cell_type": "code",
   "execution_count": null,
   "id": "f33af8ce-f0e7-4a92-bc16-dc8fb1bd171f",
   "metadata": {},
   "outputs": [],
   "source": []
  }
 ],
 "metadata": {
  "kernelspec": {
   "display_name": "Python 3 (ipykernel)",
   "language": "python",
   "name": "python3"
  },
  "language_info": {
   "codemirror_mode": {
    "name": "ipython",
    "version": 3
   },
   "file_extension": ".py",
   "mimetype": "text/x-python",
   "name": "python",
   "nbconvert_exporter": "python",
   "pygments_lexer": "ipython3",
   "version": "3.13.0"
  }
 },
 "nbformat": 4,
 "nbformat_minor": 5
}
