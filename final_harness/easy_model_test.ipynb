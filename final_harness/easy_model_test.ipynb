{
 "cells": [
  {
   "cell_type": "code",
   "execution_count": 170,
   "id": "1eff6324-7dea-4122-a2c8-e48de00fe14f",
   "metadata": {},
   "outputs": [],
   "source": [
    "import pandas as pd\n",
    "import numpy as np\n",
    "\n",
    "import pickle\n",
    "\n",
    "import matplotlib.pyplot as plt\n",
    "\n",
    "import statsmodels.api as sm\n",
    "import statsmodels.formula.api as smf\n",
    "\n",
    "from importlib import reload  # Python 3.4+\n",
    "\n",
    "from sklearn import metrics\n",
    "from sklearn.inspection import permutation_importance\n",
    "\n",
    "import lightgbm as lgb\n",
    "\n",
    "import seaborn as sns\n",
    "sns.set()\n",
    "\n",
    "from sklearn.calibration import CalibratedClassifierCV\n",
    "\n",
    "from IPython.display import clear_output, display"
   ]
  },
  {
   "cell_type": "code",
   "execution_count": 194,
   "id": "38f1c957-1cfa-4e51-bce8-bdde9c34f8b6",
   "metadata": {},
   "outputs": [
    {
     "data": {
      "text/plain": [
       "(837913, 75)"
      ]
     },
     "execution_count": 194,
     "metadata": {},
     "output_type": "execute_result"
    }
   ],
   "source": [
    "train_df = pd.read_csv('train_processed_data_for_2012.csv')\n",
    "train_df.shape"
   ]
  },
  {
   "cell_type": "code",
   "execution_count": 195,
   "id": "ea89b540-5578-4f6f-8e10-6cc483d6fb41",
   "metadata": {},
   "outputs": [
    {
     "data": {
      "text/plain": [
       "(1025045, 74)"
      ]
     },
     "execution_count": 195,
     "metadata": {},
     "output_type": "execute_result"
    }
   ],
   "source": [
    "test_df = pd.read_csv('test_processed_data_for_2012.csv')\n",
    "test_df.shape"
   ]
  },
  {
   "cell_type": "code",
   "execution_count": 205,
   "id": "5d4512dc-bfce-4138-9a22-1f4c8fc098e2",
   "metadata": {},
   "outputs": [
    {
     "data": {
      "text/plain": [
       "Index(['ateco_sector'], dtype='object')"
      ]
     },
     "execution_count": 205,
     "metadata": {},
     "output_type": "execute_result"
    }
   ],
   "source": [
    "train_df.columns[train_df.columns.str.contains('sector')]"
   ]
  },
  {
   "cell_type": "code",
   "execution_count": 8,
   "id": "0b483136-afa0-4ca2-9291-0a69b78cc69f",
   "metadata": {},
   "outputs": [],
   "source": [
    "train_df['stmt_date'] = pd.to_datetime(train_df['stmt_date'])\n",
    "train_df['def_date'] = pd.to_datetime(train_df['def_date'])\n",
    "train_df.sort_values('stmt_date', inplace=True)\n",
    "\n",
    "test_df['stmt_date'] = pd.to_datetime(test_df['stmt_date'])\n",
    "test_df['def_date'] = pd.to_datetime(test_df['def_date'])\n",
    "test_df.sort_values('stmt_date', inplace=True)"
   ]
  },
  {
   "cell_type": "markdown",
   "id": "141a3163-6c6b-4aa2-9fbe-9863846c310d",
   "metadata": {},
   "source": [
    "## Train algorithm"
   ]
  },
  {
   "cell_type": "code",
   "execution_count": 11,
   "id": "e8583e1d-412b-4b3e-b778-3b90365f44c3",
   "metadata": {},
   "outputs": [],
   "source": [
    "### features for first firm\n",
    "features = [\n",
    "    'asst_tot_quantile_values',\n",
    "    'financial_leverage_quantile_values',\n",
    "    'profitability_ratio_quantile_values',\n",
    "    # 'net_income_growth_quantile_values',\n",
    "    'quick_ratio_v2_quantile_values',\n",
    "    # 'sales_growth_quantile_values',\n",
    "    'cash_assets_ratio_quantile_values',\n",
    "    'dscr_quantile_values',\n",
    "    'roe_quantile_values',\n",
    "    # 'ebitda',\n",
    "]\n"
   ]
  },
  {
   "cell_type": "code",
   "execution_count": 31,
   "id": "f3d9a494-7c0b-42e2-bfb9-3143f6e69f70",
   "metadata": {},
   "outputs": [],
   "source": [
    "### features for recurring firms\n",
    "rec_features = [\n",
    "    'asst_tot_quantile_values',\n",
    "    'financial_leverage_quantile_values',\n",
    "    'profitability_ratio_quantile_values',\n",
    "    'net_income_growth_quantile_values',\n",
    "    'quick_ratio_v2_quantile_values',\n",
    "    'sales_growth_quantile_values',\n",
    "    'cash_assets_ratio_quantile_values',\n",
    "    'dscr_quantile_values',\n",
    "    'roe_quantile_values',\n",
    "    # 'ebitda',\n",
    "\n",
    "]"
   ]
  },
  {
   "cell_type": "code",
   "execution_count": 13,
   "id": "4aa5a597-96e8-469e-af7f-3058d6a3be93",
   "metadata": {},
   "outputs": [
    {
     "data": {
      "text/plain": [
       "'default ~ asst_tot_quantile_values + financial_leverage_quantile_values + profitability_ratio_quantile_values + quick_ratio_v2_quantile_values + cash_assets_ratio_quantile_values + dscr_quantile_values'"
      ]
     },
     "execution_count": 13,
     "metadata": {},
     "output_type": "execute_result"
    }
   ],
   "source": [
    "formula = 'default ~ '+' + '.join(features)\n",
    "#formula = 'default ~ '+' + '.join(rec_features)\n",
    "formula"
   ]
  },
  {
   "cell_type": "code",
   "execution_count": 25,
   "id": "0b682b68-06fb-4eb1-8749-3fb7fdce0434",
   "metadata": {},
   "outputs": [],
   "source": [
    "from sklearn.ensemble import RandomForestClassifier"
   ]
  },
  {
   "cell_type": "code",
   "execution_count": 161,
   "id": "dc09e5dc-a90e-4cfe-95b0-f5cdb6fbb11d",
   "metadata": {},
   "outputs": [],
   "source": [
    "# model = RandomForestClassifier(max_depth=8, n_estimators=150, oob_score=metrics.roc_auc_score, bootstrap=True)"
   ]
  },
  {
   "cell_type": "code",
   "execution_count": 171,
   "id": "205922e1-3bdb-489c-b6a8-02d935ab8391",
   "metadata": {},
   "outputs": [],
   "source": [
    "model = 'lgbm'"
   ]
  },
  {
   "cell_type": "code",
   "execution_count": 162,
   "id": "96fb07ee-c916-43c1-b48f-244ac2958058",
   "metadata": {},
   "outputs": [],
   "source": [
    "algo = smf.probit\n",
    "model = algo(formula, data = train_df) "
   ]
  },
  {
   "cell_type": "code",
   "execution_count": 172,
   "id": "478c3f41-1e8a-4703-a213-cbb8388920ef",
   "metadata": {},
   "outputs": [],
   "source": [
    "if 'sklearn' in str(type(model)):\n",
    "    model_type = 'sklearn'\n",
    "elif model == 'lgbm':\n",
    "    model_type = 'lgbm'\n",
    "elif 'statsmodel' in str(type(model)):\n",
    "    model_type = 'stats'\n",
    "else:\n",
    "    raise (\"Model type not recognized\")"
   ]
  },
  {
   "cell_type": "markdown",
   "id": "2229d7c0-44f2-4733-8f76-5a493a241614",
   "metadata": {},
   "source": [
    "## Training"
   ]
  },
  {
   "cell_type": "code",
   "execution_count": 164,
   "id": "29b85918-317e-4756-b7bd-fae0ff79267b",
   "metadata": {},
   "outputs": [],
   "source": [
    "# from sklearn_inspect import Inspector"
   ]
  },
  {
   "cell_type": "code",
   "execution_count": 173,
   "id": "b4b2fea6-9de1-4622-b51f-4ae13762d50d",
   "metadata": {},
   "outputs": [],
   "source": [
    "# train_data = lgb.Dataset(train_df[features], label=train_df['default'])\n",
    "# validation_data = lgb.Dataset(test_df[features], label=test_df['default'], reference=train_data)\n",
    "# param = {'num_leaves': 31, 'objective': 'binary'}\n",
    "# param['metric'] = 'auc'\n",
    "\n",
    "# num_round = 50\n",
    "# bst = lgb.train(param, train_data, num_round, valid_sets=[validation_data])\n",
    "\n",
    "# ypred = bst.predict(test_df[features])"
   ]
  },
  {
   "cell_type": "code",
   "execution_count": 165,
   "id": "fdded25e-fc5e-4383-b220-7191b3bf737a",
   "metadata": {},
   "outputs": [
    {
     "name": "stdout",
     "output_type": "stream",
     "text": [
      "Optimization terminated successfully.\n",
      "         Current function value: 0.048469\n",
      "         Iterations 9\n",
      "                          Probit Regression Results                           \n",
      "==============================================================================\n",
      "Dep. Variable:                default   No. Observations:               226234\n",
      "Model:                         Probit   Df Residuals:                   226227\n",
      "Method:                           MLE   Df Model:                            6\n",
      "Date:                Mon, 11 Nov 2024   Pseudo R-squ.:                  0.2022\n",
      "Time:                        20:12:41   Log-Likelihood:                -10965.\n",
      "converged:                       True   LL-Null:                       -13745.\n",
      "Covariance Type:            nonrobust   LLR p-value:                     0.000\n",
      "=======================================================================================================\n",
      "                                          coef    std err          z      P>|z|      [0.025      0.975]\n",
      "-------------------------------------------------------------------------------------------------------\n",
      "Intercept                              -3.7332      0.090    -41.303      0.000      -3.910      -3.556\n",
      "asst_tot_quantile_values               24.1184      5.633      4.282      0.000      13.079      35.158\n",
      "financial_leverage_quantile_values      2.4699      0.168     14.740      0.000       2.141       2.798\n",
      "profitability_ratio_quantile_values     4.6878      0.182     25.822      0.000       4.332       5.044\n",
      "quick_ratio_v2_quantile_values         20.4587      1.674     12.222      0.000      17.178      23.740\n",
      "cash_assets_ratio_quantile_values      28.9566      2.927      9.891      0.000      23.219      34.694\n",
      "dscr_quantile_values                   11.4954      0.430     26.739      0.000      10.653      12.338\n",
      "=======================================================================================================\n",
      "       Probit Marginal Effects       \n",
      "=====================================\n",
      "Dep. Variable:                default\n",
      "Method:                          dydx\n",
      "At:                           overall\n",
      "=======================================================================================================\n",
      "                                         dy/dx    std err          z      P>|z|      [0.025      0.975]\n",
      "-------------------------------------------------------------------------------------------------------\n",
      "asst_tot_quantile_values                0.5660      0.133      4.271      0.000       0.306       0.826\n",
      "financial_leverage_quantile_values      0.0580      0.004     14.522      0.000       0.050       0.066\n",
      "profitability_ratio_quantile_values     0.1100      0.005     24.375      0.000       0.101       0.119\n",
      "quick_ratio_v2_quantile_values          0.4801      0.040     11.968      0.000       0.402       0.559\n",
      "cash_assets_ratio_quantile_values       0.6796      0.070      9.758      0.000       0.543       0.816\n",
      "dscr_quantile_values                    0.2698      0.011     24.359      0.000       0.248       0.291\n",
      "=======================================================================================================\n"
     ]
    }
   ],
   "source": [
    "if model_type == 'sklearn':\n",
    "    X = train_df[features]\n",
    "    y = train_df['default']\n",
    "    fitted_model = model.fit(X, y)\n",
    "    \n",
    "    result = permutation_importance(fitted_model, X, y, n_repeats=5, random_state=42)\n",
    "    # Summarize results\n",
    "    for i in result.importances_mean.argsort()[::-1]:\n",
    "        print(f\"{X.columns[i]}: Mean={result.importances_mean[i]:.4f}, Std={result.importances_std[i]:.4f}\")\n",
    "\n",
    "elif\n",
    "\n",
    "elif model_type == 'stats':\n",
    "    fitted_model = model.fit()\n",
    "    print(fitted_model.summary())\n",
    "    print(fitted_model.get_margeff().summary())"
   ]
  },
  {
   "cell_type": "markdown",
   "id": "f9f91e1f-3151-44ef-842f-466533408e1d",
   "metadata": {},
   "source": [
    "## Process test data"
   ]
  },
  {
   "cell_type": "code",
   "execution_count": 166,
   "id": "6f9f4714-4391-4ec9-b45d-42bee0fd1a8d",
   "metadata": {},
   "outputs": [
    {
     "data": {
      "text/plain": [
       "np.float64(0.8213539187657071)"
      ]
     },
     "execution_count": 166,
     "metadata": {},
     "output_type": "execute_result"
    }
   ],
   "source": [
    "if model_type == 'sklearn':\n",
    "    test_X = test_df[features]\n",
    "    test_y = test_df['default']\n",
    "    \n",
    "    test_predictions = fitted_model.predict_proba(test_X)[:,1]\n",
    "\n",
    "elif model_type == 'stats':\n",
    "    test_predictions = fitted_model.predict(test_df)\n",
    "\n",
    "test_results = test_df[['default']].copy()\n",
    "test_results['predictions'] = test_predictions\n",
    "metrics.roc_auc_score(y_score=test_results['predictions'], y_true=test_results['default'])"
   ]
  },
  {
   "cell_type": "code",
   "execution_count": 167,
   "id": "f60080e8-3e9e-4ee6-85ec-0cd7b4a02320",
   "metadata": {},
   "outputs": [
    {
     "name": "stdout",
     "output_type": "stream",
     "text": [
      "ROC AUC 0.8213539187657071\n"
     ]
    },
    {
     "data": {
      "text/plain": [
       "<sklearn.metrics._plot.roc_curve.RocCurveDisplay at 0x299b55050>"
      ]
     },
     "execution_count": 167,
     "metadata": {},
     "output_type": "execute_result"
    },
    {
     "data": {
      "image/png": "[encoded data removed]",
      "text/plain": [
       "<Figure size 640x480 with 1 Axes>"
      ]
     },
     "metadata": {},
     "output_type": "display_data"
    }
   ],
   "source": [
    "fpr, tpr, thresholds = metrics.roc_curve(test_results['default'], test_results['predictions'])\n",
    "roc_auc = metrics.auc(fpr, tpr)\n",
    "roc_display = metrics.RocCurveDisplay(fpr=fpr, tpr=tpr, roc_auc=roc_auc)\n",
    "print(f'ROC AUC {roc_auc}')\n",
    "roc_display.plot()"
   ]
  },
  {
   "cell_type": "markdown",
   "id": "b93ae120-09d0-4256-847c-58c1e1610471",
   "metadata": {},
   "source": [
    "## Process train data"
   ]
  },
  {
   "cell_type": "code",
   "execution_count": 168,
   "id": "e338c32a-f9f8-4073-b260-daa0e648de37",
   "metadata": {},
   "outputs": [
    {
     "data": {
      "text/plain": [
       "np.float64(0.8344395625816867)"
      ]
     },
     "execution_count": 168,
     "metadata": {},
     "output_type": "execute_result"
    }
   ],
   "source": [
    "if model_type == 'sklearn':\n",
    "    train_preds = fitted_model.predict_proba(X)[:,1]\n",
    "\n",
    "elif model_type == 'stats':\n",
    "    train_preds = fitted_model.predict(train_df)\n",
    "\n",
    "train_results = train_df[['default']].copy()\n",
    "train_results['predictions'] = train_preds\n",
    "metrics.roc_auc_score(y_score=train_results['predictions'], y_true=train_results['default'])"
   ]
  },
  {
   "cell_type": "code",
   "execution_count": 169,
   "id": "4edaf229-fc6e-4853-88eb-d7a211af2972",
   "metadata": {},
   "outputs": [
    {
     "name": "stdout",
     "output_type": "stream",
     "text": [
      "ROC AUC 0.8344395625816867\n"
     ]
    },
    {
     "data": {
      "text/plain": [
       "<sklearn.metrics._plot.roc_curve.RocCurveDisplay at 0x299b5b020>"
      ]
     },
     "execution_count": 169,
     "metadata": {},
     "output_type": "execute_result"
    },
    {
     "data": {
      "image/png": "[encoded data removed]",
      "text/plain": [
       "<Figure size 640x480 with 1 Axes>"
      ]
     },
     "metadata": {},
     "output_type": "display_data"
    }
   ],
   "source": [
    "fpr, tpr, thresholds = metrics.roc_curve(train_results['default'], train_results['predictions'])\n",
    "roc_auc = metrics.auc(fpr, tpr)\n",
    "roc_display = metrics.RocCurveDisplay(fpr=fpr, tpr=tpr, roc_auc=roc_auc)\n",
    "print(f'ROC AUC {roc_auc}')\n",
    "roc_display.plot()"
   ]
  },
  {
   "cell_type": "code",
   "execution_count": null,
   "id": "66c39918-e372-4b0a-8836-5a5f6a5ed85d",
   "metadata": {},
   "outputs": [],
   "source": []
  }
 ],
 "metadata": {
  "kernelspec": {
   "display_name": "Python 3 (ipykernel)",
   "language": "python",
   "name": "python3"
  },
  "language_info": {
   "codemirror_mode": {
    "name": "ipython",
    "version": 3
   },
   "file_extension": ".py",
   "mimetype": "text/x-python",
   "name": "python",
   "nbconvert_exporter": "python",
   "pygments_lexer": "ipython3",
   "version": "3.13.0"
  }
 },
 "nbformat": 4,
 "nbformat_minor": 5
}
