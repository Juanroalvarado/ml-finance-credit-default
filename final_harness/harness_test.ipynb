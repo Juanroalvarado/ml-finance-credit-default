{
 "cells": [
  {
   "cell_type": "code",
   "execution_count": 1,
   "id": "acd60ab8-f16d-4b7b-a6d2-ccc55c63c0b2",
   "metadata": {},
   "outputs": [],
   "source": [
    "import pandas as pd\n",
    "import pickle\n",
    "\n",
    "from xgb_model_functions import SplitModel\n",
    "from preproc_functions import pre_process"
   ]
  },
  {
   "cell_type": "code",
   "execution_count": null,
   "id": "34829e6b-c29e-4152-a36e-0a9465720ba9",
   "metadata": {},
   "outputs": [],
   "source": []
  },
  {
   "cell_type": "code",
   "execution_count": 2,
   "id": "02fb60fe-b33f-4f1f-8b3d-13d390434341",
   "metadata": {},
   "outputs": [],
   "source": [
    "# python3 harness.py --input_csv  <input file in csv> --output_csv <output csv file path to which the predictions are written> "
   ]
  },
  {
   "cell_type": "code",
   "execution_count": 3,
   "id": "89fd9dad-6527-4111-a0c2-768f9d1e69de",
   "metadata": {},
   "outputs": [],
   "source": [
    "input_path = 'harness_test.csv'\n",
    "output_path = 'results.csv'"
   ]
  },
  {
   "cell_type": "markdown",
   "id": "6d709d52-22e3-4272-8fb6-16cd9e4deda7",
   "metadata": {},
   "source": [
    " The output should be a csv with a single column with PD estimates corresponding to the testing input rows. Your output should not have a header"
   ]
  },
  {
   "cell_type": "code",
   "execution_count": 4,
   "id": "578540e8-8ec5-46d7-bd8c-7061bddb1825",
   "metadata": {
    "scrolled": true
   },
   "outputs": [
    {
     "name": "stdout",
     "output_type": "stream",
     "text": [
      "Loaded trained model\n",
      "asst_tot_quantile\n",
      "financial_leverage_quantile\n",
      "profitability_ratio_quantile\n",
      "roe_quantile\n",
      "net_income_growth_quantile\n",
      "quick_ratio_v2_quantile\n",
      "sales_growth_quantile\n",
      "cash_assets_ratio_quantile\n",
      "dscr_quantile\n",
      "using training pds for ateco_sector\n",
      "using training pds for sector_group\n",
      "using training pds for regional_code\n",
      "cfo_quantile\n",
      "using training pds for legal_struct\n",
      "rec data length 177040\n",
      "first data length 22960\n",
      "Predictions done\n"
     ]
    }
   ],
   "source": [
    "# Load pre computed data from training which is used for growth features\n",
    "historical_data = pd.read_csv('historical_features.csv',index_col=0)\n",
    "historical_data['stmt_date'] = pd.to_datetime(historical_data['stmt_date'])\n",
    "\n",
    "# custom bins for certain featured\n",
    "with open('custom_bins.pkl', 'rb') as inp:\n",
    "    custom_bins = pickle.load(inp)\n",
    "\n",
    "with open('preproc_params.pkl', 'rb') as inp:\n",
    "    preproc_params = pickle.load(inp)\n",
    "\n",
    "with open('trained_model.pkl', 'rb') as inp:\n",
    "    trained_model = pickle.load(inp)\n",
    "print('Loaded trained model')\n",
    "\n",
    "# read and process holdout\n",
    "holdout_df = pd.read_csv(input_path,index_col=0)\n",
    "\n",
    "holdout_df['stmt_date'] = pd.to_datetime(holdout_df['stmt_date'])\n",
    "holdout_df['def_date'] = pd.to_datetime(holdout_df['def_date'], format=\"%d/%m/%Y\")\n",
    "holdout_df.sort_values('stmt_date', inplace=True)\n",
    "\n",
    "test_data_proc , preproc_params = pre_process(holdout_df, \n",
    "                                         historical_df=historical_data, \n",
    "                                         new=False, \n",
    "                                         preproc_params = preproc_params,  \n",
    "                                         quantiles = 50, \n",
    "                                         days_until_statement = 150)\n",
    "\n",
    "predictions = trained_model.predict(test_data_proc)\n",
    "print(\"Predictions done\")"
   ]
  },
  {
   "cell_type": "code",
   "execution_count": 5,
   "id": "5b561a61-7140-45a8-bded-59ddf1be43f4",
   "metadata": {},
   "outputs": [],
   "source": [
    "predictions.to_csv(output_path,index=False,header=False)"
   ]
  },
  {
   "cell_type": "code",
   "execution_count": 7,
   "id": "1976ac12-94f2-47cd-82ba-4db5e327e109",
   "metadata": {},
   "outputs": [
    {
     "data": {
      "text/html": [
       "<div>\n",
       "<style scoped>\n",
       "    .dataframe tbody tr th:only-of-type {\n",
       "        vertical-align: middle;\n",
       "    }\n",
       "\n",
       "    .dataframe tbody tr th {\n",
       "        vertical-align: top;\n",
       "    }\n",
       "\n",
       "    .dataframe thead th {\n",
       "        text-align: right;\n",
       "    }\n",
       "</style>\n",
       "<table border=\"1\" class=\"dataframe\">\n",
       "  <thead>\n",
       "    <tr style=\"text-align: right;\">\n",
       "      <th></th>\n",
       "      <th>0</th>\n",
       "    </tr>\n",
       "  </thead>\n",
       "  <tbody>\n",
       "    <tr>\n",
       "      <th>0</th>\n",
       "      <td>0.003589</td>\n",
       "    </tr>\n",
       "    <tr>\n",
       "      <th>1</th>\n",
       "      <td>0.003589</td>\n",
       "    </tr>\n",
       "    <tr>\n",
       "      <th>2</th>\n",
       "      <td>0.003589</td>\n",
       "    </tr>\n",
       "    <tr>\n",
       "      <th>3</th>\n",
       "      <td>0.003589</td>\n",
       "    </tr>\n",
       "    <tr>\n",
       "      <th>4</th>\n",
       "      <td>0.003589</td>\n",
       "    </tr>\n",
       "  </tbody>\n",
       "</table>\n",
       "</div>"
      ],
      "text/plain": [
       "          0\n",
       "0  0.003589\n",
       "1  0.003589\n",
       "2  0.003589\n",
       "3  0.003589\n",
       "4  0.003589"
      ]
     },
     "execution_count": 7,
     "metadata": {},
     "output_type": "execute_result"
    }
   ],
   "source": [
    "results = pd.read_csv('results.csv', header=None)\n",
    "results.head()"
   ]
  },
  {
   "cell_type": "code",
   "execution_count": 8,
   "id": "cda52cb3-f368-4e23-b8f1-c9ee8b34afb3",
   "metadata": {},
   "outputs": [],
   "source": [
    "test_results = test_data_proc[['default']].copy()\n",
    "test_results['predictions'] = results.values"
   ]
  },
  {
   "cell_type": "code",
   "execution_count": 9,
   "id": "b2cfb1b7-bafb-4123-8d69-8ef1948b57b2",
   "metadata": {},
   "outputs": [],
   "source": [
    "from sklearn import metrics"
   ]
  },
  {
   "cell_type": "code",
   "execution_count": 10,
   "id": "ac9e78fe-0517-4e6a-be20-998609305262",
   "metadata": {},
   "outputs": [
    {
     "name": "stdout",
     "output_type": "stream",
     "text": [
      "ROC AUC 0.8770293826222755\n"
     ]
    },
    {
     "data": {
      "text/plain": [
       "<sklearn.metrics._plot.roc_curve.RocCurveDisplay at 0x14f2ef620>"
      ]
     },
     "execution_count": 10,
     "metadata": {},
     "output_type": "execute_result"
    },
    {
     "data": {
      "image/png": "[encoded data removed]",
      "text/plain": [
       "<Figure size 640x480 with 1 Axes>"
      ]
     },
     "metadata": {},
     "output_type": "display_data"
    }
   ],
   "source": [
    "fpr, tpr, thresholds = metrics.roc_curve(test_results['default'], test_results['predictions'])\n",
    "roc_auc = metrics.auc(fpr, tpr)\n",
    "roc_display = metrics.RocCurveDisplay(fpr=fpr, tpr=tpr, roc_auc=roc_auc)\n",
    "print(f'ROC AUC {roc_auc}')\n",
    "roc_display.plot()"
   ]
  },
  {
   "cell_type": "code",
   "execution_count": null,
   "id": "dc80be3a-29e6-4409-bb01-66be97a1902a",
   "metadata": {},
   "outputs": [],
   "source": []
  },
  {
   "cell_type": "code",
   "execution_count": null,
   "id": "3b03f4dd-136d-4d6e-a40a-cbe045b720f3",
   "metadata": {},
   "outputs": [],
   "source": []
  }
 ],
 "metadata": {
  "kernelspec": {
   "display_name": "Python 3 (ipykernel)",
   "language": "python",
   "name": "python3"
  },
  "language_info": {
   "codemirror_mode": {
    "name": "ipython",
    "version": 3
   },
   "file_extension": ".py",
   "mimetype": "text/x-python",
   "name": "python",
   "nbconvert_exporter": "python",
   "pygments_lexer": "ipython3",
   "version": "3.13.0"
  }
 },
 "nbformat": 4,
 "nbformat_minor": 5
}
