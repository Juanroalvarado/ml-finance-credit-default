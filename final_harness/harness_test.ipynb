{
 "cells": [
  {
   "cell_type": "code",
   "execution_count": 1,
   "id": "acd60ab8-f16d-4b7b-a6d2-ccc55c63c0b2",
   "metadata": {},
   "outputs": [],
   "source": [
    "import pandas as pd\n",
    "import pickle\n",
    "\n",
    "from xgb_model_functions import SplitModel\n",
    "from preproc_functions import pre_process"
   ]
  },
  {
   "cell_type": "code",
   "execution_count": null,
   "id": "34829e6b-c29e-4152-a36e-0a9465720ba9",
   "metadata": {},
   "outputs": [],
   "source": []
  },
  {
   "cell_type": "code",
   "execution_count": 2,
   "id": "02fb60fe-b33f-4f1f-8b3d-13d390434341",
   "metadata": {},
   "outputs": [],
   "source": [
    "# python3 harness.py --input_csv  <input file in csv> --output_csv <output csv file path to which the predictions are written> "
   ]
  },
  {
   "cell_type": "markdown",
   "id": "6d709d52-22e3-4272-8fb6-16cd9e4deda7",
   "metadata": {},
   "source": [
    " The output should be a csv with a single column with PD estimates corresponding to the testing input rows. Your output should not have a header"
   ]
  },
  {
   "cell_type": "code",
   "execution_count": 3,
   "id": "7feecdfa-fdfc-4f91-91c3-a1bd61d7ba3a",
   "metadata": {},
   "outputs": [],
   "source": [
    "historical_data = pd.read_csv('historical_features.csv',index_col=0)"
   ]
  },
  {
   "cell_type": "code",
   "execution_count": 4,
   "id": "dcc42aaf-885d-4df4-8ff6-129a63a65668",
   "metadata": {},
   "outputs": [],
   "source": [
    "historical_data['stmt_date'] = pd.to_datetime(historical_data['stmt_date'])"
   ]
  },
  {
   "cell_type": "code",
   "execution_count": 5,
   "id": "70ef2fc7-d868-41c4-b55a-ccbb13107989",
   "metadata": {},
   "outputs": [],
   "source": [
    "with open('custom_bins.pkl', 'rb') as inp:\n",
    "    custom_bins = pickle.load(inp)\n",
    "\n",
    "with open('preproc_params.pkl', 'rb') as inp:\n",
    "    preproc_params = pickle.load(inp)\n",
    "\n",
    "with open('trained_model.pkl', 'rb') as inp:\n",
    "    trained_model = pickle.load(inp)"
   ]
  },
  {
   "cell_type": "code",
   "execution_count": 6,
   "id": "1340963e-43d5-441e-9ad3-6e0a0e3a31f7",
   "metadata": {},
   "outputs": [],
   "source": [
    "holdout_df = pd.read_csv('test_for_2012.csv',index_col=0)\n",
    "\n",
    "holdout_df['stmt_date'] = pd.to_datetime(holdout_df['stmt_date'])\n",
    "holdout_df['def_date'] = pd.to_datetime(holdout_df['def_date'], format=\"%d/%m/%Y\")\n",
    "holdout_df.sort_values('stmt_date', inplace=True)"
   ]
  },
  {
   "cell_type": "code",
   "execution_count": 7,
   "id": "3c4f298d-2f24-48fc-be06-c7884dd68ce4",
   "metadata": {},
   "outputs": [
    {
     "name": "stdout",
     "output_type": "stream",
     "text": [
      "asst_tot_quantile\n",
      "financial_leverage_quantile\n",
      "profitability_ratio_quantile\n",
      "roe_quantile\n"
     ]
    },
    {
     "name": "stderr",
     "output_type": "stream",
     "text": [
      "/Users/juanroalvarado/nyu/finance/ml-finance-credit-default/final_harness/preproc_functions.py:173: FutureWarning: A value is trying to be set on a copy of a DataFrame or Series through chained assignment using an inplace method.\n",
      "The behavior will change in pandas 3.0. This inplace method will never work because the intermediate object on which we are setting values always behaves as a copy.\n",
      "\n",
      "For example, when doing 'df[col].method(value, inplace=True)', try using 'df.method({col: value}, inplace=True)' or df[col] = df[col].method(value) instead, to perform the operation inplace on the original object.\n",
      "\n",
      "\n",
      "  df[growth_feature_name].fillna(0, inplace=True)\n"
     ]
    },
    {
     "name": "stdout",
     "output_type": "stream",
     "text": [
      "net_income_growth_quantile\n",
      "quick_ratio_v2_quantile\n"
     ]
    },
    {
     "name": "stderr",
     "output_type": "stream",
     "text": [
      "/Users/juanroalvarado/nyu/finance/ml-finance-credit-default/final_harness/preproc_functions.py:173: FutureWarning: A value is trying to be set on a copy of a DataFrame or Series through chained assignment using an inplace method.\n",
      "The behavior will change in pandas 3.0. This inplace method will never work because the intermediate object on which we are setting values always behaves as a copy.\n",
      "\n",
      "For example, when doing 'df[col].method(value, inplace=True)', try using 'df.method({col: value}, inplace=True)' or df[col] = df[col].method(value) instead, to perform the operation inplace on the original object.\n",
      "\n",
      "\n",
      "  df[growth_feature_name].fillna(0, inplace=True)\n"
     ]
    },
    {
     "name": "stdout",
     "output_type": "stream",
     "text": [
      "sales_growth_quantile\n",
      "cash_assets_ratio_quantile\n",
      "dscr_quantile\n",
      "using training pds for ateco_sector\n",
      "using training pds for sector_group\n",
      "using training pds for regional_code\n",
      "cfo_quantile\n",
      "using training pds for legal_struct\n"
     ]
    }
   ],
   "source": [
    "test_data_proc , preproc_params = pre_process(holdout_df, \n",
    "                                             historical_df=historical_data, \n",
    "                                             new=False, \n",
    "                                             preproc_params = preproc_params,  \n",
    "                                             quantiles = 50, \n",
    "                                             days_until_statement = 150)"
   ]
  },
  {
   "cell_type": "code",
   "execution_count": 8,
   "id": "e2d5bb17-cedb-4075-8802-c17099bedfe5",
   "metadata": {},
   "outputs": [],
   "source": [
    "# test_data_proc"
   ]
  },
  {
   "cell_type": "code",
   "execution_count": 9,
   "id": "7b837f03-9595-44e2-97e4-42222ce64a1c",
   "metadata": {},
   "outputs": [
    {
     "name": "stdout",
     "output_type": "stream",
     "text": [
      "rec data length 172921\n",
      "first data length 12718\n"
     ]
    }
   ],
   "source": [
    "predictions = trained_model.predict(test_data_proc)"
   ]
  },
  {
   "cell_type": "code",
   "execution_count": 11,
   "id": "cda52cb3-f368-4e23-b8f1-c9ee8b34afb3",
   "metadata": {},
   "outputs": [],
   "source": [
    "test_results = test_data_proc[['default']].copy()\n",
    "test_results['predictions'] = predictions"
   ]
  },
  {
   "cell_type": "code",
   "execution_count": 13,
   "id": "b2cfb1b7-bafb-4123-8d69-8ef1948b57b2",
   "metadata": {},
   "outputs": [],
   "source": [
    "from sklearn import metrics"
   ]
  },
  {
   "cell_type": "code",
   "execution_count": 14,
   "id": "ac9e78fe-0517-4e6a-be20-998609305262",
   "metadata": {},
   "outputs": [
    {
     "name": "stdout",
     "output_type": "stream",
     "text": [
      "ROC AUC 0.8666052142535062\n"
     ]
    },
    {
     "data": {
      "text/plain": [
       "<sklearn.metrics._plot.roc_curve.RocCurveDisplay at 0x2dd154980>"
      ]
     },
     "execution_count": 14,
     "metadata": {},
     "output_type": "execute_result"
    },
    {
     "data": {
      "image/png": "[encoded data removed]",
      "text/plain": [
       "<Figure size 640x480 with 1 Axes>"
      ]
     },
     "metadata": {},
     "output_type": "display_data"
    }
   ],
   "source": [
    "fpr, tpr, thresholds = metrics.roc_curve(test_results['default'], test_results['predictions'])\n",
    "roc_auc = metrics.auc(fpr, tpr)\n",
    "roc_display = metrics.RocCurveDisplay(fpr=fpr, tpr=tpr, roc_auc=roc_auc)\n",
    "print(f'ROC AUC {roc_auc}')\n",
    "roc_display.plot()"
   ]
  },
  {
   "cell_type": "code",
   "execution_count": 13,
   "id": "9003c590-56ec-4bf7-a852-b5198d11dcd9",
   "metadata": {},
   "outputs": [],
   "source": [
    "output_path = 'results.csv'\n",
    "predictions.to_csv(output_path,index=False,header=False)"
   ]
  },
  {
   "cell_type": "code",
   "execution_count": 18,
   "id": "31a9aaa4-dc43-48bd-8b26-7d2b06d198d3",
   "metadata": {},
   "outputs": [],
   "source": [
    "res = pd.read_csv('results.csv',header=None)"
   ]
  },
  {
   "cell_type": "code",
   "execution_count": 23,
   "id": "fc3c81fa-832b-409d-8338-00fef1bfd0ac",
   "metadata": {},
   "outputs": [],
   "source": [
    "\n",
    "test_results = test_data_proc[['default']].copy()\n",
    "test_results['predictions'] = res.values"
   ]
  },
  {
   "cell_type": "code",
   "execution_count": 24,
   "id": "d67ffce9-a307-4335-acff-0333c0622977",
   "metadata": {},
   "outputs": [
    {
     "data": {
      "text/html": [
       "<div>\n",
       "<style scoped>\n",
       "    .dataframe tbody tr th:only-of-type {\n",
       "        vertical-align: middle;\n",
       "    }\n",
       "\n",
       "    .dataframe tbody tr th {\n",
       "        vertical-align: top;\n",
       "    }\n",
       "\n",
       "    .dataframe thead th {\n",
       "        text-align: right;\n",
       "    }\n",
       "</style>\n",
       "<table border=\"1\" class=\"dataframe\">\n",
       "  <thead>\n",
       "    <tr style=\"text-align: right;\">\n",
       "      <th></th>\n",
       "      <th>default</th>\n",
       "      <th>predictions</th>\n",
       "    </tr>\n",
       "    <tr>\n",
       "      <th>Unnamed: 0</th>\n",
       "      <th></th>\n",
       "      <th></th>\n",
       "    </tr>\n",
       "  </thead>\n",
       "  <tbody>\n",
       "    <tr>\n",
       "      <th>21</th>\n",
       "      <td>0</td>\n",
       "      <td>0.113111</td>\n",
       "    </tr>\n",
       "    <tr>\n",
       "      <th>2757816</th>\n",
       "      <td>0</td>\n",
       "      <td>0.107541</td>\n",
       "    </tr>\n",
       "    <tr>\n",
       "      <th>2757825</th>\n",
       "      <td>0</td>\n",
       "      <td>0.012752</td>\n",
       "    </tr>\n",
       "    <tr>\n",
       "      <th>2757832</th>\n",
       "      <td>0</td>\n",
       "      <td>0.000917</td>\n",
       "    </tr>\n",
       "    <tr>\n",
       "      <th>2757853</th>\n",
       "      <td>0</td>\n",
       "      <td>0.004252</td>\n",
       "    </tr>\n",
       "    <tr>\n",
       "      <th>...</th>\n",
       "      <td>...</td>\n",
       "      <td>...</td>\n",
       "    </tr>\n",
       "    <tr>\n",
       "      <th>1122512</th>\n",
       "      <td>0</td>\n",
       "      <td>0.003149</td>\n",
       "    </tr>\n",
       "    <tr>\n",
       "      <th>1122564</th>\n",
       "      <td>0</td>\n",
       "      <td>0.003648</td>\n",
       "    </tr>\n",
       "    <tr>\n",
       "      <th>1122600</th>\n",
       "      <td>0</td>\n",
       "      <td>0.018034</td>\n",
       "    </tr>\n",
       "    <tr>\n",
       "      <th>1122640</th>\n",
       "      <td>0</td>\n",
       "      <td>0.012057</td>\n",
       "    </tr>\n",
       "    <tr>\n",
       "      <th>4885789</th>\n",
       "      <td>0</td>\n",
       "      <td>0.026556</td>\n",
       "    </tr>\n",
       "  </tbody>\n",
       "</table>\n",
       "<p>185639 rows × 2 columns</p>\n",
       "</div>"
      ],
      "text/plain": [
       "            default  predictions\n",
       "Unnamed: 0                      \n",
       "21                0     0.113111\n",
       "2757816           0     0.107541\n",
       "2757825           0     0.012752\n",
       "2757832           0     0.000917\n",
       "2757853           0     0.004252\n",
       "...             ...          ...\n",
       "1122512           0     0.003149\n",
       "1122564           0     0.003648\n",
       "1122600           0     0.018034\n",
       "1122640           0     0.012057\n",
       "4885789           0     0.026556\n",
       "\n",
       "[185639 rows x 2 columns]"
      ]
     },
     "execution_count": 24,
     "metadata": {},
     "output_type": "execute_result"
    }
   ],
   "source": [
    "test_results"
   ]
  },
  {
   "cell_type": "code",
   "execution_count": 25,
   "id": "dc80be3a-29e6-4409-bb01-66be97a1902a",
   "metadata": {},
   "outputs": [
    {
     "name": "stdout",
     "output_type": "stream",
     "text": [
      "ROC AUC 0.8666052142535062\n"
     ]
    },
    {
     "data": {
      "text/plain": [
       "<sklearn.metrics._plot.roc_curve.RocCurveDisplay at 0x294093ed0>"
      ]
     },
     "execution_count": 25,
     "metadata": {},
     "output_type": "execute_result"
    },
    {
     "data": {
      "image/png": "[encoded data removed]",
      "text/plain": [
       "<Figure size 640x480 with 1 Axes>"
      ]
     },
     "metadata": {},
     "output_type": "display_data"
    }
   ],
   "source": [
    "fpr, tpr, thresholds = metrics.roc_curve(test_results['default'], test_results['predictions'])\n",
    "roc_auc = metrics.auc(fpr, tpr)\n",
    "roc_display = metrics.RocCurveDisplay(fpr=fpr, tpr=tpr, roc_auc=roc_auc)\n",
    "print(f'ROC AUC {roc_auc}')\n",
    "roc_display.plot()"
   ]
  },
  {
   "cell_type": "code",
   "execution_count": null,
   "id": "3b03f4dd-136d-4d6e-a40a-cbe045b720f3",
   "metadata": {},
   "outputs": [],
   "source": []
  }
 ],
 "metadata": {
  "kernelspec": {
   "display_name": "Python 3 (ipykernel)",
   "language": "python",
   "name": "python3"
  },
  "language_info": {
   "codemirror_mode": {
    "name": "ipython",
    "version": 3
   },
   "file_extension": ".py",
   "mimetype": "text/x-python",
   "name": "python",
   "nbconvert_exporter": "python",
   "pygments_lexer": "ipython3",
   "version": "3.13.0"
  }
 },
 "nbformat": 4,
 "nbformat_minor": 5
}
