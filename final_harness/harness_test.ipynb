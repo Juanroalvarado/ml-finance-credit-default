{
 "cells": [
  {
   "cell_type": "code",
   "execution_count": 1,
   "id": "acd60ab8-f16d-4b7b-a6d2-ccc55c63c0b2",
   "metadata": {},
   "outputs": [],
   "source": [
    "import pandas as pd\n",
    "import pickle\n",
    "\n",
    "from model_functions import SplitModel\n",
    "from preproc_functions import pre_process"
   ]
  },
  {
   "cell_type": "code",
   "execution_count": 2,
   "id": "02fb60fe-b33f-4f1f-8b3d-13d390434341",
   "metadata": {},
   "outputs": [],
   "source": [
    "# python3 harness.py --input_csv  <input file in csv> --output_csv <output csv file path to which the predictions are written> "
   ]
  },
  {
   "cell_type": "markdown",
   "id": "6d709d52-22e3-4272-8fb6-16cd9e4deda7",
   "metadata": {},
   "source": [
    " The output should be a csv with a single column with PD estimates corresponding to the testing input rows. Your output should not have a header"
   ]
  },
  {
   "cell_type": "code",
   "execution_count": 3,
   "id": "7feecdfa-fdfc-4f91-91c3-a1bd61d7ba3a",
   "metadata": {},
   "outputs": [],
   "source": [
    "historical_data = pd.read_csv('historical_features.csv',index_col=0)"
   ]
  },
  {
   "cell_type": "code",
   "execution_count": 4,
   "id": "dcc42aaf-885d-4df4-8ff6-129a63a65668",
   "metadata": {},
   "outputs": [],
   "source": [
    "historical_data['stmt_date'] = pd.to_datetime(historical_data['stmt_date'])"
   ]
  },
  {
   "cell_type": "code",
   "execution_count": 5,
   "id": "70ef2fc7-d868-41c4-b55a-ccbb13107989",
   "metadata": {},
   "outputs": [],
   "source": [
    "with open('custom_bins.pkl', 'rb') as inp:\n",
    "    custom_bins = pickle.load(inp)\n",
    "\n",
    "with open('preproc_params.pkl', 'rb') as inp:\n",
    "    preproc_params = pickle.load(inp)\n",
    "\n",
    "with open('trained_model.pkl', 'rb') as inp:\n",
    "    trained_model = pickle.load(inp)"
   ]
  },
  {
   "cell_type": "code",
   "execution_count": 6,
   "id": "1340963e-43d5-441e-9ad3-6e0a0e3a31f7",
   "metadata": {},
   "outputs": [],
   "source": [
    "holdout_df = pd.read_csv('test_for_2012.csv',index_col=0)\n",
    "\n",
    "holdout_df['stmt_date'] = pd.to_datetime(holdout_df['stmt_date'])\n",
    "holdout_df['def_date'] = pd.to_datetime(holdout_df['def_date'], format=\"%d/%m/%Y\")\n",
    "holdout_df.sort_values('stmt_date', inplace=True)"
   ]
  },
  {
   "cell_type": "code",
   "execution_count": 7,
   "id": "3c4f298d-2f24-48fc-be06-c7884dd68ce4",
   "metadata": {},
   "outputs": [
    {
     "name": "stdout",
     "output_type": "stream",
     "text": [
      "asst_tot_quantile\n",
      "financial_leverage_quantile\n",
      "profitability_ratio_quantile\n",
      "roe_quantile\n",
      "net_income_growth_quantile\n",
      "quick_ratio_v2_quantile\n",
      "sales_growth_quantile\n",
      "cash_assets_ratio_quantile\n",
      "dscr_quantile\n"
     ]
    }
   ],
   "source": [
    "test_data_proc , preproc_params = pre_process(holdout_df, \n",
    "                                             historical_df=historical_data, \n",
    "                                             new=False, \n",
    "                                             preproc_params = preproc_params,  \n",
    "                                             quantiles = 50, \n",
    "                                             days_until_statement = 150)"
   ]
  },
  {
   "cell_type": "code",
   "execution_count": 11,
   "id": "7b837f03-9595-44e2-97e4-42222ce64a1c",
   "metadata": {},
   "outputs": [
    {
     "name": "stdout",
     "output_type": "stream",
     "text": [
      "rec data length 172921\n",
      "first data length 12718\n"
     ]
    }
   ],
   "source": [
    "predictions = trained_model.predict(test_data_proc)"
   ]
  },
  {
   "cell_type": "code",
   "execution_count": 12,
   "id": "9e2a1782-1f95-467a-9288-119b01e7e52e",
   "metadata": {},
   "outputs": [
    {
     "data": {
      "text/plain": [
       "Unnamed: 0\n",
       "21         0.096428\n",
       "2757816    0.104018\n",
       "2757825    0.013074\n",
       "2757832    0.005334\n",
       "2757853    0.003629\n",
       "dtype: float64"
      ]
     },
     "execution_count": 12,
     "metadata": {},
     "output_type": "execute_result"
    }
   ],
   "source": [
    "predictions.head()"
   ]
  },
  {
   "cell_type": "code",
   "execution_count": 13,
   "id": "9003c590-56ec-4bf7-a852-b5198d11dcd9",
   "metadata": {},
   "outputs": [],
   "source": [
    "output_path = 'results.csv'\n",
    "predictions.to_csv(output_path,index=False,header=False)"
   ]
  },
  {
   "cell_type": "code",
   "execution_count": null,
   "id": "31a9aaa4-dc43-48bd-8b26-7d2b06d198d3",
   "metadata": {},
   "outputs": [],
   "source": []
  }
 ],
 "metadata": {
  "kernelspec": {
   "display_name": "Python 3 (ipykernel)",
   "language": "python",
   "name": "python3"
  },
  "language_info": {
   "codemirror_mode": {
    "name": "ipython",
    "version": 3
   },
   "file_extension": ".py",
   "mimetype": "text/x-python",
   "name": "python",
   "nbconvert_exporter": "python",
   "pygments_lexer": "ipython3",
   "version": "3.13.0"
  }
 },
 "nbformat": 4,
 "nbformat_minor": 5
}
