{
 "cells": [
  {
   "cell_type": "markdown",
   "id": "36b069c2",
   "metadata": {},
   "source": [
    "# Imports"
   ]
  },
  {
   "cell_type": "code",
   "execution_count": 1,
   "id": "9588a15c",
   "metadata": {},
   "outputs": [],
   "source": [
    "import pandas as pd\n",
    "import numpy as np\n",
    "import matplotlib.pyplot as plt\n",
    "import seaborn as sns\n",
    "import warnings\n",
    "warnings.filterwarnings(\"ignore\")"
   ]
  },
  {
   "cell_type": "code",
   "execution_count": 5,
   "id": "b185afd1",
   "metadata": {},
   "outputs": [
    {
     "data": {
      "text/html": [
       "<div>\n",
       "<style scoped>\n",
       "    .dataframe tbody tr th:only-of-type {\n",
       "        vertical-align: middle;\n",
       "    }\n",
       "\n",
       "    .dataframe tbody tr th {\n",
       "        vertical-align: top;\n",
       "    }\n",
       "\n",
       "    .dataframe thead th {\n",
       "        text-align: right;\n",
       "    }\n",
       "</style>\n",
       "<table border=\"1\" class=\"dataframe\">\n",
       "  <thead>\n",
       "    <tr style=\"text-align: right;\">\n",
       "      <th></th>\n",
       "      <th>id</th>\n",
       "      <th>stmt_date</th>\n",
       "      <th>HQ_city</th>\n",
       "      <th>legal_struct</th>\n",
       "      <th>ateco_sector</th>\n",
       "      <th>def_date</th>\n",
       "      <th>fs_year</th>\n",
       "      <th>asst_intang_fixed</th>\n",
       "      <th>asst_tang_fixed</th>\n",
       "      <th>asst_fixed_fin</th>\n",
       "      <th>...</th>\n",
       "      <th>inc_extraord</th>\n",
       "      <th>taxes</th>\n",
       "      <th>profit</th>\n",
       "      <th>days_rec</th>\n",
       "      <th>ebitda</th>\n",
       "      <th>roa</th>\n",
       "      <th>roe</th>\n",
       "      <th>wc_net</th>\n",
       "      <th>margin_fin</th>\n",
       "      <th>cf_operations</th>\n",
       "    </tr>\n",
       "  </thead>\n",
       "  <tbody>\n",
       "    <tr>\n",
       "      <th>17</th>\n",
       "      <td>520288</td>\n",
       "      <td>2011-12-31</td>\n",
       "      <td>28.0</td>\n",
       "      <td>SRL</td>\n",
       "      <td>14.0</td>\n",
       "      <td>NaT</td>\n",
       "      <td>2011</td>\n",
       "      <td>67537.0</td>\n",
       "      <td>1137566.0</td>\n",
       "      <td>1908.0</td>\n",
       "      <td>...</td>\n",
       "      <td>-309.0</td>\n",
       "      <td>-80959.0</td>\n",
       "      <td>-81288.0</td>\n",
       "      <td>NaN</td>\n",
       "      <td>6318.0</td>\n",
       "      <td>-3.81</td>\n",
       "      <td>-28.03</td>\n",
       "      <td>496258.0</td>\n",
       "      <td>-917029.0</td>\n",
       "      <td>-849.0</td>\n",
       "    </tr>\n",
       "    <tr>\n",
       "      <th>18</th>\n",
       "      <td>520288</td>\n",
       "      <td>2008-12-31</td>\n",
       "      <td>28.0</td>\n",
       "      <td>SRL</td>\n",
       "      <td>14.0</td>\n",
       "      <td>NaT</td>\n",
       "      <td>2008</td>\n",
       "      <td>256438.0</td>\n",
       "      <td>1181416.0</td>\n",
       "      <td>860.0</td>\n",
       "      <td>...</td>\n",
       "      <td>-678.0</td>\n",
       "      <td>-94622.0</td>\n",
       "      <td>-107382.0</td>\n",
       "      <td>NaN</td>\n",
       "      <td>46088.0</td>\n",
       "      <td>-2.76</td>\n",
       "      <td>NaN</td>\n",
       "      <td>97952.0</td>\n",
       "      <td>NaN</td>\n",
       "      <td>-3881.0</td>\n",
       "    </tr>\n",
       "    <tr>\n",
       "      <th>19</th>\n",
       "      <td>520288</td>\n",
       "      <td>2009-12-31</td>\n",
       "      <td>28.0</td>\n",
       "      <td>SRL</td>\n",
       "      <td>14.0</td>\n",
       "      <td>NaT</td>\n",
       "      <td>2009</td>\n",
       "      <td>194046.0</td>\n",
       "      <td>1152014.0</td>\n",
       "      <td>860.0</td>\n",
       "      <td>...</td>\n",
       "      <td>4224.0</td>\n",
       "      <td>-74235.0</td>\n",
       "      <td>-77819.0</td>\n",
       "      <td>NaN</td>\n",
       "      <td>67611.0</td>\n",
       "      <td>-2.17</td>\n",
       "      <td>NaN</td>\n",
       "      <td>-210671.0</td>\n",
       "      <td>NaN</td>\n",
       "      <td>32618.0</td>\n",
       "    </tr>\n",
       "    <tr>\n",
       "      <th>21</th>\n",
       "      <td>520288</td>\n",
       "      <td>2012-12-31</td>\n",
       "      <td>28.0</td>\n",
       "      <td>SRL</td>\n",
       "      <td>14.0</td>\n",
       "      <td>NaT</td>\n",
       "      <td>2012</td>\n",
       "      <td>15195.0</td>\n",
       "      <td>1116938.0</td>\n",
       "      <td>2023.0</td>\n",
       "      <td>...</td>\n",
       "      <td>3634.0</td>\n",
       "      <td>-250786.0</td>\n",
       "      <td>-250786.0</td>\n",
       "      <td>NaN</td>\n",
       "      <td>-161478.0</td>\n",
       "      <td>-12.99</td>\n",
       "      <td>NaN</td>\n",
       "      <td>367892.0</td>\n",
       "      <td>-1094962.0</td>\n",
       "      <td>-168907.0</td>\n",
       "    </tr>\n",
       "    <tr>\n",
       "      <th>22</th>\n",
       "      <td>520288</td>\n",
       "      <td>2007-12-31</td>\n",
       "      <td>28.0</td>\n",
       "      <td>SRL</td>\n",
       "      <td>14.0</td>\n",
       "      <td>NaT</td>\n",
       "      <td>2007</td>\n",
       "      <td>126603.0</td>\n",
       "      <td>1127807.0</td>\n",
       "      <td>620.0</td>\n",
       "      <td>...</td>\n",
       "      <td>820.0</td>\n",
       "      <td>92192.0</td>\n",
       "      <td>36733.0</td>\n",
       "      <td>NaN</td>\n",
       "      <td>153060.0</td>\n",
       "      <td>6.20</td>\n",
       "      <td>52.43</td>\n",
       "      <td>-317007.0</td>\n",
       "      <td>-1184970.0</td>\n",
       "      <td>80039.0</td>\n",
       "    </tr>\n",
       "  </tbody>\n",
       "</table>\n",
       "<p>5 rows × 43 columns</p>\n",
       "</div>"
      ],
      "text/plain": [
       "        id   stmt_date  HQ_city legal_struct  ateco_sector def_date  fs_year  \\\n",
       "17  520288  2011-12-31     28.0          SRL          14.0      NaT     2011   \n",
       "18  520288  2008-12-31     28.0          SRL          14.0      NaT     2008   \n",
       "19  520288  2009-12-31     28.0          SRL          14.0      NaT     2009   \n",
       "21  520288  2012-12-31     28.0          SRL          14.0      NaT     2012   \n",
       "22  520288  2007-12-31     28.0          SRL          14.0      NaT     2007   \n",
       "\n",
       "    asst_intang_fixed  asst_tang_fixed  asst_fixed_fin  ...  inc_extraord  \\\n",
       "17            67537.0        1137566.0          1908.0  ...        -309.0   \n",
       "18           256438.0        1181416.0           860.0  ...        -678.0   \n",
       "19           194046.0        1152014.0           860.0  ...        4224.0   \n",
       "21            15195.0        1116938.0          2023.0  ...        3634.0   \n",
       "22           126603.0        1127807.0           620.0  ...         820.0   \n",
       "\n",
       "       taxes    profit  days_rec    ebitda    roa    roe    wc_net  \\\n",
       "17  -80959.0  -81288.0       NaN    6318.0  -3.81 -28.03  496258.0   \n",
       "18  -94622.0 -107382.0       NaN   46088.0  -2.76    NaN   97952.0   \n",
       "19  -74235.0  -77819.0       NaN   67611.0  -2.17    NaN -210671.0   \n",
       "21 -250786.0 -250786.0       NaN -161478.0 -12.99    NaN  367892.0   \n",
       "22   92192.0   36733.0       NaN  153060.0   6.20  52.43 -317007.0   \n",
       "\n",
       "    margin_fin  cf_operations  \n",
       "17   -917029.0         -849.0  \n",
       "18         NaN        -3881.0  \n",
       "19         NaN        32618.0  \n",
       "21  -1094962.0      -168907.0  \n",
       "22  -1184970.0        80039.0  \n",
       "\n",
       "[5 rows x 43 columns]"
      ]
     },
     "execution_count": 5,
     "metadata": {},
     "output_type": "execute_result"
    }
   ],
   "source": [
    "file_path = 'train.csv'  \n",
    "df = pd.read_csv(file_path, index_col=0)\n",
    "df.head()"
   ]
  },
  {
   "cell_type": "code",
   "execution_count": 6,
   "id": "81cc921d-c353-4fc6-89ac-932d9554c5e2",
   "metadata": {},
   "outputs": [
    {
     "data": {
      "text/plain": [
       "(1023552, 43)"
      ]
     },
     "execution_count": 6,
     "metadata": {},
     "output_type": "execute_result"
    }
   ],
   "source": [
    "df.shape"
   ]
  },
  {
   "cell_type": "code",
   "execution_count": 11,
   "id": "02b8b596-0dd1-454e-a662-3c513f70cabf",
   "metadata": {},
   "outputs": [
    {
     "data": {
      "text/plain": [
       "('2007-12-31', '2012-12-31')"
      ]
     },
     "execution_count": 11,
     "metadata": {},
     "output_type": "execute_result"
    }
   ],
   "source": [
    "df['stmt_date'].min(),df['stmt_date'].max()"
   ]
  },
  {
   "cell_type": "code",
   "execution_count": 13,
   "id": "896ec634-f3d2-4650-9e1e-ac16b20b3d4f",
   "metadata": {},
   "outputs": [],
   "source": [
    "# "
   ]
  },
  {
   "cell_type": "markdown",
   "id": "10609272",
   "metadata": {},
   "source": [
    "### OUTLIER REMOVAL: COMMENT OUT LATER"
   ]
  },
  {
   "cell_type": "code",
   "execution_count": 14,
   "id": "d06a09c4",
   "metadata": {},
   "outputs": [],
   "source": [
    "# #Remove Outlier to get better look with scatter plots\n",
    "# max_value = df['asst_tot'].max()\n",
    "# df = df[df['asst_tot'] != max_value]\n",
    "\n",
    "# print(df['asst_tot'].max())"
   ]
  },
  {
   "cell_type": "markdown",
   "id": "da6a6d0f",
   "metadata": {},
   "source": [
    "## Default within a Year (Definition may be adjusted later)"
   ]
  },
  {
   "cell_type": "code",
   "execution_count": 15,
   "id": "7b44bad1",
   "metadata": {},
   "outputs": [],
   "source": [
    "df['stmt_date'] = pd.to_datetime(df['stmt_date'])\n",
    "df['def_date'] = pd.to_datetime(df['def_date'])\n",
    "\n",
    "# Calculate 1 year after stmt_date\n",
    "one_year_after = df['stmt_date'] + pd.DateOffset(years=1)\n",
    "\n",
    "# Define default if def_date is between stmt_date and one_year_after\n",
    "df['default'] = ((df['def_date'] >= df['stmt_date']) & (df['def_date'] <= one_year_after)).astype(int)"
   ]
  },
  {
   "cell_type": "code",
   "execution_count": 16,
   "id": "741e7fbc",
   "metadata": {},
   "outputs": [
    {
     "data": {
      "text/plain": [
       "np.float64(0.0112783717876571)"
      ]
     },
     "execution_count": 16,
     "metadata": {},
     "output_type": "execute_result"
    }
   ],
   "source": [
    "df['default'].mean()"
   ]
  },
  {
   "cell_type": "code",
   "execution_count": 17,
   "id": "bed5050d",
   "metadata": {},
   "outputs": [
    {
     "data": {
      "text/html": [
       "<div>\n",
       "<style scoped>\n",
       "    .dataframe tbody tr th:only-of-type {\n",
       "        vertical-align: middle;\n",
       "    }\n",
       "\n",
       "    .dataframe tbody tr th {\n",
       "        vertical-align: top;\n",
       "    }\n",
       "\n",
       "    .dataframe thead th {\n",
       "        text-align: right;\n",
       "    }\n",
       "</style>\n",
       "<table border=\"1\" class=\"dataframe\">\n",
       "  <thead>\n",
       "    <tr style=\"text-align: right;\">\n",
       "      <th></th>\n",
       "      <th>id</th>\n",
       "      <th>stmt_date</th>\n",
       "      <th>HQ_city</th>\n",
       "      <th>legal_struct</th>\n",
       "      <th>ateco_sector</th>\n",
       "      <th>def_date</th>\n",
       "      <th>fs_year</th>\n",
       "      <th>asst_intang_fixed</th>\n",
       "      <th>asst_tang_fixed</th>\n",
       "      <th>asst_fixed_fin</th>\n",
       "      <th>...</th>\n",
       "      <th>taxes</th>\n",
       "      <th>profit</th>\n",
       "      <th>days_rec</th>\n",
       "      <th>ebitda</th>\n",
       "      <th>roa</th>\n",
       "      <th>roe</th>\n",
       "      <th>wc_net</th>\n",
       "      <th>margin_fin</th>\n",
       "      <th>cf_operations</th>\n",
       "      <th>default</th>\n",
       "    </tr>\n",
       "  </thead>\n",
       "  <tbody>\n",
       "    <tr>\n",
       "      <th>4437727</th>\n",
       "      <td>40230625</td>\n",
       "      <td>2007-12-31</td>\n",
       "      <td>63.0</td>\n",
       "      <td>SRU</td>\n",
       "      <td>47.0</td>\n",
       "      <td>2008-10-31</td>\n",
       "      <td>2007</td>\n",
       "      <td>962.0</td>\n",
       "      <td>109805.0</td>\n",
       "      <td>1000.0</td>\n",
       "      <td>...</td>\n",
       "      <td>-132942.0</td>\n",
       "      <td>-118449.0</td>\n",
       "      <td>52.92</td>\n",
       "      <td>-52281.0</td>\n",
       "      <td>-0.88</td>\n",
       "      <td>-131.96</td>\n",
       "      <td>207900.0</td>\n",
       "      <td>-22007.0</td>\n",
       "      <td>-108670.0</td>\n",
       "      <td>1</td>\n",
       "    </tr>\n",
       "    <tr>\n",
       "      <th>4437728</th>\n",
       "      <td>40750382</td>\n",
       "      <td>2007-12-31</td>\n",
       "      <td>38.0</td>\n",
       "      <td>SRU</td>\n",
       "      <td>45.0</td>\n",
       "      <td>2008-07-28</td>\n",
       "      <td>2007</td>\n",
       "      <td>10063.0</td>\n",
       "      <td>3922517.0</td>\n",
       "      <td>12955.0</td>\n",
       "      <td>...</td>\n",
       "      <td>-773649.0</td>\n",
       "      <td>-811105.0</td>\n",
       "      <td>77.31</td>\n",
       "      <td>32139.0</td>\n",
       "      <td>-1.96</td>\n",
       "      <td>NaN</td>\n",
       "      <td>-2199583.0</td>\n",
       "      <td>NaN</td>\n",
       "      <td>-617507.0</td>\n",
       "      <td>1</td>\n",
       "    </tr>\n",
       "    <tr>\n",
       "      <th>4437731</th>\n",
       "      <td>66210931</td>\n",
       "      <td>2007-12-31</td>\n",
       "      <td>93.0</td>\n",
       "      <td>SRL</td>\n",
       "      <td>68.0</td>\n",
       "      <td>2008-12-22</td>\n",
       "      <td>2007</td>\n",
       "      <td>21052.0</td>\n",
       "      <td>898791.0</td>\n",
       "      <td>0.0</td>\n",
       "      <td>...</td>\n",
       "      <td>-153019.0</td>\n",
       "      <td>-167949.0</td>\n",
       "      <td>NaN</td>\n",
       "      <td>-31374.0</td>\n",
       "      <td>-3.12</td>\n",
       "      <td>NaN</td>\n",
       "      <td>-594066.0</td>\n",
       "      <td>-908808.0</td>\n",
       "      <td>-135332.0</td>\n",
       "      <td>1</td>\n",
       "    </tr>\n",
       "    <tr>\n",
       "      <th>4437732</th>\n",
       "      <td>75040931</td>\n",
       "      <td>2007-12-31</td>\n",
       "      <td>93.0</td>\n",
       "      <td>SPA</td>\n",
       "      <td>31.0</td>\n",
       "      <td>2008-11-19</td>\n",
       "      <td>2007</td>\n",
       "      <td>302565.0</td>\n",
       "      <td>1225564.0</td>\n",
       "      <td>537308.0</td>\n",
       "      <td>...</td>\n",
       "      <td>-1434984.0</td>\n",
       "      <td>-1435842.0</td>\n",
       "      <td>NaN</td>\n",
       "      <td>-718172.0</td>\n",
       "      <td>-14.12</td>\n",
       "      <td>NaN</td>\n",
       "      <td>2540474.0</td>\n",
       "      <td>-1891390.0</td>\n",
       "      <td>-1136205.0</td>\n",
       "      <td>1</td>\n",
       "    </tr>\n",
       "    <tr>\n",
       "      <th>4437735</th>\n",
       "      <td>85280527</td>\n",
       "      <td>2007-12-31</td>\n",
       "      <td>52.0</td>\n",
       "      <td>SRL</td>\n",
       "      <td>10.0</td>\n",
       "      <td>2008-05-15</td>\n",
       "      <td>2007</td>\n",
       "      <td>698.0</td>\n",
       "      <td>2497682.0</td>\n",
       "      <td>0.0</td>\n",
       "      <td>...</td>\n",
       "      <td>-200778.0</td>\n",
       "      <td>-200778.0</td>\n",
       "      <td>NaN</td>\n",
       "      <td>-147948.0</td>\n",
       "      <td>-7.35</td>\n",
       "      <td>-8.08</td>\n",
       "      <td>9893.0</td>\n",
       "      <td>-12174.0</td>\n",
       "      <td>-159578.0</td>\n",
       "      <td>1</td>\n",
       "    </tr>\n",
       "    <tr>\n",
       "      <th>...</th>\n",
       "      <td>...</td>\n",
       "      <td>...</td>\n",
       "      <td>...</td>\n",
       "      <td>...</td>\n",
       "      <td>...</td>\n",
       "      <td>...</td>\n",
       "      <td>...</td>\n",
       "      <td>...</td>\n",
       "      <td>...</td>\n",
       "      <td>...</td>\n",
       "      <td>...</td>\n",
       "      <td>...</td>\n",
       "      <td>...</td>\n",
       "      <td>...</td>\n",
       "      <td>...</td>\n",
       "      <td>...</td>\n",
       "      <td>...</td>\n",
       "      <td>...</td>\n",
       "      <td>...</td>\n",
       "      <td>...</td>\n",
       "      <td>...</td>\n",
       "    </tr>\n",
       "    <tr>\n",
       "      <th>4823555</th>\n",
       "      <td>92000200193</td>\n",
       "      <td>2012-12-31</td>\n",
       "      <td>19.0</td>\n",
       "      <td>SRL</td>\n",
       "      <td>41.0</td>\n",
       "      <td>2013-11-15</td>\n",
       "      <td>2012</td>\n",
       "      <td>0.0</td>\n",
       "      <td>565753.0</td>\n",
       "      <td>1227.0</td>\n",
       "      <td>...</td>\n",
       "      <td>-92149.0</td>\n",
       "      <td>-97709.0</td>\n",
       "      <td>NaN</td>\n",
       "      <td>-172276.0</td>\n",
       "      <td>-4.54</td>\n",
       "      <td>-11.81</td>\n",
       "      <td>584486.0</td>\n",
       "      <td>260330.0</td>\n",
       "      <td>-82393.0</td>\n",
       "      <td>1</td>\n",
       "    </tr>\n",
       "    <tr>\n",
       "      <th>4823559</th>\n",
       "      <td>92068990644</td>\n",
       "      <td>2012-12-31</td>\n",
       "      <td>63.0</td>\n",
       "      <td>SRL</td>\n",
       "      <td>68.0</td>\n",
       "      <td>2013-05-02</td>\n",
       "      <td>2012</td>\n",
       "      <td>11141.0</td>\n",
       "      <td>6765962.0</td>\n",
       "      <td>0.0</td>\n",
       "      <td>...</td>\n",
       "      <td>103330.0</td>\n",
       "      <td>59670.0</td>\n",
       "      <td>-431.80</td>\n",
       "      <td>113470.0</td>\n",
       "      <td>1.58</td>\n",
       "      <td>0.87</td>\n",
       "      <td>86393.0</td>\n",
       "      <td>84381.0</td>\n",
       "      <td>63383.0</td>\n",
       "      <td>1</td>\n",
       "    </tr>\n",
       "    <tr>\n",
       "      <th>4823565</th>\n",
       "      <td>93004420142</td>\n",
       "      <td>2012-12-31</td>\n",
       "      <td>14.0</td>\n",
       "      <td>SPA</td>\n",
       "      <td>37.0</td>\n",
       "      <td>2013-12-19</td>\n",
       "      <td>2012</td>\n",
       "      <td>276865.0</td>\n",
       "      <td>3616109.0</td>\n",
       "      <td>2800.0</td>\n",
       "      <td>...</td>\n",
       "      <td>6264.0</td>\n",
       "      <td>1654.0</td>\n",
       "      <td>-62.08</td>\n",
       "      <td>200453.0</td>\n",
       "      <td>0.72</td>\n",
       "      <td>0.39</td>\n",
       "      <td>-133980.0</td>\n",
       "      <td>-3475857.0</td>\n",
       "      <td>166140.0</td>\n",
       "      <td>1</td>\n",
       "    </tr>\n",
       "    <tr>\n",
       "      <th>4823585</th>\n",
       "      <td>95086570249</td>\n",
       "      <td>2012-12-31</td>\n",
       "      <td>24.0</td>\n",
       "      <td>SRL</td>\n",
       "      <td>70.0</td>\n",
       "      <td>2013-12-18</td>\n",
       "      <td>2012</td>\n",
       "      <td>0.0</td>\n",
       "      <td>0.0</td>\n",
       "      <td>659430.0</td>\n",
       "      <td>...</td>\n",
       "      <td>120983.0</td>\n",
       "      <td>86288.0</td>\n",
       "      <td>NaN</td>\n",
       "      <td>-22522.0</td>\n",
       "      <td>-0.55</td>\n",
       "      <td>1.91</td>\n",
       "      <td>4088506.0</td>\n",
       "      <td>3849373.0</td>\n",
       "      <td>90255.0</td>\n",
       "      <td>1</td>\n",
       "    </tr>\n",
       "    <tr>\n",
       "      <th>4823597</th>\n",
       "      <td>96026470060</td>\n",
       "      <td>2012-12-31</td>\n",
       "      <td>6.0</td>\n",
       "      <td>SPA</td>\n",
       "      <td>38.0</td>\n",
       "      <td>2013-01-14</td>\n",
       "      <td>2012</td>\n",
       "      <td>74282.0</td>\n",
       "      <td>4897839.0</td>\n",
       "      <td>2001.0</td>\n",
       "      <td>...</td>\n",
       "      <td>-8798499.0</td>\n",
       "      <td>-9223954.0</td>\n",
       "      <td>NaN</td>\n",
       "      <td>-269707.0</td>\n",
       "      <td>-23.26</td>\n",
       "      <td>NaN</td>\n",
       "      <td>-5131487.0</td>\n",
       "      <td>NaN</td>\n",
       "      <td>-819965.0</td>\n",
       "      <td>1</td>\n",
       "    </tr>\n",
       "  </tbody>\n",
       "</table>\n",
       "<p>11544 rows × 44 columns</p>\n",
       "</div>"
      ],
      "text/plain": [
       "                  id  stmt_date  HQ_city legal_struct  ateco_sector  \\\n",
       "4437727     40230625 2007-12-31     63.0          SRU          47.0   \n",
       "4437728     40750382 2007-12-31     38.0          SRU          45.0   \n",
       "4437731     66210931 2007-12-31     93.0          SRL          68.0   \n",
       "4437732     75040931 2007-12-31     93.0          SPA          31.0   \n",
       "4437735     85280527 2007-12-31     52.0          SRL          10.0   \n",
       "...              ...        ...      ...          ...           ...   \n",
       "4823555  92000200193 2012-12-31     19.0          SRL          41.0   \n",
       "4823559  92068990644 2012-12-31     63.0          SRL          68.0   \n",
       "4823565  93004420142 2012-12-31     14.0          SPA          37.0   \n",
       "4823585  95086570249 2012-12-31     24.0          SRL          70.0   \n",
       "4823597  96026470060 2012-12-31      6.0          SPA          38.0   \n",
       "\n",
       "          def_date  fs_year  asst_intang_fixed  asst_tang_fixed  \\\n",
       "4437727 2008-10-31     2007              962.0         109805.0   \n",
       "4437728 2008-07-28     2007            10063.0        3922517.0   \n",
       "4437731 2008-12-22     2007            21052.0         898791.0   \n",
       "4437732 2008-11-19     2007           302565.0        1225564.0   \n",
       "4437735 2008-05-15     2007              698.0        2497682.0   \n",
       "...            ...      ...                ...              ...   \n",
       "4823555 2013-11-15     2012                0.0         565753.0   \n",
       "4823559 2013-05-02     2012            11141.0        6765962.0   \n",
       "4823565 2013-12-19     2012           276865.0        3616109.0   \n",
       "4823585 2013-12-18     2012                0.0              0.0   \n",
       "4823597 2013-01-14     2012            74282.0        4897839.0   \n",
       "\n",
       "         asst_fixed_fin  ...      taxes     profit  days_rec    ebitda    roa  \\\n",
       "4437727          1000.0  ...  -132942.0  -118449.0     52.92  -52281.0  -0.88   \n",
       "4437728         12955.0  ...  -773649.0  -811105.0     77.31   32139.0  -1.96   \n",
       "4437731             0.0  ...  -153019.0  -167949.0       NaN  -31374.0  -3.12   \n",
       "4437732        537308.0  ... -1434984.0 -1435842.0       NaN -718172.0 -14.12   \n",
       "4437735             0.0  ...  -200778.0  -200778.0       NaN -147948.0  -7.35   \n",
       "...                 ...  ...        ...        ...       ...       ...    ...   \n",
       "4823555          1227.0  ...   -92149.0   -97709.0       NaN -172276.0  -4.54   \n",
       "4823559             0.0  ...   103330.0    59670.0   -431.80  113470.0   1.58   \n",
       "4823565          2800.0  ...     6264.0     1654.0    -62.08  200453.0   0.72   \n",
       "4823585        659430.0  ...   120983.0    86288.0       NaN  -22522.0  -0.55   \n",
       "4823597          2001.0  ... -8798499.0 -9223954.0       NaN -269707.0 -23.26   \n",
       "\n",
       "            roe     wc_net  margin_fin  cf_operations  default  \n",
       "4437727 -131.96   207900.0    -22007.0      -108670.0        1  \n",
       "4437728     NaN -2199583.0         NaN      -617507.0        1  \n",
       "4437731     NaN  -594066.0   -908808.0      -135332.0        1  \n",
       "4437732     NaN  2540474.0  -1891390.0     -1136205.0        1  \n",
       "4437735   -8.08     9893.0    -12174.0      -159578.0        1  \n",
       "...         ...        ...         ...            ...      ...  \n",
       "4823555  -11.81   584486.0    260330.0       -82393.0        1  \n",
       "4823559    0.87    86393.0     84381.0        63383.0        1  \n",
       "4823565    0.39  -133980.0  -3475857.0       166140.0        1  \n",
       "4823585    1.91  4088506.0   3849373.0        90255.0        1  \n",
       "4823597     NaN -5131487.0         NaN      -819965.0        1  \n",
       "\n",
       "[11544 rows x 44 columns]"
      ]
     },
     "execution_count": 17,
     "metadata": {},
     "output_type": "execute_result"
    }
   ],
   "source": [
    "df[df['default'] == 1]"
   ]
  },
  {
   "cell_type": "code",
   "execution_count": 18,
   "id": "b049eff8",
   "metadata": {},
   "outputs": [
    {
     "data": {
      "text/plain": [
       "Index(['id', 'stmt_date', 'HQ_city', 'legal_struct', 'ateco_sector',\n",
       "       'def_date', 'fs_year', 'asst_intang_fixed', 'asst_tang_fixed',\n",
       "       'asst_fixed_fin', 'asst_current', 'AR', 'cash_and_equiv', 'asst_tot',\n",
       "       'eqty_tot', 'eqty_corp_family_tot', 'liab_lt', 'liab_lt_emp',\n",
       "       'debt_bank_st', 'debt_bank_lt', 'debt_fin_st', 'debt_fin_lt', 'AP_st',\n",
       "       'AP_lt', 'debt_st', 'debt_lt', 'rev_operating', 'COGS',\n",
       "       'prof_operations', 'goodwill', 'inc_financing', 'exp_financing',\n",
       "       'prof_financing', 'inc_extraord', 'taxes', 'profit', 'days_rec',\n",
       "       'ebitda', 'roa', 'roe', 'wc_net', 'margin_fin', 'cf_operations',\n",
       "       'default'],\n",
       "      dtype='object')"
      ]
     },
     "execution_count": 18,
     "metadata": {},
     "output_type": "execute_result"
    }
   ],
   "source": [
    "df.columns"
   ]
  },
  {
   "cell_type": "code",
   "execution_count": 19,
   "id": "0df51992",
   "metadata": {},
   "outputs": [
    {
     "name": "stdout",
     "output_type": "stream",
     "text": [
      "missing vals:\n",
      "HQ_city                     277\n",
      "def_date                 968128\n",
      "asst_intang_fixed           162\n",
      "asst_tang_fixed             103\n",
      "asst_fixed_fin              237\n",
      "asst_current                  1\n",
      "AR                           12\n",
      "cash_and_equiv               17\n",
      "eqty_tot                      1\n",
      "eqty_corp_family_tot    1023552\n",
      "liab_lt                     294\n",
      "liab_lt_emp                 162\n",
      "debt_bank_st             121331\n",
      "debt_bank_lt              90971\n",
      "debt_fin_st              122772\n",
      "debt_fin_lt               92068\n",
      "AP_st                    120635\n",
      "AP_lt                     92244\n",
      "debt_st                       5\n",
      "debt_lt                     155\n",
      "rev_operating               174\n",
      "COGS                         24\n",
      "prof_operations              21\n",
      "goodwill                     21\n",
      "inc_financing                26\n",
      "exp_financing               367\n",
      "prof_financing              656\n",
      "inc_extraord                305\n",
      "taxes                        32\n",
      "profit                       20\n",
      "days_rec                 740211\n",
      "ebitda                       81\n",
      "roa                          27\n",
      "roe                       72937\n",
      "wc_net                        6\n",
      "margin_fin                40758\n",
      "cf_operations                88\n",
      "dtype: int64\n"
     ]
    }
   ],
   "source": [
    "# Check for missing values\n",
    "missing_values = df.isnull().sum()\n",
    "print('missing vals:')\n",
    "print(missing_values[missing_values > 0])"
   ]
  },
  {
   "cell_type": "markdown",
   "id": "b7fc9954",
   "metadata": {},
   "source": [
    "# Features of Risk Calc\n",
    "- Assets (Total): Measures the size of the firm, adjusted for inflation.\n",
    "- Inventory / Cost of Goods Sold (COGS): Assesses inventory efficiency.\n",
    "- Liabilities / Assets: A measure of financial leverage.\n",
    "- Net Income / Assets: Profitability ratio indicating asset efficiency.\n",
    "- Net Income Growth: Tracks changes in profitability over time.\n",
    "- Quick Ratio: A liquidity ratio for assessing short-term solvency.\n",
    "- Retained Earnings / Assets: Indicates long-term financial stability.\n",
    "- Sales Growth: Measures the growth trajectory of a firm's revenue.\n",
    "- Cash / Assets: Assesses liquidity and the firm’s ability to meet short-term obligations.\n",
    "- Debt Service Coverage Ratio: Evaluates the firm's ability to cover debt payments from its earnings.\n"
   ]
  },
  {
   "cell_type": "markdown",
   "id": "aa7c505c",
   "metadata": {},
   "source": [
    "## 1. Assets Total QA"
   ]
  },
  {
   "cell_type": "code",
   "execution_count": 20,
   "id": "a6ae8c01",
   "metadata": {},
   "outputs": [
    {
     "data": {
      "image/png": "[encoded data removed]",
      "text/plain": [
       "<Figure size 800x600 with 1 Axes>"
      ]
     },
     "metadata": {},
     "output_type": "display_data"
    }
   ],
   "source": [
    "# Create a histogram with 50 bins to display the distribution of total assets\n",
    "plt.figure(figsize=(8, 6))\n",
    "plt.hist(df['asst_tot'], bins=100, density=True, color='purple', alpha=0.6)\n",
    "plt.title('Total Assets Distribution')\n",
    "plt.xlabel('Total Assets (asst_tot)')\n",
    "plt.ylabel('Density')\n",
    "plt.grid(True)\n",
    "\n",
    "# Display the plot\n",
    "plt.show()"
   ]
  },
  {
   "cell_type": "code",
   "execution_count": 21,
   "id": "08ad16b8",
   "metadata": {},
   "outputs": [
    {
     "data": {
      "image/png": "[encoded data removed]",
      "text/plain": [
       "<Figure size 800x600 with 1 Axes>"
      ]
     },
     "metadata": {},
     "output_type": "display_data"
    },
    {
     "name": "stdout",
     "output_type": "stream",
     "text": [
      "average_percent_difference between asst_intang_fixed + asst_tang_fixed + asst_fixed_fin + asst_current and total assets: 1.299050089047286\n"
     ]
    }
   ],
   "source": [
    "calculated_assets_total = (\n",
    "    df['asst_intang_fixed'] + \n",
    "    df['asst_tang_fixed'] + \n",
    "    df['asst_fixed_fin'] + \n",
    "    df['asst_current']\n",
    ")\n",
    "\n",
    "# Compare calculated total assets with the provided total assets\n",
    "df['calculated_asst_tot'] = calculated_assets_total\n",
    "\n",
    "# Create a scatter plot comparing calculated total assets to provided total assets\n",
    "plt.figure(figsize=(8, 6))\n",
    "plt.scatter(df['asst_tot'], df['calculated_asst_tot'], color='blue', alpha=0.6)\n",
    "plt.plot([df['asst_tot'].min(), df['asst_tot'].max()], [df['asst_tot'].min(), df['asst_tot'].max()], color='red', lw=2, linestyle='--')  # Line of equality\n",
    "plt.title('Scatter Plot of Provided vs Calculated Total Assets')\n",
    "plt.xlabel('Provided Total Assets (asst_tot)')\n",
    "plt.ylabel('Calculated Total Assets (calculated_asst_tot)')\n",
    "plt.grid(True)\n",
    "\n",
    "# Display the plot\n",
    "plt.show()\n",
    "\n",
    "# Calculate percent difference\n",
    "percent_difference = (df['calculated_asst_tot'] - df['asst_tot']).abs() / df['asst_tot'] * 100\n",
    "# Calculate the average percent difference\n",
    "average_percent_difference = percent_difference.mean()\n",
    "print('average_percent_difference between asst_intang_fixed + asst_tang_fixed + asst_fixed_fin + asst_current and total assets:', average_percent_difference)"
   ]
  },
  {
   "cell_type": "markdown",
   "id": "aeef8fd7",
   "metadata": {},
   "source": [
    "#### It appears that total assets is roughly df['asst_intang_fixed'] + df['asst_tang_fixed'] + df['asst_fixed_fin'] + df['asst_current'], although there is a 1.4% difference."
   ]
  },
  {
   "cell_type": "markdown",
   "id": "749754cc",
   "metadata": {},
   "source": [
    "### Is data reliable? Let's check Assets = Liabilities + Equity"
   ]
  },
  {
   "cell_type": "code",
   "execution_count": 22,
   "id": "b14cb26f",
   "metadata": {},
   "outputs": [
    {
     "data": {
      "image/png": "[encoded data removed]",
      "text/plain": [
       "<Figure size 800x600 with 1 Axes>"
      ]
     },
     "metadata": {},
     "output_type": "display_data"
    },
    {
     "name": "stdout",
     "output_type": "stream",
     "text": [
      "avg pct diff: 16.7001427751732\n"
     ]
    }
   ],
   "source": [
    "df['liab_tot'] = df['debt_st'] + df['debt_lt'] + df['AP_st'] + df['AP_lt']\n",
    "df['calculated_liabilities_equity'] = df['liab_tot'] + df['eqty_tot']\n",
    "\n",
    "# Create a scatter plot comparing total assets to liabilities + equity\n",
    "plt.figure(figsize=(8, 6))\n",
    "plt.scatter(df['asst_tot'], df['calculated_liabilities_equity'], color='green', alpha=0.6)\n",
    "plt.plot([df['asst_tot'].min(), df['asst_tot'].max()], [df['asst_tot'].min(), df['asst_tot'].max()], color='red', lw=2, linestyle='--')  # Line of equality\n",
    "plt.title('Scatter Plot of Provided Total Assets vs Liabilities + Equity')\n",
    "plt.xlabel('Provided Total Assets (asst_tot)')\n",
    "plt.ylabel('Liabilities + Equity')\n",
    "plt.grid(True)\n",
    "\n",
    "# Display the plot\n",
    "plt.show()\n",
    "\n",
    "# Calculate percent difference\n",
    "percent_difference_liabilities_equity = (df['calculated_liabilities_equity'] - df['asst_tot']).abs() / df['asst_tot'] * 100\n",
    "\n",
    "# Calculate the average percent difference\n",
    "average_percent_difference_liabilities_equity = percent_difference_liabilities_equity.mean()\n",
    "print('avg pct diff:', average_percent_difference_liabilities_equity)\n"
   ]
  },
  {
   "cell_type": "code",
   "execution_count": 23,
   "id": "861cf811",
   "metadata": {},
   "outputs": [
    {
     "data": {
      "image/png": "[encoded data removed]",
      "text/plain": [
       "<Figure size 800x600 with 1 Axes>"
      ]
     },
     "metadata": {},
     "output_type": "display_data"
    },
    {
     "name": "stdout",
     "output_type": "stream",
     "text": [
      "avg pct diff: 5.095842477577012\n"
     ]
    }
   ],
   "source": [
    "df['liab_tot'] = df['debt_st'] + df['debt_lt'] \n",
    "df['calculated_liabilities_equity'] = df['liab_tot'] + df['eqty_tot']\n",
    "\n",
    "# Create a scatter plot comparing total assets to liabilities + equity\n",
    "plt.figure(figsize=(8, 6))\n",
    "plt.scatter(df['asst_tot'], df['calculated_liabilities_equity'], color='green', alpha=0.6)\n",
    "plt.plot([df['asst_tot'].min(), df['asst_tot'].max()], [df['asst_tot'].min(), df['asst_tot'].max()], color='red', lw=2, linestyle='--')  # Line of equality\n",
    "plt.title('Scatter Plot of Provided Total Assets vs Liabilities + Equity')\n",
    "plt.xlabel('Provided Total Assets (asst_tot)')\n",
    "plt.ylabel('Liabilities + Equity')\n",
    "plt.grid(True)\n",
    "\n",
    "# Display the plot\n",
    "plt.show()\n",
    "\n",
    "# Calculate percent difference\n",
    "percent_difference_liabilities_equity = (df['calculated_liabilities_equity'] - df['asst_tot']).abs() / df['asst_tot'] * 100\n",
    "\n",
    "# Calculate the average percent difference\n",
    "average_percent_difference_liabilities_equity = percent_difference_liabilities_equity.mean()\n",
    "print('avg pct diff:', average_percent_difference_liabilities_equity)\n"
   ]
  },
  {
   "cell_type": "markdown",
   "id": "178789bd",
   "metadata": {},
   "source": [
    "#### It seems here that liab_tot is better approximated by just total debt.... This doesn't make sense to me.\n",
    "----\n",
    "I think perhaps the issue is due to issues with accounts payables having nulls. The thing is I don't think we can recover AP_st or AP_lt because we do not have a total AP number. **Only idea is that AP total could be extracted from some other field??** As of RN I do not know if possible..."
   ]
  },
  {
   "cell_type": "markdown",
   "id": "42a76e65",
   "metadata": {},
   "source": [
    "## Conditional Probability of Default for Total Assets"
   ]
  },
  {
   "cell_type": "code",
   "execution_count": 24,
   "id": "6ccfb8dd",
   "metadata": {},
   "outputs": [
    {
     "data": {
      "image/png": "[encoded data removed]",
      "text/plain": [
       "<Figure size 800x600 with 1 Axes>"
      ]
     },
     "metadata": {},
     "output_type": "display_data"
    }
   ],
   "source": [
    "quantiles = 10\n",
    "df['asset_quantile'] = pd.qcut(df['asst_tot'], q=quantiles, labels=False)  # 4 quantiles (quartiles)\n",
    "\n",
    "# Step 3: Calculate the conditional probability of default for each quantile\n",
    "quantile_default_rate = df.groupby('asset_quantile')['default'].mean()\n",
    "quantile_default_rate\n",
    "\n",
    "plt.figure(figsize=(8, 6))\n",
    "\n",
    "# Plot the line chart for default probability by asset quantile\n",
    "plt.plot(quantile_default_rate.index, quantile_default_rate.values, marker='o', linestyle='-', color='b')\n",
    "\n",
    "# Add labels and title\n",
    "plt.title('Conditional Probability of Default by Asset Quantile')\n",
    "plt.xlabel('Asset Quantile')\n",
    "plt.ylabel('Probability of Default')\n",
    "plt.grid(True)\n",
    "\n",
    "# Show the plot\n",
    "plt.show()"
   ]
  },
  {
   "cell_type": "markdown",
   "id": "4da78910",
   "metadata": {},
   "source": [
    "# 2. Inventory / Cost of Goods Sold (COGS):  (inventory efficiency)\n",
    "----\n",
    "We do not have access to Inventory, nor a good way to extract it from the fields we have... We will have to skip this"
   ]
  },
  {
   "cell_type": "markdown",
   "id": "c7044561",
   "metadata": {},
   "source": [
    "# 3. Liabilities / Assets: (financial leverage)\n",
    "-----\n",
    "For this to work, we have to be somewhat sure that our total Liabilities field we calculated makes sense. The above check that total assets = total liabilities + equity shows that it is at least close. **It is possible we are missing something in calculating our total liabilities though and if we are then this could be impacted.** "
   ]
  },
  {
   "cell_type": "code",
   "execution_count": 25,
   "id": "2749838f",
   "metadata": {},
   "outputs": [
    {
     "data": {
      "image/png": "[encoded data removed]",
      "text/plain": [
       "<Figure size 800x600 with 1 Axes>"
      ]
     },
     "metadata": {},
     "output_type": "display_data"
    }
   ],
   "source": [
    "df['financial_leverage'] = df['liab_tot'] / df['asst_tot']\n",
    "\n",
    "# Create a histogram with 50 bins to display the distribution of total assets\n",
    "plt.figure(figsize=(8, 6))\n",
    "plt.hist(df['financial_leverage'], bins=100, density=True, color='purple', alpha=0.6)\n",
    "plt.title('Financial Leverage (Liabilities / Assets)')\n",
    "plt.xlabel('Financial Leverage (financial_leverage)')\n",
    "plt.ylabel('Density')\n",
    "plt.grid(True)\n",
    "\n",
    "# Display the plot\n",
    "plt.show()"
   ]
  },
  {
   "cell_type": "markdown",
   "id": "8b7771a6",
   "metadata": {},
   "source": [
    "## Conditional Probability of Default for Financial Leverage"
   ]
  },
  {
   "cell_type": "code",
   "execution_count": 26,
   "id": "f83f1472",
   "metadata": {},
   "outputs": [
    {
     "data": {
      "image/png": "[encoded data removed]",
      "text/plain": [
       "<Figure size 800x600 with 1 Axes>"
      ]
     },
     "metadata": {},
     "output_type": "display_data"
    }
   ],
   "source": [
    "quantiles = 10\n",
    "df['financial_leverage_quantile'] = pd.qcut(df['financial_leverage'], q=quantiles, labels=False)  # 4 quantiles (quartiles)\n",
    "\n",
    "# Step 3: Calculate the conditional probability of default for each quantile\n",
    "quantile_default_rate = df.groupby('financial_leverage_quantile')['default'].mean()\n",
    "quantile_default_rate\n",
    "\n",
    "plt.figure(figsize=(8, 6))\n",
    "\n",
    "# Plot the line chart for default probability by financial_leverage\n",
    "plt.plot(quantile_default_rate.index, quantile_default_rate.values, marker='o', linestyle='-', color='b')\n",
    "\n",
    "# Add labels and title\n",
    "plt.title('Conditional Probability of Default by financial_leverage Quantile')\n",
    "plt.xlabel('financial_leverage')\n",
    "plt.ylabel('Probability of Default')\n",
    "plt.grid(True)\n",
    "\n",
    "# Show the plot\n",
    "plt.show()"
   ]
  },
  {
   "cell_type": "markdown",
   "id": "edc68fb3",
   "metadata": {},
   "source": [
    "# 4. Net Income / Assets: (Profitability ratio)\n",
    "---\n",
    "Here, profit is same as net income I believe... We have no nulls in profit or in total assets, so we should be ok. Total assets appears to check out. **Still need to do QC on profit (does it check out with revenue - costs?)**"
   ]
  },
  {
   "cell_type": "code",
   "execution_count": 28,
   "id": "2b58a263",
   "metadata": {},
   "outputs": [
    {
     "data": {
      "image/png": "[encoded data removed]",
      "text/plain": [
       "<Figure size 800x600 with 1 Axes>"
      ]
     },
     "metadata": {},
     "output_type": "display_data"
    }
   ],
   "source": [
    "df['profitability_ratio'] = df['profit'] / df['asst_tot']\n",
    "\n",
    "# Create a histogram with 50 bins to display the distribution of total assets\n",
    "plt.figure(figsize=(8, 6))\n",
    "plt.hist(df['profitability_ratio'], bins=100, density=True, color='purple', alpha=0.6)\n",
    "plt.title('Profitability Ratio (Profit / Total Assets)')\n",
    "plt.xlabel('Profitability Ratio (profitability_ratio)')\n",
    "plt.ylabel('Density')\n",
    "plt.grid(True)\n",
    "\n",
    "# Display the plot\n",
    "plt.show()"
   ]
  },
  {
   "cell_type": "markdown",
   "id": "d0d7f7a6",
   "metadata": {},
   "source": [
    "## Conditional Probability of Default for Profitability ratio"
   ]
  },
  {
   "cell_type": "code",
   "execution_count": 29,
   "id": "b3ea05db",
   "metadata": {},
   "outputs": [
    {
     "data": {
      "image/png": "[encoded data removed]",
      "text/plain": [
       "<Figure size 800x600 with 1 Axes>"
      ]
     },
     "metadata": {},
     "output_type": "display_data"
    }
   ],
   "source": [
    "quantiles = 10\n",
    "df['profitability_ratio_quantile'] = pd.qcut(df['profitability_ratio'], q=quantiles, labels=False)  # 4 quantiles (quartiles)\n",
    "\n",
    "# Step 3: Calculate the conditional probability of default for each quantile\n",
    "quantile_default_rate = df.groupby('profitability_ratio_quantile')['default'].mean()\n",
    "quantile_default_rate\n",
    "\n",
    "plt.figure(figsize=(8, 6))\n",
    "\n",
    "# Plot the line chart for default probability by profitability_ratio\n",
    "plt.plot(quantile_default_rate.index, quantile_default_rate.values, marker='o', linestyle='-', color='b')\n",
    "\n",
    "# Add labels and title\n",
    "plt.title('Conditional Probability of Default by profitability_ratio Quantile')\n",
    "plt.xlabel('profitability_ratio')\n",
    "plt.ylabel('Probability of Default')\n",
    "plt.grid(True)\n",
    "\n",
    "# Show the plot\n",
    "plt.show()"
   ]
  },
  {
   "cell_type": "markdown",
   "id": "91bcf4cb",
   "metadata": {},
   "source": [
    "# 5. Net Income Growth\n",
    "----\n",
    "As discussed in our meeting, there are some significant challenges to using this. I am going to leave this for later..."
   ]
  },
  {
   "cell_type": "markdown",
   "id": "32dbaf70",
   "metadata": {},
   "source": [
    "# 6. Quick Ratio: (LiquidAssets:Current Liabilities)\n",
    "---\n",
    "There are a few cheat sheet formulas to consider:\n",
    "1. (current assets - inventory) / current liabilities\n",
    "- This cant work as we don't have inventory\n",
    "2. (Cash + marketable securities + net receivabl) / current liabilities\n",
    "- this maybe can work, we have AR and AP_st and AP_lt so can do net receivables \n",
    "3. (cash + cash equivalents + short term investments + current recievables) / current liabilities\n",
    "- we dont exactly have short term recievables but can use AR instead...\n",
    "\n",
    "-----\n",
    "**CALC of short term liabilities is an open question here**\n",
    "If we just use debt st that would seem to line up with earlier interpretation of total liabilities. But doesn't quite make logical sense.... Regardless this is how I will proceed for now.\n",
    "\n",
    "----\n",
    "We have 2 versions below using what we have from 2. and 3. above. V1 seems more ideal to me, but it will have issues with NAs"
   ]
  },
  {
   "cell_type": "code",
   "execution_count": 30,
   "id": "bbae656a",
   "metadata": {},
   "outputs": [],
   "source": [
    "#v1: (Cash + marketable securities + net receivabl) / current liabilities\n",
    "# we can find net receivables\n",
    "# THIS WILL HAVE ISSUES WITH NULLS FROM AP_st and AP_lt\n",
    "df['net_receivables'] = df['AR'] - (df['AP_st'] + df['AP_lt'])\n",
    "df['quick_ratio_v1'] = (df['cash_and_equiv'] + df['net_receivables']) / df['debt_st']\n",
    "\n",
    "#v2: (cash + cash equivalents + short term investments + current recievables) / current liabilities\n",
    "# we cant find current recievables so must use all recievables\n",
    "df['quick_ratio_v2'] = (df['cash_and_equiv'] + df['AR']) / df['debt_st']"
   ]
  },
  {
   "cell_type": "markdown",
   "id": "543cb510",
   "metadata": {},
   "source": [
    "### SEE MISSING VALS IN V1"
   ]
  },
  {
   "cell_type": "code",
   "execution_count": 31,
   "id": "613e1a5c",
   "metadata": {},
   "outputs": [
    {
     "name": "stdout",
     "output_type": "stream",
     "text": [
      "missing vals:\n",
      "HQ_city                              277\n",
      "def_date                          968128\n",
      "asst_intang_fixed                    162\n",
      "asst_tang_fixed                      103\n",
      "asst_fixed_fin                       237\n",
      "asst_current                           1\n",
      "AR                                    12\n",
      "cash_and_equiv                        17\n",
      "eqty_tot                               1\n",
      "eqty_corp_family_tot             1023552\n",
      "liab_lt                              294\n",
      "liab_lt_emp                          162\n",
      "debt_bank_st                      121331\n",
      "debt_bank_lt                       90971\n",
      "debt_fin_st                       122772\n",
      "debt_fin_lt                        92068\n",
      "AP_st                             120635\n",
      "AP_lt                              92244\n",
      "debt_st                                5\n",
      "debt_lt                              155\n",
      "rev_operating                        174\n",
      "COGS                                  24\n",
      "prof_operations                       21\n",
      "goodwill                              21\n",
      "inc_financing                         26\n",
      "exp_financing                        367\n",
      "prof_financing                       656\n",
      "inc_extraord                         305\n",
      "taxes                                 32\n",
      "profit                                20\n",
      "days_rec                          740211\n",
      "ebitda                                81\n",
      "roa                                   27\n",
      "roe                                72937\n",
      "wc_net                                 6\n",
      "margin_fin                         40758\n",
      "cf_operations                         88\n",
      "calculated_asst_tot                  314\n",
      "liab_tot                             156\n",
      "calculated_liabilities_equity        156\n",
      "financial_leverage                   156\n",
      "financial_leverage_quantile          156\n",
      "profitability_ratio                   20\n",
      "profitability_ratio_quantile          20\n",
      "net_receivables                   133514\n",
      "quick_ratio_v1                    133536\n",
      "quick_ratio_v2                        47\n",
      "dtype: int64\n"
     ]
    }
   ],
   "source": [
    "# Check for missing values\n",
    "missing_values = df.isnull().sum()\n",
    "print('missing vals:')\n",
    "print(missing_values[missing_values > 0])"
   ]
  },
  {
   "cell_type": "code",
   "execution_count": 32,
   "id": "650983e4",
   "metadata": {},
   "outputs": [
    {
     "data": {
      "image/png": "[encoded data removed]",
      "text/plain": [
       "<Figure size 800x600 with 1 Axes>"
      ]
     },
     "metadata": {},
     "output_type": "display_data"
    }
   ],
   "source": [
    "# Now, filter out non-finite values (inf, NaN) from quick_ratio_v1 and quick_ratio_v2\n",
    "filtered_df = df[np.isfinite(df['quick_ratio_v1']) & np.isfinite(df['quick_ratio_v2'])]\n",
    "\n",
    "# Create a histogram comparing quick_ratio_v1 and quick_ratio_v2\n",
    "plt.figure(figsize=(8, 6))\n",
    "\n",
    "# Plot for quick_ratio_v1\n",
    "plt.hist(filtered_df['quick_ratio_v1'], bins=100, density=True, alpha=0.6, label='Quick Ratio V1', color='blue')\n",
    "\n",
    "# Plot for quick_ratio_v2\n",
    "plt.hist(filtered_df['quick_ratio_v2'], bins=100, density=True, alpha=0.6, label='Quick Ratio V2', color='purple')\n",
    "\n",
    "# Add title and labels\n",
    "plt.title('Quick Ratio Distribution (V1 vs V2)')\n",
    "plt.xlabel('Quick Ratio')\n",
    "plt.ylabel('Density')\n",
    "\n",
    "# Add grid and legend\n",
    "plt.grid(True)\n",
    "plt.legend()\n",
    "\n",
    "# Display the plot\n",
    "plt.show()"
   ]
  },
  {
   "cell_type": "markdown",
   "id": "ce2a0bf5",
   "metadata": {},
   "source": [
    "## Conditional Probability of Default for quick_ratio_v2"
   ]
  },
  {
   "cell_type": "code",
   "execution_count": 36,
   "id": "d9c5fe36",
   "metadata": {},
   "outputs": [
    {
     "data": {
      "image/png": "[encoded data removed]",
      "text/plain": [
       "<Figure size 800x600 with 1 Axes>"
      ]
     },
     "metadata": {},
     "output_type": "display_data"
    }
   ],
   "source": [
    "quantiles = 10\n",
    "df['quick_ratio_v2_quantile'] = pd.qcut(df['quick_ratio_v2'], q=quantiles, labels=False, duplicates='drop')  # 4 quantiles (quartiles)\n",
    "\n",
    "# Step 3: Calculate the conditional probability of default for each quantile\n",
    "quantile_default_rate = df.groupby('quick_ratio_v2_quantile')['default'].mean()\n",
    "quantile_default_rate\n",
    "\n",
    "plt.figure(figsize=(8, 6))\n",
    "\n",
    "# Plot the line chart for default probability by quick_ratio_v2\n",
    "plt.plot(quantile_default_rate.index, quantile_default_rate.values, marker='o', linestyle='-', color='b')\n",
    "\n",
    "# Add labels and title\n",
    "plt.title('Conditional Probability of Default by quick_ratio_v2 Quantile')\n",
    "plt.xlabel('quick_ratio_v2')\n",
    "plt.ylabel('Probability of Default')\n",
    "plt.grid(True)\n",
    "\n",
    "# Show the plot\n",
    "plt.show()"
   ]
  },
  {
   "cell_type": "markdown",
   "id": "46ef8e0a",
   "metadata": {},
   "source": [
    "# 7. Retained Earnings / Assets: Indicates long-term financial stability.\n",
    "----\n",
    "We don't have an exact proxy for retained earnings (basically we don't know what portion of profit is retained versus not):\n",
    "\n",
    "**DEF:**\n",
    "Retained earnings are the cumulative net earnings or profits of a company after accounting for dividend payments. As an important concept in accounting, the word “retained” captures the fact that because those earnings were not paid out to shareholders as dividends, they were instead retained by the company.\n"
   ]
  },
  {
   "cell_type": "markdown",
   "id": "64308451",
   "metadata": {},
   "source": [
    "# 8.  Sales Growth: Measures the growth trajectory of a firm's revenue.\n",
    "------\n",
    "\n",
    "Again, I am going to leave this for now given the dificulties discussed in our meeting with Prof"
   ]
  },
  {
   "cell_type": "markdown",
   "id": "3a04435c",
   "metadata": {},
   "source": [
    "# 9. Cash / Assets: "
   ]
  },
  {
   "cell_type": "code",
   "execution_count": 37,
   "id": "24e67db3",
   "metadata": {},
   "outputs": [
    {
     "data": {
      "image/png": "[encoded data removed]",
      "text/plain": [
       "<Figure size 800x600 with 1 Axes>"
      ]
     },
     "metadata": {},
     "output_type": "display_data"
    }
   ],
   "source": [
    "df['cash_assets_ratio'] = df['cash_and_equiv'] / df['asst_tot']\n",
    "\n",
    "# Create a histogram with 50 bins to display the distribution of Cash / Assets ratio\n",
    "plt.figure(figsize=(8, 6))\n",
    "plt.hist(df['cash_assets_ratio'], bins=50, density=True, color='purple', alpha=0.6)\n",
    "plt.title('Cash / Assets Ratio Distribution')\n",
    "plt.xlabel('Cash / Assets Ratio')\n",
    "plt.ylabel('Density')\n",
    "plt.grid(True)\n",
    "\n",
    "# Display the plot\n",
    "plt.show()"
   ]
  },
  {
   "cell_type": "markdown",
   "id": "7eb78da3",
   "metadata": {},
   "source": [
    "## Conditional Probability of Default for cash_assets_ratio"
   ]
  },
  {
   "cell_type": "code",
   "execution_count": 38,
   "id": "7eb0b9e4",
   "metadata": {},
   "outputs": [
    {
     "data": {
      "image/png": "[encoded data removed]",
      "text/plain": [
       "<Figure size 800x600 with 1 Axes>"
      ]
     },
     "metadata": {},
     "output_type": "display_data"
    }
   ],
   "source": [
    "cash_assets_ratioquantiles = 10\n",
    "df['cash_assets_ratio_quantile'] = pd.qcut(df['cash_assets_ratio'], q=quantiles, labels=False)  # 4 quantiles (quartiles)\n",
    "\n",
    "# Step 3: Calculate the conditional probability of default for each quantile\n",
    "quantile_default_rate = df.groupby('cash_assets_ratio_quantile')['default'].mean()\n",
    "quantile_default_rate\n",
    "\n",
    "plt.figure(figsize=(8, 6))\n",
    "\n",
    "# Plot the line chart for default probability by cash_assets_ratio\n",
    "plt.plot(quantile_default_rate.index, quantile_default_rate.values, marker='o', linestyle='-', color='b')\n",
    "\n",
    "# Add labels and title\n",
    "plt.title('Conditional Probability of Default by cash_assets_ratio Quantile')\n",
    "plt.xlabel('cash_assets_ratio')\n",
    "plt.ylabel('Probability of Default')\n",
    "plt.grid(True)\n",
    "\n",
    "# Show the plot\n",
    "plt.show()"
   ]
  },
  {
   "cell_type": "markdown",
   "id": "90de690c",
   "metadata": {},
   "source": [
    "# 10. Debt Service Coverage Ratio: Evaluates the firm's ability to cover debt payments from its earnings.\n",
    "---\n",
    "**DEF**:\n",
    "EBIT/interest\n",
    "\n",
    "----\n",
    "WE have ebitda rathter than ebit, and we have exp_financing which captures expensese of financing such as interest...\n",
    "\n",
    "---\n",
    "**ISSUE**: exp_financing can be 0, in which case this ratio will not be defined...\n",
    "\n",
    "For now I think we can set 0 to 1, but this **must be revisisted....**"
   ]
  },
  {
   "cell_type": "code",
   "execution_count": 39,
   "id": "1c042976",
   "metadata": {},
   "outputs": [
    {
     "data": {
      "text/html": [
       "<div>\n",
       "<style scoped>\n",
       "    .dataframe tbody tr th:only-of-type {\n",
       "        vertical-align: middle;\n",
       "    }\n",
       "\n",
       "    .dataframe tbody tr th {\n",
       "        vertical-align: top;\n",
       "    }\n",
       "\n",
       "    .dataframe thead th {\n",
       "        text-align: right;\n",
       "    }\n",
       "</style>\n",
       "<table border=\"1\" class=\"dataframe\">\n",
       "  <thead>\n",
       "    <tr style=\"text-align: right;\">\n",
       "      <th></th>\n",
       "      <th>ebitda</th>\n",
       "      <th>exp_financing</th>\n",
       "    </tr>\n",
       "  </thead>\n",
       "  <tbody>\n",
       "    <tr>\n",
       "      <th>17</th>\n",
       "      <td>6318.0</td>\n",
       "      <td>15550.0</td>\n",
       "    </tr>\n",
       "    <tr>\n",
       "      <th>18</th>\n",
       "      <td>46088.0</td>\n",
       "      <td>49758.0</td>\n",
       "    </tr>\n",
       "    <tr>\n",
       "      <th>19</th>\n",
       "      <td>67611.0</td>\n",
       "      <td>35239.0</td>\n",
       "    </tr>\n",
       "    <tr>\n",
       "      <th>21</th>\n",
       "      <td>-161478.0</td>\n",
       "      <td>14057.0</td>\n",
       "    </tr>\n",
       "    <tr>\n",
       "      <th>22</th>\n",
       "      <td>153060.0</td>\n",
       "      <td>13569.0</td>\n",
       "    </tr>\n",
       "    <tr>\n",
       "      <th>...</th>\n",
       "      <td>...</td>\n",
       "      <td>...</td>\n",
       "    </tr>\n",
       "    <tr>\n",
       "      <th>4885791</th>\n",
       "      <td>984567.0</td>\n",
       "      <td>78684.0</td>\n",
       "    </tr>\n",
       "    <tr>\n",
       "      <th>4885792</th>\n",
       "      <td>1746442.0</td>\n",
       "      <td>211575.0</td>\n",
       "    </tr>\n",
       "    <tr>\n",
       "      <th>4885793</th>\n",
       "      <td>1539957.0</td>\n",
       "      <td>142949.0</td>\n",
       "    </tr>\n",
       "    <tr>\n",
       "      <th>4885815</th>\n",
       "      <td>-4795.0</td>\n",
       "      <td>0.0</td>\n",
       "    </tr>\n",
       "    <tr>\n",
       "      <th>4885817</th>\n",
       "      <td>-12120.0</td>\n",
       "      <td>5.0</td>\n",
       "    </tr>\n",
       "  </tbody>\n",
       "</table>\n",
       "<p>1023552 rows × 2 columns</p>\n",
       "</div>"
      ],
      "text/plain": [
       "            ebitda  exp_financing\n",
       "17          6318.0        15550.0\n",
       "18         46088.0        49758.0\n",
       "19         67611.0        35239.0\n",
       "21       -161478.0        14057.0\n",
       "22        153060.0        13569.0\n",
       "...            ...            ...\n",
       "4885791   984567.0        78684.0\n",
       "4885792  1746442.0       211575.0\n",
       "4885793  1539957.0       142949.0\n",
       "4885815    -4795.0            0.0\n",
       "4885817   -12120.0            5.0\n",
       "\n",
       "[1023552 rows x 2 columns]"
      ]
     },
     "execution_count": 39,
     "metadata": {},
     "output_type": "execute_result"
    }
   ],
   "source": [
    " df[['ebitda','exp_financing']]"
   ]
  },
  {
   "cell_type": "code",
   "execution_count": 40,
   "id": "7b29c055",
   "metadata": {},
   "outputs": [
    {
     "data": {
      "image/png": "[encoded data removed]",
      "text/plain": [
       "<Figure size 800x600 with 1 Axes>"
      ]
     },
     "metadata": {},
     "output_type": "display_data"
    }
   ],
   "source": [
    "#set 0 to 1 for exp_financing\n",
    "df['exp_financing'] = df['exp_financing'].replace(0, 1)\n",
    "\n",
    "df['dscr'] = df['ebitda'] / df['exp_financing']\n",
    "\n",
    "# Create a histogram to display the distribution of DSCR\n",
    "plt.figure(figsize=(8, 6))\n",
    "plt.hist(df['dscr'], bins=50, density=True, color='purple', alpha=0.6)\n",
    "plt.title('Debt Service Coverage Ratio (DSCR) Distribution')\n",
    "plt.xlabel('DSCR')\n",
    "plt.ylabel('Density')\n",
    "plt.grid(True)\n",
    "\n",
    "# Display the plot\n",
    "plt.show()\n"
   ]
  },
  {
   "cell_type": "markdown",
   "id": "c3bb6750",
   "metadata": {},
   "source": [
    "## Conditional Probability of Default for dscr"
   ]
  },
  {
   "cell_type": "code",
   "execution_count": 41,
   "id": "13c8997c",
   "metadata": {},
   "outputs": [
    {
     "data": {
      "image/png": "[encoded data removed]",
      "text/plain": [
       "<Figure size 800x600 with 1 Axes>"
      ]
     },
     "metadata": {},
     "output_type": "display_data"
    }
   ],
   "source": [
    "cash_assets_ratioquantiles = 10\n",
    "df['dscr_quantile'] = pd.qcut(df['dscr'], q=quantiles, labels=False)  # 4 quantiles (quartiles)\n",
    "\n",
    "# Step 3: Calculate the conditional probability of default for each quantile\n",
    "quantile_default_rate = df.groupby('dscr_quantile')['default'].mean()\n",
    "quantile_default_rate\n",
    "\n",
    "plt.figure(figsize=(8, 6))\n",
    "\n",
    "# Plot the line chart for default probability by cash_assets_ratio\n",
    "plt.plot(quantile_default_rate.index, quantile_default_rate.values, marker='o', linestyle='-', color='b')\n",
    "\n",
    "# Add labels and title\n",
    "plt.title('Conditional Probability of Default by dscr Quantile')\n",
    "plt.xlabel('dscr')\n",
    "plt.ylabel('Probability of Default')\n",
    "plt.grid(True)\n",
    "\n",
    "# Show the plot\n",
    "plt.show()"
   ]
  },
  {
   "cell_type": "code",
   "execution_count": null,
   "id": "d4243ea4",
   "metadata": {},
   "outputs": [],
   "source": []
  },
  {
   "cell_type": "code",
   "execution_count": null,
   "id": "83274530-e72a-406c-94c4-4f782be3c579",
   "metadata": {},
   "outputs": [],
   "source": []
  },
  {
   "cell_type": "code",
   "execution_count": null,
   "id": "8f895725-7555-4470-a96b-090f5d66b6c5",
   "metadata": {},
   "outputs": [],
   "source": []
  },
  {
   "cell_type": "markdown",
   "id": "4b665ced-c568-4db0-8a41-3571296b1f1c",
   "metadata": {},
   "source": [
    "## Modeling"
   ]
  },
  {
   "cell_type": "code",
   "execution_count": 43,
   "id": "06d2ea2b-386c-4a70-ae0c-c5fa5f879a0f",
   "metadata": {},
   "outputs": [
    {
     "data": {
      "text/plain": [
       "(1023552, 60)"
      ]
     },
     "execution_count": 43,
     "metadata": {},
     "output_type": "execute_result"
    }
   ],
   "source": [
    "df.shape"
   ]
  },
  {
   "cell_type": "code",
   "execution_count": 45,
   "id": "d93798e5-9ccb-4506-9fe9-753e52aafd50",
   "metadata": {},
   "outputs": [
    {
     "data": {
      "text/html": [
       "<div>\n",
       "<style scoped>\n",
       "    .dataframe tbody tr th:only-of-type {\n",
       "        vertical-align: middle;\n",
       "    }\n",
       "\n",
       "    .dataframe tbody tr th {\n",
       "        vertical-align: top;\n",
       "    }\n",
       "\n",
       "    .dataframe thead th {\n",
       "        text-align: right;\n",
       "    }\n",
       "</style>\n",
       "<table border=\"1\" class=\"dataframe\">\n",
       "  <thead>\n",
       "    <tr style=\"text-align: right;\">\n",
       "      <th></th>\n",
       "      <th>17</th>\n",
       "      <th>18</th>\n",
       "    </tr>\n",
       "  </thead>\n",
       "  <tbody>\n",
       "    <tr>\n",
       "      <th>id</th>\n",
       "      <td>520288</td>\n",
       "      <td>520288</td>\n",
       "    </tr>\n",
       "    <tr>\n",
       "      <th>stmt_date</th>\n",
       "      <td>2011-12-31 00:00:00</td>\n",
       "      <td>2008-12-31 00:00:00</td>\n",
       "    </tr>\n",
       "    <tr>\n",
       "      <th>HQ_city</th>\n",
       "      <td>28.0</td>\n",
       "      <td>28.0</td>\n",
       "    </tr>\n",
       "    <tr>\n",
       "      <th>legal_struct</th>\n",
       "      <td>SRL</td>\n",
       "      <td>SRL</td>\n",
       "    </tr>\n",
       "    <tr>\n",
       "      <th>ateco_sector</th>\n",
       "      <td>14.0</td>\n",
       "      <td>14.0</td>\n",
       "    </tr>\n",
       "    <tr>\n",
       "      <th>def_date</th>\n",
       "      <td>NaT</td>\n",
       "      <td>NaT</td>\n",
       "    </tr>\n",
       "    <tr>\n",
       "      <th>fs_year</th>\n",
       "      <td>2011</td>\n",
       "      <td>2008</td>\n",
       "    </tr>\n",
       "    <tr>\n",
       "      <th>asst_intang_fixed</th>\n",
       "      <td>67537.0</td>\n",
       "      <td>256438.0</td>\n",
       "    </tr>\n",
       "    <tr>\n",
       "      <th>asst_tang_fixed</th>\n",
       "      <td>1137566.0</td>\n",
       "      <td>1181416.0</td>\n",
       "    </tr>\n",
       "    <tr>\n",
       "      <th>asst_fixed_fin</th>\n",
       "      <td>1908.0</td>\n",
       "      <td>860.0</td>\n",
       "    </tr>\n",
       "    <tr>\n",
       "      <th>asst_current</th>\n",
       "      <td>733496.0</td>\n",
       "      <td>622992.0</td>\n",
       "    </tr>\n",
       "    <tr>\n",
       "      <th>AR</th>\n",
       "      <td>283013.0</td>\n",
       "      <td>387653.0</td>\n",
       "    </tr>\n",
       "    <tr>\n",
       "      <th>cash_and_equiv</th>\n",
       "      <td>2083.0</td>\n",
       "      <td>5339.0</td>\n",
       "    </tr>\n",
       "    <tr>\n",
       "      <th>asst_tot</th>\n",
       "      <td>1946940.0</td>\n",
       "      <td>2077346.0</td>\n",
       "    </tr>\n",
       "    <tr>\n",
       "      <th>eqty_tot</th>\n",
       "      <td>289982.0</td>\n",
       "      <td>-37325.0</td>\n",
       "    </tr>\n",
       "    <tr>\n",
       "      <th>eqty_corp_family_tot</th>\n",
       "      <td>NaN</td>\n",
       "      <td>NaN</td>\n",
       "    </tr>\n",
       "    <tr>\n",
       "      <th>liab_lt</th>\n",
       "      <td>0.0</td>\n",
       "      <td>0.0</td>\n",
       "    </tr>\n",
       "    <tr>\n",
       "      <th>liab_lt_emp</th>\n",
       "      <td>77653.0</td>\n",
       "      <td>64832.0</td>\n",
       "    </tr>\n",
       "    <tr>\n",
       "      <th>debt_bank_st</th>\n",
       "      <td>24328.0</td>\n",
       "      <td>184518.0</td>\n",
       "    </tr>\n",
       "    <tr>\n",
       "      <th>debt_bank_lt</th>\n",
       "      <td>473281.0</td>\n",
       "      <td>548543.0</td>\n",
       "    </tr>\n",
       "    <tr>\n",
       "      <th>debt_fin_st</th>\n",
       "      <td>0.0</td>\n",
       "      <td>0.0</td>\n",
       "    </tr>\n",
       "    <tr>\n",
       "      <th>debt_fin_lt</th>\n",
       "      <td>0.0</td>\n",
       "      <td>0.0</td>\n",
       "    </tr>\n",
       "    <tr>\n",
       "      <th>AP_st</th>\n",
       "      <td>170808.0</td>\n",
       "      <td>111047.0</td>\n",
       "    </tr>\n",
       "    <tr>\n",
       "      <th>AP_lt</th>\n",
       "      <td>0.0</td>\n",
       "      <td>0.0</td>\n",
       "    </tr>\n",
       "    <tr>\n",
       "      <th>debt_st</th>\n",
       "      <td>237238.0</td>\n",
       "      <td>525040.0</td>\n",
       "    </tr>\n",
       "    <tr>\n",
       "      <th>debt_lt</th>\n",
       "      <td>1340801.0</td>\n",
       "      <td>1521607.0</td>\n",
       "    </tr>\n",
       "    <tr>\n",
       "      <th>rev_operating</th>\n",
       "      <td>538081.0</td>\n",
       "      <td>967389.0</td>\n",
       "    </tr>\n",
       "    <tr>\n",
       "      <th>COGS</th>\n",
       "      <td>612202.0</td>\n",
       "      <td>1024802.0</td>\n",
       "    </tr>\n",
       "    <tr>\n",
       "      <th>prof_operations</th>\n",
       "      <td>-74121.0</td>\n",
       "      <td>-57413.0</td>\n",
       "    </tr>\n",
       "    <tr>\n",
       "      <th>goodwill</th>\n",
       "      <td>157436.0</td>\n",
       "      <td>253845.0</td>\n",
       "    </tr>\n",
       "    <tr>\n",
       "      <th>inc_financing</th>\n",
       "      <td>-6529.0</td>\n",
       "      <td>-36531.0</td>\n",
       "    </tr>\n",
       "    <tr>\n",
       "      <th>exp_financing</th>\n",
       "      <td>15550.0</td>\n",
       "      <td>49758.0</td>\n",
       "    </tr>\n",
       "    <tr>\n",
       "      <th>prof_financing</th>\n",
       "      <td>0.0</td>\n",
       "      <td>0.0</td>\n",
       "    </tr>\n",
       "    <tr>\n",
       "      <th>inc_extraord</th>\n",
       "      <td>-309.0</td>\n",
       "      <td>-678.0</td>\n",
       "    </tr>\n",
       "    <tr>\n",
       "      <th>taxes</th>\n",
       "      <td>-80959.0</td>\n",
       "      <td>-94622.0</td>\n",
       "    </tr>\n",
       "    <tr>\n",
       "      <th>profit</th>\n",
       "      <td>-81288.0</td>\n",
       "      <td>-107382.0</td>\n",
       "    </tr>\n",
       "    <tr>\n",
       "      <th>days_rec</th>\n",
       "      <td>NaN</td>\n",
       "      <td>NaN</td>\n",
       "    </tr>\n",
       "    <tr>\n",
       "      <th>ebitda</th>\n",
       "      <td>6318.0</td>\n",
       "      <td>46088.0</td>\n",
       "    </tr>\n",
       "    <tr>\n",
       "      <th>roa</th>\n",
       "      <td>-3.81</td>\n",
       "      <td>-2.76</td>\n",
       "    </tr>\n",
       "    <tr>\n",
       "      <th>roe</th>\n",
       "      <td>-28.03</td>\n",
       "      <td>NaN</td>\n",
       "    </tr>\n",
       "    <tr>\n",
       "      <th>wc_net</th>\n",
       "      <td>496258.0</td>\n",
       "      <td>97952.0</td>\n",
       "    </tr>\n",
       "    <tr>\n",
       "      <th>margin_fin</th>\n",
       "      <td>-917029.0</td>\n",
       "      <td>NaN</td>\n",
       "    </tr>\n",
       "    <tr>\n",
       "      <th>cf_operations</th>\n",
       "      <td>-849.0</td>\n",
       "      <td>-3881.0</td>\n",
       "    </tr>\n",
       "    <tr>\n",
       "      <th>default</th>\n",
       "      <td>0</td>\n",
       "      <td>0</td>\n",
       "    </tr>\n",
       "    <tr>\n",
       "      <th>calculated_asst_tot</th>\n",
       "      <td>1940507.0</td>\n",
       "      <td>2061706.0</td>\n",
       "    </tr>\n",
       "    <tr>\n",
       "      <th>liab_tot</th>\n",
       "      <td>1578039.0</td>\n",
       "      <td>2046647.0</td>\n",
       "    </tr>\n",
       "    <tr>\n",
       "      <th>calculated_liabilities_equity</th>\n",
       "      <td>1868021.0</td>\n",
       "      <td>2009322.0</td>\n",
       "    </tr>\n",
       "    <tr>\n",
       "      <th>asset_quantile</th>\n",
       "      <td>1</td>\n",
       "      <td>2</td>\n",
       "    </tr>\n",
       "    <tr>\n",
       "      <th>financial_leverage</th>\n",
       "      <td>0.810523</td>\n",
       "      <td>0.985222</td>\n",
       "    </tr>\n",
       "    <tr>\n",
       "      <th>financial_leverage_quantile</th>\n",
       "      <td>5.0</td>\n",
       "      <td>9.0</td>\n",
       "    </tr>\n",
       "    <tr>\n",
       "      <th>profitability_ratio</th>\n",
       "      <td>-0.041752</td>\n",
       "      <td>-0.051692</td>\n",
       "    </tr>\n",
       "    <tr>\n",
       "      <th>profitability_ratio_quantile</th>\n",
       "      <td>0.0</td>\n",
       "      <td>0.0</td>\n",
       "    </tr>\n",
       "    <tr>\n",
       "      <th>net_receivables</th>\n",
       "      <td>112205.0</td>\n",
       "      <td>276606.0</td>\n",
       "    </tr>\n",
       "    <tr>\n",
       "      <th>quick_ratio_v1</th>\n",
       "      <td>0.481744</td>\n",
       "      <td>0.536997</td>\n",
       "    </tr>\n",
       "    <tr>\n",
       "      <th>quick_ratio_v2</th>\n",
       "      <td>1.20173</td>\n",
       "      <td>0.748499</td>\n",
       "    </tr>\n",
       "    <tr>\n",
       "      <th>quick_ratio_v2_quantile</th>\n",
       "      <td>7.0</td>\n",
       "      <td>4.0</td>\n",
       "    </tr>\n",
       "    <tr>\n",
       "      <th>cash_assets_ratio</th>\n",
       "      <td>0.00107</td>\n",
       "      <td>0.00257</td>\n",
       "    </tr>\n",
       "    <tr>\n",
       "      <th>cash_assets_ratio_quantile</th>\n",
       "      <td>2.0</td>\n",
       "      <td>3.0</td>\n",
       "    </tr>\n",
       "    <tr>\n",
       "      <th>dscr</th>\n",
       "      <td>0.406302</td>\n",
       "      <td>0.926243</td>\n",
       "    </tr>\n",
       "    <tr>\n",
       "      <th>dscr_quantile</th>\n",
       "      <td>1.0</td>\n",
       "      <td>2.0</td>\n",
       "    </tr>\n",
       "  </tbody>\n",
       "</table>\n",
       "</div>"
      ],
      "text/plain": [
       "                                                17                   18\n",
       "id                                          520288               520288\n",
       "stmt_date                      2011-12-31 00:00:00  2008-12-31 00:00:00\n",
       "HQ_city                                       28.0                 28.0\n",
       "legal_struct                                   SRL                  SRL\n",
       "ateco_sector                                  14.0                 14.0\n",
       "def_date                                       NaT                  NaT\n",
       "fs_year                                       2011                 2008\n",
       "asst_intang_fixed                          67537.0             256438.0\n",
       "asst_tang_fixed                          1137566.0            1181416.0\n",
       "asst_fixed_fin                              1908.0                860.0\n",
       "asst_current                              733496.0             622992.0\n",
       "AR                                        283013.0             387653.0\n",
       "cash_and_equiv                              2083.0               5339.0\n",
       "asst_tot                                 1946940.0            2077346.0\n",
       "eqty_tot                                  289982.0             -37325.0\n",
       "eqty_corp_family_tot                           NaN                  NaN\n",
       "liab_lt                                        0.0                  0.0\n",
       "liab_lt_emp                                77653.0              64832.0\n",
       "debt_bank_st                               24328.0             184518.0\n",
       "debt_bank_lt                              473281.0             548543.0\n",
       "debt_fin_st                                    0.0                  0.0\n",
       "debt_fin_lt                                    0.0                  0.0\n",
       "AP_st                                     170808.0             111047.0\n",
       "AP_lt                                          0.0                  0.0\n",
       "debt_st                                   237238.0             525040.0\n",
       "debt_lt                                  1340801.0            1521607.0\n",
       "rev_operating                             538081.0             967389.0\n",
       "COGS                                      612202.0            1024802.0\n",
       "prof_operations                           -74121.0             -57413.0\n",
       "goodwill                                  157436.0             253845.0\n",
       "inc_financing                              -6529.0             -36531.0\n",
       "exp_financing                              15550.0              49758.0\n",
       "prof_financing                                 0.0                  0.0\n",
       "inc_extraord                                -309.0               -678.0\n",
       "taxes                                     -80959.0             -94622.0\n",
       "profit                                    -81288.0            -107382.0\n",
       "days_rec                                       NaN                  NaN\n",
       "ebitda                                      6318.0              46088.0\n",
       "roa                                          -3.81                -2.76\n",
       "roe                                         -28.03                  NaN\n",
       "wc_net                                    496258.0              97952.0\n",
       "margin_fin                               -917029.0                  NaN\n",
       "cf_operations                               -849.0              -3881.0\n",
       "default                                          0                    0\n",
       "calculated_asst_tot                      1940507.0            2061706.0\n",
       "liab_tot                                 1578039.0            2046647.0\n",
       "calculated_liabilities_equity            1868021.0            2009322.0\n",
       "asset_quantile                                   1                    2\n",
       "financial_leverage                        0.810523             0.985222\n",
       "financial_leverage_quantile                    5.0                  9.0\n",
       "profitability_ratio                      -0.041752            -0.051692\n",
       "profitability_ratio_quantile                   0.0                  0.0\n",
       "net_receivables                           112205.0             276606.0\n",
       "quick_ratio_v1                            0.481744             0.536997\n",
       "quick_ratio_v2                             1.20173             0.748499\n",
       "quick_ratio_v2_quantile                        7.0                  4.0\n",
       "cash_assets_ratio                          0.00107              0.00257\n",
       "cash_assets_ratio_quantile                     2.0                  3.0\n",
       "dscr                                      0.406302             0.926243\n",
       "dscr_quantile                                  1.0                  2.0"
      ]
     },
     "execution_count": 45,
     "metadata": {},
     "output_type": "execute_result"
    }
   ],
   "source": [
    "df.head(2).T"
   ]
  },
  {
   "cell_type": "code",
   "execution_count": 46,
   "id": "2d7d6b51-a41a-4c23-a974-83124f989541",
   "metadata": {},
   "outputs": [],
   "source": [
    "calc_columns = ['default',\n",
    "                'calculated_asst_tot',\n",
    "                'liab_tot',\n",
    "                'calculated_liabilities_equity',\n",
    "                'asset_quantile',\n",
    "                'financial_leverage',\n",
    "                'financial_leverage_quantile',\n",
    "                'profitability_ratio',\n",
    "                'profitability_ratio_quantile',\n",
    "                'net_receivables',\n",
    "                'quick_ratio_v1',\n",
    "                'quick_ratio_v2',\n",
    "                'quick_ratio_v2_quantile',\n",
    "                'cash_assets_ratio',\n",
    "                'cash_assets_ratio_quantile',\n",
    "                'dscr',\n",
    "                'dscr_quantile']"
   ]
  },
  {
   "cell_type": "code",
   "execution_count": 52,
   "id": "c68f1859-a679-4e32-ad2e-8953a0d26c12",
   "metadata": {},
   "outputs": [],
   "source": [
    "df.sort_values('stmt_date', inplace=True)"
   ]
  },
  {
   "cell_type": "code",
   "execution_count": 60,
   "id": "aa5e0d26-aae9-450d-b801-ba2bea4373f4",
   "metadata": {},
   "outputs": [],
   "source": [
    "modeling_df = df[calc_columns].copy()"
   ]
  },
  {
   "cell_type": "code",
   "execution_count": 63,
   "id": "a47cbcc4-6d47-4f1d-99bb-811506d9d9f0",
   "metadata": {},
   "outputs": [],
   "source": [
    "train_df = modeling_df.iloc[:int(len(modeling_df)*0.8)]"
   ]
  },
  {
   "cell_type": "code",
   "execution_count": 66,
   "id": "d63c8c5d-c7b5-40dc-bb50-3d48fda90bfd",
   "metadata": {},
   "outputs": [],
   "source": [
    "test_df = modeling_df[~modeling_df.index.isin(train_df.index)]"
   ]
  },
  {
   "cell_type": "code",
   "execution_count": 68,
   "id": "989a0fae-2029-4dda-9403-921324dbad61",
   "metadata": {},
   "outputs": [],
   "source": [
    "import statsmodels.api as sm\n",
    "import statsmodels.formula.api as smf"
   ]
  },
  {
   "cell_type": "code",
   "execution_count": 74,
   "id": "0b02ee40-cea9-4dc9-bfb7-643f3fa87993",
   "metadata": {},
   "outputs": [],
   "source": [
    "feature_list = [\n",
    "                'calculated_asst_tot',\n",
    "                'liab_tot',\n",
    "                'calculated_liabilities_equity',\n",
    "                'asset_quantile',\n",
    "                'financial_leverage',\n",
    "                'financial_leverage_quantile',\n",
    "                'profitability_ratio',\n",
    "                'profitability_ratio_quantile',\n",
    "                'net_receivables',\n",
    "                'quick_ratio_v1',\n",
    "                'quick_ratio_v2',\n",
    "                'quick_ratio_v2_quantile',\n",
    "                'cash_assets_ratio',\n",
    "                'cash_assets_ratio_quantile',\n",
    "                'dscr',\n",
    "                'dscr_quantile']"
   ]
  },
  {
   "cell_type": "code",
   "execution_count": 78,
   "id": "b4f5e52f-611e-4723-9bed-c49d9d238e47",
   "metadata": {},
   "outputs": [
    {
     "data": {
      "text/plain": [
       "'default ~ calculated_asst_tot + liab_tot + calculated_liabilities_equity + asset_quantile + financial_leverage + financial_leverage_quantile + profitability_ratio + profitability_ratio_quantile + net_receivables + quick_ratio_v1 + quick_ratio_v2 + quick_ratio_v2_quantile + cash_assets_ratio + cash_assets_ratio_quantile + dscr + dscr_quantile'"
      ]
     },
     "execution_count": 78,
     "metadata": {},
     "output_type": "execute_result"
    }
   ],
   "source": [
    "formula = 'default ~ '+' + '.join(feature_list)\n",
    "formula"
   ]
  },
  {
   "cell_type": "code",
   "execution_count": 80,
   "id": "0dbe3e17-f53d-4b64-b1be-b9096761d0f2",
   "metadata": {},
   "outputs": [
    {
     "name": "stdout",
     "output_type": "stream",
     "text": [
      "Optimization terminated successfully.\n",
      "         Current function value: 0.049458\n",
      "         Iterations 14\n",
      "                           Logit Regression Results                           \n",
      "==============================================================================\n",
      "Dep. Variable:                default   No. Observations:               567050\n",
      "Model:                          Logit   Df Residuals:                   567033\n",
      "Method:                           MLE   Df Model:                           16\n",
      "Date:                Wed, 23 Oct 2024   Pseudo R-squ.:                  0.2227\n",
      "Time:                        20:12:13   Log-Likelihood:                -28045.\n",
      "converged:                       True   LL-Null:                       -36082.\n",
      "Covariance Type:            nonrobust   LLR p-value:                     0.000\n",
      "=================================================================================================\n",
      "                                    coef    std err          z      P>|z|      [0.025      0.975]\n",
      "-------------------------------------------------------------------------------------------------\n",
      "Intercept                        -5.0518      0.071    -71.560      0.000      -5.190      -4.913\n",
      "calculated_asst_tot            1.075e-08   2.05e-09      5.248      0.000    6.74e-09    1.48e-08\n",
      "liab_tot                       1.299e-08   2.66e-09      4.882      0.000    7.77e-09    1.82e-08\n",
      "calculated_liabilities_equity -2.811e-08   3.96e-09     -7.091      0.000   -3.59e-08   -2.03e-08\n",
      "asset_quantile                   -0.0043      0.005     -0.849      0.396      -0.014       0.006\n",
      "financial_leverage                0.4249      0.056      7.614      0.000       0.316       0.534\n",
      "financial_leverage_quantile       0.2368      0.008     30.860      0.000       0.222       0.252\n",
      "profitability_ratio              -2.2488      0.063    -35.714      0.000      -2.372      -2.125\n",
      "profitability_ratio_quantile     -0.2752      0.009    -31.885      0.000      -0.292      -0.258\n",
      "net_receivables                1.337e-09   2.94e-09      0.455      0.649   -4.42e-09    7.09e-09\n",
      "quick_ratio_v1                    0.0002      0.004      0.060      0.952      -0.008       0.008\n",
      "quick_ratio_v2                   -0.2315      0.085     -2.739      0.006      -0.397      -0.066\n",
      "quick_ratio_v2_quantile           0.0806      0.019      4.263      0.000       0.044       0.118\n",
      "cash_assets_ratio                 1.1545      0.195      5.928      0.000       0.773       1.536\n",
      "cash_assets_ratio_quantile       -0.0333      0.006     -5.337      0.000      -0.045      -0.021\n",
      "dscr                           1.033e-07   2.87e-08      3.605      0.000    4.71e-08    1.59e-07\n",
      "dscr_quantile                    -0.1399      0.008    -16.745      0.000      -0.156      -0.124\n",
      "=================================================================================================\n"
     ]
    }
   ],
   "source": [
    "model = smf.logit(formula, data = train_df) \n",
    "logit_model_sm = model.fit()\n",
    "print(logit_model_sm.summary())"
   ]
  },
  {
   "cell_type": "code",
   "execution_count": 85,
   "id": "7f6e4d8c-2f61-4fb0-a103-0398e5431d57",
   "metadata": {},
   "outputs": [
    {
     "data": {
      "text/html": [
       "<div>\n",
       "<style scoped>\n",
       "    .dataframe tbody tr th:only-of-type {\n",
       "        vertical-align: middle;\n",
       "    }\n",
       "\n",
       "    .dataframe tbody tr th {\n",
       "        vertical-align: top;\n",
       "    }\n",
       "\n",
       "    .dataframe thead th {\n",
       "        text-align: right;\n",
       "    }\n",
       "</style>\n",
       "<table border=\"1\" class=\"dataframe\">\n",
       "  <thead>\n",
       "    <tr style=\"text-align: right;\">\n",
       "      <th></th>\n",
       "      <th>default</th>\n",
       "      <th>predicted_probability</th>\n",
       "    </tr>\n",
       "  </thead>\n",
       "  <tbody>\n",
       "    <tr>\n",
       "      <th>2685479</th>\n",
       "      <td>0</td>\n",
       "      <td>0.000981</td>\n",
       "    </tr>\n",
       "    <tr>\n",
       "      <th>2275745</th>\n",
       "      <td>0</td>\n",
       "      <td>NaN</td>\n",
       "    </tr>\n",
       "    <tr>\n",
       "      <th>2249020</th>\n",
       "      <td>0</td>\n",
       "      <td>0.030974</td>\n",
       "    </tr>\n",
       "    <tr>\n",
       "      <th>2685422</th>\n",
       "      <td>0</td>\n",
       "      <td>0.016998</td>\n",
       "    </tr>\n",
       "    <tr>\n",
       "      <th>2658976</th>\n",
       "      <td>0</td>\n",
       "      <td>0.006691</td>\n",
       "    </tr>\n",
       "  </tbody>\n",
       "</table>\n",
       "</div>"
      ],
      "text/plain": [
       "         default  predicted_probability\n",
       "2685479        0               0.000981\n",
       "2275745        0                    NaN\n",
       "2249020        0               0.030974\n",
       "2685422        0               0.016998\n",
       "2658976        0               0.006691"
      ]
     },
     "execution_count": 85,
     "metadata": {},
     "output_type": "execute_result"
    }
   ],
   "source": [
    "predictions = test_df[['default']].copy()\n",
    "predictions['predicted_probability'] = logit_model_sm.predict(test_df)\n",
    "# predictions.dropna(inplace=True)\n",
    "predictions.head()"
   ]
  },
  {
   "cell_type": "code",
   "execution_count": 87,
   "id": "1313acb9-5361-433d-af62-859c4dfa4b43",
   "metadata": {},
   "outputs": [
    {
     "data": {
      "text/plain": [
       "default                  0.000000\n",
       "predicted_probability    0.283737\n",
       "dtype: float64"
      ]
     },
     "execution_count": 87,
     "metadata": {},
     "output_type": "execute_result"
    }
   ],
   "source": [
    "predictions.isna().mean()"
   ]
  },
  {
   "cell_type": "code",
   "execution_count": 82,
   "id": "314f99fa-47a8-46ab-aa60-8b17a7732eb6",
   "metadata": {},
   "outputs": [],
   "source": [
    "from sklearn.metrics import roc_auc_score"
   ]
  },
  {
   "cell_type": "code",
   "execution_count": 83,
   "id": "9403187a-fda7-4488-bc1f-e3a32d63f57c",
   "metadata": {},
   "outputs": [
    {
     "data": {
      "text/plain": [
       "np.float64(0.8683453237723993)"
      ]
     },
     "execution_count": 83,
     "metadata": {},
     "output_type": "execute_result"
    }
   ],
   "source": [
    "roc_auc_score(y_score=predictions['predicted_probability'], y_true=predictions['default'])"
   ]
  },
  {
   "cell_type": "code",
   "execution_count": 91,
   "id": "973e70ea-0fd6-4bae-a30d-84310912a8c0",
   "metadata": {},
   "outputs": [],
   "source": [
    "import seaborn as sns\n",
    "sns.set()"
   ]
  },
  {
   "cell_type": "code",
   "execution_count": 94,
   "id": "f3a9983c-9f47-415e-881e-a654dee2ddcf",
   "metadata": {},
   "outputs": [
    {
     "data": {
      "text/plain": [
       "<Axes: xlabel='predicted_probability', ylabel='Count'>"
      ]
     },
     "execution_count": 94,
     "metadata": {},
     "output_type": "execute_result"
    },
    {
     "data": {
      "image/png": "[encoded data removed]",
      "text/plain": [
       "<Figure size 640x480 with 1 Axes>"
      ]
     },
     "metadata": {},
     "output_type": "display_data"
    }
   ],
   "source": [
    "sns.histplot(predictions['predicted_probability'])"
   ]
  },
  {
   "cell_type": "markdown",
   "id": "035cfb3b-b44d-4f34-93b0-4ccf8053767e",
   "metadata": {},
   "source": [
    "### company balance sheets"
   ]
  },
  {
   "cell_type": "code",
   "execution_count": 98,
   "id": "35854cef-140f-465e-9a1d-b07bec080b53",
   "metadata": {},
   "outputs": [
    {
     "data": {
      "text/html": [
       "<div>\n",
       "<style scoped>\n",
       "    .dataframe tbody tr th:only-of-type {\n",
       "        vertical-align: middle;\n",
       "    }\n",
       "\n",
       "    .dataframe tbody tr th {\n",
       "        vertical-align: top;\n",
       "    }\n",
       "\n",
       "    .dataframe thead th {\n",
       "        text-align: right;\n",
       "    }\n",
       "</style>\n",
       "<table border=\"1\" class=\"dataframe\">\n",
       "  <thead>\n",
       "    <tr style=\"text-align: right;\">\n",
       "      <th></th>\n",
       "      <th>id</th>\n",
       "      <th>stmt_date</th>\n",
       "      <th>HQ_city</th>\n",
       "      <th>legal_struct</th>\n",
       "      <th>ateco_sector</th>\n",
       "      <th>def_date</th>\n",
       "      <th>fs_year</th>\n",
       "      <th>asst_intang_fixed</th>\n",
       "      <th>asst_tang_fixed</th>\n",
       "      <th>asst_fixed_fin</th>\n",
       "      <th>...</th>\n",
       "      <th>inc_extraord</th>\n",
       "      <th>taxes</th>\n",
       "      <th>profit</th>\n",
       "      <th>days_rec</th>\n",
       "      <th>ebitda</th>\n",
       "      <th>roa</th>\n",
       "      <th>roe</th>\n",
       "      <th>wc_net</th>\n",
       "      <th>margin_fin</th>\n",
       "      <th>cf_operations</th>\n",
       "    </tr>\n",
       "  </thead>\n",
       "  <tbody>\n",
       "    <tr>\n",
       "      <th>17</th>\n",
       "      <td>520288</td>\n",
       "      <td>2011-12-31</td>\n",
       "      <td>28.0</td>\n",
       "      <td>SRL</td>\n",
       "      <td>14.0</td>\n",
       "      <td>NaT</td>\n",
       "      <td>2011</td>\n",
       "      <td>67537.0</td>\n",
       "      <td>1137566.0</td>\n",
       "      <td>1908.0</td>\n",
       "      <td>...</td>\n",
       "      <td>-309.0</td>\n",
       "      <td>-80959.0</td>\n",
       "      <td>-81288.0</td>\n",
       "      <td>NaN</td>\n",
       "      <td>6318.0</td>\n",
       "      <td>-3.81</td>\n",
       "      <td>-28.03</td>\n",
       "      <td>496258.0</td>\n",
       "      <td>-917029.0</td>\n",
       "      <td>-849.0</td>\n",
       "    </tr>\n",
       "    <tr>\n",
       "      <th>18</th>\n",
       "      <td>520288</td>\n",
       "      <td>2008-12-31</td>\n",
       "      <td>28.0</td>\n",
       "      <td>SRL</td>\n",
       "      <td>14.0</td>\n",
       "      <td>NaT</td>\n",
       "      <td>2008</td>\n",
       "      <td>256438.0</td>\n",
       "      <td>1181416.0</td>\n",
       "      <td>860.0</td>\n",
       "      <td>...</td>\n",
       "      <td>-678.0</td>\n",
       "      <td>-94622.0</td>\n",
       "      <td>-107382.0</td>\n",
       "      <td>NaN</td>\n",
       "      <td>46088.0</td>\n",
       "      <td>-2.76</td>\n",
       "      <td>NaN</td>\n",
       "      <td>97952.0</td>\n",
       "      <td>NaN</td>\n",
       "      <td>-3881.0</td>\n",
       "    </tr>\n",
       "    <tr>\n",
       "      <th>19</th>\n",
       "      <td>520288</td>\n",
       "      <td>2009-12-31</td>\n",
       "      <td>28.0</td>\n",
       "      <td>SRL</td>\n",
       "      <td>14.0</td>\n",
       "      <td>NaT</td>\n",
       "      <td>2009</td>\n",
       "      <td>194046.0</td>\n",
       "      <td>1152014.0</td>\n",
       "      <td>860.0</td>\n",
       "      <td>...</td>\n",
       "      <td>4224.0</td>\n",
       "      <td>-74235.0</td>\n",
       "      <td>-77819.0</td>\n",
       "      <td>NaN</td>\n",
       "      <td>67611.0</td>\n",
       "      <td>-2.17</td>\n",
       "      <td>NaN</td>\n",
       "      <td>-210671.0</td>\n",
       "      <td>NaN</td>\n",
       "      <td>32618.0</td>\n",
       "    </tr>\n",
       "    <tr>\n",
       "      <th>21</th>\n",
       "      <td>520288</td>\n",
       "      <td>2012-12-31</td>\n",
       "      <td>28.0</td>\n",
       "      <td>SRL</td>\n",
       "      <td>14.0</td>\n",
       "      <td>NaT</td>\n",
       "      <td>2012</td>\n",
       "      <td>15195.0</td>\n",
       "      <td>1116938.0</td>\n",
       "      <td>2023.0</td>\n",
       "      <td>...</td>\n",
       "      <td>3634.0</td>\n",
       "      <td>-250786.0</td>\n",
       "      <td>-250786.0</td>\n",
       "      <td>NaN</td>\n",
       "      <td>-161478.0</td>\n",
       "      <td>-12.99</td>\n",
       "      <td>NaN</td>\n",
       "      <td>367892.0</td>\n",
       "      <td>-1094962.0</td>\n",
       "      <td>-168907.0</td>\n",
       "    </tr>\n",
       "    <tr>\n",
       "      <th>22</th>\n",
       "      <td>520288</td>\n",
       "      <td>2007-12-31</td>\n",
       "      <td>28.0</td>\n",
       "      <td>SRL</td>\n",
       "      <td>14.0</td>\n",
       "      <td>NaT</td>\n",
       "      <td>2007</td>\n",
       "      <td>126603.0</td>\n",
       "      <td>1127807.0</td>\n",
       "      <td>620.0</td>\n",
       "      <td>...</td>\n",
       "      <td>820.0</td>\n",
       "      <td>92192.0</td>\n",
       "      <td>36733.0</td>\n",
       "      <td>NaN</td>\n",
       "      <td>153060.0</td>\n",
       "      <td>6.20</td>\n",
       "      <td>52.43</td>\n",
       "      <td>-317007.0</td>\n",
       "      <td>-1184970.0</td>\n",
       "      <td>80039.0</td>\n",
       "    </tr>\n",
       "  </tbody>\n",
       "</table>\n",
       "<p>5 rows × 43 columns</p>\n",
       "</div>"
      ],
      "text/plain": [
       "        id   stmt_date  HQ_city legal_struct  ateco_sector def_date  fs_year  \\\n",
       "17  520288  2011-12-31     28.0          SRL          14.0      NaT     2011   \n",
       "18  520288  2008-12-31     28.0          SRL          14.0      NaT     2008   \n",
       "19  520288  2009-12-31     28.0          SRL          14.0      NaT     2009   \n",
       "21  520288  2012-12-31     28.0          SRL          14.0      NaT     2012   \n",
       "22  520288  2007-12-31     28.0          SRL          14.0      NaT     2007   \n",
       "\n",
       "    asst_intang_fixed  asst_tang_fixed  asst_fixed_fin  ...  inc_extraord  \\\n",
       "17            67537.0        1137566.0          1908.0  ...        -309.0   \n",
       "18           256438.0        1181416.0           860.0  ...        -678.0   \n",
       "19           194046.0        1152014.0           860.0  ...        4224.0   \n",
       "21            15195.0        1116938.0          2023.0  ...        3634.0   \n",
       "22           126603.0        1127807.0           620.0  ...         820.0   \n",
       "\n",
       "       taxes    profit  days_rec    ebitda    roa    roe    wc_net  \\\n",
       "17  -80959.0  -81288.0       NaN    6318.0  -3.81 -28.03  496258.0   \n",
       "18  -94622.0 -107382.0       NaN   46088.0  -2.76    NaN   97952.0   \n",
       "19  -74235.0  -77819.0       NaN   67611.0  -2.17    NaN -210671.0   \n",
       "21 -250786.0 -250786.0       NaN -161478.0 -12.99    NaN  367892.0   \n",
       "22   92192.0   36733.0       NaN  153060.0   6.20  52.43 -317007.0   \n",
       "\n",
       "    margin_fin  cf_operations  \n",
       "17   -917029.0         -849.0  \n",
       "18         NaN        -3881.0  \n",
       "19         NaN        32618.0  \n",
       "21  -1094962.0      -168907.0  \n",
       "22  -1184970.0        80039.0  \n",
       "\n",
       "[5 rows x 43 columns]"
      ]
     },
     "execution_count": 98,
     "metadata": {},
     "output_type": "execute_result"
    }
   ],
   "source": [
    "file_path = 'train.csv'  \n",
    "new_df = pd.read_csv(file_path, index_col=0)\n",
    "new_df.head()"
   ]
  },
  {
   "cell_type": "code",
   "execution_count": null,
   "id": "76e64acf-cd5f-4bd6-b64a-842ebf16b001",
   "metadata": {},
   "outputs": [],
   "source": []
  },
  {
   "cell_type": "code",
   "execution_count": 208,
   "id": "501694fc-0801-46c6-b9f8-338066357b4b",
   "metadata": {},
   "outputs": [],
   "source": [
    "left_side_balance = [\n",
    "    'asst_intang_fixed',\n",
    "    'asst_tang_fixed',\n",
    "    'asst_fixed_fin',\n",
    "    'asst_current',\n",
    "    'AR',\n",
    "    'cash_and_equiv',\n",
    "    'asst_tot',\n",
    "    'goodwill'\n",
    "]"
   ]
  },
  {
   "cell_type": "code",
   "execution_count": null,
   "id": "6136165a-f0c5-4c05-8696-4427795bd51d",
   "metadata": {},
   "outputs": [],
   "source": []
  },
  {
   "cell_type": "code",
   "execution_count": 183,
   "id": "f17b3271-6dbe-4217-9aef-91700a99450f",
   "metadata": {},
   "outputs": [],
   "source": [
    "right_side_balance = [\n",
    "    'liab_lt',\n",
    "    'liab_lt_emp', \n",
    "    'debt_bank_st',\n",
    "    'debt_bank_lt',\n",
    "    'debt_fin_st',\n",
    "    'debt_fin_lt',\n",
    "    'AP_st',\n",
    "    'AP_lt',\n",
    "    'debt_st',\n",
    "    'debt_lt',\n",
    "    'eqty_tot',\n",
    "    'eqty_corp_family_tot',\n",
    "]"
   ]
  },
  {
   "cell_type": "code",
   "execution_count": 168,
   "id": "4efeae56-b491-4746-b548-afd0773dac84",
   "metadata": {},
   "outputs": [],
   "source": [
    "good_example = new_df.loc[[786008]]"
   ]
  },
  {
   "cell_type": "code",
   "execution_count": 169,
   "id": "7fdfce07-6c58-42c3-929c-da65756f9290",
   "metadata": {},
   "outputs": [
    {
     "data": {
      "text/plain": [
       "786008    2320949.0\n",
       "Name: asst_tot, dtype: float64"
      ]
     },
     "execution_count": 169,
     "metadata": {},
     "output_type": "execute_result"
    }
   ],
   "source": [
    "good_example['asst_tot'] "
   ]
  },
  {
   "cell_type": "code",
   "execution_count": 170,
   "id": "7ebd4b0d-3789-44b9-a31c-8f6f748265c8",
   "metadata": {},
   "outputs": [
    {
     "data": {
      "text/plain": [
       "786008    2320949.0\n",
       "dtype: float64"
      ]
     },
     "execution_count": 170,
     "metadata": {},
     "output_type": "execute_result"
    }
   ],
   "source": [
    "good_example[['asst_intang_fixed',\n",
    "    'asst_tang_fixed',\n",
    "    'asst_fixed_fin',\n",
    "    # 'asst_current',\n",
    "    'AR',\n",
    "    'cash_and_equiv',]].sum(axis=1)"
   ]
  },
  {
   "cell_type": "code",
   "execution_count": null,
   "id": "778a3a61-e763-4369-96b0-0547d8e41280",
   "metadata": {},
   "outputs": [],
   "source": []
  },
  {
   "cell_type": "code",
   "execution_count": 209,
   "id": "08d3c00a-3777-48ab-b60d-0a67442dd9c6",
   "metadata": {},
   "outputs": [],
   "source": [
    "asset_cols = ['asst_intang_fixed',\n",
    "    'asst_tang_fixed',\n",
    "    'asst_fixed_fin',\n",
    "    'AR',\n",
    "    'cash_and_equiv',\n",
    "             'goodwill']\n",
    "\n",
    "# must be equal to 'asst_tot'"
   ]
  },
  {
   "cell_type": "code",
   "execution_count": 210,
   "id": "30e7774e-3053-4aa4-9fb5-f2e8fa4407ac",
   "metadata": {},
   "outputs": [
    {
     "data": {
      "text/plain": [
       "786008    2376869.0\n",
       "dtype: float64"
      ]
     },
     "execution_count": 210,
     "metadata": {},
     "output_type": "execute_result"
    }
   ],
   "source": [
    "### left side total\n",
    "\n",
    "ex_left_total = good_example[asset_cols].sum(axis=1)\n",
    "ex_left_total"
   ]
  },
  {
   "cell_type": "code",
   "execution_count": 211,
   "id": "142370fc-f121-45b6-b9c7-3f00bca5d542",
   "metadata": {},
   "outputs": [],
   "source": [
    "### right side"
   ]
  },
  {
   "cell_type": "code",
   "execution_count": 221,
   "id": "efb6a6fd-c9ae-40b9-b85d-9635ae014b3e",
   "metadata": {},
   "outputs": [
    {
     "data": {
      "text/plain": [
       "786008    2252557.0\n",
       "dtype: float64"
      ]
     },
     "execution_count": 221,
     "metadata": {},
     "output_type": "execute_result"
    }
   ],
   "source": [
    "ex_right_total = good_example[['liab_lt',\n",
    "    'liab_lt_emp', \n",
    "    'debt_bank_st',\n",
    "    'debt_bank_lt',\n",
    "    'debt_fin_st',\n",
    "    'debt_fin_lt',\n",
    "    'AP_st',\n",
    "    'AP_lt',\n",
    "    \n",
    "    'eqty_tot',\n",
    "    'eqty_corp_family_tot',\n",
    "                               # 'debt_st',\n",
    "    # 'debt_lt',\n",
    "             ]].sum(axis=1)\n",
    "ex_right_total"
   ]
  },
  {
   "cell_type": "code",
   "execution_count": 222,
   "id": "03c5b927-55ef-4095-9124-0c9d5d695d44",
   "metadata": {},
   "outputs": [
    {
     "data": {
      "text/plain": [
       "786008    124312.0\n",
       "dtype: float64"
      ]
     },
     "execution_count": 222,
     "metadata": {},
     "output_type": "execute_result"
    }
   ],
   "source": [
    "ex_left_total-ex_right_total"
   ]
  },
  {
   "cell_type": "code",
   "execution_count": 223,
   "id": "c4cc1a42-55d4-48a5-89ec-453077a25e9f",
   "metadata": {},
   "outputs": [
    {
     "data": {
      "text/plain": [
       "786008    2056353.0\n",
       "Name: debt_st, dtype: float64"
      ]
     },
     "execution_count": 223,
     "metadata": {},
     "output_type": "execute_result"
    }
   ],
   "source": [
    "good_example['debt_st']"
   ]
  },
  {
   "cell_type": "code",
   "execution_count": 224,
   "id": "1fd1c86e-b25c-4494-befd-505cb490ca82",
   "metadata": {},
   "outputs": [
    {
     "data": {
      "text/plain": [
       "786008    1997564.0\n",
       "dtype: float64"
      ]
     },
     "execution_count": 224,
     "metadata": {},
     "output_type": "execute_result"
    }
   ],
   "source": [
    "good_example[['debt_bank_st','debt_fin_st','AP_st']].sum(axis=1)"
   ]
  },
  {
   "cell_type": "code",
   "execution_count": 228,
   "id": "d49486ed-1d2e-4e2d-8c13-3cfba842855f",
   "metadata": {},
   "outputs": [
    {
     "data": {
      "text/plain": [
       "58789.0"
      ]
     },
     "execution_count": 228,
     "metadata": {},
     "output_type": "execute_result"
    }
   ],
   "source": [
    "2056353.0-1997564.0"
   ]
  },
  {
   "cell_type": "code",
   "execution_count": 225,
   "id": "f15b9b42-aa47-45ee-88af-7d0a30fdb4bc",
   "metadata": {},
   "outputs": [
    {
     "data": {
      "text/plain": [
       "786008    136961.0\n",
       "dtype: float64"
      ]
     },
     "execution_count": 225,
     "metadata": {},
     "output_type": "execute_result"
    }
   ],
   "source": [
    "good_example[['debt_bank_lt','debt_fin_lt','AP_lt']].sum(axis=1)"
   ]
  },
  {
   "cell_type": "code",
   "execution_count": 226,
   "id": "8dd0cd21-18e8-47fb-8095-fc573ed46968",
   "metadata": {},
   "outputs": [
    {
     "data": {
      "text/plain": [
       "786008    136961.0\n",
       "Name: debt_lt, dtype: float64"
      ]
     },
     "execution_count": 226,
     "metadata": {},
     "output_type": "execute_result"
    }
   ],
   "source": [
    "good_example['debt_lt']"
   ]
  },
  {
   "cell_type": "code",
   "execution_count": 184,
   "id": "f473f737-023b-4b6f-aeea-02a086999ff8",
   "metadata": {},
   "outputs": [
    {
     "data": {
      "text/html": [
       "<div>\n",
       "<style scoped>\n",
       "    .dataframe tbody tr th:only-of-type {\n",
       "        vertical-align: middle;\n",
       "    }\n",
       "\n",
       "    .dataframe tbody tr th {\n",
       "        vertical-align: top;\n",
       "    }\n",
       "\n",
       "    .dataframe thead th {\n",
       "        text-align: right;\n",
       "    }\n",
       "</style>\n",
       "<table border=\"1\" class=\"dataframe\">\n",
       "  <thead>\n",
       "    <tr style=\"text-align: right;\">\n",
       "      <th></th>\n",
       "      <th>liab_lt</th>\n",
       "      <th>liab_lt_emp</th>\n",
       "      <th>debt_bank_st</th>\n",
       "      <th>debt_bank_lt</th>\n",
       "      <th>debt_fin_st</th>\n",
       "      <th>debt_fin_lt</th>\n",
       "      <th>AP_st</th>\n",
       "      <th>AP_lt</th>\n",
       "      <th>debt_st</th>\n",
       "      <th>debt_lt</th>\n",
       "      <th>eqty_tot</th>\n",
       "      <th>eqty_corp_family_tot</th>\n",
       "    </tr>\n",
       "  </thead>\n",
       "  <tbody>\n",
       "    <tr>\n",
       "      <th>786008</th>\n",
       "      <td>0.0</td>\n",
       "      <td>0.0</td>\n",
       "      <td>1720233.0</td>\n",
       "      <td>136961.0</td>\n",
       "      <td>0.0</td>\n",
       "      <td>0.0</td>\n",
       "      <td>277331.0</td>\n",
       "      <td>0.0</td>\n",
       "      <td>2056353.0</td>\n",
       "      <td>136961.0</td>\n",
       "      <td>118032.0</td>\n",
       "      <td>NaN</td>\n",
       "    </tr>\n",
       "  </tbody>\n",
       "</table>\n",
       "</div>"
      ],
      "text/plain": [
       "        liab_lt  liab_lt_emp  debt_bank_st  debt_bank_lt  debt_fin_st  \\\n",
       "786008      0.0          0.0     1720233.0      136961.0          0.0   \n",
       "\n",
       "        debt_fin_lt     AP_st  AP_lt    debt_st   debt_lt  eqty_tot  \\\n",
       "786008          0.0  277331.0    0.0  2056353.0  136961.0  118032.0   \n",
       "\n",
       "        eqty_corp_family_tot  \n",
       "786008                   NaN  "
      ]
     },
     "execution_count": 184,
     "metadata": {},
     "output_type": "execute_result"
    }
   ],
   "source": [
    "good_example[right_side_balance]"
   ]
  },
  {
   "cell_type": "code",
   "execution_count": 186,
   "id": "1fe153e4-d710-42ac-b943-db6f96bc72fe",
   "metadata": {},
   "outputs": [
    {
     "data": {
      "text/html": [
       "<div>\n",
       "<style scoped>\n",
       "    .dataframe tbody tr th:only-of-type {\n",
       "        vertical-align: middle;\n",
       "    }\n",
       "\n",
       "    .dataframe tbody tr th {\n",
       "        vertical-align: top;\n",
       "    }\n",
       "\n",
       "    .dataframe thead th {\n",
       "        text-align: right;\n",
       "    }\n",
       "</style>\n",
       "<table border=\"1\" class=\"dataframe\">\n",
       "  <thead>\n",
       "    <tr style=\"text-align: right;\">\n",
       "      <th></th>\n",
       "      <th>asst_intang_fixed</th>\n",
       "      <th>asst_tang_fixed</th>\n",
       "      <th>asst_fixed_fin</th>\n",
       "      <th>asst_current</th>\n",
       "      <th>AR</th>\n",
       "      <th>cash_and_equiv</th>\n",
       "      <th>asst_tot</th>\n",
       "    </tr>\n",
       "  </thead>\n",
       "  <tbody>\n",
       "    <tr>\n",
       "      <th>786008</th>\n",
       "      <td>3849.0</td>\n",
       "      <td>92253.0</td>\n",
       "      <td>43170.0</td>\n",
       "      <td>2181677.0</td>\n",
       "      <td>2180436.0</td>\n",
       "      <td>1241.0</td>\n",
       "      <td>2320949.0</td>\n",
       "    </tr>\n",
       "  </tbody>\n",
       "</table>\n",
       "</div>"
      ],
      "text/plain": [
       "        asst_intang_fixed  asst_tang_fixed  asst_fixed_fin  asst_current  \\\n",
       "786008             3849.0          92253.0         43170.0     2181677.0   \n",
       "\n",
       "               AR  cash_and_equiv   asst_tot  \n",
       "786008  2180436.0          1241.0  2320949.0  "
      ]
     },
     "execution_count": 186,
     "metadata": {},
     "output_type": "execute_result"
    }
   ],
   "source": [
    "good_example[left_side_balance]"
   ]
  },
  {
   "cell_type": "code",
   "execution_count": 251,
   "id": "e1851587-e6d7-4e79-b01c-a812e41dea5e",
   "metadata": {},
   "outputs": [
    {
     "data": {
      "text/plain": [
       "786008    2470645.0\n",
       "dtype: float64"
      ]
     },
     "execution_count": 251,
     "metadata": {},
     "output_type": "execute_result"
    }
   ],
   "source": [
    "good_example[['debt_lt','debt_st','AP_lt','AP_st']].sum(axis=1)"
   ]
  },
  {
   "cell_type": "code",
   "execution_count": 252,
   "id": "164c6681-f720-4f30-9ac1-1f5e12be76fc",
   "metadata": {},
   "outputs": [
    {
     "data": {
      "text/plain": [
       "786008    2320949.0\n",
       "dtype: float64"
      ]
     },
     "execution_count": 252,
     "metadata": {},
     "output_type": "execute_result"
    }
   ],
   "source": [
    "good_example[['asst_tot']].sum(axis=1)"
   ]
  },
  {
   "cell_type": "code",
   "execution_count": 246,
   "id": "5a3516a7-b572-4898-b664-c7fdf5d4eb34",
   "metadata": {},
   "outputs": [
    {
     "data": {
      "text/html": [
       "<div>\n",
       "<style scoped>\n",
       "    .dataframe tbody tr th:only-of-type {\n",
       "        vertical-align: middle;\n",
       "    }\n",
       "\n",
       "    .dataframe tbody tr th {\n",
       "        vertical-align: top;\n",
       "    }\n",
       "\n",
       "    .dataframe thead th {\n",
       "        text-align: right;\n",
       "    }\n",
       "</style>\n",
       "<table border=\"1\" class=\"dataframe\">\n",
       "  <thead>\n",
       "    <tr style=\"text-align: right;\">\n",
       "      <th></th>\n",
       "      <th>786008</th>\n",
       "    </tr>\n",
       "  </thead>\n",
       "  <tbody>\n",
       "    <tr>\n",
       "      <th>HQ_city</th>\n",
       "      <td>15.00</td>\n",
       "    </tr>\n",
       "    <tr>\n",
       "      <th>ateco_sector</th>\n",
       "      <td>68.00</td>\n",
       "    </tr>\n",
       "    <tr>\n",
       "      <th>fs_year</th>\n",
       "      <td>2009.00</td>\n",
       "    </tr>\n",
       "    <tr>\n",
       "      <th>asst_intang_fixed</th>\n",
       "      <td>3849.00</td>\n",
       "    </tr>\n",
       "    <tr>\n",
       "      <th>asst_fixed_fin</th>\n",
       "      <td>43170.00</td>\n",
       "    </tr>\n",
       "    <tr>\n",
       "      <th>cash_and_equiv</th>\n",
       "      <td>1241.00</td>\n",
       "    </tr>\n",
       "    <tr>\n",
       "      <th>liab_lt</th>\n",
       "      <td>0.00</td>\n",
       "    </tr>\n",
       "    <tr>\n",
       "      <th>liab_lt_emp</th>\n",
       "      <td>0.00</td>\n",
       "    </tr>\n",
       "    <tr>\n",
       "      <th>debt_fin_st</th>\n",
       "      <td>0.00</td>\n",
       "    </tr>\n",
       "    <tr>\n",
       "      <th>debt_fin_lt</th>\n",
       "      <td>0.00</td>\n",
       "    </tr>\n",
       "    <tr>\n",
       "      <th>AP_lt</th>\n",
       "      <td>0.00</td>\n",
       "    </tr>\n",
       "    <tr>\n",
       "      <th>prof_operations</th>\n",
       "      <td>51330.00</td>\n",
       "    </tr>\n",
       "    <tr>\n",
       "      <th>goodwill</th>\n",
       "      <td>55920.00</td>\n",
       "    </tr>\n",
       "    <tr>\n",
       "      <th>inc_financing</th>\n",
       "      <td>24138.00</td>\n",
       "    </tr>\n",
       "    <tr>\n",
       "      <th>prof_financing</th>\n",
       "      <td>0.00</td>\n",
       "    </tr>\n",
       "    <tr>\n",
       "      <th>inc_extraord</th>\n",
       "      <td>-68090.00</td>\n",
       "    </tr>\n",
       "    <tr>\n",
       "      <th>taxes</th>\n",
       "      <td>7378.00</td>\n",
       "    </tr>\n",
       "    <tr>\n",
       "      <th>profit</th>\n",
       "      <td>5574.00</td>\n",
       "    </tr>\n",
       "    <tr>\n",
       "      <th>days_rec</th>\n",
       "      <td>1029.87</td>\n",
       "    </tr>\n",
       "    <tr>\n",
       "      <th>ebitda</th>\n",
       "      <td>55813.00</td>\n",
       "    </tr>\n",
       "    <tr>\n",
       "      <th>roa</th>\n",
       "      <td>2.21</td>\n",
       "    </tr>\n",
       "    <tr>\n",
       "      <th>roe</th>\n",
       "      <td>4.72</td>\n",
       "    </tr>\n",
       "    <tr>\n",
       "      <th>margin_fin</th>\n",
       "      <td>-21240.00</td>\n",
       "    </tr>\n",
       "    <tr>\n",
       "      <th>cf_operations</th>\n",
       "      <td>10057.00</td>\n",
       "    </tr>\n",
       "  </tbody>\n",
       "</table>\n",
       "</div>"
      ],
      "text/plain": [
       "                     786008\n",
       "HQ_city               15.00\n",
       "ateco_sector          68.00\n",
       "fs_year             2009.00\n",
       "asst_intang_fixed   3849.00\n",
       "asst_fixed_fin     43170.00\n",
       "cash_and_equiv      1241.00\n",
       "liab_lt                0.00\n",
       "liab_lt_emp            0.00\n",
       "debt_fin_st            0.00\n",
       "debt_fin_lt            0.00\n",
       "AP_lt                  0.00\n",
       "prof_operations    51330.00\n",
       "goodwill           55920.00\n",
       "inc_financing      24138.00\n",
       "prof_financing         0.00\n",
       "inc_extraord      -68090.00\n",
       "taxes               7378.00\n",
       "profit              5574.00\n",
       "days_rec            1029.87\n",
       "ebitda             55813.00\n",
       "roa                    2.21\n",
       "roe                    4.72\n",
       "margin_fin        -21240.00\n",
       "cf_operations      10057.00"
      ]
     },
     "execution_count": 246,
     "metadata": {},
     "output_type": "execute_result"
    }
   ],
   "source": [
    "good_example[good_example.select_dtypes(['int','float']).columns[(good_example.select_dtypes(['int','float']) <= 58789.0).values[0]]].T"
   ]
  },
  {
   "cell_type": "code",
   "execution_count": null,
   "id": "c90efe8d-71a5-42d9-abe9-f0a8eff079da",
   "metadata": {},
   "outputs": [],
   "source": []
  }
 ],
 "metadata": {
  "kernelspec": {
   "display_name": "Python 3 (ipykernel)",
   "language": "python",
   "name": "python3"
  },
  "language_info": {
   "codemirror_mode": {
    "name": "ipython",
    "version": 3
   },
   "file_extension": ".py",
   "mimetype": "text/x-python",
   "name": "python",
   "nbconvert_exporter": "python",
   "pygments_lexer": "ipython3",
   "version": "3.12.1"
  }
 },
 "nbformat": 4,
 "nbformat_minor": 5
}
