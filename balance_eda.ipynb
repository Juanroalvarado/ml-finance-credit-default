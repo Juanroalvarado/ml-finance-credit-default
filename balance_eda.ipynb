{
 "cells": [
  {
   "cell_type": "code",
   "execution_count": 1,
   "id": "c950aa93-bfee-4d5f-a0cf-94ad79513842",
   "metadata": {},
   "outputs": [],
   "source": [
    "import pandas as pd"
   ]
  },
  {
   "cell_type": "markdown",
   "id": "f87b8128-3528-439d-9942-38df7b630f05",
   "metadata": {},
   "source": [
    "### company balance sheets"
   ]
  },
  {
   "cell_type": "code",
   "execution_count": 98,
   "id": "93702c8f-b7c5-48c3-8e18-e194311552f5",
   "metadata": {},
   "outputs": [
    {
     "data": {
      "text/html": [
       "<div>\n",
       "<style scoped>\n",
       "    .dataframe tbody tr th:only-of-type {\n",
       "        vertical-align: middle;\n",
       "    }\n",
       "\n",
       "    .dataframe tbody tr th {\n",
       "        vertical-align: top;\n",
       "    }\n",
       "\n",
       "    .dataframe thead th {\n",
       "        text-align: right;\n",
       "    }\n",
       "</style>\n",
       "<table border=\"1\" class=\"dataframe\">\n",
       "  <thead>\n",
       "    <tr style=\"text-align: right;\">\n",
       "      <th></th>\n",
       "      <th>id</th>\n",
       "      <th>stmt_date</th>\n",
       "      <th>HQ_city</th>\n",
       "      <th>legal_struct</th>\n",
       "      <th>ateco_sector</th>\n",
       "      <th>def_date</th>\n",
       "      <th>fs_year</th>\n",
       "      <th>asst_intang_fixed</th>\n",
       "      <th>asst_tang_fixed</th>\n",
       "      <th>asst_fixed_fin</th>\n",
       "      <th>...</th>\n",
       "      <th>inc_extraord</th>\n",
       "      <th>taxes</th>\n",
       "      <th>profit</th>\n",
       "      <th>days_rec</th>\n",
       "      <th>ebitda</th>\n",
       "      <th>roa</th>\n",
       "      <th>roe</th>\n",
       "      <th>wc_net</th>\n",
       "      <th>margin_fin</th>\n",
       "      <th>cf_operations</th>\n",
       "    </tr>\n",
       "  </thead>\n",
       "  <tbody>\n",
       "    <tr>\n",
       "      <th>17</th>\n",
       "      <td>520288</td>\n",
       "      <td>2011-12-31</td>\n",
       "      <td>28.0</td>\n",
       "      <td>SRL</td>\n",
       "      <td>14.0</td>\n",
       "      <td>NaT</td>\n",
       "      <td>2011</td>\n",
       "      <td>67537.0</td>\n",
       "      <td>1137566.0</td>\n",
       "      <td>1908.0</td>\n",
       "      <td>...</td>\n",
       "      <td>-309.0</td>\n",
       "      <td>-80959.0</td>\n",
       "      <td>-81288.0</td>\n",
       "      <td>NaN</td>\n",
       "      <td>6318.0</td>\n",
       "      <td>-3.81</td>\n",
       "      <td>-28.03</td>\n",
       "      <td>496258.0</td>\n",
       "      <td>-917029.0</td>\n",
       "      <td>-849.0</td>\n",
       "    </tr>\n",
       "    <tr>\n",
       "      <th>18</th>\n",
       "      <td>520288</td>\n",
       "      <td>2008-12-31</td>\n",
       "      <td>28.0</td>\n",
       "      <td>SRL</td>\n",
       "      <td>14.0</td>\n",
       "      <td>NaT</td>\n",
       "      <td>2008</td>\n",
       "      <td>256438.0</td>\n",
       "      <td>1181416.0</td>\n",
       "      <td>860.0</td>\n",
       "      <td>...</td>\n",
       "      <td>-678.0</td>\n",
       "      <td>-94622.0</td>\n",
       "      <td>-107382.0</td>\n",
       "      <td>NaN</td>\n",
       "      <td>46088.0</td>\n",
       "      <td>-2.76</td>\n",
       "      <td>NaN</td>\n",
       "      <td>97952.0</td>\n",
       "      <td>NaN</td>\n",
       "      <td>-3881.0</td>\n",
       "    </tr>\n",
       "    <tr>\n",
       "      <th>19</th>\n",
       "      <td>520288</td>\n",
       "      <td>2009-12-31</td>\n",
       "      <td>28.0</td>\n",
       "      <td>SRL</td>\n",
       "      <td>14.0</td>\n",
       "      <td>NaT</td>\n",
       "      <td>2009</td>\n",
       "      <td>194046.0</td>\n",
       "      <td>1152014.0</td>\n",
       "      <td>860.0</td>\n",
       "      <td>...</td>\n",
       "      <td>4224.0</td>\n",
       "      <td>-74235.0</td>\n",
       "      <td>-77819.0</td>\n",
       "      <td>NaN</td>\n",
       "      <td>67611.0</td>\n",
       "      <td>-2.17</td>\n",
       "      <td>NaN</td>\n",
       "      <td>-210671.0</td>\n",
       "      <td>NaN</td>\n",
       "      <td>32618.0</td>\n",
       "    </tr>\n",
       "    <tr>\n",
       "      <th>21</th>\n",
       "      <td>520288</td>\n",
       "      <td>2012-12-31</td>\n",
       "      <td>28.0</td>\n",
       "      <td>SRL</td>\n",
       "      <td>14.0</td>\n",
       "      <td>NaT</td>\n",
       "      <td>2012</td>\n",
       "      <td>15195.0</td>\n",
       "      <td>1116938.0</td>\n",
       "      <td>2023.0</td>\n",
       "      <td>...</td>\n",
       "      <td>3634.0</td>\n",
       "      <td>-250786.0</td>\n",
       "      <td>-250786.0</td>\n",
       "      <td>NaN</td>\n",
       "      <td>-161478.0</td>\n",
       "      <td>-12.99</td>\n",
       "      <td>NaN</td>\n",
       "      <td>367892.0</td>\n",
       "      <td>-1094962.0</td>\n",
       "      <td>-168907.0</td>\n",
       "    </tr>\n",
       "    <tr>\n",
       "      <th>22</th>\n",
       "      <td>520288</td>\n",
       "      <td>2007-12-31</td>\n",
       "      <td>28.0</td>\n",
       "      <td>SRL</td>\n",
       "      <td>14.0</td>\n",
       "      <td>NaT</td>\n",
       "      <td>2007</td>\n",
       "      <td>126603.0</td>\n",
       "      <td>1127807.0</td>\n",
       "      <td>620.0</td>\n",
       "      <td>...</td>\n",
       "      <td>820.0</td>\n",
       "      <td>92192.0</td>\n",
       "      <td>36733.0</td>\n",
       "      <td>NaN</td>\n",
       "      <td>153060.0</td>\n",
       "      <td>6.20</td>\n",
       "      <td>52.43</td>\n",
       "      <td>-317007.0</td>\n",
       "      <td>-1184970.0</td>\n",
       "      <td>80039.0</td>\n",
       "    </tr>\n",
       "  </tbody>\n",
       "</table>\n",
       "<p>5 rows × 43 columns</p>\n",
       "</div>"
      ],
      "text/plain": [
       "        id   stmt_date  HQ_city legal_struct  ateco_sector def_date  fs_year  \\\n",
       "17  520288  2011-12-31     28.0          SRL          14.0      NaT     2011   \n",
       "18  520288  2008-12-31     28.0          SRL          14.0      NaT     2008   \n",
       "19  520288  2009-12-31     28.0          SRL          14.0      NaT     2009   \n",
       "21  520288  2012-12-31     28.0          SRL          14.0      NaT     2012   \n",
       "22  520288  2007-12-31     28.0          SRL          14.0      NaT     2007   \n",
       "\n",
       "    asst_intang_fixed  asst_tang_fixed  asst_fixed_fin  ...  inc_extraord  \\\n",
       "17            67537.0        1137566.0          1908.0  ...        -309.0   \n",
       "18           256438.0        1181416.0           860.0  ...        -678.0   \n",
       "19           194046.0        1152014.0           860.0  ...        4224.0   \n",
       "21            15195.0        1116938.0          2023.0  ...        3634.0   \n",
       "22           126603.0        1127807.0           620.0  ...         820.0   \n",
       "\n",
       "       taxes    profit  days_rec    ebitda    roa    roe    wc_net  \\\n",
       "17  -80959.0  -81288.0       NaN    6318.0  -3.81 -28.03  496258.0   \n",
       "18  -94622.0 -107382.0       NaN   46088.0  -2.76    NaN   97952.0   \n",
       "19  -74235.0  -77819.0       NaN   67611.0  -2.17    NaN -210671.0   \n",
       "21 -250786.0 -250786.0       NaN -161478.0 -12.99    NaN  367892.0   \n",
       "22   92192.0   36733.0       NaN  153060.0   6.20  52.43 -317007.0   \n",
       "\n",
       "    margin_fin  cf_operations  \n",
       "17   -917029.0         -849.0  \n",
       "18         NaN        -3881.0  \n",
       "19         NaN        32618.0  \n",
       "21  -1094962.0      -168907.0  \n",
       "22  -1184970.0        80039.0  \n",
       "\n",
       "[5 rows x 43 columns]"
      ]
     },
     "execution_count": 98,
     "metadata": {},
     "output_type": "execute_result"
    }
   ],
   "source": [
    "file_path = 'train.csv'  \n",
    "new_df = pd.read_csv(file_path, index_col=0)\n",
    "new_df.head()"
   ]
  },
  {
   "cell_type": "code",
   "execution_count": null,
   "id": "83a87f61-ae7c-4c3f-a02c-1b1daee97e31",
   "metadata": {},
   "outputs": [],
   "source": []
  },
  {
   "cell_type": "code",
   "execution_count": 208,
   "id": "51efe628-0c5b-4f4f-bd33-d2a42866981b",
   "metadata": {},
   "outputs": [],
   "source": [
    "left_side_balance = [\n",
    "    'asst_intang_fixed',\n",
    "    'asst_tang_fixed',\n",
    "    'asst_fixed_fin',\n",
    "    'asst_current',\n",
    "    'AR',\n",
    "    'cash_and_equiv',\n",
    "    'asst_tot',\n",
    "    'goodwill'\n",
    "]"
   ]
  },
  {
   "cell_type": "code",
   "execution_count": null,
   "id": "fdf753d9-f378-4bc6-8a96-d1726f7d9d40",
   "metadata": {},
   "outputs": [],
   "source": []
  },
  {
   "cell_type": "code",
   "execution_count": 183,
   "id": "be904a4f-0b91-4ac3-a6fc-767644c9d620",
   "metadata": {},
   "outputs": [],
   "source": [
    "right_side_balance = [\n",
    "    'liab_lt',\n",
    "    'liab_lt_emp', \n",
    "    'debt_bank_st',\n",
    "    'debt_bank_lt',\n",
    "    'debt_fin_st',\n",
    "    'debt_fin_lt',\n",
    "    'AP_st',\n",
    "    'AP_lt',\n",
    "    'debt_st',\n",
    "    'debt_lt',\n",
    "    'eqty_tot',\n",
    "    'eqty_corp_family_tot',\n",
    "]"
   ]
  },
  {
   "cell_type": "code",
   "execution_count": 168,
   "id": "c06f439c-c60a-4391-a3ca-f60edc370eb9",
   "metadata": {},
   "outputs": [],
   "source": [
    "good_example = new_df.loc[[786008]]"
   ]
  },
  {
   "cell_type": "code",
   "execution_count": 169,
   "id": "c13ad6ad-07eb-4639-b0b9-728ee963a87c",
   "metadata": {},
   "outputs": [
    {
     "data": {
      "text/plain": [
       "786008    2320949.0\n",
       "Name: asst_tot, dtype: float64"
      ]
     },
     "execution_count": 169,
     "metadata": {},
     "output_type": "execute_result"
    }
   ],
   "source": [
    "good_example['asst_tot'] "
   ]
  },
  {
   "cell_type": "code",
   "execution_count": 170,
   "id": "c21e220d-675c-4ca9-b09d-0b9e54d6ddf6",
   "metadata": {},
   "outputs": [
    {
     "data": {
      "text/plain": [
       "786008    2320949.0\n",
       "dtype: float64"
      ]
     },
     "execution_count": 170,
     "metadata": {},
     "output_type": "execute_result"
    }
   ],
   "source": [
    "good_example[['asst_intang_fixed',\n",
    "    'asst_tang_fixed',\n",
    "    'asst_fixed_fin',\n",
    "    # 'asst_current',\n",
    "    'AR',\n",
    "    'cash_and_equiv',]].sum(axis=1)"
   ]
  },
  {
   "cell_type": "code",
   "execution_count": null,
   "id": "fb698d73-1406-41cc-a81b-b79a0ff3ccdc",
   "metadata": {},
   "outputs": [],
   "source": []
  },
  {
   "cell_type": "code",
   "execution_count": 209,
   "id": "7e239550-c3c4-4ecb-b030-1dc66fd06cf9",
   "metadata": {},
   "outputs": [],
   "source": [
    "asset_cols = ['asst_intang_fixed',\n",
    "    'asst_tang_fixed',\n",
    "    'asst_fixed_fin',\n",
    "    'AR',\n",
    "    'cash_and_equiv',\n",
    "             'goodwill']\n",
    "\n",
    "# must be equal to 'asst_tot'"
   ]
  },
  {
   "cell_type": "code",
   "execution_count": 210,
   "id": "a5301706-14d6-498b-85ba-6793bf60ddc0",
   "metadata": {},
   "outputs": [
    {
     "data": {
      "text/plain": [
       "786008    2376869.0\n",
       "dtype: float64"
      ]
     },
     "execution_count": 210,
     "metadata": {},
     "output_type": "execute_result"
    }
   ],
   "source": [
    "### left side total\n",
    "\n",
    "ex_left_total = good_example[asset_cols].sum(axis=1)\n",
    "ex_left_total"
   ]
  },
  {
   "cell_type": "code",
   "execution_count": 211,
   "id": "d79fed9f-c8ba-4972-92b5-da317f2bb264",
   "metadata": {},
   "outputs": [],
   "source": [
    "### right side"
   ]
  },
  {
   "cell_type": "code",
   "execution_count": 221,
   "id": "5554e391-da31-423a-8e42-4d7f5ebefc56",
   "metadata": {},
   "outputs": [
    {
     "data": {
      "text/plain": [
       "786008    2252557.0\n",
       "dtype: float64"
      ]
     },
     "execution_count": 221,
     "metadata": {},
     "output_type": "execute_result"
    }
   ],
   "source": [
    "ex_right_total = good_example[['liab_lt',\n",
    "    'liab_lt_emp', \n",
    "    'debt_bank_st',\n",
    "    'debt_bank_lt',\n",
    "    'debt_fin_st',\n",
    "    'debt_fin_lt',\n",
    "    'AP_st',\n",
    "    'AP_lt',\n",
    "    \n",
    "    'eqty_tot',\n",
    "    'eqty_corp_family_tot',\n",
    "                               # 'debt_st',\n",
    "    # 'debt_lt',\n",
    "             ]].sum(axis=1)\n",
    "ex_right_total"
   ]
  },
  {
   "cell_type": "code",
   "execution_count": 222,
   "id": "6e69967b-8a12-45bd-9322-2bc2d353208f",
   "metadata": {},
   "outputs": [
    {
     "data": {
      "text/plain": [
       "786008    124312.0\n",
       "dtype: float64"
      ]
     },
     "execution_count": 222,
     "metadata": {},
     "output_type": "execute_result"
    }
   ],
   "source": [
    "ex_left_total-ex_right_total"
   ]
  },
  {
   "cell_type": "code",
   "execution_count": 223,
   "id": "b31b8f54-635e-4ec7-a3c9-c30aae7d0656",
   "metadata": {},
   "outputs": [
    {
     "data": {
      "text/plain": [
       "786008    2056353.0\n",
       "Name: debt_st, dtype: float64"
      ]
     },
     "execution_count": 223,
     "metadata": {},
     "output_type": "execute_result"
    }
   ],
   "source": [
    "good_example['debt_st']"
   ]
  },
  {
   "cell_type": "code",
   "execution_count": 224,
   "id": "c21a18eb-9e69-4ac4-b3a3-4f559bf1e737",
   "metadata": {},
   "outputs": [
    {
     "data": {
      "text/plain": [
       "786008    1997564.0\n",
       "dtype: float64"
      ]
     },
     "execution_count": 224,
     "metadata": {},
     "output_type": "execute_result"
    }
   ],
   "source": [
    "good_example[['debt_bank_st','debt_fin_st','AP_st']].sum(axis=1)"
   ]
  },
  {
   "cell_type": "code",
   "execution_count": 228,
   "id": "06e058d6-855c-452b-84a3-5f5da24a6306",
   "metadata": {},
   "outputs": [
    {
     "data": {
      "text/plain": [
       "58789.0"
      ]
     },
     "execution_count": 228,
     "metadata": {},
     "output_type": "execute_result"
    }
   ],
   "source": [
    "2056353.0-1997564.0"
   ]
  },
  {
   "cell_type": "code",
   "execution_count": 225,
   "id": "ba15b1ef-bab5-439f-b883-0c3f51719538",
   "metadata": {},
   "outputs": [
    {
     "data": {
      "text/plain": [
       "786008    136961.0\n",
       "dtype: float64"
      ]
     },
     "execution_count": 225,
     "metadata": {},
     "output_type": "execute_result"
    }
   ],
   "source": [
    "good_example[['debt_bank_lt','debt_fin_lt','AP_lt']].sum(axis=1)"
   ]
  },
  {
   "cell_type": "code",
   "execution_count": 226,
   "id": "244fdeae-0084-4409-9526-943b7fdd7c0e",
   "metadata": {},
   "outputs": [
    {
     "data": {
      "text/plain": [
       "786008    136961.0\n",
       "Name: debt_lt, dtype: float64"
      ]
     },
     "execution_count": 226,
     "metadata": {},
     "output_type": "execute_result"
    }
   ],
   "source": [
    "good_example['debt_lt']"
   ]
  },
  {
   "cell_type": "code",
   "execution_count": 184,
   "id": "f10f8d22-cce0-429d-b746-ec855c9ebd44",
   "metadata": {},
   "outputs": [
    {
     "data": {
      "text/html": [
       "<div>\n",
       "<style scoped>\n",
       "    .dataframe tbody tr th:only-of-type {\n",
       "        vertical-align: middle;\n",
       "    }\n",
       "\n",
       "    .dataframe tbody tr th {\n",
       "        vertical-align: top;\n",
       "    }\n",
       "\n",
       "    .dataframe thead th {\n",
       "        text-align: right;\n",
       "    }\n",
       "</style>\n",
       "<table border=\"1\" class=\"dataframe\">\n",
       "  <thead>\n",
       "    <tr style=\"text-align: right;\">\n",
       "      <th></th>\n",
       "      <th>liab_lt</th>\n",
       "      <th>liab_lt_emp</th>\n",
       "      <th>debt_bank_st</th>\n",
       "      <th>debt_bank_lt</th>\n",
       "      <th>debt_fin_st</th>\n",
       "      <th>debt_fin_lt</th>\n",
       "      <th>AP_st</th>\n",
       "      <th>AP_lt</th>\n",
       "      <th>debt_st</th>\n",
       "      <th>debt_lt</th>\n",
       "      <th>eqty_tot</th>\n",
       "      <th>eqty_corp_family_tot</th>\n",
       "    </tr>\n",
       "  </thead>\n",
       "  <tbody>\n",
       "    <tr>\n",
       "      <th>786008</th>\n",
       "      <td>0.0</td>\n",
       "      <td>0.0</td>\n",
       "      <td>1720233.0</td>\n",
       "      <td>136961.0</td>\n",
       "      <td>0.0</td>\n",
       "      <td>0.0</td>\n",
       "      <td>277331.0</td>\n",
       "      <td>0.0</td>\n",
       "      <td>2056353.0</td>\n",
       "      <td>136961.0</td>\n",
       "      <td>118032.0</td>\n",
       "      <td>NaN</td>\n",
       "    </tr>\n",
       "  </tbody>\n",
       "</table>\n",
       "</div>"
      ],
      "text/plain": [
       "        liab_lt  liab_lt_emp  debt_bank_st  debt_bank_lt  debt_fin_st  \\\n",
       "786008      0.0          0.0     1720233.0      136961.0          0.0   \n",
       "\n",
       "        debt_fin_lt     AP_st  AP_lt    debt_st   debt_lt  eqty_tot  \\\n",
       "786008          0.0  277331.0    0.0  2056353.0  136961.0  118032.0   \n",
       "\n",
       "        eqty_corp_family_tot  \n",
       "786008                   NaN  "
      ]
     },
     "execution_count": 184,
     "metadata": {},
     "output_type": "execute_result"
    }
   ],
   "source": [
    "good_example[right_side_balance]"
   ]
  },
  {
   "cell_type": "code",
   "execution_count": 186,
   "id": "6ed2643e-ac0f-4770-ba46-e4daa8de47ab",
   "metadata": {},
   "outputs": [
    {
     "data": {
      "text/html": [
       "<div>\n",
       "<style scoped>\n",
       "    .dataframe tbody tr th:only-of-type {\n",
       "        vertical-align: middle;\n",
       "    }\n",
       "\n",
       "    .dataframe tbody tr th {\n",
       "        vertical-align: top;\n",
       "    }\n",
       "\n",
       "    .dataframe thead th {\n",
       "        text-align: right;\n",
       "    }\n",
       "</style>\n",
       "<table border=\"1\" class=\"dataframe\">\n",
       "  <thead>\n",
       "    <tr style=\"text-align: right;\">\n",
       "      <th></th>\n",
       "      <th>asst_intang_fixed</th>\n",
       "      <th>asst_tang_fixed</th>\n",
       "      <th>asst_fixed_fin</th>\n",
       "      <th>asst_current</th>\n",
       "      <th>AR</th>\n",
       "      <th>cash_and_equiv</th>\n",
       "      <th>asst_tot</th>\n",
       "    </tr>\n",
       "  </thead>\n",
       "  <tbody>\n",
       "    <tr>\n",
       "      <th>786008</th>\n",
       "      <td>3849.0</td>\n",
       "      <td>92253.0</td>\n",
       "      <td>43170.0</td>\n",
       "      <td>2181677.0</td>\n",
       "      <td>2180436.0</td>\n",
       "      <td>1241.0</td>\n",
       "      <td>2320949.0</td>\n",
       "    </tr>\n",
       "  </tbody>\n",
       "</table>\n",
       "</div>"
      ],
      "text/plain": [
       "        asst_intang_fixed  asst_tang_fixed  asst_fixed_fin  asst_current  \\\n",
       "786008             3849.0          92253.0         43170.0     2181677.0   \n",
       "\n",
       "               AR  cash_and_equiv   asst_tot  \n",
       "786008  2180436.0          1241.0  2320949.0  "
      ]
     },
     "execution_count": 186,
     "metadata": {},
     "output_type": "execute_result"
    }
   ],
   "source": [
    "good_example[left_side_balance]"
   ]
  },
  {
   "cell_type": "code",
   "execution_count": 251,
   "id": "48e3611a-4234-4de9-8630-73a0fa0cc8e0",
   "metadata": {},
   "outputs": [
    {
     "data": {
      "text/plain": [
       "786008    2470645.0\n",
       "dtype: float64"
      ]
     },
     "execution_count": 251,
     "metadata": {},
     "output_type": "execute_result"
    }
   ],
   "source": [
    "good_example[['debt_lt','debt_st','AP_lt','AP_st']].sum(axis=1)"
   ]
  },
  {
   "cell_type": "code",
   "execution_count": 252,
   "id": "0ab8329c-8d44-47d6-9361-7afff4e0fc2a",
   "metadata": {},
   "outputs": [
    {
     "data": {
      "text/plain": [
       "786008    2320949.0\n",
       "dtype: float64"
      ]
     },
     "execution_count": 252,
     "metadata": {},
     "output_type": "execute_result"
    }
   ],
   "source": [
    "good_example[['asst_tot']].sum(axis=1)"
   ]
  },
  {
   "cell_type": "code",
   "execution_count": 246,
   "id": "e3448789-046d-406d-bafb-185f0e4a866b",
   "metadata": {
    "scrolled": true
   },
   "outputs": [
    {
     "data": {
      "text/html": [
       "<div>\n",
       "<style scoped>\n",
       "    .dataframe tbody tr th:only-of-type {\n",
       "        vertical-align: middle;\n",
       "    }\n",
       "\n",
       "    .dataframe tbody tr th {\n",
       "        vertical-align: top;\n",
       "    }\n",
       "\n",
       "    .dataframe thead th {\n",
       "        text-align: right;\n",
       "    }\n",
       "</style>\n",
       "<table border=\"1\" class=\"dataframe\">\n",
       "  <thead>\n",
       "    <tr style=\"text-align: right;\">\n",
       "      <th></th>\n",
       "      <th>786008</th>\n",
       "    </tr>\n",
       "  </thead>\n",
       "  <tbody>\n",
       "    <tr>\n",
       "      <th>HQ_city</th>\n",
       "      <td>15.00</td>\n",
       "    </tr>\n",
       "    <tr>\n",
       "      <th>ateco_sector</th>\n",
       "      <td>68.00</td>\n",
       "    </tr>\n",
       "    <tr>\n",
       "      <th>fs_year</th>\n",
       "      <td>2009.00</td>\n",
       "    </tr>\n",
       "    <tr>\n",
       "      <th>asst_intang_fixed</th>\n",
       "      <td>3849.00</td>\n",
       "    </tr>\n",
       "    <tr>\n",
       "      <th>asst_fixed_fin</th>\n",
       "      <td>43170.00</td>\n",
       "    </tr>\n",
       "    <tr>\n",
       "      <th>cash_and_equiv</th>\n",
       "      <td>1241.00</td>\n",
       "    </tr>\n",
       "    <tr>\n",
       "      <th>liab_lt</th>\n",
       "      <td>0.00</td>\n",
       "    </tr>\n",
       "    <tr>\n",
       "      <th>liab_lt_emp</th>\n",
       "      <td>0.00</td>\n",
       "    </tr>\n",
       "    <tr>\n",
       "      <th>debt_fin_st</th>\n",
       "      <td>0.00</td>\n",
       "    </tr>\n",
       "    <tr>\n",
       "      <th>debt_fin_lt</th>\n",
       "      <td>0.00</td>\n",
       "    </tr>\n",
       "    <tr>\n",
       "      <th>AP_lt</th>\n",
       "      <td>0.00</td>\n",
       "    </tr>\n",
       "    <tr>\n",
       "      <th>prof_operations</th>\n",
       "      <td>51330.00</td>\n",
       "    </tr>\n",
       "    <tr>\n",
       "      <th>goodwill</th>\n",
       "      <td>55920.00</td>\n",
       "    </tr>\n",
       "    <tr>\n",
       "      <th>inc_financing</th>\n",
       "      <td>24138.00</td>\n",
       "    </tr>\n",
       "    <tr>\n",
       "      <th>prof_financing</th>\n",
       "      <td>0.00</td>\n",
       "    </tr>\n",
       "    <tr>\n",
       "      <th>inc_extraord</th>\n",
       "      <td>-68090.00</td>\n",
       "    </tr>\n",
       "    <tr>\n",
       "      <th>taxes</th>\n",
       "      <td>7378.00</td>\n",
       "    </tr>\n",
       "    <tr>\n",
       "      <th>profit</th>\n",
       "      <td>5574.00</td>\n",
       "    </tr>\n",
       "    <tr>\n",
       "      <th>days_rec</th>\n",
       "      <td>1029.87</td>\n",
       "    </tr>\n",
       "    <tr>\n",
       "      <th>ebitda</th>\n",
       "      <td>55813.00</td>\n",
       "    </tr>\n",
       "    <tr>\n",
       "      <th>roa</th>\n",
       "      <td>2.21</td>\n",
       "    </tr>\n",
       "    <tr>\n",
       "      <th>roe</th>\n",
       "      <td>4.72</td>\n",
       "    </tr>\n",
       "    <tr>\n",
       "      <th>margin_fin</th>\n",
       "      <td>-21240.00</td>\n",
       "    </tr>\n",
       "    <tr>\n",
       "      <th>cf_operations</th>\n",
       "      <td>10057.00</td>\n",
       "    </tr>\n",
       "  </tbody>\n",
       "</table>\n",
       "</div>"
      ],
      "text/plain": [
       "                     786008\n",
       "HQ_city               15.00\n",
       "ateco_sector          68.00\n",
       "fs_year             2009.00\n",
       "asst_intang_fixed   3849.00\n",
       "asst_fixed_fin     43170.00\n",
       "cash_and_equiv      1241.00\n",
       "liab_lt                0.00\n",
       "liab_lt_emp            0.00\n",
       "debt_fin_st            0.00\n",
       "debt_fin_lt            0.00\n",
       "AP_lt                  0.00\n",
       "prof_operations    51330.00\n",
       "goodwill           55920.00\n",
       "inc_financing      24138.00\n",
       "prof_financing         0.00\n",
       "inc_extraord      -68090.00\n",
       "taxes               7378.00\n",
       "profit              5574.00\n",
       "days_rec            1029.87\n",
       "ebitda             55813.00\n",
       "roa                    2.21\n",
       "roe                    4.72\n",
       "margin_fin        -21240.00\n",
       "cf_operations      10057.00"
      ]
     },
     "execution_count": 246,
     "metadata": {},
     "output_type": "execute_result"
    }
   ],
   "source": [
    "good_example[good_example.select_dtypes(['int','float']).columns[(good_example.select_dtypes(['int','float']) <= 58789.0).values[0]]].T"
   ]
  }
 ],
 "metadata": {
  "kernelspec": {
   "display_name": "Python 3 (ipykernel)",
   "language": "python",
   "name": "python3"
  },
  "language_info": {
   "codemirror_mode": {
    "name": "ipython",
    "version": 3
   },
   "file_extension": ".py",
   "mimetype": "text/x-python",
   "name": "python",
   "nbconvert_exporter": "python",
   "pygments_lexer": "ipython3",
   "version": "3.12.1"
  }
 },
 "nbformat": 4,
 "nbformat_minor": 5
}
