{
 "cells": [
  {
   "cell_type": "code",
   "execution_count": 36,
   "id": "1eff6324-7dea-4122-a2c8-e48de00fe14f",
   "metadata": {},
   "outputs": [],
   "source": [
    "import pandas as pd\n",
    "import numpy as np\n",
    "\n",
    "import pickle\n",
    "\n",
    "import matplotlib.pyplot as plt\n",
    "\n",
    "import statsmodels.api as sm\n",
    "import statsmodels.formula.api as smf\n",
    "\n",
    "from importlib import reload  # Python 3.4+\n",
    "\n",
    "from sklearn import metrics\n",
    "import seaborn as sns\n",
    "sns.set()\n",
    "\n",
    "from pandas import concat, Series\n",
    "\n",
    "from IPython.display import clear_output, display"
   ]
  },
  {
   "cell_type": "markdown",
   "id": "a8539a41-b6c1-4546-82ed-011ea5d2be96",
   "metadata": {},
   "source": [
    "## preprocess data for modeling"
   ]
  },
  {
   "cell_type": "code",
   "execution_count": 37,
   "id": "d5ede651-0a97-45cd-8ce6-7606b4eaa87a",
   "metadata": {},
   "outputs": [],
   "source": [
    "from preproc_functions import pre_process"
   ]
  },
  {
   "cell_type": "code",
   "execution_count": 3,
   "id": "2dca73ea-7374-42aa-9794-0ed297a616d9",
   "metadata": {},
   "outputs": [],
   "source": [
    "train = pd.read_csv('../data/train.csv')"
   ]
  },
  {
   "cell_type": "code",
   "execution_count": 4,
   "id": "87a23e46-897c-4c7c-8742-eaafc32a40b2",
   "metadata": {},
   "outputs": [],
   "source": [
    "train['stmt_date'] = pd.to_datetime(train['stmt_date'])\n",
    "train['def_date'] = pd.to_datetime(train['def_date'], format=\"%d/%m/%Y\")\n",
    "train.sort_values('stmt_date', inplace=True)"
   ]
  },
  {
   "cell_type": "markdown",
   "id": "3ccfbdc3-d668-439e-9293-a291374c2dab",
   "metadata": {},
   "source": [
    "#### Loading custom bins for ratio binning"
   ]
  },
  {
   "cell_type": "code",
   "execution_count": 9,
   "id": "f0ed2353-c853-4b83-9df5-54ae036dbbbb",
   "metadata": {},
   "outputs": [],
   "source": [
    "with open('custom_bins.pkl', 'rb') as file:\n",
    "    custom_bins = pickle.load(file)"
   ]
  },
  {
   "cell_type": "code",
   "execution_count": 10,
   "id": "a745527a-fdb8-4f36-ae5c-830d39ece86c",
   "metadata": {},
   "outputs": [],
   "source": [
    "preproc_params = {\n",
    "    'quantile_bins' : {},\n",
    "    'quantile_values' : {},\n",
    "    'category_pd': {}\n",
    "}"
   ]
  },
  {
   "cell_type": "code",
   "execution_count": 11,
   "id": "dfdd5ee9-d4d7-4d25-83cb-242189a1406f",
   "metadata": {},
   "outputs": [
    {
     "name": "stdout",
     "output_type": "stream",
     "text": [
      "Custom bins for financial_leverage_quantile\n",
      "Custom bins for profitability_ratio_quantile\n",
      "Custom bins for roe_quantile\n",
      "calc growth features\n",
      "Custom bins for net_income_growth_quantile\n"
     ]
    },
    {
     "name": "stderr",
     "output_type": "stream",
     "text": [
      "/Users/juanroalvarado/miniconda3/envs/horserace/lib/python3.13/site-packages/numpy/lib/_function_base_impl.py:4620: RuntimeWarning: invalid value encountered in subtract\n",
      "  diff_b_a = subtract(b, a)\n",
      "/Users/juanroalvarado/miniconda3/envs/horserace/lib/python3.13/site-packages/numpy/lib/_function_base_impl.py:4622: RuntimeWarning: invalid value encountered in multiply\n",
      "  lerp_interpolation = asanyarray(add(a, diff_b_a * t, out=out))\n"
     ]
    }
   ],
   "source": [
    "complete_data , preproc_params = pre_process(train, \n",
    "                                           custom_bins=custom_bins, \n",
    "                                           preproc_params = preproc_params,  \n",
    "                                           quantiles = 50,  # default bin#\n",
    "                                           days_until_statement = 150 # for default value calc.)"
   ]
  },
  {
   "cell_type": "markdown",
   "id": "cbfc2c34-94f0-4413-b68c-b6b3711cad88",
   "metadata": {},
   "source": [
    "# Select Featues for New and Recucrring firms model"
   ]
  },
  {
   "cell_type": "code",
   "execution_count": 15,
   "id": "0212a711-3661-4285-8439-8f218922a671",
   "metadata": {},
   "outputs": [],
   "source": [
    "### features for first firm\n",
    "first_features = [\n",
    "    # 'asst_tot_quantile_values', ####\n",
    "    'financial_leverage_quantile_values',\n",
    "    'profitability_ratio_quantile_values',\n",
    "    # 'net_income_growth_quantile_values',\n",
    "    'quick_ratio_v2_quantile_values',\n",
    "    # 'sales_growth_quantile_values',\n",
    "    # 'cash_assets_ratio_quantile_values', ####\n",
    "    'dscr_quantile_values',\n",
    "    'roe_quantile_values',\n",
    "    'cfo_quantile_values',\n",
    "    # 'ebitda',\n",
    "    # 'ateco_sector_pd',\n",
    "    # 'sector_group_pd', ####\n",
    "    # 'legal_struct_pd',\n",
    "    'regional_code_pd' ####\n",
    "]\n",
    "### features for recurring firms\n",
    "rec_features = [\n",
    "    # 'asst_tot_quantile_values', ###\n",
    "    'financial_leverage_quantile_values',\n",
    "    'profitability_ratio_quantile_values',\n",
    "    'net_income_growth_quantile_values',\n",
    "    'quick_ratio_v2_quantile_values',\n",
    "    'sales_growth_quantile_values',\n",
    "    # 'cash_assets_ratio_quantile_values',###\n",
    "    'dscr_quantile_values',\n",
    "    'roe_quantile_values',\n",
    "    'cfo_quantile_values',\n",
    "    # 'ebitda', ###\n",
    "    # 'ateco_sector_pd',###\n",
    "    # 'sector_group_pd',###\n",
    "    # 'legal_struct_pd',###\n",
    "    'regional_code_pd'\n",
    "\n",
    "]"
   ]
  },
  {
   "cell_type": "markdown",
   "id": "4fdd56b6-ea2d-417d-8380-7340071772f9",
   "metadata": {},
   "source": [
    "## train model"
   ]
  },
  {
   "cell_type": "code",
   "execution_count": 17,
   "id": "57f6aa6d-f6d8-4cf2-8906-578d20902440",
   "metadata": {},
   "outputs": [],
   "source": [
    "from xgb_model_functions import SplitModel"
   ]
  },
  {
   "cell_type": "code",
   "execution_count": 18,
   "id": "1846efe9-51ae-44f9-b789-430e2ea84768",
   "metadata": {},
   "outputs": [],
   "source": [
    "params = {\n",
    "            \"objective\": \"binary:logistic\",\n",
    "            \"eval_metric\": \"logloss\",\n",
    "            \"eta\": 0.1,\n",
    "            \"max_depth\": 4,\n",
    "            \"min_child_weight\": 1,\n",
    "            \"subsample\": 0.8,\n",
    "            \"colsample_bytree\": 0.8,\n",
    "            \"gamma\": 0,\n",
    "            \"alpha\": 0.1,\n",
    "            \"lambda\": .1,\n",
    "            \"n_estimators\":250\n",
    "         }\n",
    "\n",
    "model = SplitModel(params = params, \n",
    "                   first_features=first_features, \n",
    "                   rec_features=rec_features)"
   ]
  },
  {
   "cell_type": "code",
   "execution_count": 19,
   "id": "eb5fa97b-83d4-4ce6-abb4-75ac6ac12579",
   "metadata": {},
   "outputs": [
    {
     "name": "stdout",
     "output_type": "stream",
     "text": [
      "models fitted\n"
     ]
    }
   ],
   "source": [
    "model.train(complete_data)"
   ]
  },
  {
   "cell_type": "markdown",
   "id": "162907c0-8394-45de-9c1f-bc366dd2fa7a",
   "metadata": {},
   "source": [
    "## generate predictions for sanity check"
   ]
  },
  {
   "cell_type": "code",
   "execution_count": 20,
   "id": "69a83a67-ab21-4255-a111-d6b4194c49ca",
   "metadata": {},
   "outputs": [
    {
     "name": "stdout",
     "output_type": "stream",
     "text": [
      "rec data length 785841\n",
      "first data length 237711\n"
     ]
    }
   ],
   "source": [
    "comp_predictions = model.predict(complete_data)"
   ]
  },
  {
   "cell_type": "code",
   "execution_count": 21,
   "id": "9ee1ff16-1cfc-4119-8ee6-f85457a4aff3",
   "metadata": {},
   "outputs": [],
   "source": [
    "comp_results = complete_data[['default']].copy()\n",
    "comp_results['predictions'] = comp_predictions.values"
   ]
  },
  {
   "cell_type": "code",
   "execution_count": 22,
   "id": "b3d82e59-3056-4778-8c89-500bfa03ad06",
   "metadata": {},
   "outputs": [
    {
     "data": {
      "text/plain": [
       "(1023552, 2)"
      ]
     },
     "execution_count": 22,
     "metadata": {},
     "output_type": "execute_result"
    }
   ],
   "source": [
    "comp_results.shape"
   ]
  },
  {
   "cell_type": "code",
   "execution_count": 23,
   "id": "9d09df6b-c521-4a6f-86da-5c668614dd62",
   "metadata": {},
   "outputs": [
    {
     "name": "stdout",
     "output_type": "stream",
     "text": [
      "ROC AUC 0.8598165189610233\n"
     ]
    },
    {
     "data": {
      "text/plain": [
       "<sklearn.metrics._plot.roc_curve.RocCurveDisplay at 0x2883baba0>"
      ]
     },
     "execution_count": 23,
     "metadata": {},
     "output_type": "execute_result"
    },
    {
     "data": {
      "image/png": "[encoded data removed]",
      "text/plain": [
       "<Figure size 640x480 with 1 Axes>"
      ]
     },
     "metadata": {},
     "output_type": "display_data"
    }
   ],
   "source": [
    "fpr, tpr, thresholds = metrics.roc_curve(comp_results['default'], comp_results['predictions'])\n",
    "roc_auc = metrics.auc(fpr, tpr)\n",
    "roc_display = metrics.RocCurveDisplay(fpr=fpr, tpr=tpr, roc_auc=roc_auc)\n",
    "print(f'ROC AUC {roc_auc}')\n",
    "roc_display.plot()"
   ]
  },
  {
   "cell_type": "code",
   "execution_count": 24,
   "id": "86acbfab-803a-41f5-8cf9-839770bdb43e",
   "metadata": {},
   "outputs": [],
   "source": [
    "import calibrator"
   ]
  },
  {
   "cell_type": "markdown",
   "id": "cce76937-8acf-4a27-bcf0-0be10070b590",
   "metadata": {},
   "source": [
    "## Calibrate predictions and look at rates"
   ]
  },
  {
   "cell_type": "code",
   "execution_count": 26,
   "id": "aebe8cf1-72bb-45c8-8c0e-481c417151bd",
   "metadata": {},
   "outputs": [],
   "source": [
    "calibrated_preds = calibrator.calibrator(comp_results['predictions'])"
   ]
  },
  {
   "cell_type": "code",
   "execution_count": 27,
   "id": "034396a2-1720-46d0-9a87-979ece05ae76",
   "metadata": {},
   "outputs": [
    {
     "data": {
      "text/plain": [
       "(np.float64(0.012640295754392546),\n",
       " np.float32(0.012657084),\n",
       " np.float32(0.024982385))"
      ]
     },
     "execution_count": 27,
     "metadata": {},
     "output_type": "execute_result"
    }
   ],
   "source": [
    " comp_results['default'].mean(), comp_results['predictions'].mean(), calibrated_preds.mean()"
   ]
  },
  {
   "cell_type": "markdown",
   "id": "2353363a-0d25-4ebc-b481-e59c08cf3573",
   "metadata": {},
   "source": [
    "# Save data for estimation"
   ]
  },
  {
   "cell_type": "code",
   "execution_count": 28,
   "id": "f1cdf343-fae4-4388-93c2-84f04933a58d",
   "metadata": {},
   "outputs": [],
   "source": [
    "growth_features = [\n",
    "    'id',\n",
    "    'stmt_date',\n",
    "    'net_income',\n",
    "    'sales'\n",
    "]"
   ]
  },
  {
   "cell_type": "code",
   "execution_count": 29,
   "id": "a5ea047d-fe96-433a-8583-0bfb2bff7350",
   "metadata": {},
   "outputs": [
    {
     "data": {
      "text/html": [
       "<div>\n",
       "<style scoped>\n",
       "    .dataframe tbody tr th:only-of-type {\n",
       "        vertical-align: middle;\n",
       "    }\n",
       "\n",
       "    .dataframe tbody tr th {\n",
       "        vertical-align: top;\n",
       "    }\n",
       "\n",
       "    .dataframe thead th {\n",
       "        text-align: right;\n",
       "    }\n",
       "</style>\n",
       "<table border=\"1\" class=\"dataframe\">\n",
       "  <thead>\n",
       "    <tr style=\"text-align: right;\">\n",
       "      <th></th>\n",
       "      <th>id</th>\n",
       "      <th>stmt_date</th>\n",
       "      <th>net_income</th>\n",
       "      <th>sales</th>\n",
       "    </tr>\n",
       "  </thead>\n",
       "  <tbody>\n",
       "    <tr>\n",
       "      <th>4</th>\n",
       "      <td>520288</td>\n",
       "      <td>2007-12-31</td>\n",
       "      <td>36733.0</td>\n",
       "      <td>2041155.0</td>\n",
       "    </tr>\n",
       "    <tr>\n",
       "      <th>1</th>\n",
       "      <td>520288</td>\n",
       "      <td>2008-12-31</td>\n",
       "      <td>-107382.0</td>\n",
       "      <td>967389.0</td>\n",
       "    </tr>\n",
       "    <tr>\n",
       "      <th>2</th>\n",
       "      <td>520288</td>\n",
       "      <td>2009-12-31</td>\n",
       "      <td>-77819.0</td>\n",
       "      <td>638687.0</td>\n",
       "    </tr>\n",
       "    <tr>\n",
       "      <th>5</th>\n",
       "      <td>520288</td>\n",
       "      <td>2010-12-31</td>\n",
       "      <td>-83593.0</td>\n",
       "      <td>564622.0</td>\n",
       "    </tr>\n",
       "    <tr>\n",
       "      <th>0</th>\n",
       "      <td>520288</td>\n",
       "      <td>2011-12-31</td>\n",
       "      <td>-81288.0</td>\n",
       "      <td>538081.0</td>\n",
       "    </tr>\n",
       "  </tbody>\n",
       "</table>\n",
       "</div>"
      ],
      "text/plain": [
       "       id  stmt_date  net_income      sales\n",
       "4  520288 2007-12-31     36733.0  2041155.0\n",
       "1  520288 2008-12-31   -107382.0   967389.0\n",
       "2  520288 2009-12-31    -77819.0   638687.0\n",
       "5  520288 2010-12-31    -83593.0   564622.0\n",
       "0  520288 2011-12-31    -81288.0   538081.0"
      ]
     },
     "execution_count": 29,
     "metadata": {},
     "output_type": "execute_result"
    }
   ],
   "source": [
    "historical_growth = complete_data[growth_features]#.to_csv('historical_features.csv')\n",
    "historical_growth.head()"
   ]
  },
  {
   "cell_type": "code",
   "execution_count": 30,
   "id": "c88e3c90-54aa-46b6-813b-e9f39552addb",
   "metadata": {},
   "outputs": [
    {
     "data": {
      "text/plain": [
       "dict_keys(['financial_leverage_quantile', 'profitability_ratio_quantile', 'net_income_growth_quantile', 'roe_quantile'])"
      ]
     },
     "execution_count": 30,
     "metadata": {},
     "output_type": "execute_result"
    }
   ],
   "source": [
    "custom_bins.keys()"
   ]
  },
  {
   "cell_type": "code",
   "execution_count": 31,
   "id": "7ca9aab6-8648-43ea-8f90-d128545ad7e2",
   "metadata": {},
   "outputs": [
    {
     "name": "stdout",
     "output_type": "stream",
     "text": [
      "quantile_bins dict_keys(['asst_tot_quantile', 'financial_leverage_quantile', 'profitability_ratio_quantile', 'roe_quantile', 'quick_ratio_v2_quantile', 'cash_assets_ratio_quantile', 'dscr_quantile', 'cfo_quantile', 'net_income_growth_quantile', 'sales_growth_quantile'])\n",
      "quantile_values dict_keys(['asst_tot_quantile', 'financial_leverage_quantile', 'profitability_ratio_quantile', 'roe_quantile', 'quick_ratio_v2_quantile', 'cash_assets_ratio_quantile', 'dscr_quantile', 'cfo_quantile', 'net_income_growth_quantile', 'sales_growth_quantile'])\n",
      "category_pd dict_keys(['ateco_sector_pd_values', 'sector_group_pd_values', 'regional_code_pd_values', 'legal_struct_pd_values'])\n"
     ]
    }
   ],
   "source": [
    "for k in preproc_params.keys():\n",
    "    print(k, preproc_params[k].keys())"
   ]
  },
  {
   "cell_type": "code",
   "execution_count": 32,
   "id": "4e5ab333-9092-4210-bafb-8acb0b97d5a4",
   "metadata": {},
   "outputs": [],
   "source": [
    "historical_growth.to_csv('historical_features.csv')"
   ]
  },
  {
   "cell_type": "code",
   "execution_count": 33,
   "id": "3d2e2cc4-a665-4294-8383-dc99a42c531e",
   "metadata": {
    "scrolled": true
   },
   "outputs": [],
   "source": [
    "with open('custom_bins.pkl', 'wb') as output:\n",
    "    pickle.dump(custom_bins, output)"
   ]
  },
  {
   "cell_type": "code",
   "execution_count": 34,
   "id": "734e7e0a-a1ef-46d4-9a05-f6478affa490",
   "metadata": {},
   "outputs": [],
   "source": [
    "with open('preproc_params.pkl', 'wb') as output:\n",
    "    pickle.dump(preproc_params, output)"
   ]
  },
  {
   "cell_type": "code",
   "execution_count": 35,
   "id": "2d8fe7a7-9223-400a-9145-88fd4bb48e91",
   "metadata": {},
   "outputs": [],
   "source": [
    "with open('trained_model.pkl', 'wb') as output:\n",
    "    pickle.dump(model, output)"
   ]
  },
  {
   "cell_type": "markdown",
   "id": "6399799e-75f5-4cc6-bedf-fc9960fdedb8",
   "metadata": {},
   "source": [
    "# hyperparam tuning - commented out, was used during testing"
   ]
  },
  {
   "cell_type": "code",
   "execution_count": 94,
   "id": "96eff4ca-283c-4b58-ae59-4157c86fee87",
   "metadata": {},
   "outputs": [],
   "source": [
    "# from sklearn.model_selection import RandomizedSearchCV\n",
    "# from sklearn.metrics import roc_auc_score, make_scorer"
   ]
  },
  {
   "cell_type": "code",
   "execution_count": 95,
   "id": "0937ff38-1da5-4cb8-8696-6e345f8effb5",
   "metadata": {},
   "outputs": [],
   "source": [
    "# param_dist = {\n",
    "#     'max_depth': [3, 5, 7, 9],\n",
    "#     'learning_rate': [0.01, 0.05, 0.1, 0.2],\n",
    "#     'n_estimators': [50, 100, 200, 300],\n",
    "#     'subsample': [0.6, 0.8, 1.0],\n",
    "#     'colsample_bytree': [0.6, 0.8, 1.0],\n",
    "#     'min_child_weight': [1, 3, 5],\n",
    "#     'gamma': [0, 0.1, 0.5, 1],\n",
    "#     'reg_alpha': [0, 0.1, 1, 10],\n",
    "#     'reg_lambda': [1, 5, 10, 20]\n",
    "# }\n",
    "# # param_dist = {\n",
    "# #         'subsample': 0.6,\n",
    "# #      'reg_lambda': 10,\n",
    "# #      'reg_alpha': 10,\n",
    "# #      'n_estimators': 200,\n",
    "# #      'min_child_weight': 5,\n",
    "# #      'max_depth': 9,\n",
    "# #      'learning_rate': 0.05,\n",
    "# #      'gamma': 0.1,\n",
    "# #      'colsample_bytree': 1.0}\n",
    "\n",
    "# # Create the scorer\n",
    "# scorer = make_scorer(roc_auc_score, needs_proba=True)"
   ]
  },
  {
   "cell_type": "code",
   "execution_count": 96,
   "id": "18dafd9b-dc6b-4119-9285-683ab022ff02",
   "metadata": {},
   "outputs": [],
   "source": [
    "# rec_data_opt = train_data_proc[train_data_proc['is_first_occurrence']==0]"
   ]
  },
  {
   "cell_type": "code",
   "execution_count": 97,
   "id": "d7b9e08a-eded-41b3-8748-dcc4325b206d",
   "metadata": {},
   "outputs": [],
   "source": [
    "# model = XGBClassifier(n_estimators=100)"
   ]
  },
  {
   "cell_type": "code",
   "execution_count": 98,
   "id": "3b373856-5b36-4ca9-9158-a1930c211d87",
   "metadata": {},
   "outputs": [],
   "source": [
    "# random_search = RandomizedSearchCV(\n",
    "#     estimator=model,\n",
    "#     param_distributions=param_dist,\n",
    "#     n_iter=10,  # Number of parameter settings to sample\n",
    "#     scoring=scorer,\n",
    "#     cv=3,  # 3-fold cross-validation\n",
    "#     verbose=2,\n",
    "#     random_state=42,\n",
    "#     n_jobs=-1\n",
    "# )"
   ]
  },
  {
   "cell_type": "code",
   "execution_count": 99,
   "id": "3c57902f-bfc0-48a5-85fe-815905f4cdea",
   "metadata": {},
   "outputs": [],
   "source": [
    "# random_search.fit(rec_data_opt[rec_features], rec_data_opt['default'])"
   ]
  },
  {
   "cell_type": "code",
   "execution_count": 100,
   "id": "bd110de3-06fb-4986-8602-29e129eaa06c",
   "metadata": {},
   "outputs": [],
   "source": [
    "# results_df = pd.DataFrame(random_search.cv_results_)\n",
    "\n",
    "# # Sort by the best score in descending order\n",
    "# sorted_results = results_df.sort_values(by=\"mean_test_score\", ascending=False)\n",
    "\n",
    "# # Display the top 5 parameter combinations\n",
    "# print(\"Top 3 Parameter Combinations:\")\n",
    "# print(sorted_results[['mean_test_score', 'params']].head())"
   ]
  },
  {
   "cell_type": "code",
   "execution_count": 101,
   "id": "16fe7813-32dc-44a8-ad9b-460910435952",
   "metadata": {},
   "outputs": [],
   "source": [
    "# random_search.best_params_"
   ]
  }
 ],
 "metadata": {
  "kernelspec": {
   "display_name": "Python 3 (ipykernel)",
   "language": "python",
   "name": "python3"
  },
  "language_info": {
   "codemirror_mode": {
    "name": "ipython",
    "version": 3
   },
   "file_extension": ".py",
   "mimetype": "text/x-python",
   "name": "python",
   "nbconvert_exporter": "python",
   "pygments_lexer": "ipython3",
   "version": "3.13.0"
  }
 },
 "nbformat": 4,
 "nbformat_minor": 5
}
