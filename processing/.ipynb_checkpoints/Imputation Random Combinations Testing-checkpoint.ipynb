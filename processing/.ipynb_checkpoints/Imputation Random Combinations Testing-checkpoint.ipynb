{
 "cells": [
  {
   "cell_type": "code",
   "execution_count": null,
   "id": "97698f79",
   "metadata": {},
   "outputs": [],
   "source": [
    "import pandas as pd\n",
    "from itertools import combinations\n",
    "\n",
    "def find_summation_relationships(df, tolerance=0.01):\n",
    "    \"\"\"\n",
    "    Finds columns in `df` that are summations of other columns within a given tolerance.\n",
    "    \"\"\"\n",
    "    results = {}\n",
    "    for target_col in df.columns:\n",
    "        target_series = df[target_col].fillna(0)  # Fill NaNs with 0 to handle missing data\n",
    "        other_cols = [col for col in df.columns if col != target_col]\n",
    "        \n",
    "        for num_cols in range(2, len(other_cols) + 1):  # Test combinations of columns\n",
    "            for subset in combinations(other_cols, num_cols):\n",
    "                subset_sum = df[list(subset)].sum(axis=1).fillna(0)\n",
    "                difference = (target_series - subset_sum).abs()\n",
    "                \n",
    "                # If all differences are within the tolerance, log the result\n",
    "                if (difference <= tolerance).all():\n",
    "                    results[target_col] = subset\n",
    "                    break  # Stop once we find a valid combination for this target_col\n",
    "\n",
    "    return results\n",
    "\n",
    "# Example usage:\n",
    "summation_relationships = find_summation_relationships(df)\n",
    "print(summation_relationships)\n"
   ]
  }
 ],
 "metadata": {
  "kernelspec": {
   "display_name": "Python 3 (ipykernel)",
   "language": "python",
   "name": "python3"
  },
  "language_info": {
   "codemirror_mode": {
    "name": "ipython",
    "version": 3
   },
   "file_extension": ".py",
   "mimetype": "text/x-python",
   "name": "python",
   "nbconvert_exporter": "python",
   "pygments_lexer": "ipython3",
   "version": "3.11.4"
  }
 },
 "nbformat": 4,
 "nbformat_minor": 5
}
