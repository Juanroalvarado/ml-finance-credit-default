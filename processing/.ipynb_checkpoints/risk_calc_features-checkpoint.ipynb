{
 "cells": [
  {
   "cell_type": "markdown",
   "id": "36b069c2",
   "metadata": {},
   "source": [
    "# Imports"
   ]
  },
  {
   "cell_type": "code",
   "execution_count": 1,
   "id": "9588a15c",
   "metadata": {},
   "outputs": [],
   "source": [
    "import pandas as pd\n",
    "import numpy as np\n",
    "import matplotlib.pyplot as plt\n",
    "import seaborn as sns\n",
    "import warnings\n",
    "warnings.filterwarnings(\"ignore\")"
   ]
  },
  {
   "cell_type": "code",
   "execution_count": 2,
   "id": "b185afd1",
   "metadata": {},
   "outputs": [
    {
     "data": {
      "text/html": [
       "<div>\n",
       "<style scoped>\n",
       "    .dataframe tbody tr th:only-of-type {\n",
       "        vertical-align: middle;\n",
       "    }\n",
       "\n",
       "    .dataframe tbody tr th {\n",
       "        vertical-align: top;\n",
       "    }\n",
       "\n",
       "    .dataframe thead th {\n",
       "        text-align: right;\n",
       "    }\n",
       "</style>\n",
       "<table border=\"1\" class=\"dataframe\">\n",
       "  <thead>\n",
       "    <tr style=\"text-align: right;\">\n",
       "      <th></th>\n",
       "      <th>id</th>\n",
       "      <th>stmt_date</th>\n",
       "      <th>HQ_city</th>\n",
       "      <th>legal_struct</th>\n",
       "      <th>ateco_sector</th>\n",
       "      <th>def_date</th>\n",
       "      <th>fs_year</th>\n",
       "      <th>asst_intang_fixed</th>\n",
       "      <th>asst_tang_fixed</th>\n",
       "      <th>asst_fixed_fin</th>\n",
       "      <th>...</th>\n",
       "      <th>profit</th>\n",
       "      <th>days_rec</th>\n",
       "      <th>ebitda</th>\n",
       "      <th>roa</th>\n",
       "      <th>roe</th>\n",
       "      <th>wc_net</th>\n",
       "      <th>margin_fin</th>\n",
       "      <th>cf_operations</th>\n",
       "      <th>calculated_asst_tot</th>\n",
       "      <th>calculated_equity_liabilities_tot</th>\n",
       "    </tr>\n",
       "    <tr>\n",
       "      <th>Unnamed: 0</th>\n",
       "      <th></th>\n",
       "      <th></th>\n",
       "      <th></th>\n",
       "      <th></th>\n",
       "      <th></th>\n",
       "      <th></th>\n",
       "      <th></th>\n",
       "      <th></th>\n",
       "      <th></th>\n",
       "      <th></th>\n",
       "      <th></th>\n",
       "      <th></th>\n",
       "      <th></th>\n",
       "      <th></th>\n",
       "      <th></th>\n",
       "      <th></th>\n",
       "      <th></th>\n",
       "      <th></th>\n",
       "      <th></th>\n",
       "      <th></th>\n",
       "      <th></th>\n",
       "    </tr>\n",
       "  </thead>\n",
       "  <tbody>\n",
       "    <tr>\n",
       "      <th>17</th>\n",
       "      <td>520288</td>\n",
       "      <td>2011-12-31</td>\n",
       "      <td>28.0</td>\n",
       "      <td>SRL</td>\n",
       "      <td>14.0</td>\n",
       "      <td>NaT</td>\n",
       "      <td>2011</td>\n",
       "      <td>67537.0</td>\n",
       "      <td>1137566.0</td>\n",
       "      <td>1908.0</td>\n",
       "      <td>...</td>\n",
       "      <td>-81288.0</td>\n",
       "      <td>NaN</td>\n",
       "      <td>6318.0</td>\n",
       "      <td>-3.81</td>\n",
       "      <td>-28.03</td>\n",
       "      <td>496258.0</td>\n",
       "      <td>-917029.0</td>\n",
       "      <td>-849.0</td>\n",
       "      <td>1940507.0</td>\n",
       "      <td>2038829.0</td>\n",
       "    </tr>\n",
       "    <tr>\n",
       "      <th>18</th>\n",
       "      <td>520288</td>\n",
       "      <td>2008-12-31</td>\n",
       "      <td>28.0</td>\n",
       "      <td>SRL</td>\n",
       "      <td>14.0</td>\n",
       "      <td>NaT</td>\n",
       "      <td>2008</td>\n",
       "      <td>256438.0</td>\n",
       "      <td>1181416.0</td>\n",
       "      <td>860.0</td>\n",
       "      <td>...</td>\n",
       "      <td>-107382.0</td>\n",
       "      <td>NaN</td>\n",
       "      <td>46088.0</td>\n",
       "      <td>-2.76</td>\n",
       "      <td>NaN</td>\n",
       "      <td>97952.0</td>\n",
       "      <td>NaN</td>\n",
       "      <td>-3881.0</td>\n",
       "      <td>2061706.0</td>\n",
       "      <td>2120369.0</td>\n",
       "    </tr>\n",
       "    <tr>\n",
       "      <th>19</th>\n",
       "      <td>520288</td>\n",
       "      <td>2009-12-31</td>\n",
       "      <td>28.0</td>\n",
       "      <td>SRL</td>\n",
       "      <td>14.0</td>\n",
       "      <td>NaT</td>\n",
       "      <td>2009</td>\n",
       "      <td>194046.0</td>\n",
       "      <td>1152014.0</td>\n",
       "      <td>860.0</td>\n",
       "      <td>...</td>\n",
       "      <td>-77819.0</td>\n",
       "      <td>NaN</td>\n",
       "      <td>67611.0</td>\n",
       "      <td>-2.17</td>\n",
       "      <td>NaN</td>\n",
       "      <td>-210671.0</td>\n",
       "      <td>NaN</td>\n",
       "      <td>32618.0</td>\n",
       "      <td>1962172.0</td>\n",
       "      <td>1999238.0</td>\n",
       "    </tr>\n",
       "    <tr>\n",
       "      <th>21</th>\n",
       "      <td>520288</td>\n",
       "      <td>2012-12-31</td>\n",
       "      <td>28.0</td>\n",
       "      <td>SRL</td>\n",
       "      <td>14.0</td>\n",
       "      <td>NaT</td>\n",
       "      <td>2012</td>\n",
       "      <td>15195.0</td>\n",
       "      <td>1116938.0</td>\n",
       "      <td>2023.0</td>\n",
       "      <td>...</td>\n",
       "      <td>-250786.0</td>\n",
       "      <td>NaN</td>\n",
       "      <td>-161478.0</td>\n",
       "      <td>-12.99</td>\n",
       "      <td>NaN</td>\n",
       "      <td>367892.0</td>\n",
       "      <td>-1094962.0</td>\n",
       "      <td>-168907.0</td>\n",
       "      <td>1868156.0</td>\n",
       "      <td>2035078.0</td>\n",
       "    </tr>\n",
       "    <tr>\n",
       "      <th>22</th>\n",
       "      <td>520288</td>\n",
       "      <td>2007-12-31</td>\n",
       "      <td>28.0</td>\n",
       "      <td>SRL</td>\n",
       "      <td>14.0</td>\n",
       "      <td>NaT</td>\n",
       "      <td>2007</td>\n",
       "      <td>126603.0</td>\n",
       "      <td>1127807.0</td>\n",
       "      <td>620.0</td>\n",
       "      <td>...</td>\n",
       "      <td>36733.0</td>\n",
       "      <td>NaN</td>\n",
       "      <td>153060.0</td>\n",
       "      <td>6.20</td>\n",
       "      <td>52.43</td>\n",
       "      <td>-317007.0</td>\n",
       "      <td>-1184970.0</td>\n",
       "      <td>80039.0</td>\n",
       "      <td>1739783.0</td>\n",
       "      <td>1813020.0</td>\n",
       "    </tr>\n",
       "  </tbody>\n",
       "</table>\n",
       "<p>5 rows × 45 columns</p>\n",
       "</div>"
      ],
      "text/plain": [
       "                id   stmt_date  HQ_city legal_struct  ateco_sector def_date  \\\n",
       "Unnamed: 0                                                                    \n",
       "17          520288  2011-12-31     28.0          SRL          14.0      NaT   \n",
       "18          520288  2008-12-31     28.0          SRL          14.0      NaT   \n",
       "19          520288  2009-12-31     28.0          SRL          14.0      NaT   \n",
       "21          520288  2012-12-31     28.0          SRL          14.0      NaT   \n",
       "22          520288  2007-12-31     28.0          SRL          14.0      NaT   \n",
       "\n",
       "            fs_year  asst_intang_fixed  asst_tang_fixed  asst_fixed_fin  ...  \\\n",
       "Unnamed: 0                                                               ...   \n",
       "17             2011            67537.0        1137566.0          1908.0  ...   \n",
       "18             2008           256438.0        1181416.0           860.0  ...   \n",
       "19             2009           194046.0        1152014.0           860.0  ...   \n",
       "21             2012            15195.0        1116938.0          2023.0  ...   \n",
       "22             2007           126603.0        1127807.0           620.0  ...   \n",
       "\n",
       "              profit  days_rec    ebitda    roa    roe    wc_net  margin_fin  \\\n",
       "Unnamed: 0                                                                     \n",
       "17          -81288.0       NaN    6318.0  -3.81 -28.03  496258.0   -917029.0   \n",
       "18         -107382.0       NaN   46088.0  -2.76    NaN   97952.0         NaN   \n",
       "19          -77819.0       NaN   67611.0  -2.17    NaN -210671.0         NaN   \n",
       "21         -250786.0       NaN -161478.0 -12.99    NaN  367892.0  -1094962.0   \n",
       "22           36733.0       NaN  153060.0   6.20  52.43 -317007.0  -1184970.0   \n",
       "\n",
       "            cf_operations  calculated_asst_tot  \\\n",
       "Unnamed: 0                                       \n",
       "17                 -849.0            1940507.0   \n",
       "18                -3881.0            2061706.0   \n",
       "19                32618.0            1962172.0   \n",
       "21              -168907.0            1868156.0   \n",
       "22                80039.0            1739783.0   \n",
       "\n",
       "            calculated_equity_liabilities_tot  \n",
       "Unnamed: 0                                     \n",
       "17                                  2038829.0  \n",
       "18                                  2120369.0  \n",
       "19                                  1999238.0  \n",
       "21                                  2035078.0  \n",
       "22                                  1813020.0  \n",
       "\n",
       "[5 rows x 45 columns]"
      ]
     },
     "execution_count": 2,
     "metadata": {},
     "output_type": "execute_result"
    }
   ],
   "source": [
    "file_path = '../data/imputed_train.csv'\n",
    "df = pd.read_csv(file_path, index_col=0)\n",
    "df.head()"
   ]
  },
  {
   "cell_type": "code",
   "execution_count": 4,
   "id": "81cc921d-c353-4fc6-89ac-932d9554c5e2",
   "metadata": {},
   "outputs": [
    {
     "data": {
      "text/plain": [
       "(1023552, 45)"
      ]
     },
     "execution_count": 4,
     "metadata": {},
     "output_type": "execute_result"
    }
   ],
   "source": [
    "df.shape"
   ]
  },
  {
   "cell_type": "code",
   "execution_count": 5,
   "id": "02b8b596-0dd1-454e-a662-3c513f70cabf",
   "metadata": {},
   "outputs": [
    {
     "data": {
      "text/plain": [
       "('2007-12-31', '2012-12-31')"
      ]
     },
     "execution_count": 5,
     "metadata": {},
     "output_type": "execute_result"
    }
   ],
   "source": [
    "df['stmt_date'].min(),df['stmt_date'].max()"
   ]
  },
  {
   "cell_type": "code",
   "execution_count": 6,
   "id": "896ec634-f3d2-4650-9e1e-ac16b20b3d4f",
   "metadata": {},
   "outputs": [],
   "source": [
    "# "
   ]
  },
  {
   "cell_type": "markdown",
   "id": "10609272",
   "metadata": {},
   "source": [
    "### OUTLIER REMOVAL: COMMENT OUT LATER"
   ]
  },
  {
   "cell_type": "code",
   "execution_count": 7,
   "id": "d06a09c4",
   "metadata": {},
   "outputs": [],
   "source": [
    "# #Remove Outlier to get better look with scatter plots\n",
    "# max_value = df['asst_tot'].max()\n",
    "# df = df[df['asst_tot'] != max_value]\n",
    "\n",
    "# print(df['asst_tot'].max())"
   ]
  },
  {
   "cell_type": "markdown",
   "id": "da6a6d0f",
   "metadata": {},
   "source": [
    "## Default within a Year (Definition may be adjusted later)"
   ]
  },
  {
   "cell_type": "code",
   "execution_count": 8,
   "id": "7b44bad1",
   "metadata": {},
   "outputs": [],
   "source": [
    "df['stmt_date'] = pd.to_datetime(df['stmt_date'])\n",
    "df['def_date'] = pd.to_datetime(df['def_date'])\n",
    "\n",
    "# Calculate 1 year after stmt_date\n",
    "one_year_after = df['stmt_date'] + pd.DateOffset(years=1)\n",
    "\n",
    "# Define default if def_date is between stmt_date and one_year_after\n",
    "df['default'] = ((df['def_date'] >= df['stmt_date']) & (df['def_date'] <= one_year_after)).astype(int)"
   ]
  },
  {
   "cell_type": "code",
   "execution_count": 9,
   "id": "741e7fbc",
   "metadata": {},
   "outputs": [
    {
     "data": {
      "text/plain": [
       "np.float64(0.0112783717876571)"
      ]
     },
     "execution_count": 9,
     "metadata": {},
     "output_type": "execute_result"
    }
   ],
   "source": [
    "df['default'].mean()"
   ]
  },
  {
   "cell_type": "code",
   "execution_count": 10,
   "id": "bed5050d",
   "metadata": {},
   "outputs": [
    {
     "data": {
      "text/html": [
       "<div>\n",
       "<style scoped>\n",
       "    .dataframe tbody tr th:only-of-type {\n",
       "        vertical-align: middle;\n",
       "    }\n",
       "\n",
       "    .dataframe tbody tr th {\n",
       "        vertical-align: top;\n",
       "    }\n",
       "\n",
       "    .dataframe thead th {\n",
       "        text-align: right;\n",
       "    }\n",
       "</style>\n",
       "<table border=\"1\" class=\"dataframe\">\n",
       "  <thead>\n",
       "    <tr style=\"text-align: right;\">\n",
       "      <th></th>\n",
       "      <th>id</th>\n",
       "      <th>stmt_date</th>\n",
       "      <th>HQ_city</th>\n",
       "      <th>legal_struct</th>\n",
       "      <th>ateco_sector</th>\n",
       "      <th>def_date</th>\n",
       "      <th>fs_year</th>\n",
       "      <th>asst_intang_fixed</th>\n",
       "      <th>asst_tang_fixed</th>\n",
       "      <th>asst_fixed_fin</th>\n",
       "      <th>...</th>\n",
       "      <th>days_rec</th>\n",
       "      <th>ebitda</th>\n",
       "      <th>roa</th>\n",
       "      <th>roe</th>\n",
       "      <th>wc_net</th>\n",
       "      <th>margin_fin</th>\n",
       "      <th>cf_operations</th>\n",
       "      <th>calculated_asst_tot</th>\n",
       "      <th>calculated_equity_liabilities_tot</th>\n",
       "      <th>default</th>\n",
       "    </tr>\n",
       "    <tr>\n",
       "      <th>Unnamed: 0</th>\n",
       "      <th></th>\n",
       "      <th></th>\n",
       "      <th></th>\n",
       "      <th></th>\n",
       "      <th></th>\n",
       "      <th></th>\n",
       "      <th></th>\n",
       "      <th></th>\n",
       "      <th></th>\n",
       "      <th></th>\n",
       "      <th></th>\n",
       "      <th></th>\n",
       "      <th></th>\n",
       "      <th></th>\n",
       "      <th></th>\n",
       "      <th></th>\n",
       "      <th></th>\n",
       "      <th></th>\n",
       "      <th></th>\n",
       "      <th></th>\n",
       "      <th></th>\n",
       "    </tr>\n",
       "  </thead>\n",
       "  <tbody>\n",
       "    <tr>\n",
       "      <th>4437727</th>\n",
       "      <td>40230625</td>\n",
       "      <td>2007-12-31</td>\n",
       "      <td>63.0</td>\n",
       "      <td>SRU</td>\n",
       "      <td>47.0</td>\n",
       "      <td>2008-10-31</td>\n",
       "      <td>2007</td>\n",
       "      <td>962.0</td>\n",
       "      <td>109805.0</td>\n",
       "      <td>1000.0</td>\n",
       "      <td>...</td>\n",
       "      <td>52.92</td>\n",
       "      <td>-52281.0</td>\n",
       "      <td>-0.88</td>\n",
       "      <td>-131.96</td>\n",
       "      <td>207900.0</td>\n",
       "      <td>-22007.0</td>\n",
       "      <td>-108670.0</td>\n",
       "      <td>7012670.0</td>\n",
       "      <td>11417262.0</td>\n",
       "      <td>1</td>\n",
       "    </tr>\n",
       "    <tr>\n",
       "      <th>4437728</th>\n",
       "      <td>40750382</td>\n",
       "      <td>2007-12-31</td>\n",
       "      <td>38.0</td>\n",
       "      <td>SRU</td>\n",
       "      <td>45.0</td>\n",
       "      <td>2008-07-28</td>\n",
       "      <td>2007</td>\n",
       "      <td>10063.0</td>\n",
       "      <td>3922517.0</td>\n",
       "      <td>12955.0</td>\n",
       "      <td>...</td>\n",
       "      <td>77.31</td>\n",
       "      <td>32139.0</td>\n",
       "      <td>-1.96</td>\n",
       "      <td>NaN</td>\n",
       "      <td>-2199583.0</td>\n",
       "      <td>NaN</td>\n",
       "      <td>-617507.0</td>\n",
       "      <td>8169809.0</td>\n",
       "      <td>9155050.0</td>\n",
       "      <td>1</td>\n",
       "    </tr>\n",
       "    <tr>\n",
       "      <th>4437731</th>\n",
       "      <td>66210931</td>\n",
       "      <td>2007-12-31</td>\n",
       "      <td>93.0</td>\n",
       "      <td>SRL</td>\n",
       "      <td>68.0</td>\n",
       "      <td>2008-12-22</td>\n",
       "      <td>2007</td>\n",
       "      <td>21052.0</td>\n",
       "      <td>898791.0</td>\n",
       "      <td>0.0</td>\n",
       "      <td>...</td>\n",
       "      <td>NaN</td>\n",
       "      <td>-31374.0</td>\n",
       "      <td>-3.12</td>\n",
       "      <td>NaN</td>\n",
       "      <td>-594066.0</td>\n",
       "      <td>-908808.0</td>\n",
       "      <td>-135332.0</td>\n",
       "      <td>2050808.0</td>\n",
       "      <td>2754908.0</td>\n",
       "      <td>1</td>\n",
       "    </tr>\n",
       "    <tr>\n",
       "      <th>4437732</th>\n",
       "      <td>75040931</td>\n",
       "      <td>2007-12-31</td>\n",
       "      <td>93.0</td>\n",
       "      <td>SPA</td>\n",
       "      <td>31.0</td>\n",
       "      <td>2008-11-19</td>\n",
       "      <td>2007</td>\n",
       "      <td>302565.0</td>\n",
       "      <td>1225564.0</td>\n",
       "      <td>537308.0</td>\n",
       "      <td>...</td>\n",
       "      <td>NaN</td>\n",
       "      <td>-718172.0</td>\n",
       "      <td>-14.12</td>\n",
       "      <td>NaN</td>\n",
       "      <td>2540474.0</td>\n",
       "      <td>-1891390.0</td>\n",
       "      <td>-1136205.0</td>\n",
       "      <td>7153888.0</td>\n",
       "      <td>7595187.0</td>\n",
       "      <td>1</td>\n",
       "    </tr>\n",
       "    <tr>\n",
       "      <th>4437735</th>\n",
       "      <td>85280527</td>\n",
       "      <td>2007-12-31</td>\n",
       "      <td>52.0</td>\n",
       "      <td>SRL</td>\n",
       "      <td>10.0</td>\n",
       "      <td>2008-05-15</td>\n",
       "      <td>2007</td>\n",
       "      <td>698.0</td>\n",
       "      <td>2497682.0</td>\n",
       "      <td>0.0</td>\n",
       "      <td>...</td>\n",
       "      <td>NaN</td>\n",
       "      <td>-147948.0</td>\n",
       "      <td>-7.35</td>\n",
       "      <td>-8.08</td>\n",
       "      <td>9893.0</td>\n",
       "      <td>-12174.0</td>\n",
       "      <td>-159578.0</td>\n",
       "      <td>2572750.0</td>\n",
       "      <td>2609422.0</td>\n",
       "      <td>1</td>\n",
       "    </tr>\n",
       "  </tbody>\n",
       "</table>\n",
       "<p>5 rows × 46 columns</p>\n",
       "</div>"
      ],
      "text/plain": [
       "                  id  stmt_date  HQ_city legal_struct  ateco_sector  \\\n",
       "Unnamed: 0                                                            \n",
       "4437727     40230625 2007-12-31     63.0          SRU          47.0   \n",
       "4437728     40750382 2007-12-31     38.0          SRU          45.0   \n",
       "4437731     66210931 2007-12-31     93.0          SRL          68.0   \n",
       "4437732     75040931 2007-12-31     93.0          SPA          31.0   \n",
       "4437735     85280527 2007-12-31     52.0          SRL          10.0   \n",
       "\n",
       "             def_date  fs_year  asst_intang_fixed  asst_tang_fixed  \\\n",
       "Unnamed: 0                                                           \n",
       "4437727    2008-10-31     2007              962.0         109805.0   \n",
       "4437728    2008-07-28     2007            10063.0        3922517.0   \n",
       "4437731    2008-12-22     2007            21052.0         898791.0   \n",
       "4437732    2008-11-19     2007           302565.0        1225564.0   \n",
       "4437735    2008-05-15     2007              698.0        2497682.0   \n",
       "\n",
       "            asst_fixed_fin  ...  days_rec    ebitda    roa     roe     wc_net  \\\n",
       "Unnamed: 0                  ...                                                 \n",
       "4437727             1000.0  ...     52.92  -52281.0  -0.88 -131.96   207900.0   \n",
       "4437728            12955.0  ...     77.31   32139.0  -1.96     NaN -2199583.0   \n",
       "4437731                0.0  ...       NaN  -31374.0  -3.12     NaN  -594066.0   \n",
       "4437732           537308.0  ...       NaN -718172.0 -14.12     NaN  2540474.0   \n",
       "4437735                0.0  ...       NaN -147948.0  -7.35   -8.08     9893.0   \n",
       "\n",
       "            margin_fin  cf_operations  calculated_asst_tot  \\\n",
       "Unnamed: 0                                                   \n",
       "4437727       -22007.0      -108670.0            7012670.0   \n",
       "4437728            NaN      -617507.0            8169809.0   \n",
       "4437731      -908808.0      -135332.0            2050808.0   \n",
       "4437732     -1891390.0     -1136205.0            7153888.0   \n",
       "4437735       -12174.0      -159578.0            2572750.0   \n",
       "\n",
       "            calculated_equity_liabilities_tot  default  \n",
       "Unnamed: 0                                              \n",
       "4437727                            11417262.0        1  \n",
       "4437728                             9155050.0        1  \n",
       "4437731                             2754908.0        1  \n",
       "4437732                             7595187.0        1  \n",
       "4437735                             2609422.0        1  \n",
       "\n",
       "[5 rows x 46 columns]"
      ]
     },
     "execution_count": 10,
     "metadata": {},
     "output_type": "execute_result"
    }
   ],
   "source": [
    "df[df['default'] == 1].head()"
   ]
  },
  {
   "cell_type": "code",
   "execution_count": 11,
   "id": "b049eff8",
   "metadata": {},
   "outputs": [
    {
     "data": {
      "text/plain": [
       "Index(['id', 'stmt_date', 'HQ_city', 'legal_struct', 'ateco_sector',\n",
       "       'def_date', 'fs_year', 'asst_intang_fixed', 'asst_tang_fixed',\n",
       "       'asst_fixed_fin', 'asst_current', 'AR', 'cash_and_equiv', 'asst_tot',\n",
       "       'eqty_tot', 'eqty_corp_family_tot', 'liab_lt', 'liab_lt_emp',\n",
       "       'debt_bank_st', 'debt_bank_lt', 'debt_fin_st', 'debt_fin_lt', 'AP_st',\n",
       "       'AP_lt', 'debt_st', 'debt_lt', 'rev_operating', 'COGS',\n",
       "       'prof_operations', 'goodwill', 'inc_financing', 'exp_financing',\n",
       "       'prof_financing', 'inc_extraord', 'taxes', 'profit', 'days_rec',\n",
       "       'ebitda', 'roa', 'roe', 'wc_net', 'margin_fin', 'cf_operations',\n",
       "       'calculated_asst_tot', 'calculated_equity_liabilities_tot', 'default'],\n",
       "      dtype='object')"
      ]
     },
     "execution_count": 11,
     "metadata": {},
     "output_type": "execute_result"
    }
   ],
   "source": [
    "df.columns"
   ]
  },
  {
   "cell_type": "code",
   "execution_count": 13,
   "id": "0df51992",
   "metadata": {},
   "outputs": [
    {
     "name": "stdout",
     "output_type": "stream",
     "text": [
      "missing vals:\n",
      "eqty_corp_family_tot                 1023552\n",
      "def_date                              968128\n",
      "days_rec                              740211\n",
      "calculated_equity_liabilities_tot     133509\n",
      "AP_st                                 120635\n",
      "AP_lt                                  92244\n",
      "roe                                    72937\n",
      "margin_fin                             40758\n",
      "prof_financing                           656\n",
      "exp_financing                            367\n",
      "inc_extraord                             305\n",
      "liab_lt                                  294\n",
      "HQ_city                                  277\n",
      "rev_operating                            174\n",
      "liab_lt_emp                              162\n",
      "debt_lt                                  155\n",
      "debt_fin_lt                              150\n",
      "debt_bank_lt                             150\n",
      "cf_operations                             88\n",
      "ebitda                                    81\n",
      "taxes                                     32\n",
      "roa                                       27\n",
      "inc_financing                             26\n",
      "COGS                                      24\n",
      "prof_operations                           21\n",
      "goodwill                                  21\n",
      "profit                                    20\n",
      "cash_and_equiv                            17\n",
      "AR                                        12\n",
      "wc_net                                     6\n",
      "debt_st                                    5\n",
      "debt_fin_st                                4\n",
      "debt_bank_st                               4\n",
      "eqty_tot                                   1\n",
      "calculated_asst_tot                        0\n",
      "id                                         0\n",
      "stmt_date                                  0\n",
      "asst_tot                                   0\n",
      "asst_current                               0\n",
      "asst_fixed_fin                             0\n",
      "asst_tang_fixed                            0\n",
      "asst_intang_fixed                          0\n",
      "fs_year                                    0\n",
      "ateco_sector                               0\n",
      "legal_struct                               0\n",
      "default                                    0\n",
      "dtype: int64\n"
     ]
    }
   ],
   "source": [
    "# Check for missing values\n",
    "missing_values = df.isnull().sum()\n",
    "print('missing vals:')\n",
    "print(missing_values.sort_values(ascending=False))"
   ]
  },
  {
   "cell_type": "code",
   "execution_count": 14,
   "id": "98f88f75-d52e-46ac-aae7-9a58a191e819",
   "metadata": {},
   "outputs": [
    {
     "name": "stdout",
     "output_type": "stream",
     "text": [
      "missing vals:\n",
      "eqty_corp_family_tot                 100.000000\n",
      "def_date                              94.585131\n",
      "days_rec                              72.317870\n",
      "calculated_equity_liabilities_tot     13.043695\n",
      "AP_st                                 11.785918\n",
      "AP_lt                                  9.012146\n",
      "roe                                    7.125871\n",
      "margin_fin                             3.982016\n",
      "prof_financing                         0.064091\n",
      "exp_financing                          0.035856\n",
      "inc_extraord                           0.029798\n",
      "liab_lt                                0.028724\n",
      "HQ_city                                0.027063\n",
      "rev_operating                          0.017000\n",
      "liab_lt_emp                            0.015827\n",
      "debt_lt                                0.015143\n",
      "debt_bank_lt                           0.014655\n",
      "debt_fin_lt                            0.014655\n",
      "cf_operations                          0.008598\n",
      "ebitda                                 0.007914\n",
      "taxes                                  0.003126\n",
      "roa                                    0.002638\n",
      "inc_financing                          0.002540\n",
      "COGS                                   0.002345\n",
      "prof_operations                        0.002052\n",
      "goodwill                               0.002052\n",
      "profit                                 0.001954\n",
      "cash_and_equiv                         0.001661\n",
      "AR                                     0.001172\n",
      "wc_net                                 0.000586\n",
      "debt_st                                0.000488\n",
      "debt_fin_st                            0.000391\n",
      "debt_bank_st                           0.000391\n",
      "eqty_tot                               0.000098\n",
      "dtype: float64\n"
     ]
    }
   ],
   "source": [
    "# Check for missing values\n",
    "missing_values = df.isnull().sum()/len(df) * 100\n",
    "print('missing vals:')\n",
    "print((missing_values[missing_values > 0]).sort_values(ascending=False))"
   ]
  },
  {
   "cell_type": "markdown",
   "id": "b7fc9954",
   "metadata": {},
   "source": [
    "# Features of Risk Calc\n",
    "- Assets (Total): Measures the size of the firm, adjusted for inflation.\n",
    "- Inventory / Cost of Goods Sold (COGS): Assesses inventory efficiency.\n",
    "- Liabilities / Assets: A measure of financial leverage.\n",
    "- Net Income / Assets: Profitability ratio indicating asset efficiency.\n",
    "- Net Income Growth: Tracks changes in profitability over time.\n",
    "- Quick Ratio: A liquidity ratio for assessing short-term solvency.\n",
    "- Retained Earnings / Assets: Indicates long-term financial stability.\n",
    "- Sales Growth: Measures the growth trajectory of a firm's revenue.\n",
    "- Cash / Assets: Assesses liquidity and the firm’s ability to meet short-term obligations.\n",
    "- Debt Service Coverage Ratio: Evaluates the firm's ability to cover debt payments from its earnings.\n"
   ]
  },
  {
   "cell_type": "markdown",
   "id": "aa7c505c",
   "metadata": {},
   "source": [
    "## 1. Assets Total QA"
   ]
  },
  {
   "cell_type": "markdown",
   "id": "aeef8fd7",
   "metadata": {},
   "source": [
    "#### It appears that total assets is roughly df['asst_intang_fixed'] + df['asst_tang_fixed'] + df['asst_fixed_fin'] + df['asst_current'], although there is a 1.4% difference."
   ]
  },
  {
   "cell_type": "markdown",
   "id": "749754cc",
   "metadata": {},
   "source": [
    "### Is data reliable? Let's check Assets = Liabilities + Equity"
   ]
  },
  {
   "cell_type": "code",
   "execution_count": 15,
   "id": "b14cb26f",
   "metadata": {},
   "outputs": [],
   "source": [
    "df['liab_tot'] = df['debt_st'] + df['debt_lt'] + df['AP_st'] + df['AP_lt']\n",
    "df['calculated_liabilities_equity'] = df['liab_tot'] + df['eqty_tot']"
   ]
  },
  {
   "cell_type": "code",
   "execution_count": 16,
   "id": "861cf811",
   "metadata": {},
   "outputs": [],
   "source": [
    "df['liab_tot'] = df['debt_st'] + df['debt_lt'] \n",
    "df['calculated_liabilities_equity'] = df['liab_tot'] + df['eqty_tot']\n"
   ]
  },
  {
   "cell_type": "markdown",
   "id": "178789bd",
   "metadata": {},
   "source": [
    "#### It seems here that liab_tot is better approximated by just total debt.... This doesn't make sense to me.\n",
    "----\n",
    "I think perhaps the issue is due to issues with accounts payables having nulls. The thing is I don't think we can recover AP_st or AP_lt because we do not have a total AP number. **Only idea is that AP total could be extracted from some other field??** As of RN I do not know if possible..."
   ]
  },
  {
   "cell_type": "markdown",
   "id": "42a76e65",
   "metadata": {},
   "source": [
    "## Conditional Probability of Default for Total Assets"
   ]
  },
  {
   "cell_type": "code",
   "execution_count": 17,
   "id": "6ccfb8dd",
   "metadata": {},
   "outputs": [],
   "source": [
    "quantiles = 10\n",
    "df['asset_quantile'] = pd.qcut(df['asst_tot'], q=quantiles, labels=False)  # 4 quantiles (quartiles)"
   ]
  },
  {
   "cell_type": "markdown",
   "id": "4da78910",
   "metadata": {},
   "source": [
    "# 2. Inventory / Cost of Goods Sold (COGS):  (inventory efficiency)\n",
    "----\n",
    "We do not have access to Inventory, nor a good way to extract it from the fields we have... We will have to skip this"
   ]
  },
  {
   "cell_type": "markdown",
   "id": "c7044561",
   "metadata": {},
   "source": [
    "# 3. Liabilities / Assets: (financial leverage)\n",
    "-----\n",
    "For this to work, we have to be somewhat sure that our total Liabilities field we calculated makes sense. The above check that total assets = total liabilities + equity shows that it is at least close. **It is possible we are missing something in calculating our total liabilities though and if we are then this could be impacted.** "
   ]
  },
  {
   "cell_type": "code",
   "execution_count": 18,
   "id": "2749838f",
   "metadata": {},
   "outputs": [],
   "source": [
    "df['financial_leverage'] = df['liab_tot'] / df['asst_tot']"
   ]
  },
  {
   "cell_type": "markdown",
   "id": "8b7771a6",
   "metadata": {},
   "source": [
    "## Conditional Probability of Default for Financial Leverage"
   ]
  },
  {
   "cell_type": "code",
   "execution_count": 19,
   "id": "f83f1472",
   "metadata": {},
   "outputs": [],
   "source": [
    "quantiles = 10\n",
    "df['financial_leverage_quantile'] = pd.qcut(df['financial_leverage'], q=quantiles, labels=False)  # 4 quantiles (quartiles)\n"
   ]
  },
  {
   "cell_type": "markdown",
   "id": "edc68fb3",
   "metadata": {},
   "source": [
    "# 4. Net Income / Assets: (Profitability ratio)\n",
    "---\n",
    "Here, profit is same as net income I believe... We have no nulls in profit or in total assets, so we should be ok. Total assets appears to check out. **Still need to do QC on profit (does it check out with revenue - costs?)**"
   ]
  },
  {
   "cell_type": "code",
   "execution_count": 20,
   "id": "2b58a263",
   "metadata": {},
   "outputs": [],
   "source": [
    "df['profitability_ratio'] = df['profit'] / df['asst_tot']"
   ]
  },
  {
   "cell_type": "markdown",
   "id": "d0d7f7a6",
   "metadata": {},
   "source": [
    "## Conditional Probability of Default for Profitability ratio"
   ]
  },
  {
   "cell_type": "code",
   "execution_count": 21,
   "id": "b3ea05db",
   "metadata": {},
   "outputs": [],
   "source": [
    "quantiles = 10\n",
    "df['profitability_ratio_quantile'] = pd.qcut(df['profitability_ratio'], q=quantiles, labels=False)  # 4 quantiles (quartiles)\n"
   ]
  },
  {
   "cell_type": "markdown",
   "id": "91bcf4cb",
   "metadata": {},
   "source": [
    "# 5. Net Income Growth\n",
    "----\n",
    "As discussed in our meeting, there are some significant challenges to using this. I am going to leave this for later..."
   ]
  },
  {
   "cell_type": "markdown",
   "id": "32dbaf70",
   "metadata": {},
   "source": [
    "# 6. Quick Ratio: (LiquidAssets:Current Liabilities)\n",
    "---\n",
    "There are a few cheat sheet formulas to consider:\n",
    "1. (current assets - inventory) / current liabilities\n",
    "- This cant work as we don't have inventory\n",
    "2. (Cash + marketable securities + net receivabl) / current liabilities\n",
    "- this maybe can work, we have AR and AP_st and AP_lt so can do net receivables \n",
    "3. (cash + cash equivalents + short term investments + current recievables) / current liabilities\n",
    "- we dont exactly have short term recievables but can use AR instead...\n",
    "\n",
    "-----\n",
    "**CALC of short term liabilities is an open question here**\n",
    "If we just use debt st that would seem to line up with earlier interpretation of total liabilities. But doesn't quite make logical sense.... Regardless this is how I will proceed for now.\n",
    "\n",
    "----\n",
    "We have 2 versions below using what we have from 2. and 3. above. V1 seems more ideal to me, but it will have issues with NAs"
   ]
  },
  {
   "cell_type": "code",
   "execution_count": 22,
   "id": "bbae656a",
   "metadata": {},
   "outputs": [],
   "source": [
    "#v1: (Cash + marketable securities + net receivabl) / current liabilities\n",
    "# we can find net receivables\n",
    "# THIS WILL HAVE ISSUES WITH NULLS FROM AP_st and AP_lt\n",
    "df['net_receivables'] = df['AR'] - (df['AP_st'] + df['AP_lt'])\n",
    "df['quick_ratio_v1'] = (df['cash_and_equiv'] + df['net_receivables']) / df['debt_st']\n",
    "\n",
    "#v2: (cash + cash equivalents + short term investments + current recievables) / current liabilities\n",
    "# we cant find current recievables so must use all recievables\n",
    "df['quick_ratio_v2'] = (df['cash_and_equiv'] + df['AR']) / df['debt_st']"
   ]
  },
  {
   "cell_type": "markdown",
   "id": "543cb510",
   "metadata": {},
   "source": [
    "### SEE MISSING VALS IN V1"
   ]
  },
  {
   "cell_type": "code",
   "execution_count": 23,
   "id": "613e1a5c",
   "metadata": {
    "scrolled": true
   },
   "outputs": [
    {
     "name": "stdout",
     "output_type": "stream",
     "text": [
      "missing vals:\n",
      "HQ_city                                  277\n",
      "def_date                              968128\n",
      "AR                                        12\n",
      "cash_and_equiv                            17\n",
      "eqty_tot                                   1\n",
      "eqty_corp_family_tot                 1023552\n",
      "liab_lt                                  294\n",
      "liab_lt_emp                              162\n",
      "debt_bank_st                               4\n",
      "debt_bank_lt                             150\n",
      "debt_fin_st                                4\n",
      "debt_fin_lt                              150\n",
      "AP_st                                 120635\n",
      "AP_lt                                  92244\n",
      "debt_st                                    5\n",
      "debt_lt                                  155\n",
      "rev_operating                            174\n",
      "COGS                                      24\n",
      "prof_operations                           21\n",
      "goodwill                                  21\n",
      "inc_financing                             26\n",
      "exp_financing                            367\n",
      "prof_financing                           656\n",
      "inc_extraord                             305\n",
      "taxes                                     32\n",
      "profit                                    20\n",
      "days_rec                              740211\n",
      "ebitda                                    81\n",
      "roa                                       27\n",
      "roe                                    72937\n",
      "wc_net                                     6\n",
      "margin_fin                             40758\n",
      "cf_operations                             88\n",
      "calculated_equity_liabilities_tot     133509\n",
      "liab_tot                                 156\n",
      "calculated_liabilities_equity            156\n",
      "financial_leverage                       156\n",
      "financial_leverage_quantile              156\n",
      "profitability_ratio                       20\n",
      "profitability_ratio_quantile              20\n",
      "net_receivables                       133514\n",
      "quick_ratio_v1                        133536\n",
      "quick_ratio_v2                            47\n",
      "dtype: int64\n"
     ]
    }
   ],
   "source": [
    "# Check for missing values\n",
    "missing_values = df.isnull().sum()\n",
    "print('missing vals:')\n",
    "print(missing_values[missing_values > 0])"
   ]
  },
  {
   "cell_type": "markdown",
   "id": "ce2a0bf5",
   "metadata": {},
   "source": [
    "## Conditional Probability of Default for quick_ratio_v2"
   ]
  },
  {
   "cell_type": "code",
   "execution_count": 24,
   "id": "d9c5fe36",
   "metadata": {},
   "outputs": [],
   "source": [
    "quantiles = 10\n",
    "df['quick_ratio_v2_quantile'] = pd.qcut(df['quick_ratio_v2'], q=quantiles, labels=False, duplicates='drop')  # 4 quantiles (quartiles)\n"
   ]
  },
  {
   "cell_type": "markdown",
   "id": "46ef8e0a",
   "metadata": {},
   "source": [
    "# 7. Retained Earnings / Assets: Indicates long-term financial stability.\n",
    "----\n",
    "We don't have an exact proxy for retained earnings (basically we don't know what portion of profit is retained versus not):\n",
    "\n",
    "**DEF:**\n",
    "Retained earnings are the cumulative net earnings or profits of a company after accounting for dividend payments. As an important concept in accounting, the word “retained” captures the fact that because those earnings were not paid out to shareholders as dividends, they were instead retained by the company.\n"
   ]
  },
  {
   "cell_type": "markdown",
   "id": "64308451",
   "metadata": {},
   "source": [
    "# 8.  Sales Growth: Measures the growth trajectory of a firm's revenue.\n",
    "------\n",
    "\n",
    "Again, I am going to leave this for now given the dificulties discussed in our meeting with Prof"
   ]
  },
  {
   "cell_type": "markdown",
   "id": "3a04435c",
   "metadata": {},
   "source": [
    "# 9. Cash / Assets: "
   ]
  },
  {
   "cell_type": "code",
   "execution_count": 25,
   "id": "24e67db3",
   "metadata": {},
   "outputs": [],
   "source": [
    "df['cash_assets_ratio'] = df['cash_and_equiv'] / df['asst_tot']\n"
   ]
  },
  {
   "cell_type": "markdown",
   "id": "7eb78da3",
   "metadata": {},
   "source": [
    "## Conditional Probability of Default for cash_assets_ratio"
   ]
  },
  {
   "cell_type": "code",
   "execution_count": 26,
   "id": "7eb0b9e4",
   "metadata": {},
   "outputs": [],
   "source": [
    "cash_assets_ratioquantiles = 10\n",
    "df['cash_assets_ratio_quantile'] = pd.qcut(df['cash_assets_ratio'], q=quantiles, labels=False)  # 4 quantiles (quartiles)\n"
   ]
  },
  {
   "cell_type": "markdown",
   "id": "90de690c",
   "metadata": {},
   "source": [
    "# 10. Debt Service Coverage Ratio: Evaluates the firm's ability to cover debt payments from its earnings.\n",
    "---\n",
    "**DEF**:\n",
    "EBIT/interest\n",
    "\n",
    "----\n",
    "WE have ebitda rathter than ebit, and we have exp_financing which captures expensese of financing such as interest...\n",
    "\n",
    "---\n",
    "**ISSUE**: exp_financing can be 0, in which case this ratio will not be defined...\n",
    "\n",
    "For now I think we can set 0 to 1, but this **must be revisisted....**"
   ]
  },
  {
   "cell_type": "code",
   "execution_count": 27,
   "id": "1c042976",
   "metadata": {},
   "outputs": [
    {
     "data": {
      "text/html": [
       "<div>\n",
       "<style scoped>\n",
       "    .dataframe tbody tr th:only-of-type {\n",
       "        vertical-align: middle;\n",
       "    }\n",
       "\n",
       "    .dataframe tbody tr th {\n",
       "        vertical-align: top;\n",
       "    }\n",
       "\n",
       "    .dataframe thead th {\n",
       "        text-align: right;\n",
       "    }\n",
       "</style>\n",
       "<table border=\"1\" class=\"dataframe\">\n",
       "  <thead>\n",
       "    <tr style=\"text-align: right;\">\n",
       "      <th></th>\n",
       "      <th>ebitda</th>\n",
       "      <th>exp_financing</th>\n",
       "    </tr>\n",
       "    <tr>\n",
       "      <th>Unnamed: 0</th>\n",
       "      <th></th>\n",
       "      <th></th>\n",
       "    </tr>\n",
       "  </thead>\n",
       "  <tbody>\n",
       "    <tr>\n",
       "      <th>17</th>\n",
       "      <td>6318.0</td>\n",
       "      <td>15550.0</td>\n",
       "    </tr>\n",
       "    <tr>\n",
       "      <th>18</th>\n",
       "      <td>46088.0</td>\n",
       "      <td>49758.0</td>\n",
       "    </tr>\n",
       "    <tr>\n",
       "      <th>19</th>\n",
       "      <td>67611.0</td>\n",
       "      <td>35239.0</td>\n",
       "    </tr>\n",
       "    <tr>\n",
       "      <th>21</th>\n",
       "      <td>-161478.0</td>\n",
       "      <td>14057.0</td>\n",
       "    </tr>\n",
       "    <tr>\n",
       "      <th>22</th>\n",
       "      <td>153060.0</td>\n",
       "      <td>13569.0</td>\n",
       "    </tr>\n",
       "  </tbody>\n",
       "</table>\n",
       "</div>"
      ],
      "text/plain": [
       "              ebitda  exp_financing\n",
       "Unnamed: 0                         \n",
       "17            6318.0        15550.0\n",
       "18           46088.0        49758.0\n",
       "19           67611.0        35239.0\n",
       "21         -161478.0        14057.0\n",
       "22          153060.0        13569.0"
      ]
     },
     "execution_count": 27,
     "metadata": {},
     "output_type": "execute_result"
    }
   ],
   "source": [
    " df[['ebitda','exp_financing']].head()"
   ]
  },
  {
   "cell_type": "code",
   "execution_count": null,
   "id": "47adbab9-cdc9-4f5e-88f4-d4d7f37ba98e",
   "metadata": {},
   "outputs": [],
   "source": []
  },
  {
   "cell_type": "code",
   "execution_count": 48,
   "id": "9ea75836-9c8c-4adc-90f7-c53c8968d62e",
   "metadata": {},
   "outputs": [
    {
     "data": {
      "text/plain": [
       "prof_operations     21\n",
       "ebitda              81\n",
       "exp_financing      367\n",
       "dtype: int64"
      ]
     },
     "execution_count": 48,
     "metadata": {},
     "output_type": "execute_result"
    }
   ],
   "source": [
    "df[['prof_operations','ebitda','exp_financing']].isna().sum()"
   ]
  },
  {
   "cell_type": "code",
   "execution_count": 55,
   "id": "90899d4a-b466-4019-9e49-a1f1aefc2fa2",
   "metadata": {},
   "outputs": [
    {
     "data": {
      "text/plain": [
       "(21, 3)"
      ]
     },
     "execution_count": 55,
     "metadata": {},
     "output_type": "execute_result"
    }
   ],
   "source": [
    "df[(df['prof_operations'].isna())&(df['ebitda'].isna())][['prof_operations','ebitda','exp_financing']].shape"
   ]
  },
  {
   "cell_type": "code",
   "execution_count": 28,
   "id": "7b29c055",
   "metadata": {},
   "outputs": [],
   "source": [
    "#set 0 to 1 for exp_financing\n",
    "df['exp_financing'] = df['exp_financing'].replace(0, 1)\n",
    "\n",
    "df['dscr'] = df['ebitda'] / df['exp_financing']\n"
   ]
  },
  {
   "cell_type": "markdown",
   "id": "c3bb6750",
   "metadata": {},
   "source": [
    "## Conditional Probability of Default for dscr"
   ]
  },
  {
   "cell_type": "code",
   "execution_count": 29,
   "id": "13c8997c",
   "metadata": {},
   "outputs": [],
   "source": [
    "cash_assets_ratioquantiles = 10\n",
    "df['dscr_quantile'] = pd.qcut(df['dscr'], q=quantiles, labels=False)  # 4 quantiles (quartiles)\n"
   ]
  },
  {
   "cell_type": "markdown",
   "id": "f22c327e-6d89-49ec-9ae9-239a80f6274c",
   "metadata": {},
   "source": [
    "# Features of Risk Calc\n",
    "- Assets (Total): Measures the size of the firm, adjusted for inflation.\n",
    "- Inventory / Cost of Goods Sold (COGS): Assesses inventory efficiency.\n",
    "- Liabilities / Assets: A measure of financial leverage.\n",
    "- Net Income / Assets: Profitability ratio indicating asset efficiency.\n",
    "- Net Income Growth: Tracks changes in profitability over time.\n",
    "- Quick Ratio: A liquidity ratio for assessing short-term solvency.\n",
    "- Retained Earnings / Assets: Indicates long-term financial stability.\n",
    "- Sales Growth: Measures the growth trajectory of a firm's revenue.\n",
    "- Cash / Assets: Assesses liquidity and the firm’s ability to meet short-term obligations.\n",
    "- Debt Service Coverage Ratio: Evaluates the firm's ability to cover debt payments from its earnings.\n"
   ]
  },
  {
   "cell_type": "code",
   "execution_count": 37,
   "id": "8f895725-7555-4470-a96b-090f5d66b6c5",
   "metadata": {
    "scrolled": true
   },
   "outputs": [
    {
     "data": {
      "text/plain": [
       "['id',\n",
       " 'stmt_date',\n",
       " 'HQ_city',\n",
       " 'legal_struct',\n",
       " 'ateco_sector',\n",
       " 'def_date',\n",
       " 'fs_year',\n",
       " 'asst_intang_fixed',\n",
       " 'asst_tang_fixed',\n",
       " 'asst_fixed_fin',\n",
       " 'asst_current',\n",
       " 'AR',\n",
       " 'cash_and_equiv',\n",
       " 'asst_tot',\n",
       " 'eqty_tot',\n",
       " 'eqty_corp_family_tot',\n",
       " 'liab_lt',\n",
       " 'liab_lt_emp',\n",
       " 'debt_bank_st',\n",
       " 'debt_bank_lt',\n",
       " 'debt_fin_st',\n",
       " 'debt_fin_lt',\n",
       " 'AP_st',\n",
       " 'AP_lt',\n",
       " 'debt_st',\n",
       " 'debt_lt',\n",
       " 'rev_operating',\n",
       " 'COGS',\n",
       " 'prof_operations',\n",
       " 'goodwill',\n",
       " 'inc_financing',\n",
       " 'exp_financing',\n",
       " 'prof_financing',\n",
       " 'inc_extraord',\n",
       " 'taxes',\n",
       " 'profit',\n",
       " 'days_rec',\n",
       " 'ebitda',\n",
       " 'roa',\n",
       " 'roe',\n",
       " 'wc_net',\n",
       " 'margin_fin',\n",
       " 'cf_operations',\n",
       " 'calculated_asst_tot',\n",
       " 'calculated_equity_liabilities_tot',\n",
       " 'default',\n",
       " 'liab_tot',\n",
       " 'calculated_liabilities_equity',\n",
       " 'asset_quantile',\n",
       " 'financial_leverage',\n",
       " 'financial_leverage_quantile',\n",
       " 'profitability_ratio',\n",
       " 'profitability_ratio_quantile',\n",
       " 'net_receivables',\n",
       " 'quick_ratio_v1',\n",
       " 'quick_ratio_v2',\n",
       " 'quick_ratio_v2_quantile',\n",
       " 'cash_assets_ratio',\n",
       " 'cash_assets_ratio_quantile',\n",
       " 'dscr',\n",
       " 'dscr_quantile']"
      ]
     },
     "execution_count": 37,
     "metadata": {},
     "output_type": "execute_result"
    }
   ],
   "source": [
    "df.columns.to_list()"
   ]
  },
  {
   "cell_type": "code",
   "execution_count": 40,
   "id": "c90efe8d-71a5-42d9-abe9-f0a8eff079da",
   "metadata": {},
   "outputs": [],
   "source": [
    "featured_data = df[['id',\n",
    "    'stmt_date',\n",
    "    'HQ_city',\n",
    "    'legal_struct',\n",
    "    'ateco_sector',\n",
    "    'def_date',\n",
    "    'fs_year',\n",
    "    'asst_tot',           # Assets (Total): Measures the size of the firm, adjusted for inflation.\n",
    "    'COGS',              # Inventory / Cost of Goods Sold (COGS): Assesses inventory efficiency.\n",
    "    'financial_leverage', # Liabilities / Assets: A measure of financial leverage.\n",
    "    'profitability_ratio', # Net Income / Assets: Profitability ratio indicating asset efficiency.\n",
    "    # Net Income Growth: Tracks changes in profitability over time.\n",
    "    'quick_ratio_v1','quick_ratio_v2',# Quick Ratio: A liquidity ratio for assessing short-term solvency.\n",
    "    # Retained Earnings / Assets: Indicates long-term financial stability.\n",
    "    # Sales Growth: Measures the growth trajectory of a firm's revenue.\n",
    "    'cash_assets_ratio', # Cash / Assets: Assesses liquidity and the firm’s ability to meet short-term obligations.\n",
    "    'dscr',# Debt Service Coverage Ratio: Evaluates the firm's ability to cover debt payments from its earnings.\n",
    "    'default', # label\n",
    "   ]]"
   ]
  },
  {
   "cell_type": "code",
   "execution_count": 41,
   "id": "06526b8e-f011-4809-adfa-571784c5b162",
   "metadata": {},
   "outputs": [
    {
     "data": {
      "text/html": [
       "<div>\n",
       "<style scoped>\n",
       "    .dataframe tbody tr th:only-of-type {\n",
       "        vertical-align: middle;\n",
       "    }\n",
       "\n",
       "    .dataframe tbody tr th {\n",
       "        vertical-align: top;\n",
       "    }\n",
       "\n",
       "    .dataframe thead th {\n",
       "        text-align: right;\n",
       "    }\n",
       "</style>\n",
       "<table border=\"1\" class=\"dataframe\">\n",
       "  <thead>\n",
       "    <tr style=\"text-align: right;\">\n",
       "      <th></th>\n",
       "      <th>id</th>\n",
       "      <th>stmt_date</th>\n",
       "      <th>HQ_city</th>\n",
       "      <th>legal_struct</th>\n",
       "      <th>ateco_sector</th>\n",
       "      <th>def_date</th>\n",
       "      <th>fs_year</th>\n",
       "      <th>asst_tot</th>\n",
       "      <th>COGS</th>\n",
       "      <th>financial_leverage</th>\n",
       "      <th>profitability_ratio</th>\n",
       "      <th>quick_ratio_v1</th>\n",
       "      <th>quick_ratio_v2</th>\n",
       "      <th>cash_assets_ratio</th>\n",
       "      <th>dscr</th>\n",
       "      <th>default</th>\n",
       "    </tr>\n",
       "    <tr>\n",
       "      <th>Unnamed: 0</th>\n",
       "      <th></th>\n",
       "      <th></th>\n",
       "      <th></th>\n",
       "      <th></th>\n",
       "      <th></th>\n",
       "      <th></th>\n",
       "      <th></th>\n",
       "      <th></th>\n",
       "      <th></th>\n",
       "      <th></th>\n",
       "      <th></th>\n",
       "      <th></th>\n",
       "      <th></th>\n",
       "      <th></th>\n",
       "      <th></th>\n",
       "      <th></th>\n",
       "    </tr>\n",
       "  </thead>\n",
       "  <tbody>\n",
       "    <tr>\n",
       "      <th>17</th>\n",
       "      <td>520288</td>\n",
       "      <td>2011-12-31</td>\n",
       "      <td>28.0</td>\n",
       "      <td>SRL</td>\n",
       "      <td>14.0</td>\n",
       "      <td>NaT</td>\n",
       "      <td>2011</td>\n",
       "      <td>1946940.0</td>\n",
       "      <td>612202.0</td>\n",
       "      <td>0.810523</td>\n",
       "      <td>-0.041752</td>\n",
       "      <td>0.481744</td>\n",
       "      <td>1.201730</td>\n",
       "      <td>0.001070</td>\n",
       "      <td>0.406302</td>\n",
       "      <td>0</td>\n",
       "    </tr>\n",
       "    <tr>\n",
       "      <th>18</th>\n",
       "      <td>520288</td>\n",
       "      <td>2008-12-31</td>\n",
       "      <td>28.0</td>\n",
       "      <td>SRL</td>\n",
       "      <td>14.0</td>\n",
       "      <td>NaT</td>\n",
       "      <td>2008</td>\n",
       "      <td>2077346.0</td>\n",
       "      <td>1024802.0</td>\n",
       "      <td>0.985222</td>\n",
       "      <td>-0.051692</td>\n",
       "      <td>0.536997</td>\n",
       "      <td>0.748499</td>\n",
       "      <td>0.002570</td>\n",
       "      <td>0.926243</td>\n",
       "      <td>0</td>\n",
       "    </tr>\n",
       "    <tr>\n",
       "      <th>19</th>\n",
       "      <td>520288</td>\n",
       "      <td>2009-12-31</td>\n",
       "      <td>28.0</td>\n",
       "      <td>SRL</td>\n",
       "      <td>14.0</td>\n",
       "      <td>NaT</td>\n",
       "      <td>2009</td>\n",
       "      <td>1975874.0</td>\n",
       "      <td>681513.0</td>\n",
       "      <td>0.987754</td>\n",
       "      <td>-0.039385</td>\n",
       "      <td>0.370559</td>\n",
       "      <td>0.482796</td>\n",
       "      <td>0.005310</td>\n",
       "      <td>1.918641</td>\n",
       "      <td>0</td>\n",
       "    </tr>\n",
       "    <tr>\n",
       "      <th>21</th>\n",
       "      <td>520288</td>\n",
       "      <td>2012-12-31</td>\n",
       "      <td>28.0</td>\n",
       "      <td>SRL</td>\n",
       "      <td>14.0</td>\n",
       "      <td>NaT</td>\n",
       "      <td>2012</td>\n",
       "      <td>1872882.0</td>\n",
       "      <td>563147.0</td>\n",
       "      <td>0.930937</td>\n",
       "      <td>-0.133904</td>\n",
       "      <td>0.114860</td>\n",
       "      <td>0.804134</td>\n",
       "      <td>0.003496</td>\n",
       "      <td>-11.487373</td>\n",
       "      <td>0</td>\n",
       "    </tr>\n",
       "    <tr>\n",
       "      <th>22</th>\n",
       "      <td>520288</td>\n",
       "      <td>2007-12-31</td>\n",
       "      <td>28.0</td>\n",
       "      <td>SRL</td>\n",
       "      <td>14.0</td>\n",
       "      <td>NaT</td>\n",
       "      <td>2007</td>\n",
       "      <td>1769122.0</td>\n",
       "      <td>1931401.0</td>\n",
       "      <td>0.923659</td>\n",
       "      <td>0.020763</td>\n",
       "      <td>0.449771</td>\n",
       "      <td>0.585590</td>\n",
       "      <td>0.008071</td>\n",
       "      <td>11.280124</td>\n",
       "      <td>0</td>\n",
       "    </tr>\n",
       "  </tbody>\n",
       "</table>\n",
       "</div>"
      ],
      "text/plain": [
       "                id  stmt_date  HQ_city legal_struct  ateco_sector def_date  \\\n",
       "Unnamed: 0                                                                   \n",
       "17          520288 2011-12-31     28.0          SRL          14.0      NaT   \n",
       "18          520288 2008-12-31     28.0          SRL          14.0      NaT   \n",
       "19          520288 2009-12-31     28.0          SRL          14.0      NaT   \n",
       "21          520288 2012-12-31     28.0          SRL          14.0      NaT   \n",
       "22          520288 2007-12-31     28.0          SRL          14.0      NaT   \n",
       "\n",
       "            fs_year   asst_tot       COGS  financial_leverage  \\\n",
       "Unnamed: 0                                                      \n",
       "17             2011  1946940.0   612202.0            0.810523   \n",
       "18             2008  2077346.0  1024802.0            0.985222   \n",
       "19             2009  1975874.0   681513.0            0.987754   \n",
       "21             2012  1872882.0   563147.0            0.930937   \n",
       "22             2007  1769122.0  1931401.0            0.923659   \n",
       "\n",
       "            profitability_ratio  quick_ratio_v1  quick_ratio_v2  \\\n",
       "Unnamed: 0                                                        \n",
       "17                    -0.041752        0.481744        1.201730   \n",
       "18                    -0.051692        0.536997        0.748499   \n",
       "19                    -0.039385        0.370559        0.482796   \n",
       "21                    -0.133904        0.114860        0.804134   \n",
       "22                     0.020763        0.449771        0.585590   \n",
       "\n",
       "            cash_assets_ratio       dscr  default  \n",
       "Unnamed: 0                                         \n",
       "17                   0.001070   0.406302        0  \n",
       "18                   0.002570   0.926243        0  \n",
       "19                   0.005310   1.918641        0  \n",
       "21                   0.003496 -11.487373        0  \n",
       "22                   0.008071  11.280124        0  "
      ]
     },
     "execution_count": 41,
     "metadata": {},
     "output_type": "execute_result"
    }
   ],
   "source": [
    "featured_data.head()"
   ]
  },
  {
   "cell_type": "code",
   "execution_count": 43,
   "id": "91bfbc5d-437c-406c-a8d6-fcb06de00705",
   "metadata": {},
   "outputs": [],
   "source": [
    "featured_data.to_csv('../data/features_for_model.csv')"
   ]
  },
  {
   "cell_type": "code",
   "execution_count": null,
   "id": "4084d1fc-5246-4fda-9e28-d9869517b5c6",
   "metadata": {},
   "outputs": [],
   "source": []
  }
 ],
 "metadata": {
  "kernelspec": {
   "display_name": "Python 3 (ipykernel)",
   "language": "python",
   "name": "python3"
  },
  "language_info": {
   "codemirror_mode": {
    "name": "ipython",
    "version": 3
   },
   "file_extension": ".py",
   "mimetype": "text/x-python",
   "name": "python",
   "nbconvert_exporter": "python",
   "pygments_lexer": "ipython3",
   "version": "3.11.4"
  }
 },
 "nbformat": 4,
 "nbformat_minor": 5
}
