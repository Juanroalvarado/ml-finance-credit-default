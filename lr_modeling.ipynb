{
 "cells": [
  {
   "cell_type": "code",
   "execution_count": 1,
   "id": "ed16e89e-9105-47c4-a57f-817ec25c5d10",
   "metadata": {},
   "outputs": [],
   "source": [
    "import pandas as pd"
   ]
  },
  {
   "cell_type": "markdown",
   "id": "93bf0463-9366-4f68-84ba-f3cf1f87fffa",
   "metadata": {},
   "source": [
    "## Modeling"
   ]
  },
  {
   "cell_type": "code",
   "execution_count": 2,
   "id": "f8e98d78-8b4c-4783-aedd-a9f5db9a9870",
   "metadata": {},
   "outputs": [
    {
     "name": "stderr",
     "output_type": "stream",
     "text": [
      "/var/folders/kj/yvh7dv5569ggqx7tcy8crpp00000gn/T/ipykernel_71279/2069542416.py:1: DtypeWarning: Columns (6) have mixed types. Specify dtype option on import or set low_memory=False.\n",
      "  df = pd.read_csv('featured_data.csv')\n"
     ]
    }
   ],
   "source": [
    "df = pd.read_csv('featured_data.csv')"
   ]
  },
  {
   "cell_type": "code",
   "execution_count": 43,
   "id": "d53709ba-decb-4afa-8bdd-49dc3b7dda71",
   "metadata": {},
   "outputs": [
    {
     "data": {
      "text/plain": [
       "(1023552, 60)"
      ]
     },
     "execution_count": 43,
     "metadata": {},
     "output_type": "execute_result"
    }
   ],
   "source": [
    "df.shape"
   ]
  },
  {
   "cell_type": "code",
   "execution_count": 45,
   "id": "1944d489-f272-4bef-a182-1dda3809e4ee",
   "metadata": {},
   "outputs": [
    {
     "data": {
      "text/html": [
       "<div>\n",
       "<style scoped>\n",
       "    .dataframe tbody tr th:only-of-type {\n",
       "        vertical-align: middle;\n",
       "    }\n",
       "\n",
       "    .dataframe tbody tr th {\n",
       "        vertical-align: top;\n",
       "    }\n",
       "\n",
       "    .dataframe thead th {\n",
       "        text-align: right;\n",
       "    }\n",
       "</style>\n",
       "<table border=\"1\" class=\"dataframe\">\n",
       "  <thead>\n",
       "    <tr style=\"text-align: right;\">\n",
       "      <th></th>\n",
       "      <th>17</th>\n",
       "      <th>18</th>\n",
       "    </tr>\n",
       "  </thead>\n",
       "  <tbody>\n",
       "    <tr>\n",
       "      <th>id</th>\n",
       "      <td>520288</td>\n",
       "      <td>520288</td>\n",
       "    </tr>\n",
       "    <tr>\n",
       "      <th>stmt_date</th>\n",
       "      <td>2011-12-31 00:00:00</td>\n",
       "      <td>2008-12-31 00:00:00</td>\n",
       "    </tr>\n",
       "    <tr>\n",
       "      <th>HQ_city</th>\n",
       "      <td>28.0</td>\n",
       "      <td>28.0</td>\n",
       "    </tr>\n",
       "    <tr>\n",
       "      <th>legal_struct</th>\n",
       "      <td>SRL</td>\n",
       "      <td>SRL</td>\n",
       "    </tr>\n",
       "    <tr>\n",
       "      <th>ateco_sector</th>\n",
       "      <td>14.0</td>\n",
       "      <td>14.0</td>\n",
       "    </tr>\n",
       "    <tr>\n",
       "      <th>def_date</th>\n",
       "      <td>NaT</td>\n",
       "      <td>NaT</td>\n",
       "    </tr>\n",
       "    <tr>\n",
       "      <th>fs_year</th>\n",
       "      <td>2011</td>\n",
       "      <td>2008</td>\n",
       "    </tr>\n",
       "    <tr>\n",
       "      <th>asst_intang_fixed</th>\n",
       "      <td>67537.0</td>\n",
       "      <td>256438.0</td>\n",
       "    </tr>\n",
       "    <tr>\n",
       "      <th>asst_tang_fixed</th>\n",
       "      <td>1137566.0</td>\n",
       "      <td>1181416.0</td>\n",
       "    </tr>\n",
       "    <tr>\n",
       "      <th>asst_fixed_fin</th>\n",
       "      <td>1908.0</td>\n",
       "      <td>860.0</td>\n",
       "    </tr>\n",
       "    <tr>\n",
       "      <th>asst_current</th>\n",
       "      <td>733496.0</td>\n",
       "      <td>622992.0</td>\n",
       "    </tr>\n",
       "    <tr>\n",
       "      <th>AR</th>\n",
       "      <td>283013.0</td>\n",
       "      <td>387653.0</td>\n",
       "    </tr>\n",
       "    <tr>\n",
       "      <th>cash_and_equiv</th>\n",
       "      <td>2083.0</td>\n",
       "      <td>5339.0</td>\n",
       "    </tr>\n",
       "    <tr>\n",
       "      <th>asst_tot</th>\n",
       "      <td>1946940.0</td>\n",
       "      <td>2077346.0</td>\n",
       "    </tr>\n",
       "    <tr>\n",
       "      <th>eqty_tot</th>\n",
       "      <td>289982.0</td>\n",
       "      <td>-37325.0</td>\n",
       "    </tr>\n",
       "    <tr>\n",
       "      <th>eqty_corp_family_tot</th>\n",
       "      <td>NaN</td>\n",
       "      <td>NaN</td>\n",
       "    </tr>\n",
       "    <tr>\n",
       "      <th>liab_lt</th>\n",
       "      <td>0.0</td>\n",
       "      <td>0.0</td>\n",
       "    </tr>\n",
       "    <tr>\n",
       "      <th>liab_lt_emp</th>\n",
       "      <td>77653.0</td>\n",
       "      <td>64832.0</td>\n",
       "    </tr>\n",
       "    <tr>\n",
       "      <th>debt_bank_st</th>\n",
       "      <td>24328.0</td>\n",
       "      <td>184518.0</td>\n",
       "    </tr>\n",
       "    <tr>\n",
       "      <th>debt_bank_lt</th>\n",
       "      <td>473281.0</td>\n",
       "      <td>548543.0</td>\n",
       "    </tr>\n",
       "    <tr>\n",
       "      <th>debt_fin_st</th>\n",
       "      <td>0.0</td>\n",
       "      <td>0.0</td>\n",
       "    </tr>\n",
       "    <tr>\n",
       "      <th>debt_fin_lt</th>\n",
       "      <td>0.0</td>\n",
       "      <td>0.0</td>\n",
       "    </tr>\n",
       "    <tr>\n",
       "      <th>AP_st</th>\n",
       "      <td>170808.0</td>\n",
       "      <td>111047.0</td>\n",
       "    </tr>\n",
       "    <tr>\n",
       "      <th>AP_lt</th>\n",
       "      <td>0.0</td>\n",
       "      <td>0.0</td>\n",
       "    </tr>\n",
       "    <tr>\n",
       "      <th>debt_st</th>\n",
       "      <td>237238.0</td>\n",
       "      <td>525040.0</td>\n",
       "    </tr>\n",
       "    <tr>\n",
       "      <th>debt_lt</th>\n",
       "      <td>1340801.0</td>\n",
       "      <td>1521607.0</td>\n",
       "    </tr>\n",
       "    <tr>\n",
       "      <th>rev_operating</th>\n",
       "      <td>538081.0</td>\n",
       "      <td>967389.0</td>\n",
       "    </tr>\n",
       "    <tr>\n",
       "      <th>COGS</th>\n",
       "      <td>612202.0</td>\n",
       "      <td>1024802.0</td>\n",
       "    </tr>\n",
       "    <tr>\n",
       "      <th>prof_operations</th>\n",
       "      <td>-74121.0</td>\n",
       "      <td>-57413.0</td>\n",
       "    </tr>\n",
       "    <tr>\n",
       "      <th>goodwill</th>\n",
       "      <td>157436.0</td>\n",
       "      <td>253845.0</td>\n",
       "    </tr>\n",
       "    <tr>\n",
       "      <th>inc_financing</th>\n",
       "      <td>-6529.0</td>\n",
       "      <td>-36531.0</td>\n",
       "    </tr>\n",
       "    <tr>\n",
       "      <th>exp_financing</th>\n",
       "      <td>15550.0</td>\n",
       "      <td>49758.0</td>\n",
       "    </tr>\n",
       "    <tr>\n",
       "      <th>prof_financing</th>\n",
       "      <td>0.0</td>\n",
       "      <td>0.0</td>\n",
       "    </tr>\n",
       "    <tr>\n",
       "      <th>inc_extraord</th>\n",
       "      <td>-309.0</td>\n",
       "      <td>-678.0</td>\n",
       "    </tr>\n",
       "    <tr>\n",
       "      <th>taxes</th>\n",
       "      <td>-80959.0</td>\n",
       "      <td>-94622.0</td>\n",
       "    </tr>\n",
       "    <tr>\n",
       "      <th>profit</th>\n",
       "      <td>-81288.0</td>\n",
       "      <td>-107382.0</td>\n",
       "    </tr>\n",
       "    <tr>\n",
       "      <th>days_rec</th>\n",
       "      <td>NaN</td>\n",
       "      <td>NaN</td>\n",
       "    </tr>\n",
       "    <tr>\n",
       "      <th>ebitda</th>\n",
       "      <td>6318.0</td>\n",
       "      <td>46088.0</td>\n",
       "    </tr>\n",
       "    <tr>\n",
       "      <th>roa</th>\n",
       "      <td>-3.81</td>\n",
       "      <td>-2.76</td>\n",
       "    </tr>\n",
       "    <tr>\n",
       "      <th>roe</th>\n",
       "      <td>-28.03</td>\n",
       "      <td>NaN</td>\n",
       "    </tr>\n",
       "    <tr>\n",
       "      <th>wc_net</th>\n",
       "      <td>496258.0</td>\n",
       "      <td>97952.0</td>\n",
       "    </tr>\n",
       "    <tr>\n",
       "      <th>margin_fin</th>\n",
       "      <td>-917029.0</td>\n",
       "      <td>NaN</td>\n",
       "    </tr>\n",
       "    <tr>\n",
       "      <th>cf_operations</th>\n",
       "      <td>-849.0</td>\n",
       "      <td>-3881.0</td>\n",
       "    </tr>\n",
       "    <tr>\n",
       "      <th>default</th>\n",
       "      <td>0</td>\n",
       "      <td>0</td>\n",
       "    </tr>\n",
       "    <tr>\n",
       "      <th>calculated_asst_tot</th>\n",
       "      <td>1940507.0</td>\n",
       "      <td>2061706.0</td>\n",
       "    </tr>\n",
       "    <tr>\n",
       "      <th>liab_tot</th>\n",
       "      <td>1578039.0</td>\n",
       "      <td>2046647.0</td>\n",
       "    </tr>\n",
       "    <tr>\n",
       "      <th>calculated_liabilities_equity</th>\n",
       "      <td>1868021.0</td>\n",
       "      <td>2009322.0</td>\n",
       "    </tr>\n",
       "    <tr>\n",
       "      <th>asset_quantile</th>\n",
       "      <td>1</td>\n",
       "      <td>2</td>\n",
       "    </tr>\n",
       "    <tr>\n",
       "      <th>financial_leverage</th>\n",
       "      <td>0.810523</td>\n",
       "      <td>0.985222</td>\n",
       "    </tr>\n",
       "    <tr>\n",
       "      <th>financial_leverage_quantile</th>\n",
       "      <td>5.0</td>\n",
       "      <td>9.0</td>\n",
       "    </tr>\n",
       "    <tr>\n",
       "      <th>profitability_ratio</th>\n",
       "      <td>-0.041752</td>\n",
       "      <td>-0.051692</td>\n",
       "    </tr>\n",
       "    <tr>\n",
       "      <th>profitability_ratio_quantile</th>\n",
       "      <td>0.0</td>\n",
       "      <td>0.0</td>\n",
       "    </tr>\n",
       "    <tr>\n",
       "      <th>net_receivables</th>\n",
       "      <td>112205.0</td>\n",
       "      <td>276606.0</td>\n",
       "    </tr>\n",
       "    <tr>\n",
       "      <th>quick_ratio_v1</th>\n",
       "      <td>0.481744</td>\n",
       "      <td>0.536997</td>\n",
       "    </tr>\n",
       "    <tr>\n",
       "      <th>quick_ratio_v2</th>\n",
       "      <td>1.20173</td>\n",
       "      <td>0.748499</td>\n",
       "    </tr>\n",
       "    <tr>\n",
       "      <th>quick_ratio_v2_quantile</th>\n",
       "      <td>7.0</td>\n",
       "      <td>4.0</td>\n",
       "    </tr>\n",
       "    <tr>\n",
       "      <th>cash_assets_ratio</th>\n",
       "      <td>0.00107</td>\n",
       "      <td>0.00257</td>\n",
       "    </tr>\n",
       "    <tr>\n",
       "      <th>cash_assets_ratio_quantile</th>\n",
       "      <td>2.0</td>\n",
       "      <td>3.0</td>\n",
       "    </tr>\n",
       "    <tr>\n",
       "      <th>dscr</th>\n",
       "      <td>0.406302</td>\n",
       "      <td>0.926243</td>\n",
       "    </tr>\n",
       "    <tr>\n",
       "      <th>dscr_quantile</th>\n",
       "      <td>1.0</td>\n",
       "      <td>2.0</td>\n",
       "    </tr>\n",
       "  </tbody>\n",
       "</table>\n",
       "</div>"
      ],
      "text/plain": [
       "                                                17                   18\n",
       "id                                          520288               520288\n",
       "stmt_date                      2011-12-31 00:00:00  2008-12-31 00:00:00\n",
       "HQ_city                                       28.0                 28.0\n",
       "legal_struct                                   SRL                  SRL\n",
       "ateco_sector                                  14.0                 14.0\n",
       "def_date                                       NaT                  NaT\n",
       "fs_year                                       2011                 2008\n",
       "asst_intang_fixed                          67537.0             256438.0\n",
       "asst_tang_fixed                          1137566.0            1181416.0\n",
       "asst_fixed_fin                              1908.0                860.0\n",
       "asst_current                              733496.0             622992.0\n",
       "AR                                        283013.0             387653.0\n",
       "cash_and_equiv                              2083.0               5339.0\n",
       "asst_tot                                 1946940.0            2077346.0\n",
       "eqty_tot                                  289982.0             -37325.0\n",
       "eqty_corp_family_tot                           NaN                  NaN\n",
       "liab_lt                                        0.0                  0.0\n",
       "liab_lt_emp                                77653.0              64832.0\n",
       "debt_bank_st                               24328.0             184518.0\n",
       "debt_bank_lt                              473281.0             548543.0\n",
       "debt_fin_st                                    0.0                  0.0\n",
       "debt_fin_lt                                    0.0                  0.0\n",
       "AP_st                                     170808.0             111047.0\n",
       "AP_lt                                          0.0                  0.0\n",
       "debt_st                                   237238.0             525040.0\n",
       "debt_lt                                  1340801.0            1521607.0\n",
       "rev_operating                             538081.0             967389.0\n",
       "COGS                                      612202.0            1024802.0\n",
       "prof_operations                           -74121.0             -57413.0\n",
       "goodwill                                  157436.0             253845.0\n",
       "inc_financing                              -6529.0             -36531.0\n",
       "exp_financing                              15550.0              49758.0\n",
       "prof_financing                                 0.0                  0.0\n",
       "inc_extraord                                -309.0               -678.0\n",
       "taxes                                     -80959.0             -94622.0\n",
       "profit                                    -81288.0            -107382.0\n",
       "days_rec                                       NaN                  NaN\n",
       "ebitda                                      6318.0              46088.0\n",
       "roa                                          -3.81                -2.76\n",
       "roe                                         -28.03                  NaN\n",
       "wc_net                                    496258.0              97952.0\n",
       "margin_fin                               -917029.0                  NaN\n",
       "cf_operations                               -849.0              -3881.0\n",
       "default                                          0                    0\n",
       "calculated_asst_tot                      1940507.0            2061706.0\n",
       "liab_tot                                 1578039.0            2046647.0\n",
       "calculated_liabilities_equity            1868021.0            2009322.0\n",
       "asset_quantile                                   1                    2\n",
       "financial_leverage                        0.810523             0.985222\n",
       "financial_leverage_quantile                    5.0                  9.0\n",
       "profitability_ratio                      -0.041752            -0.051692\n",
       "profitability_ratio_quantile                   0.0                  0.0\n",
       "net_receivables                           112205.0             276606.0\n",
       "quick_ratio_v1                            0.481744             0.536997\n",
       "quick_ratio_v2                             1.20173             0.748499\n",
       "quick_ratio_v2_quantile                        7.0                  4.0\n",
       "cash_assets_ratio                          0.00107              0.00257\n",
       "cash_assets_ratio_quantile                     2.0                  3.0\n",
       "dscr                                      0.406302             0.926243\n",
       "dscr_quantile                                  1.0                  2.0"
      ]
     },
     "execution_count": 45,
     "metadata": {},
     "output_type": "execute_result"
    }
   ],
   "source": [
    "df.head(2).T"
   ]
  },
  {
   "cell_type": "code",
   "execution_count": 46,
   "id": "ad1ff779-7658-4cde-a40c-0cea005b4eb9",
   "metadata": {},
   "outputs": [],
   "source": [
    "calc_columns = ['default',\n",
    "                'calculated_asst_tot',\n",
    "                'liab_tot',\n",
    "                'calculated_liabilities_equity',\n",
    "                'asset_quantile',\n",
    "                'financial_leverage',\n",
    "                'financial_leverage_quantile',\n",
    "                'profitability_ratio',\n",
    "                'profitability_ratio_quantile',\n",
    "                'net_receivables',\n",
    "                'quick_ratio_v1',\n",
    "                'quick_ratio_v2',\n",
    "                'quick_ratio_v2_quantile',\n",
    "                'cash_assets_ratio',\n",
    "                'cash_assets_ratio_quantile',\n",
    "                'dscr',\n",
    "                'dscr_quantile']"
   ]
  },
  {
   "cell_type": "code",
   "execution_count": 52,
   "id": "f80ac97d-b1ed-4f37-824f-43cd003b74ee",
   "metadata": {},
   "outputs": [],
   "source": [
    "df.sort_values('stmt_date', inplace=True)"
   ]
  },
  {
   "cell_type": "code",
   "execution_count": 60,
   "id": "de97aa72-a1d2-4ffd-b417-eee6d5a06fad",
   "metadata": {},
   "outputs": [],
   "source": [
    "modeling_df = df[calc_columns].copy()"
   ]
  },
  {
   "cell_type": "code",
   "execution_count": 63,
   "id": "7426111b-2cb3-4080-bcae-45eb4335c8c3",
   "metadata": {},
   "outputs": [],
   "source": [
    "train_df = modeling_df.iloc[:int(len(modeling_df)*0.8)]"
   ]
  },
  {
   "cell_type": "code",
   "execution_count": 66,
   "id": "d66ed6da-ddd1-4543-8ed7-466c6c772a3c",
   "metadata": {},
   "outputs": [],
   "source": [
    "test_df = modeling_df[~modeling_df.index.isin(train_df.index)]"
   ]
  },
  {
   "cell_type": "code",
   "execution_count": 68,
   "id": "e61d07b1-f058-4ecb-82f5-c068e98d9aa8",
   "metadata": {},
   "outputs": [],
   "source": [
    "import statsmodels.api as sm\n",
    "import statsmodels.formula.api as smf"
   ]
  },
  {
   "cell_type": "code",
   "execution_count": 74,
   "id": "d85ab3af-5bda-4778-82e2-a629766382f6",
   "metadata": {},
   "outputs": [],
   "source": [
    "feature_list = [\n",
    "                'calculated_asst_tot',\n",
    "                'liab_tot',\n",
    "                'calculated_liabilities_equity',\n",
    "                'asset_quantile',\n",
    "                'financial_leverage',\n",
    "                'financial_leverage_quantile',\n",
    "                'profitability_ratio',\n",
    "                'profitability_ratio_quantile',\n",
    "                'net_receivables',\n",
    "                'quick_ratio_v1',\n",
    "                'quick_ratio_v2',\n",
    "                'quick_ratio_v2_quantile',\n",
    "                'cash_assets_ratio',\n",
    "                'cash_assets_ratio_quantile',\n",
    "                'dscr',\n",
    "                'dscr_quantile']"
   ]
  },
  {
   "cell_type": "code",
   "execution_count": 78,
   "id": "9ee55fd5-d2c2-49ee-ab41-83c09a1b6417",
   "metadata": {},
   "outputs": [
    {
     "data": {
      "text/plain": [
       "'default ~ calculated_asst_tot + liab_tot + calculated_liabilities_equity + asset_quantile + financial_leverage + financial_leverage_quantile + profitability_ratio + profitability_ratio_quantile + net_receivables + quick_ratio_v1 + quick_ratio_v2 + quick_ratio_v2_quantile + cash_assets_ratio + cash_assets_ratio_quantile + dscr + dscr_quantile'"
      ]
     },
     "execution_count": 78,
     "metadata": {},
     "output_type": "execute_result"
    }
   ],
   "source": [
    "formula = 'default ~ '+' + '.join(feature_list)\n",
    "formula"
   ]
  },
  {
   "cell_type": "code",
   "execution_count": 80,
   "id": "2832170b-c200-4d93-96fd-dd7a2aabfe38",
   "metadata": {},
   "outputs": [
    {
     "name": "stdout",
     "output_type": "stream",
     "text": [
      "Optimization terminated successfully.\n",
      "         Current function value: 0.049458\n",
      "         Iterations 14\n",
      "                           Logit Regression Results                           \n",
      "==============================================================================\n",
      "Dep. Variable:                default   No. Observations:               567050\n",
      "Model:                          Logit   Df Residuals:                   567033\n",
      "Method:                           MLE   Df Model:                           16\n",
      "Date:                Wed, 23 Oct 2024   Pseudo R-squ.:                  0.2227\n",
      "Time:                        20:12:13   Log-Likelihood:                -28045.\n",
      "converged:                       True   LL-Null:                       -36082.\n",
      "Covariance Type:            nonrobust   LLR p-value:                     0.000\n",
      "=================================================================================================\n",
      "                                    coef    std err          z      P>|z|      [0.025      0.975]\n",
      "-------------------------------------------------------------------------------------------------\n",
      "Intercept                        -5.0518      0.071    -71.560      0.000      -5.190      -4.913\n",
      "calculated_asst_tot            1.075e-08   2.05e-09      5.248      0.000    6.74e-09    1.48e-08\n",
      "liab_tot                       1.299e-08   2.66e-09      4.882      0.000    7.77e-09    1.82e-08\n",
      "calculated_liabilities_equity -2.811e-08   3.96e-09     -7.091      0.000   -3.59e-08   -2.03e-08\n",
      "asset_quantile                   -0.0043      0.005     -0.849      0.396      -0.014       0.006\n",
      "financial_leverage                0.4249      0.056      7.614      0.000       0.316       0.534\n",
      "financial_leverage_quantile       0.2368      0.008     30.860      0.000       0.222       0.252\n",
      "profitability_ratio              -2.2488      0.063    -35.714      0.000      -2.372      -2.125\n",
      "profitability_ratio_quantile     -0.2752      0.009    -31.885      0.000      -0.292      -0.258\n",
      "net_receivables                1.337e-09   2.94e-09      0.455      0.649   -4.42e-09    7.09e-09\n",
      "quick_ratio_v1                    0.0002      0.004      0.060      0.952      -0.008       0.008\n",
      "quick_ratio_v2                   -0.2315      0.085     -2.739      0.006      -0.397      -0.066\n",
      "quick_ratio_v2_quantile           0.0806      0.019      4.263      0.000       0.044       0.118\n",
      "cash_assets_ratio                 1.1545      0.195      5.928      0.000       0.773       1.536\n",
      "cash_assets_ratio_quantile       -0.0333      0.006     -5.337      0.000      -0.045      -0.021\n",
      "dscr                           1.033e-07   2.87e-08      3.605      0.000    4.71e-08    1.59e-07\n",
      "dscr_quantile                    -0.1399      0.008    -16.745      0.000      -0.156      -0.124\n",
      "=================================================================================================\n"
     ]
    }
   ],
   "source": [
    "model = smf.logit(formula, data = train_df) \n",
    "logit_model_sm = model.fit()\n",
    "print(logit_model_sm.summary())"
   ]
  },
  {
   "cell_type": "code",
   "execution_count": 85,
   "id": "48646f0c-5d5b-45ff-8b35-c3c0b1c398b5",
   "metadata": {},
   "outputs": [
    {
     "data": {
      "text/html": [
       "<div>\n",
       "<style scoped>\n",
       "    .dataframe tbody tr th:only-of-type {\n",
       "        vertical-align: middle;\n",
       "    }\n",
       "\n",
       "    .dataframe tbody tr th {\n",
       "        vertical-align: top;\n",
       "    }\n",
       "\n",
       "    .dataframe thead th {\n",
       "        text-align: right;\n",
       "    }\n",
       "</style>\n",
       "<table border=\"1\" class=\"dataframe\">\n",
       "  <thead>\n",
       "    <tr style=\"text-align: right;\">\n",
       "      <th></th>\n",
       "      <th>default</th>\n",
       "      <th>predicted_probability</th>\n",
       "    </tr>\n",
       "  </thead>\n",
       "  <tbody>\n",
       "    <tr>\n",
       "      <th>2685479</th>\n",
       "      <td>0</td>\n",
       "      <td>0.000981</td>\n",
       "    </tr>\n",
       "    <tr>\n",
       "      <th>2275745</th>\n",
       "      <td>0</td>\n",
       "      <td>NaN</td>\n",
       "    </tr>\n",
       "    <tr>\n",
       "      <th>2249020</th>\n",
       "      <td>0</td>\n",
       "      <td>0.030974</td>\n",
       "    </tr>\n",
       "    <tr>\n",
       "      <th>2685422</th>\n",
       "      <td>0</td>\n",
       "      <td>0.016998</td>\n",
       "    </tr>\n",
       "    <tr>\n",
       "      <th>2658976</th>\n",
       "      <td>0</td>\n",
       "      <td>0.006691</td>\n",
       "    </tr>\n",
       "  </tbody>\n",
       "</table>\n",
       "</div>"
      ],
      "text/plain": [
       "         default  predicted_probability\n",
       "2685479        0               0.000981\n",
       "2275745        0                    NaN\n",
       "2249020        0               0.030974\n",
       "2685422        0               0.016998\n",
       "2658976        0               0.006691"
      ]
     },
     "execution_count": 85,
     "metadata": {},
     "output_type": "execute_result"
    }
   ],
   "source": [
    "predictions = test_df[['default']].copy()\n",
    "predictions['predicted_probability'] = logit_model_sm.predict(test_df)\n",
    "# predictions.dropna(inplace=True)\n",
    "predictions.head()"
   ]
  },
  {
   "cell_type": "code",
   "execution_count": 87,
   "id": "17b46144-3d1a-4bbc-98a5-49ccf65af08b",
   "metadata": {},
   "outputs": [
    {
     "data": {
      "text/plain": [
       "default                  0.000000\n",
       "predicted_probability    0.283737\n",
       "dtype: float64"
      ]
     },
     "execution_count": 87,
     "metadata": {},
     "output_type": "execute_result"
    }
   ],
   "source": [
    "predictions.isna().mean()"
   ]
  },
  {
   "cell_type": "code",
   "execution_count": 82,
   "id": "528fba2f-3055-4b8b-91e6-3d0b29093d59",
   "metadata": {},
   "outputs": [],
   "source": [
    "from sklearn.metrics import roc_auc_score"
   ]
  },
  {
   "cell_type": "code",
   "execution_count": 83,
   "id": "d0db62f5-051a-4ff9-97f1-923dbce3dc47",
   "metadata": {},
   "outputs": [
    {
     "data": {
      "text/plain": [
       "np.float64(0.8683453237723993)"
      ]
     },
     "execution_count": 83,
     "metadata": {},
     "output_type": "execute_result"
    }
   ],
   "source": [
    "roc_auc_score(y_score=predictions['predicted_probability'], y_true=predictions['default'])"
   ]
  },
  {
   "cell_type": "code",
   "execution_count": 91,
   "id": "c579a40b-4214-4164-9d75-5e2f9ba26f05",
   "metadata": {},
   "outputs": [],
   "source": [
    "import seaborn as sns\n",
    "sns.set()"
   ]
  },
  {
   "cell_type": "code",
   "execution_count": 94,
   "id": "8593344f-b887-4727-950d-bdf9984d48f8",
   "metadata": {},
   "outputs": [
    {
     "data": {
      "text/plain": [
       "<Axes: xlabel='predicted_probability', ylabel='Count'>"
      ]
     },
     "execution_count": 94,
     "metadata": {},
     "output_type": "execute_result"
    },
    {
     "data": {
      "image/png": "[encoded data removed]",
      "text/plain": [
       "<Figure size 640x480 with 1 Axes>"
      ]
     },
     "metadata": {},
     "output_type": "display_data"
    }
   ],
   "source": [
    "sns.histplot(predictions['predicted_probability'])"
   ]
  },
  {
   "cell_type": "markdown",
   "id": "3de44d48-a693-4105-870c-9e7596982cd5",
   "metadata": {},
   "source": [
    "### company balance sheets"
   ]
  },
  {
   "cell_type": "code",
   "execution_count": 98,
   "id": "520bce59-85f2-42d5-bdae-ea12dff73a63",
   "metadata": {},
   "outputs": [
    {
     "data": {
      "text/html": [
       "<div>\n",
       "<style scoped>\n",
       "    .dataframe tbody tr th:only-of-type {\n",
       "        vertical-align: middle;\n",
       "    }\n",
       "\n",
       "    .dataframe tbody tr th {\n",
       "        vertical-align: top;\n",
       "    }\n",
       "\n",
       "    .dataframe thead th {\n",
       "        text-align: right;\n",
       "    }\n",
       "</style>\n",
       "<table border=\"1\" class=\"dataframe\">\n",
       "  <thead>\n",
       "    <tr style=\"text-align: right;\">\n",
       "      <th></th>\n",
       "      <th>id</th>\n",
       "      <th>stmt_date</th>\n",
       "      <th>HQ_city</th>\n",
       "      <th>legal_struct</th>\n",
       "      <th>ateco_sector</th>\n",
       "      <th>def_date</th>\n",
       "      <th>fs_year</th>\n",
       "      <th>asst_intang_fixed</th>\n",
       "      <th>asst_tang_fixed</th>\n",
       "      <th>asst_fixed_fin</th>\n",
       "      <th>...</th>\n",
       "      <th>inc_extraord</th>\n",
       "      <th>taxes</th>\n",
       "      <th>profit</th>\n",
       "      <th>days_rec</th>\n",
       "      <th>ebitda</th>\n",
       "      <th>roa</th>\n",
       "      <th>roe</th>\n",
       "      <th>wc_net</th>\n",
       "      <th>margin_fin</th>\n",
       "      <th>cf_operations</th>\n",
       "    </tr>\n",
       "  </thead>\n",
       "  <tbody>\n",
       "    <tr>\n",
       "      <th>17</th>\n",
       "      <td>520288</td>\n",
       "      <td>2011-12-31</td>\n",
       "      <td>28.0</td>\n",
       "      <td>SRL</td>\n",
       "      <td>14.0</td>\n",
       "      <td>NaT</td>\n",
       "      <td>2011</td>\n",
       "      <td>67537.0</td>\n",
       "      <td>1137566.0</td>\n",
       "      <td>1908.0</td>\n",
       "      <td>...</td>\n",
       "      <td>-309.0</td>\n",
       "      <td>-80959.0</td>\n",
       "      <td>-81288.0</td>\n",
       "      <td>NaN</td>\n",
       "      <td>6318.0</td>\n",
       "      <td>-3.81</td>\n",
       "      <td>-28.03</td>\n",
       "      <td>496258.0</td>\n",
       "      <td>-917029.0</td>\n",
       "      <td>-849.0</td>\n",
       "    </tr>\n",
       "    <tr>\n",
       "      <th>18</th>\n",
       "      <td>520288</td>\n",
       "      <td>2008-12-31</td>\n",
       "      <td>28.0</td>\n",
       "      <td>SRL</td>\n",
       "      <td>14.0</td>\n",
       "      <td>NaT</td>\n",
       "      <td>2008</td>\n",
       "      <td>256438.0</td>\n",
       "      <td>1181416.0</td>\n",
       "      <td>860.0</td>\n",
       "      <td>...</td>\n",
       "      <td>-678.0</td>\n",
       "      <td>-94622.0</td>\n",
       "      <td>-107382.0</td>\n",
       "      <td>NaN</td>\n",
       "      <td>46088.0</td>\n",
       "      <td>-2.76</td>\n",
       "      <td>NaN</td>\n",
       "      <td>97952.0</td>\n",
       "      <td>NaN</td>\n",
       "      <td>-3881.0</td>\n",
       "    </tr>\n",
       "    <tr>\n",
       "      <th>19</th>\n",
       "      <td>520288</td>\n",
       "      <td>2009-12-31</td>\n",
       "      <td>28.0</td>\n",
       "      <td>SRL</td>\n",
       "      <td>14.0</td>\n",
       "      <td>NaT</td>\n",
       "      <td>2009</td>\n",
       "      <td>194046.0</td>\n",
       "      <td>1152014.0</td>\n",
       "      <td>860.0</td>\n",
       "      <td>...</td>\n",
       "      <td>4224.0</td>\n",
       "      <td>-74235.0</td>\n",
       "      <td>-77819.0</td>\n",
       "      <td>NaN</td>\n",
       "      <td>67611.0</td>\n",
       "      <td>-2.17</td>\n",
       "      <td>NaN</td>\n",
       "      <td>-210671.0</td>\n",
       "      <td>NaN</td>\n",
       "      <td>32618.0</td>\n",
       "    </tr>\n",
       "    <tr>\n",
       "      <th>21</th>\n",
       "      <td>520288</td>\n",
       "      <td>2012-12-31</td>\n",
       "      <td>28.0</td>\n",
       "      <td>SRL</td>\n",
       "      <td>14.0</td>\n",
       "      <td>NaT</td>\n",
       "      <td>2012</td>\n",
       "      <td>15195.0</td>\n",
       "      <td>1116938.0</td>\n",
       "      <td>2023.0</td>\n",
       "      <td>...</td>\n",
       "      <td>3634.0</td>\n",
       "      <td>-250786.0</td>\n",
       "      <td>-250786.0</td>\n",
       "      <td>NaN</td>\n",
       "      <td>-161478.0</td>\n",
       "      <td>-12.99</td>\n",
       "      <td>NaN</td>\n",
       "      <td>367892.0</td>\n",
       "      <td>-1094962.0</td>\n",
       "      <td>-168907.0</td>\n",
       "    </tr>\n",
       "    <tr>\n",
       "      <th>22</th>\n",
       "      <td>520288</td>\n",
       "      <td>2007-12-31</td>\n",
       "      <td>28.0</td>\n",
       "      <td>SRL</td>\n",
       "      <td>14.0</td>\n",
       "      <td>NaT</td>\n",
       "      <td>2007</td>\n",
       "      <td>126603.0</td>\n",
       "      <td>1127807.0</td>\n",
       "      <td>620.0</td>\n",
       "      <td>...</td>\n",
       "      <td>820.0</td>\n",
       "      <td>92192.0</td>\n",
       "      <td>36733.0</td>\n",
       "      <td>NaN</td>\n",
       "      <td>153060.0</td>\n",
       "      <td>6.20</td>\n",
       "      <td>52.43</td>\n",
       "      <td>-317007.0</td>\n",
       "      <td>-1184970.0</td>\n",
       "      <td>80039.0</td>\n",
       "    </tr>\n",
       "  </tbody>\n",
       "</table>\n",
       "<p>5 rows × 43 columns</p>\n",
       "</div>"
      ],
      "text/plain": [
       "        id   stmt_date  HQ_city legal_struct  ateco_sector def_date  fs_year  \\\n",
       "17  520288  2011-12-31     28.0          SRL          14.0      NaT     2011   \n",
       "18  520288  2008-12-31     28.0          SRL          14.0      NaT     2008   \n",
       "19  520288  2009-12-31     28.0          SRL          14.0      NaT     2009   \n",
       "21  520288  2012-12-31     28.0          SRL          14.0      NaT     2012   \n",
       "22  520288  2007-12-31     28.0          SRL          14.0      NaT     2007   \n",
       "\n",
       "    asst_intang_fixed  asst_tang_fixed  asst_fixed_fin  ...  inc_extraord  \\\n",
       "17            67537.0        1137566.0          1908.0  ...        -309.0   \n",
       "18           256438.0        1181416.0           860.0  ...        -678.0   \n",
       "19           194046.0        1152014.0           860.0  ...        4224.0   \n",
       "21            15195.0        1116938.0          2023.0  ...        3634.0   \n",
       "22           126603.0        1127807.0           620.0  ...         820.0   \n",
       "\n",
       "       taxes    profit  days_rec    ebitda    roa    roe    wc_net  \\\n",
       "17  -80959.0  -81288.0       NaN    6318.0  -3.81 -28.03  496258.0   \n",
       "18  -94622.0 -107382.0       NaN   46088.0  -2.76    NaN   97952.0   \n",
       "19  -74235.0  -77819.0       NaN   67611.0  -2.17    NaN -210671.0   \n",
       "21 -250786.0 -250786.0       NaN -161478.0 -12.99    NaN  367892.0   \n",
       "22   92192.0   36733.0       NaN  153060.0   6.20  52.43 -317007.0   \n",
       "\n",
       "    margin_fin  cf_operations  \n",
       "17   -917029.0         -849.0  \n",
       "18         NaN        -3881.0  \n",
       "19         NaN        32618.0  \n",
       "21  -1094962.0      -168907.0  \n",
       "22  -1184970.0        80039.0  \n",
       "\n",
       "[5 rows x 43 columns]"
      ]
     },
     "execution_count": 98,
     "metadata": {},
     "output_type": "execute_result"
    }
   ],
   "source": [
    "file_path = 'train.csv'  \n",
    "new_df = pd.read_csv(file_path, index_col=0)\n",
    "new_df.head()"
   ]
  },
  {
   "cell_type": "code",
   "execution_count": null,
   "id": "1fc8b95c-57ea-474b-b58a-8e396fafa3e1",
   "metadata": {},
   "outputs": [],
   "source": []
  },
  {
   "cell_type": "code",
   "execution_count": 208,
   "id": "47f4063b-7c5c-49d1-ad1c-7141dfc42bb3",
   "metadata": {},
   "outputs": [],
   "source": [
    "left_side_balance = [\n",
    "    'asst_intang_fixed',\n",
    "    'asst_tang_fixed',\n",
    "    'asst_fixed_fin',\n",
    "    'asst_current',\n",
    "    'AR',\n",
    "    'cash_and_equiv',\n",
    "    'asst_tot',\n",
    "    'goodwill'\n",
    "]"
   ]
  },
  {
   "cell_type": "code",
   "execution_count": null,
   "id": "c1b6a3ba-62a4-44a1-adc9-11934e4f017d",
   "metadata": {},
   "outputs": [],
   "source": []
  },
  {
   "cell_type": "code",
   "execution_count": 183,
   "id": "2248df9b-3033-4140-bc68-0375687f6840",
   "metadata": {},
   "outputs": [],
   "source": [
    "right_side_balance = [\n",
    "    'liab_lt',\n",
    "    'liab_lt_emp', \n",
    "    'debt_bank_st',\n",
    "    'debt_bank_lt',\n",
    "    'debt_fin_st',\n",
    "    'debt_fin_lt',\n",
    "    'AP_st',\n",
    "    'AP_lt',\n",
    "    'debt_st',\n",
    "    'debt_lt',\n",
    "    'eqty_tot',\n",
    "    'eqty_corp_family_tot',\n",
    "]"
   ]
  },
  {
   "cell_type": "code",
   "execution_count": 168,
   "id": "5ceb86e0-8807-485c-9ea6-164f7a94054a",
   "metadata": {},
   "outputs": [],
   "source": [
    "good_example = new_df.loc[[786008]]"
   ]
  },
  {
   "cell_type": "code",
   "execution_count": 169,
   "id": "b4355bf4-3cea-450b-aa2b-0764c072664b",
   "metadata": {},
   "outputs": [
    {
     "data": {
      "text/plain": [
       "786008    2320949.0\n",
       "Name: asst_tot, dtype: float64"
      ]
     },
     "execution_count": 169,
     "metadata": {},
     "output_type": "execute_result"
    }
   ],
   "source": [
    "good_example['asst_tot'] "
   ]
  },
  {
   "cell_type": "code",
   "execution_count": 170,
   "id": "63373fc9-5f60-47e2-9dbe-a0c8297d74cf",
   "metadata": {},
   "outputs": [
    {
     "data": {
      "text/plain": [
       "786008    2320949.0\n",
       "dtype: float64"
      ]
     },
     "execution_count": 170,
     "metadata": {},
     "output_type": "execute_result"
    }
   ],
   "source": [
    "good_example[['asst_intang_fixed',\n",
    "    'asst_tang_fixed',\n",
    "    'asst_fixed_fin',\n",
    "    # 'asst_current',\n",
    "    'AR',\n",
    "    'cash_and_equiv',]].sum(axis=1)"
   ]
  },
  {
   "cell_type": "code",
   "execution_count": null,
   "id": "39c056a1-c9cb-478a-a846-49ddfe44a61f",
   "metadata": {},
   "outputs": [],
   "source": []
  },
  {
   "cell_type": "code",
   "execution_count": 209,
   "id": "083de3f9-69ee-4f86-8da7-0eca599051d7",
   "metadata": {},
   "outputs": [],
   "source": [
    "asset_cols = ['asst_intang_fixed',\n",
    "    'asst_tang_fixed',\n",
    "    'asst_fixed_fin',\n",
    "    'AR',\n",
    "    'cash_and_equiv',\n",
    "             'goodwill']\n",
    "\n",
    "# must be equal to 'asst_tot'"
   ]
  },
  {
   "cell_type": "code",
   "execution_count": 210,
   "id": "8caa0edb-8a6b-4cbb-ab4d-5158f77fa398",
   "metadata": {},
   "outputs": [
    {
     "data": {
      "text/plain": [
       "786008    2376869.0\n",
       "dtype: float64"
      ]
     },
     "execution_count": 210,
     "metadata": {},
     "output_type": "execute_result"
    }
   ],
   "source": [
    "### left side total\n",
    "\n",
    "ex_left_total = good_example[asset_cols].sum(axis=1)\n",
    "ex_left_total"
   ]
  },
  {
   "cell_type": "code",
   "execution_count": 211,
   "id": "5f7d979a-0b86-4ee0-a3c6-16b68bd18860",
   "metadata": {},
   "outputs": [],
   "source": [
    "### right side"
   ]
  },
  {
   "cell_type": "code",
   "execution_count": 221,
   "id": "afce8ca8-84e2-4c68-b1f9-9f455e146b0d",
   "metadata": {},
   "outputs": [
    {
     "data": {
      "text/plain": [
       "786008    2252557.0\n",
       "dtype: float64"
      ]
     },
     "execution_count": 221,
     "metadata": {},
     "output_type": "execute_result"
    }
   ],
   "source": [
    "ex_right_total = good_example[['liab_lt',\n",
    "    'liab_lt_emp', \n",
    "    'debt_bank_st',\n",
    "    'debt_bank_lt',\n",
    "    'debt_fin_st',\n",
    "    'debt_fin_lt',\n",
    "    'AP_st',\n",
    "    'AP_lt',\n",
    "    \n",
    "    'eqty_tot',\n",
    "    'eqty_corp_family_tot',\n",
    "                               # 'debt_st',\n",
    "    # 'debt_lt',\n",
    "             ]].sum(axis=1)\n",
    "ex_right_total"
   ]
  },
  {
   "cell_type": "code",
   "execution_count": 222,
   "id": "a25e6e48-6bf8-401b-ab03-6c32fac50ac4",
   "metadata": {},
   "outputs": [
    {
     "data": {
      "text/plain": [
       "786008    124312.0\n",
       "dtype: float64"
      ]
     },
     "execution_count": 222,
     "metadata": {},
     "output_type": "execute_result"
    }
   ],
   "source": [
    "ex_left_total-ex_right_total"
   ]
  },
  {
   "cell_type": "code",
   "execution_count": 223,
   "id": "41498f9c-5caf-45a4-91a8-9c3471f8e417",
   "metadata": {},
   "outputs": [
    {
     "data": {
      "text/plain": [
       "786008    2056353.0\n",
       "Name: debt_st, dtype: float64"
      ]
     },
     "execution_count": 223,
     "metadata": {},
     "output_type": "execute_result"
    }
   ],
   "source": [
    "good_example['debt_st']"
   ]
  },
  {
   "cell_type": "code",
   "execution_count": 224,
   "id": "ef618930-3acb-49ae-a047-24e36a42c872",
   "metadata": {},
   "outputs": [
    {
     "data": {
      "text/plain": [
       "786008    1997564.0\n",
       "dtype: float64"
      ]
     },
     "execution_count": 224,
     "metadata": {},
     "output_type": "execute_result"
    }
   ],
   "source": [
    "good_example[['debt_bank_st','debt_fin_st','AP_st']].sum(axis=1)"
   ]
  },
  {
   "cell_type": "code",
   "execution_count": 228,
   "id": "2fa1e7c2-79a8-4c09-9e9d-80b093cee0fc",
   "metadata": {},
   "outputs": [
    {
     "data": {
      "text/plain": [
       "58789.0"
      ]
     },
     "execution_count": 228,
     "metadata": {},
     "output_type": "execute_result"
    }
   ],
   "source": [
    "2056353.0-1997564.0"
   ]
  },
  {
   "cell_type": "code",
   "execution_count": 225,
   "id": "291e3220-df29-472f-a6a8-3349d88b2ee3",
   "metadata": {},
   "outputs": [
    {
     "data": {
      "text/plain": [
       "786008    136961.0\n",
       "dtype: float64"
      ]
     },
     "execution_count": 225,
     "metadata": {},
     "output_type": "execute_result"
    }
   ],
   "source": [
    "good_example[['debt_bank_lt','debt_fin_lt','AP_lt']].sum(axis=1)"
   ]
  },
  {
   "cell_type": "code",
   "execution_count": 226,
   "id": "39059c95-c40a-449c-871c-a700f750a557",
   "metadata": {},
   "outputs": [
    {
     "data": {
      "text/plain": [
       "786008    136961.0\n",
       "Name: debt_lt, dtype: float64"
      ]
     },
     "execution_count": 226,
     "metadata": {},
     "output_type": "execute_result"
    }
   ],
   "source": [
    "good_example['debt_lt']"
   ]
  },
  {
   "cell_type": "code",
   "execution_count": 184,
   "id": "6c4304e3-f046-494e-bc98-0621bd22c159",
   "metadata": {},
   "outputs": [
    {
     "data": {
      "text/html": [
       "<div>\n",
       "<style scoped>\n",
       "    .dataframe tbody tr th:only-of-type {\n",
       "        vertical-align: middle;\n",
       "    }\n",
       "\n",
       "    .dataframe tbody tr th {\n",
       "        vertical-align: top;\n",
       "    }\n",
       "\n",
       "    .dataframe thead th {\n",
       "        text-align: right;\n",
       "    }\n",
       "</style>\n",
       "<table border=\"1\" class=\"dataframe\">\n",
       "  <thead>\n",
       "    <tr style=\"text-align: right;\">\n",
       "      <th></th>\n",
       "      <th>liab_lt</th>\n",
       "      <th>liab_lt_emp</th>\n",
       "      <th>debt_bank_st</th>\n",
       "      <th>debt_bank_lt</th>\n",
       "      <th>debt_fin_st</th>\n",
       "      <th>debt_fin_lt</th>\n",
       "      <th>AP_st</th>\n",
       "      <th>AP_lt</th>\n",
       "      <th>debt_st</th>\n",
       "      <th>debt_lt</th>\n",
       "      <th>eqty_tot</th>\n",
       "      <th>eqty_corp_family_tot</th>\n",
       "    </tr>\n",
       "  </thead>\n",
       "  <tbody>\n",
       "    <tr>\n",
       "      <th>786008</th>\n",
       "      <td>0.0</td>\n",
       "      <td>0.0</td>\n",
       "      <td>1720233.0</td>\n",
       "      <td>136961.0</td>\n",
       "      <td>0.0</td>\n",
       "      <td>0.0</td>\n",
       "      <td>277331.0</td>\n",
       "      <td>0.0</td>\n",
       "      <td>2056353.0</td>\n",
       "      <td>136961.0</td>\n",
       "      <td>118032.0</td>\n",
       "      <td>NaN</td>\n",
       "    </tr>\n",
       "  </tbody>\n",
       "</table>\n",
       "</div>"
      ],
      "text/plain": [
       "        liab_lt  liab_lt_emp  debt_bank_st  debt_bank_lt  debt_fin_st  \\\n",
       "786008      0.0          0.0     1720233.0      136961.0          0.0   \n",
       "\n",
       "        debt_fin_lt     AP_st  AP_lt    debt_st   debt_lt  eqty_tot  \\\n",
       "786008          0.0  277331.0    0.0  2056353.0  136961.0  118032.0   \n",
       "\n",
       "        eqty_corp_family_tot  \n",
       "786008                   NaN  "
      ]
     },
     "execution_count": 184,
     "metadata": {},
     "output_type": "execute_result"
    }
   ],
   "source": [
    "good_example[right_side_balance]"
   ]
  },
  {
   "cell_type": "code",
   "execution_count": 186,
   "id": "4acb6781-13b2-4849-84b4-4d5b64609d2d",
   "metadata": {},
   "outputs": [
    {
     "data": {
      "text/html": [
       "<div>\n",
       "<style scoped>\n",
       "    .dataframe tbody tr th:only-of-type {\n",
       "        vertical-align: middle;\n",
       "    }\n",
       "\n",
       "    .dataframe tbody tr th {\n",
       "        vertical-align: top;\n",
       "    }\n",
       "\n",
       "    .dataframe thead th {\n",
       "        text-align: right;\n",
       "    }\n",
       "</style>\n",
       "<table border=\"1\" class=\"dataframe\">\n",
       "  <thead>\n",
       "    <tr style=\"text-align: right;\">\n",
       "      <th></th>\n",
       "      <th>asst_intang_fixed</th>\n",
       "      <th>asst_tang_fixed</th>\n",
       "      <th>asst_fixed_fin</th>\n",
       "      <th>asst_current</th>\n",
       "      <th>AR</th>\n",
       "      <th>cash_and_equiv</th>\n",
       "      <th>asst_tot</th>\n",
       "    </tr>\n",
       "  </thead>\n",
       "  <tbody>\n",
       "    <tr>\n",
       "      <th>786008</th>\n",
       "      <td>3849.0</td>\n",
       "      <td>92253.0</td>\n",
       "      <td>43170.0</td>\n",
       "      <td>2181677.0</td>\n",
       "      <td>2180436.0</td>\n",
       "      <td>1241.0</td>\n",
       "      <td>2320949.0</td>\n",
       "    </tr>\n",
       "  </tbody>\n",
       "</table>\n",
       "</div>"
      ],
      "text/plain": [
       "        asst_intang_fixed  asst_tang_fixed  asst_fixed_fin  asst_current  \\\n",
       "786008             3849.0          92253.0         43170.0     2181677.0   \n",
       "\n",
       "               AR  cash_and_equiv   asst_tot  \n",
       "786008  2180436.0          1241.0  2320949.0  "
      ]
     },
     "execution_count": 186,
     "metadata": {},
     "output_type": "execute_result"
    }
   ],
   "source": [
    "good_example[left_side_balance]"
   ]
  },
  {
   "cell_type": "code",
   "execution_count": 251,
   "id": "3a495616-3ea0-4b27-8a3a-460fe8bdf1dc",
   "metadata": {},
   "outputs": [
    {
     "data": {
      "text/plain": [
       "786008    2470645.0\n",
       "dtype: float64"
      ]
     },
     "execution_count": 251,
     "metadata": {},
     "output_type": "execute_result"
    }
   ],
   "source": [
    "good_example[['debt_lt','debt_st','AP_lt','AP_st']].sum(axis=1)"
   ]
  },
  {
   "cell_type": "code",
   "execution_count": 252,
   "id": "9183efd7-2bf3-4c0b-8564-016a5a9a5de6",
   "metadata": {},
   "outputs": [
    {
     "data": {
      "text/plain": [
       "786008    2320949.0\n",
       "dtype: float64"
      ]
     },
     "execution_count": 252,
     "metadata": {},
     "output_type": "execute_result"
    }
   ],
   "source": [
    "good_example[['asst_tot']].sum(axis=1)"
   ]
  },
  {
   "cell_type": "code",
   "execution_count": 246,
   "id": "a5971c0c-04f9-4d0f-a086-ea094f9e5f34",
   "metadata": {
    "scrolled": true
   },
   "outputs": [
    {
     "data": {
      "text/html": [
       "<div>\n",
       "<style scoped>\n",
       "    .dataframe tbody tr th:only-of-type {\n",
       "        vertical-align: middle;\n",
       "    }\n",
       "\n",
       "    .dataframe tbody tr th {\n",
       "        vertical-align: top;\n",
       "    }\n",
       "\n",
       "    .dataframe thead th {\n",
       "        text-align: right;\n",
       "    }\n",
       "</style>\n",
       "<table border=\"1\" class=\"dataframe\">\n",
       "  <thead>\n",
       "    <tr style=\"text-align: right;\">\n",
       "      <th></th>\n",
       "      <th>786008</th>\n",
       "    </tr>\n",
       "  </thead>\n",
       "  <tbody>\n",
       "    <tr>\n",
       "      <th>HQ_city</th>\n",
       "      <td>15.00</td>\n",
       "    </tr>\n",
       "    <tr>\n",
       "      <th>ateco_sector</th>\n",
       "      <td>68.00</td>\n",
       "    </tr>\n",
       "    <tr>\n",
       "      <th>fs_year</th>\n",
       "      <td>2009.00</td>\n",
       "    </tr>\n",
       "    <tr>\n",
       "      <th>asst_intang_fixed</th>\n",
       "      <td>3849.00</td>\n",
       "    </tr>\n",
       "    <tr>\n",
       "      <th>asst_fixed_fin</th>\n",
       "      <td>43170.00</td>\n",
       "    </tr>\n",
       "    <tr>\n",
       "      <th>cash_and_equiv</th>\n",
       "      <td>1241.00</td>\n",
       "    </tr>\n",
       "    <tr>\n",
       "      <th>liab_lt</th>\n",
       "      <td>0.00</td>\n",
       "    </tr>\n",
       "    <tr>\n",
       "      <th>liab_lt_emp</th>\n",
       "      <td>0.00</td>\n",
       "    </tr>\n",
       "    <tr>\n",
       "      <th>debt_fin_st</th>\n",
       "      <td>0.00</td>\n",
       "    </tr>\n",
       "    <tr>\n",
       "      <th>debt_fin_lt</th>\n",
       "      <td>0.00</td>\n",
       "    </tr>\n",
       "    <tr>\n",
       "      <th>AP_lt</th>\n",
       "      <td>0.00</td>\n",
       "    </tr>\n",
       "    <tr>\n",
       "      <th>prof_operations</th>\n",
       "      <td>51330.00</td>\n",
       "    </tr>\n",
       "    <tr>\n",
       "      <th>goodwill</th>\n",
       "      <td>55920.00</td>\n",
       "    </tr>\n",
       "    <tr>\n",
       "      <th>inc_financing</th>\n",
       "      <td>24138.00</td>\n",
       "    </tr>\n",
       "    <tr>\n",
       "      <th>prof_financing</th>\n",
       "      <td>0.00</td>\n",
       "    </tr>\n",
       "    <tr>\n",
       "      <th>inc_extraord</th>\n",
       "      <td>-68090.00</td>\n",
       "    </tr>\n",
       "    <tr>\n",
       "      <th>taxes</th>\n",
       "      <td>7378.00</td>\n",
       "    </tr>\n",
       "    <tr>\n",
       "      <th>profit</th>\n",
       "      <td>5574.00</td>\n",
       "    </tr>\n",
       "    <tr>\n",
       "      <th>days_rec</th>\n",
       "      <td>1029.87</td>\n",
       "    </tr>\n",
       "    <tr>\n",
       "      <th>ebitda</th>\n",
       "      <td>55813.00</td>\n",
       "    </tr>\n",
       "    <tr>\n",
       "      <th>roa</th>\n",
       "      <td>2.21</td>\n",
       "    </tr>\n",
       "    <tr>\n",
       "      <th>roe</th>\n",
       "      <td>4.72</td>\n",
       "    </tr>\n",
       "    <tr>\n",
       "      <th>margin_fin</th>\n",
       "      <td>-21240.00</td>\n",
       "    </tr>\n",
       "    <tr>\n",
       "      <th>cf_operations</th>\n",
       "      <td>10057.00</td>\n",
       "    </tr>\n",
       "  </tbody>\n",
       "</table>\n",
       "</div>"
      ],
      "text/plain": [
       "                     786008\n",
       "HQ_city               15.00\n",
       "ateco_sector          68.00\n",
       "fs_year             2009.00\n",
       "asst_intang_fixed   3849.00\n",
       "asst_fixed_fin     43170.00\n",
       "cash_and_equiv      1241.00\n",
       "liab_lt                0.00\n",
       "liab_lt_emp            0.00\n",
       "debt_fin_st            0.00\n",
       "debt_fin_lt            0.00\n",
       "AP_lt                  0.00\n",
       "prof_operations    51330.00\n",
       "goodwill           55920.00\n",
       "inc_financing      24138.00\n",
       "prof_financing         0.00\n",
       "inc_extraord      -68090.00\n",
       "taxes               7378.00\n",
       "profit              5574.00\n",
       "days_rec            1029.87\n",
       "ebitda             55813.00\n",
       "roa                    2.21\n",
       "roe                    4.72\n",
       "margin_fin        -21240.00\n",
       "cf_operations      10057.00"
      ]
     },
     "execution_count": 246,
     "metadata": {},
     "output_type": "execute_result"
    }
   ],
   "source": [
    "good_example[good_example.select_dtypes(['int','float']).columns[(good_example.select_dtypes(['int','float']) <= 58789.0).values[0]]].T"
   ]
  }
 ],
 "metadata": {
  "kernelspec": {
   "display_name": "Python 3 (ipykernel)",
   "language": "python",
   "name": "python3"
  },
  "language_info": {
   "codemirror_mode": {
    "name": "ipython",
    "version": 3
   },
   "file_extension": ".py",
   "mimetype": "text/x-python",
   "name": "python",
   "nbconvert_exporter": "python",
   "pygments_lexer": "ipython3",
   "version": "3.12.1"
  }
 },
 "nbformat": 4,
 "nbformat_minor": 5
}
