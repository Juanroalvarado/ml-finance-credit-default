{
 "cells": [
  {
   "cell_type": "code",
   "execution_count": 1,
   "id": "873f1c68-76d7-43aa-bd3f-43c37fb164a3",
   "metadata": {},
   "outputs": [],
   "source": [
    "import pandas as pd"
   ]
  },
  {
   "cell_type": "code",
   "execution_count": 7,
   "id": "3179b2d5-be3f-47ca-93c8-89879098b43a",
   "metadata": {},
   "outputs": [
    {
     "data": {
      "text/plain": [
       "(1023552, 43)"
      ]
     },
     "execution_count": 7,
     "metadata": {},
     "output_type": "execute_result"
    }
   ],
   "source": [
    "df = pd.read_csv('./data/train.csv', index_col=0)\n",
    "df.shape"
   ]
  },
  {
   "cell_type": "code",
   "execution_count": 8,
   "id": "a7dc4069-99ac-4746-8d85-8bc7729ab051",
   "metadata": {},
   "outputs": [
    {
     "name": "stderr",
     "output_type": "stream",
     "text": [
      "/var/folders/kj/yvh7dv5569ggqx7tcy8crpp00000gn/T/ipykernel_58963/1789251812.py:2: UserWarning: Parsing dates in %d/%m/%Y format when dayfirst=False (the default) was specified. Pass `dayfirst=True` or specify a format to silence this warning.\n",
      "  df['def_date'] = pd.to_datetime(df['def_date'])\n"
     ]
    }
   ],
   "source": [
    "df['stmt_date'] = pd.to_datetime(df['stmt_date'])\n",
    "df['def_date'] = pd.to_datetime(df['def_date'])\n",
    "\n",
    "# Calculate 1 year after stmt_date\n",
    "one_year_after = df['stmt_date'] + pd.DateOffset(years=1)\n",
    "# Define default if def_date is between stmt_date and one_year_after\n",
    "df['default'] = ((df['def_date'] >= df['stmt_date']) & (df['def_date'] <= one_year_after)).astype(int)"
   ]
  },
  {
   "cell_type": "code",
   "execution_count": 23,
   "id": "5fb2d6d2-3222-4c28-8503-72067d4e1d68",
   "metadata": {},
   "outputs": [],
   "source": [
    "df.sort_values('stmt_date', inplace=True)"
   ]
  },
  {
   "cell_type": "code",
   "execution_count": 12,
   "id": "4cd3e781-1067-44ed-b2ea-4b899bc1482b",
   "metadata": {},
   "outputs": [],
   "source": [
    "base_rate_all = df['default'].mean()"
   ]
  },
  {
   "cell_type": "code",
   "execution_count": 40,
   "id": "2e514dbc-3944-496c-b053-89ae8c1c3bce",
   "metadata": {},
   "outputs": [],
   "source": [
    "rate_by_sector = df.groupby('ateco_sector')['default'].mean().reset_index()\n",
    "rate_by_sector.rename({'default':'preds'},axis=1, inplace=True)"
   ]
  },
  {
   "cell_type": "code",
   "execution_count": null,
   "id": "225dc704-82c1-4ae4-ac6a-e5b9d856a208",
   "metadata": {},
   "outputs": [],
   "source": []
  },
  {
   "cell_type": "code",
   "execution_count": 26,
   "id": "79791677-fbae-45a6-b66d-c492a21f92c6",
   "metadata": {},
   "outputs": [],
   "source": [
    "from sklearn import metrics"
   ]
  },
  {
   "cell_type": "code",
   "execution_count": 27,
   "id": "1f3da9e4-acd0-4812-ad2f-9b227a98956c",
   "metadata": {},
   "outputs": [
    {
     "name": "stderr",
     "output_type": "stream",
     "text": [
      "/var/folders/kj/yvh7dv5569ggqx7tcy8crpp00000gn/T/ipykernel_58963/278999573.py:2: SettingWithCopyWarning: \n",
      "A value is trying to be set on a copy of a slice from a DataFrame.\n",
      "Try using .loc[row_indexer,col_indexer] = value instead\n",
      "\n",
      "See the caveats in the documentation: https://pandas.pydata.org/pandas-docs/stable/user_guide/indexing.html#returning-a-view-versus-a-copy\n",
      "  results['naive_preds'] = base_rate_all\n"
     ]
    }
   ],
   "source": [
    "results = df[['default']]\n",
    "results['naive_preds'] = base_rate_all"
   ]
  },
  {
   "cell_type": "code",
   "execution_count": 30,
   "id": "e21ebb1a-c501-4ce2-9af7-ef93a3f1f5ee",
   "metadata": {},
   "outputs": [
    {
     "name": "stdout",
     "output_type": "stream",
     "text": [
      "ROC AUC 0.5\n"
     ]
    },
    {
     "data": {
      "text/plain": [
       "<sklearn.metrics._plot.roc_curve.RocCurveDisplay at 0x2bc049df0>"
      ]
     },
     "execution_count": 30,
     "metadata": {},
     "output_type": "execute_result"
    },
    {
     "data": {
      "image/png": "[encoded data removed]",
      "text/plain": [
       "<Figure size 640x480 with 1 Axes>"
      ]
     },
     "metadata": {},
     "output_type": "display_data"
    }
   ],
   "source": [
    "fpr, tpr, thresholds = metrics.roc_curve(results['default'], results['naive_preds'])\n",
    "roc_auc = metrics.auc(fpr, tpr)\n",
    "roc_display = metrics.RocCurveDisplay(fpr=fpr, tpr=tpr, roc_auc=roc_auc)\n",
    "print(f'ROC AUC {roc_auc}')\n",
    "roc_display.plot()"
   ]
  },
  {
   "cell_type": "code",
   "execution_count": 34,
   "id": "3d143dea-2df2-439d-b654-59980302809f",
   "metadata": {},
   "outputs": [],
   "source": [
    "#### by sector naive"
   ]
  },
  {
   "cell_type": "code",
   "execution_count": 43,
   "id": "7990da2d-009a-4a21-803b-915edecc69fc",
   "metadata": {},
   "outputs": [
    {
     "data": {
      "text/html": [
       "<div>\n",
       "<style scoped>\n",
       "    .dataframe tbody tr th:only-of-type {\n",
       "        vertical-align: middle;\n",
       "    }\n",
       "\n",
       "    .dataframe tbody tr th {\n",
       "        vertical-align: top;\n",
       "    }\n",
       "\n",
       "    .dataframe thead th {\n",
       "        text-align: right;\n",
       "    }\n",
       "</style>\n",
       "<table border=\"1\" class=\"dataframe\">\n",
       "  <thead>\n",
       "    <tr style=\"text-align: right;\">\n",
       "      <th></th>\n",
       "      <th>id</th>\n",
       "      <th>ateco_sector</th>\n",
       "      <th>default</th>\n",
       "      <th>preds</th>\n",
       "    </tr>\n",
       "  </thead>\n",
       "  <tbody>\n",
       "    <tr>\n",
       "      <th>0</th>\n",
       "      <td>12561010153</td>\n",
       "      <td>42.0</td>\n",
       "      <td>0</td>\n",
       "      <td>0.015186</td>\n",
       "    </tr>\n",
       "    <tr>\n",
       "      <th>1</th>\n",
       "      <td>291950632</td>\n",
       "      <td>6.0</td>\n",
       "      <td>0</td>\n",
       "      <td>0.013158</td>\n",
       "    </tr>\n",
       "    <tr>\n",
       "      <th>2</th>\n",
       "      <td>2244580425</td>\n",
       "      <td>41.0</td>\n",
       "      <td>0</td>\n",
       "      <td>0.011656</td>\n",
       "    </tr>\n",
       "    <tr>\n",
       "      <th>3</th>\n",
       "      <td>9238720156</td>\n",
       "      <td>46.0</td>\n",
       "      <td>0</td>\n",
       "      <td>0.013061</td>\n",
       "    </tr>\n",
       "    <tr>\n",
       "      <th>4</th>\n",
       "      <td>2244600355</td>\n",
       "      <td>28.0</td>\n",
       "      <td>0</td>\n",
       "      <td>0.010837</td>\n",
       "    </tr>\n",
       "  </tbody>\n",
       "</table>\n",
       "</div>"
      ],
      "text/plain": [
       "            id  ateco_sector  default     preds\n",
       "0  12561010153          42.0        0  0.015186\n",
       "1    291950632           6.0        0  0.013158\n",
       "2   2244580425          41.0        0  0.011656\n",
       "3   9238720156          46.0        0  0.013061\n",
       "4   2244600355          28.0        0  0.010837"
      ]
     },
     "execution_count": 43,
     "metadata": {},
     "output_type": "execute_result"
    }
   ],
   "source": [
    "sector_res =  df[['id','ateco_sector','default']]\n",
    "sector_res = sector_res.merge(rate_by_sector, how='left', on='ateco_sector')\n",
    "sector_res.head()"
   ]
  },
  {
   "cell_type": "code",
   "execution_count": 44,
   "id": "6e6eee7e-3cc0-43f3-a871-22bfb19166e4",
   "metadata": {},
   "outputs": [
    {
     "name": "stdout",
     "output_type": "stream",
     "text": [
      "ROC AUC 0.5919196087131395\n"
     ]
    },
    {
     "data": {
      "text/plain": [
       "<sklearn.metrics._plot.roc_curve.RocCurveDisplay at 0x30c35b920>"
      ]
     },
     "execution_count": 44,
     "metadata": {},
     "output_type": "execute_result"
    },
    {
     "data": {
      "image/png": "[encoded data removed]",
      "text/plain": [
       "<Figure size 640x480 with 1 Axes>"
      ]
     },
     "metadata": {},
     "output_type": "display_data"
    }
   ],
   "source": [
    "fpr, tpr, thresholds = metrics.roc_curve(sector_res['default'], sector_res['preds'])\n",
    "roc_auc = metrics.auc(fpr, tpr)\n",
    "roc_display = metrics.RocCurveDisplay(fpr=fpr, tpr=tpr, roc_auc=roc_auc)\n",
    "print(f'ROC AUC {roc_auc}')\n",
    "roc_display.plot()"
   ]
  },
  {
   "cell_type": "code",
   "execution_count": null,
   "id": "1adfc318-98d4-4296-9f99-02178cc0821f",
   "metadata": {},
   "outputs": [],
   "source": []
  },
  {
   "cell_type": "code",
   "execution_count": null,
   "id": "59ebe9f6-a11b-4e4b-9b84-5e18d90bb73e",
   "metadata": {},
   "outputs": [],
   "source": []
  },
  {
   "cell_type": "code",
   "execution_count": null,
   "id": "bb55c58f-ef03-45d1-878b-b95a51d71703",
   "metadata": {},
   "outputs": [],
   "source": [
    "def walk_forward_harness(df, preprocessor, estimator, predictor, \n",
    "                         start, date_col = 'Date', step_size = 1):     \n",
    "    predictions = []\n",
    "    # model_list = []\n",
    "    stats_list = []\n",
    "    \n",
    "    proc_all_data , _= preprocessor(df, preproc_params)\n",
    "\n",
    "    labels = []\n",
    "    ind = []\n",
    "    \n",
    "    for i in range(start,len(proc_all_data), step_size):\n",
    "        ind.append(i)\n",
    "        train_data = proc_all_data.iloc[:i]\n",
    "        test_data = proc_all_data.iloc[[i]]\n",
    "\n",
    "        algo = smf.logit\n",
    "    \n",
    "        trained_model = estimator(train_data, algo, algo_params)\n",
    "        prediction = predictor(test_data, trained_model)\n",
    "\n",
    "        labels.append(test_data['positive_return_dummy'].values[0])\n",
    "        predictions.append(prediction.values[0])\n",
    "        \n",
    "        try:\n",
    "            score = roc_auc_score(y_score=predictions, y_true=labels)\n",
    "            \n",
    "        except:\n",
    "            print('Error scoring')\n",
    "            score = np.nan\n",
    "        \n",
    "        stats_list.append(score)\n",
    "        model_list.append(trained_model)\n",
    "\n",
    "        # if i ==5:\n",
    "        #     break\n",
    "\n",
    "        progress_bar(i, len(proc_all_data))\n",
    "        \n",
    "    predictions = pd.DataFrame([ind,labels,predictions]).T\n",
    "    predictions.columns = ['index','label','prediction']\n",
    "    predictions.set_index('index', inplace=True)\n",
    "    \n",
    "    return(predictions, model_list, stats_list)"
   ]
  },
  {
   "cell_type": "code",
   "execution_count": null,
   "id": "467306f8-3667-4e50-aa10-75c1714bd167",
   "metadata": {},
   "outputs": [],
   "source": []
  }
 ],
 "metadata": {
  "kernelspec": {
   "display_name": "Python 3 (ipykernel)",
   "language": "python",
   "name": "python3"
  },
  "language_info": {
   "codemirror_mode": {
    "name": "ipython",
    "version": 3
   },
   "file_extension": ".py",
   "mimetype": "text/x-python",
   "name": "python",
   "nbconvert_exporter": "python",
   "pygments_lexer": "ipython3",
   "version": "3.12.1"
  }
 },
 "nbformat": 4,
 "nbformat_minor": 5
}
