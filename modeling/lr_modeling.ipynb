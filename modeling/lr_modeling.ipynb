{
 "cells": [
  {
   "cell_type": "code",
   "execution_count": 39,
   "id": "ed16e89e-9105-47c4-a57f-817ec25c5d10",
   "metadata": {},
   "outputs": [],
   "source": [
    "import pandas as pd\n",
    "import numpy as np\n",
    "import matplotlib.pyplot as plt"
   ]
  },
  {
   "cell_type": "markdown",
   "id": "93bf0463-9366-4f68-84ba-f3cf1f87fffa",
   "metadata": {},
   "source": [
    "## Modeling"
   ]
  },
  {
   "cell_type": "code",
   "execution_count": 2,
   "id": "f8e98d78-8b4c-4783-aedd-a9f5db9a9870",
   "metadata": {},
   "outputs": [
    {
     "name": "stderr",
     "output_type": "stream",
     "text": [
      "/var/folders/kj/yvh7dv5569ggqx7tcy8crpp00000gn/T/ipykernel_2203/1394540614.py:1: DtypeWarning: Columns (6) have mixed types. Specify dtype option on import or set low_memory=False.\n",
      "  df = pd.read_csv('../data/features_for_model.csv', index_col=0)\n"
     ]
    },
    {
     "data": {
      "text/plain": [
       "(1023552, 16)"
      ]
     },
     "execution_count": 2,
     "metadata": {},
     "output_type": "execute_result"
    }
   ],
   "source": [
    "df = pd.read_csv('../data/features_for_model.csv', index_col=0)\n",
    "df.shape"
   ]
  },
  {
   "cell_type": "code",
   "execution_count": 3,
   "id": "1944d489-f272-4bef-a182-1dda3809e4ee",
   "metadata": {},
   "outputs": [
    {
     "data": {
      "text/plain": [
       "id                          0\n",
       "stmt_date                   0\n",
       "HQ_city                   277\n",
       "legal_struct                0\n",
       "ateco_sector                0\n",
       "def_date               968128\n",
       "fs_year                     0\n",
       "asst_tot                    0\n",
       "COGS                       24\n",
       "financial_leverage        156\n",
       "profitability_ratio        20\n",
       "quick_ratio_v1         133536\n",
       "quick_ratio_v2             47\n",
       "cash_assets_ratio          17\n",
       "dscr                      405\n",
       "default                     0\n",
       "dtype: int64"
      ]
     },
     "execution_count": 3,
     "metadata": {},
     "output_type": "execute_result"
    }
   ],
   "source": [
    "df.isna().sum()"
   ]
  },
  {
   "cell_type": "code",
   "execution_count": 4,
   "id": "1bd8fd03-f976-4ad0-ae0f-c1eb9a3f4f36",
   "metadata": {},
   "outputs": [
    {
     "data": {
      "text/plain": [
       "id                       0\n",
       "stmt_date                0\n",
       "HQ_city                277\n",
       "legal_struct             0\n",
       "ateco_sector             0\n",
       "fs_year                  0\n",
       "asst_tot                 0\n",
       "COGS                    24\n",
       "financial_leverage     156\n",
       "profitability_ratio     20\n",
       "quick_ratio_v2          47\n",
       "cash_assets_ratio       17\n",
       "dscr                   405\n",
       "default                  0\n",
       "dtype: int64"
      ]
     },
     "execution_count": 4,
     "metadata": {},
     "output_type": "execute_result"
    }
   ],
   "source": [
    "modeling_df = df.drop(['def_date','quick_ratio_v1'],axis=1)\n",
    "modeling_df.isna().sum()"
   ]
  },
  {
   "cell_type": "code",
   "execution_count": 5,
   "id": "dad7b69b-3a04-4799-8da8-bf6102760a6d",
   "metadata": {},
   "outputs": [],
   "source": [
    "modeling_df['HQ_city'] = modeling_df['HQ_city'].fillna(-1.0)"
   ]
  },
  {
   "cell_type": "code",
   "execution_count": 6,
   "id": "bfb9eac0-c61d-4df3-8e0a-f6a7a7322819",
   "metadata": {},
   "outputs": [],
   "source": [
    "modeling_df['quick_ratio_v2'] = modeling_df['quick_ratio_v2'].replace([-np.inf,np.inf],0)"
   ]
  },
  {
   "cell_type": "code",
   "execution_count": 7,
   "id": "b1a487fd-bf18-4238-b86b-d364516323c8",
   "metadata": {},
   "outputs": [
    {
     "data": {
      "text/plain": [
       "default\n",
       "0    550\n",
       "1      9\n",
       "Name: count, dtype: int64"
      ]
     },
     "execution_count": 7,
     "metadata": {},
     "output_type": "execute_result"
    }
   ],
   "source": [
    "modeling_df[~modeling_df.index.isin(modeling_df.dropna().index)]['default'].value_counts()"
   ]
  },
  {
   "cell_type": "code",
   "execution_count": 8,
   "id": "f8ad4555-6d58-4b82-b122-39fc78b324bd",
   "metadata": {},
   "outputs": [
    {
     "data": {
      "text/plain": [
       "default\n",
       "0    1011458\n",
       "1      11535\n",
       "Name: count, dtype: int64"
      ]
     },
     "execution_count": 8,
     "metadata": {},
     "output_type": "execute_result"
    }
   ],
   "source": [
    "modeling_df[modeling_df.index.isin(modeling_df.dropna().index)]['default'].value_counts()"
   ]
  },
  {
   "cell_type": "code",
   "execution_count": 9,
   "id": "a17127ec-fdef-433e-8616-3d9136737250",
   "metadata": {},
   "outputs": [],
   "source": [
    "### we'll try dropping NA's for now\n",
    "modeling_df = modeling_df.dropna().copy()"
   ]
  },
  {
   "cell_type": "code",
   "execution_count": 10,
   "id": "f80ac97d-b1ed-4f37-824f-43cd003b74ee",
   "metadata": {},
   "outputs": [],
   "source": [
    "modeling_df.sort_values('stmt_date', inplace=True)"
   ]
  },
  {
   "cell_type": "code",
   "execution_count": 11,
   "id": "7426111b-2cb3-4080-bcae-45eb4335c8c3",
   "metadata": {},
   "outputs": [],
   "source": [
    "train_df = modeling_df.iloc[:int(len(modeling_df)*0.8)]"
   ]
  },
  {
   "cell_type": "code",
   "execution_count": 12,
   "id": "d66ed6da-ddd1-4543-8ed7-466c6c772a3c",
   "metadata": {},
   "outputs": [],
   "source": [
    "test_df = modeling_df[~modeling_df.index.isin(train_df.index)]"
   ]
  },
  {
   "cell_type": "code",
   "execution_count": 13,
   "id": "e61d07b1-f058-4ecb-82f5-c068e98d9aa8",
   "metadata": {},
   "outputs": [],
   "source": [
    "import statsmodels.api as sm\n",
    "import statsmodels.formula.api as smf"
   ]
  },
  {
   "cell_type": "code",
   "execution_count": 14,
   "id": "b07facc8-416a-402c-9eba-1afd9d56264f",
   "metadata": {},
   "outputs": [
    {
     "data": {
      "text/plain": [
       "['id',\n",
       " 'stmt_date',\n",
       " 'HQ_city',\n",
       " 'legal_struct',\n",
       " 'ateco_sector',\n",
       " 'fs_year',\n",
       " 'asst_tot',\n",
       " 'COGS',\n",
       " 'financial_leverage',\n",
       " 'profitability_ratio',\n",
       " 'quick_ratio_v2',\n",
       " 'cash_assets_ratio',\n",
       " 'dscr',\n",
       " 'default']"
      ]
     },
     "execution_count": 14,
     "metadata": {},
     "output_type": "execute_result"
    }
   ],
   "source": [
    "modeling_df.columns.to_list()"
   ]
  },
  {
   "cell_type": "code",
   "execution_count": 15,
   "id": "d85ab3af-5bda-4778-82e2-a629766382f6",
   "metadata": {},
   "outputs": [],
   "source": [
    "feature_list = [\n",
    "                'HQ_city',\n",
    "                 # 'legal_struct',\n",
    "                 'ateco_sector',\n",
    "                 'asst_tot',\n",
    "                 'COGS',\n",
    "                 'financial_leverage',\n",
    "                 'profitability_ratio',\n",
    "                 'quick_ratio_v2',\n",
    "                 'cash_assets_ratio',\n",
    "                 'dscr',]"
   ]
  },
  {
   "cell_type": "code",
   "execution_count": 16,
   "id": "9ee55fd5-d2c2-49ee-ab41-83c09a1b6417",
   "metadata": {},
   "outputs": [
    {
     "data": {
      "text/plain": [
       "'default ~ HQ_city + ateco_sector + asst_tot + COGS + financial_leverage + profitability_ratio + quick_ratio_v2 + cash_assets_ratio + dscr'"
      ]
     },
     "execution_count": 16,
     "metadata": {},
     "output_type": "execute_result"
    }
   ],
   "source": [
    "formula = 'default ~ '+' + '.join(feature_list)\n",
    "formula"
   ]
  },
  {
   "cell_type": "code",
   "execution_count": 17,
   "id": "4e3f72a9-10ab-447c-9216-8c759ea98934",
   "metadata": {},
   "outputs": [],
   "source": [
    "import numpy as np"
   ]
  },
  {
   "cell_type": "code",
   "execution_count": 18,
   "id": "2832170b-c200-4d93-96fd-dd7a2aabfe38",
   "metadata": {},
   "outputs": [
    {
     "name": "stdout",
     "output_type": "stream",
     "text": [
      "Optimization terminated successfully.\n",
      "         Current function value: 0.055778\n",
      "         Iterations 11\n",
      "                           Logit Regression Results                           \n",
      "==============================================================================\n",
      "Dep. Variable:                default   No. Observations:               818394\n",
      "Model:                          Logit   Df Residuals:                   818384\n",
      "Method:                           MLE   Df Model:                            9\n",
      "Date:                Sat, 26 Oct 2024   Pseudo R-squ.:                  0.1105\n",
      "Time:                        22:25:18   Log-Likelihood:                -45648.\n",
      "converged:                       True   LL-Null:                       -51319.\n",
      "Covariance Type:            nonrobust   LLR p-value:                     0.000\n",
      "=======================================================================================\n",
      "                          coef    std err          z      P>|z|      [0.025      0.975]\n",
      "---------------------------------------------------------------------------------------\n",
      "Intercept              -5.0603      0.041   -124.625      0.000      -5.140      -4.981\n",
      "HQ_city                 0.0010      0.000      2.687      0.007       0.000       0.002\n",
      "ateco_sector           -0.0066      0.001    -11.671      0.000      -0.008      -0.005\n",
      "asst_tot            -2.535e-09   8.26e-10     -3.070      0.002   -4.15e-09   -9.16e-10\n",
      "COGS                -2.203e-09   8.92e-10     -2.470      0.014   -3.95e-09   -4.55e-10\n",
      "financial_leverage      1.0442      0.030     34.394      0.000       0.985       1.104\n",
      "profitability_ratio    -3.9428      0.055    -71.995      0.000      -4.050      -3.835\n",
      "quick_ratio_v2      -8.221e-06   1.27e-05     -0.648      0.517   -3.31e-05    1.67e-05\n",
      "cash_assets_ratio      -0.6301      0.127     -4.974      0.000      -0.878      -0.382\n",
      "dscr                 3.349e-08   3.68e-08      0.911      0.362   -3.85e-08    1.06e-07\n",
      "=======================================================================================\n"
     ]
    }
   ],
   "source": [
    "model = smf.logit(formula, data = train_df) \n",
    "logit_model_sm = model.fit()\n",
    "print(logit_model_sm.summary())"
   ]
  },
  {
   "cell_type": "code",
   "execution_count": 19,
   "id": "48646f0c-5d5b-45ff-8b35-c3c0b1c398b5",
   "metadata": {},
   "outputs": [
    {
     "data": {
      "text/html": [
       "<div>\n",
       "<style scoped>\n",
       "    .dataframe tbody tr th:only-of-type {\n",
       "        vertical-align: middle;\n",
       "    }\n",
       "\n",
       "    .dataframe tbody tr th {\n",
       "        vertical-align: top;\n",
       "    }\n",
       "\n",
       "    .dataframe thead th {\n",
       "        text-align: right;\n",
       "    }\n",
       "</style>\n",
       "<table border=\"1\" class=\"dataframe\">\n",
       "  <thead>\n",
       "    <tr style=\"text-align: right;\">\n",
       "      <th></th>\n",
       "      <th>default</th>\n",
       "      <th>predicted_probability</th>\n",
       "    </tr>\n",
       "    <tr>\n",
       "      <th>Unnamed: 0</th>\n",
       "      <th></th>\n",
       "      <th></th>\n",
       "    </tr>\n",
       "  </thead>\n",
       "  <tbody>\n",
       "    <tr>\n",
       "      <th>2471028</th>\n",
       "      <td>0</td>\n",
       "      <td>0.017712</td>\n",
       "    </tr>\n",
       "    <tr>\n",
       "      <th>2498807</th>\n",
       "      <td>0</td>\n",
       "      <td>0.004864</td>\n",
       "    </tr>\n",
       "    <tr>\n",
       "      <th>2471048</th>\n",
       "      <td>0</td>\n",
       "      <td>0.001877</td>\n",
       "    </tr>\n",
       "    <tr>\n",
       "      <th>2471109</th>\n",
       "      <td>0</td>\n",
       "      <td>0.010801</td>\n",
       "    </tr>\n",
       "    <tr>\n",
       "      <th>2498783</th>\n",
       "      <td>0</td>\n",
       "      <td>0.005930</td>\n",
       "    </tr>\n",
       "  </tbody>\n",
       "</table>\n",
       "</div>"
      ],
      "text/plain": [
       "            default  predicted_probability\n",
       "Unnamed: 0                                \n",
       "2471028           0               0.017712\n",
       "2498807           0               0.004864\n",
       "2471048           0               0.001877\n",
       "2471109           0               0.010801\n",
       "2498783           0               0.005930"
      ]
     },
     "execution_count": 19,
     "metadata": {},
     "output_type": "execute_result"
    }
   ],
   "source": [
    "predictions = test_df[['default']].copy()\n",
    "predictions['predicted_probability'] = logit_model_sm.predict(test_df)\n",
    "# predictions.dropna(inplace=True)\n",
    "predictions.head()"
   ]
  },
  {
   "cell_type": "code",
   "execution_count": 20,
   "id": "17b46144-3d1a-4bbc-98a5-49ccf65af08b",
   "metadata": {},
   "outputs": [
    {
     "data": {
      "text/plain": [
       "default                  0.0\n",
       "predicted_probability    0.0\n",
       "dtype: float64"
      ]
     },
     "execution_count": 20,
     "metadata": {},
     "output_type": "execute_result"
    }
   ],
   "source": [
    "predictions.isna().mean()"
   ]
  },
  {
   "cell_type": "code",
   "execution_count": 21,
   "id": "528fba2f-3055-4b8b-91e6-3d0b29093d59",
   "metadata": {},
   "outputs": [],
   "source": [
    "from sklearn import metrics"
   ]
  },
  {
   "cell_type": "code",
   "execution_count": 22,
   "id": "d0db62f5-051a-4ff9-97f1-923dbce3dc47",
   "metadata": {},
   "outputs": [
    {
     "data": {
      "text/plain": [
       "np.float64(0.8379835666095024)"
      ]
     },
     "execution_count": 22,
     "metadata": {},
     "output_type": "execute_result"
    }
   ],
   "source": [
    "metrics.roc_auc_score(y_score=predictions['predicted_probability'], y_true=predictions['default'])"
   ]
  },
  {
   "cell_type": "code",
   "execution_count": 23,
   "id": "c579a40b-4214-4164-9d75-5e2f9ba26f05",
   "metadata": {},
   "outputs": [],
   "source": [
    "import seaborn as sns\n",
    "sns.set()"
   ]
  },
  {
   "cell_type": "code",
   "execution_count": 24,
   "id": "8593344f-b887-4727-950d-bdf9984d48f8",
   "metadata": {},
   "outputs": [
    {
     "data": {
      "text/plain": [
       "<Axes: xlabel='predicted_probability', ylabel='Count'>"
      ]
     },
     "execution_count": 24,
     "metadata": {},
     "output_type": "execute_result"
    },
    {
     "data": {
      "image/png": "[encoded data removed]",
      "text/plain": [
       "<Figure size 640x480 with 1 Axes>"
      ]
     },
     "metadata": {},
     "output_type": "display_data"
    }
   ],
   "source": [
    "sns.histplot(predictions['predicted_probability'])"
   ]
  },
  {
   "cell_type": "code",
   "execution_count": 26,
   "id": "a5971c0c-04f9-4d0f-a086-ea094f9e5f34",
   "metadata": {},
   "outputs": [
    {
     "name": "stdout",
     "output_type": "stream",
     "text": [
      "ROC AUC 0.8379835666095024\n"
     ]
    },
    {
     "data": {
      "text/plain": [
       "<sklearn.metrics._plot.roc_curve.RocCurveDisplay at 0x2ac186e40>"
      ]
     },
     "execution_count": 26,
     "metadata": {},
     "output_type": "execute_result"
    },
    {
     "data": {
      "image/png": "[encoded data removed]",
      "text/plain": [
       "<Figure size 640x480 with 1 Axes>"
      ]
     },
     "metadata": {},
     "output_type": "display_data"
    }
   ],
   "source": [
    "fpr, tpr, thresholds = metrics.roc_curve(predictions['default'], predictions['predicted_probability'])\n",
    "roc_auc = metrics.auc(fpr, tpr)\n",
    "roc_display = metrics.RocCurveDisplay(fpr=fpr, tpr=tpr, roc_auc=roc_auc)\n",
    "print(f'ROC AUC {roc_auc}')\n",
    "roc_display.plot()"
   ]
  },
  {
   "cell_type": "markdown",
   "id": "c00e0db3-2016-4c4b-a621-f79673fe8c7d",
   "metadata": {},
   "source": [
    "## Walk forward"
   ]
  },
  {
   "cell_type": "code",
   "execution_count": 27,
   "id": "6440d5be-1f75-4f47-aa52-b249f626bdee",
   "metadata": {},
   "outputs": [],
   "source": [
    "def predictor(new_df, model):\n",
    "    predictions = model.predict(new_df)\n",
    "    return(predictions)"
   ]
  },
  {
   "cell_type": "code",
   "execution_count": 28,
   "id": "a3d520c0-a2b2-4aba-892e-cf22da78f4e0",
   "metadata": {},
   "outputs": [],
   "source": [
    "def preprocessor(df, preproc_params = {}, new = True):\n",
    "    \n",
    "    \n",
    "    return(df, preproc_params)"
   ]
  },
  {
   "cell_type": "code",
   "execution_count": 29,
   "id": "ba6fbbcd-7da8-4fcf-933d-1b4c162558c1",
   "metadata": {},
   "outputs": [],
   "source": [
    "def estimator(df, fitting_algo, est_params = {}):\n",
    "    \n",
    "    my_formula = est_params['formula']\n",
    "    model = fitting_algo(my_formula, data = df) \n",
    "    fitted_model = model.fit(disp=False)\n",
    "    \n",
    "    return(fitted_model)"
   ]
  },
  {
   "cell_type": "code",
   "execution_count": 30,
   "id": "c194cc6f-6f32-4d08-be4f-2f674fa7704c",
   "metadata": {},
   "outputs": [],
   "source": [
    "def progress_bar(k, n, incr_txt=\"Step\", bar_len = 10):\n",
    "   \n",
    "    bar_char  = u'\\u25A5'\n",
    "    line_char = u'\\u21E2' # u'\\u2192'  u'\\u23AF' u'\\u25AD'\n",
    "    \n",
    "    places   = int(np.ceil(n/bar_len))\n",
    "    pct      = k/n\n",
    "    n_str    = \"{:,.0f}\".format(n)        \n",
    "    k_str    = \"{:,.0f}\".format(k)\n",
    "    pct_str  = \"{:,.0f}%\".format(k/n * 100)\n",
    "    # d_format = \"%\" + str(places) + \"d\"\n",
    "    \n",
    "    if k == n-1:\n",
    "        n_bars = bar_len\n",
    "        n_spaces = 0\n",
    "        text_txt = \"Completed \" + n_str + \" \" + incr_txt + \"s.\"\n",
    "    else:\n",
    "        n_bars   = int(np.floor(pct * bar_len))\n",
    "        n_spaces = bar_len - n_bars\n",
    "        text_txt = \" \" + pct_str +  \" (\" + incr_txt + \" \" + k_str + \" of  \" + n_str + \").\"\n",
    "\n",
    "    bar_txt  = \"[\" + \"\".ljust(n_bars,bar_char) + \"\".rjust(n_spaces,line_char) + \"]  \" \n",
    "\n",
    "    clear_output()\n",
    "    display(bar_txt + text_txt)"
   ]
  },
  {
   "cell_type": "code",
   "execution_count": null,
   "id": "d671a5b8-fdd2-484d-b059-d752bf76069a",
   "metadata": {},
   "outputs": [],
   "source": []
  },
  {
   "cell_type": "code",
   "execution_count": 31,
   "id": "92f95325-8582-4002-91cc-1cf7f05a6756",
   "metadata": {},
   "outputs": [],
   "source": [
    "def walk_forward_harness(df, preprocessor, estimator, predictor, \n",
    "                         start, date_col = 'Date', step_size = 1):     \n",
    "    predictions = []\n",
    "    model_list = []\n",
    "    ## here each tuple contains (roc_auc, above_median_volatility, below_median_volatility)\n",
    "    stats_list = []\n",
    "    def_percent = []\n",
    "    \n",
    "    # preproc_params = {\n",
    "    #     'scaler':StandardScaler()\n",
    "    # }\n",
    "    proc_all_data , _= preprocessor(df, {})\n",
    "\n",
    "    labels = []\n",
    "\n",
    "    algo_params = {\n",
    "        'formula': 'default ~ '+' + '.join(feature_list)\n",
    "    }\n",
    "    \n",
    "    for i in range(start,len(proc_all_data), step_size):\n",
    "        #ind.append(i)\n",
    "        train_data = proc_all_data.iloc[:i]\n",
    "        test_data = proc_all_data.iloc[i:i+step_size]\n",
    "\n",
    "        algo = smf.logit\n",
    "    \n",
    "        trained_model = estimator(train_data, algo, algo_params)\n",
    "        prediction = predictor(test_data, trained_model)\n",
    "        \n",
    "        \n",
    "        labels += list(test_data['default'].values)\n",
    "        predictions += list(prediction.values)\n",
    "        \n",
    "        try:\n",
    "            score = metrics.roc_auc_score(y_score=predictions, y_true=labels)\n",
    "            \n",
    "        except Exception as e:\n",
    "            print(F'Error scoring {e}')\n",
    "            score = np.nan\n",
    "\n",
    "        \n",
    "        stats_list.append(score)\n",
    "        model_list.append(trained_model)\n",
    "\n",
    "\n",
    "        progress_bar(i, len(proc_all_data))\n",
    "        \n",
    "    predictions = pd.DataFrame([labels,predictions]).T\n",
    "    predictions.columns = ['label','prediction']\n",
    "    #predictions.set_index('index', inplace=True)\n",
    "    \n",
    "    return(predictions, model_list, stats_list)"
   ]
  },
  {
   "cell_type": "code",
   "execution_count": null,
   "id": "92b04394-546a-478a-9c1a-dc88f7a34772",
   "metadata": {},
   "outputs": [],
   "source": []
  },
  {
   "cell_type": "code",
   "execution_count": 32,
   "id": "6ffbb0f8-7dd4-42e4-8302-96949b1bfdd2",
   "metadata": {},
   "outputs": [],
   "source": [
    "from IPython.display import clear_output, display"
   ]
  },
  {
   "cell_type": "code",
   "execution_count": 33,
   "id": "907ffda8-bbce-4e99-9f97-a9ef82cd4e54",
   "metadata": {},
   "outputs": [
    {
     "data": {
      "text/plain": [
       "'[▥▥▥▥▥▥▥▥▥⇢]   100% (Step 1,020,000 of  1,022,993).'"
      ]
     },
     "metadata": {},
     "output_type": "display_data"
    }
   ],
   "source": [
    "predictions, model_list, stats_list = walk_forward_harness(modeling_df,\n",
    "                                                           preprocessor = preprocessor, \n",
    "                                                           estimator = estimator, \n",
    "                                                           predictor = predictor, \n",
    "                                                           start = 100000, \n",
    "                                                           step_size = 10000)"
   ]
  },
  {
   "cell_type": "code",
   "execution_count": 41,
   "id": "2409a119-5bb7-4914-93c2-fe954b8984a6",
   "metadata": {},
   "outputs": [
    {
     "data": {
      "text/html": [
       "<div>\n",
       "<style scoped>\n",
       "    .dataframe tbody tr th:only-of-type {\n",
       "        vertical-align: middle;\n",
       "    }\n",
       "\n",
       "    .dataframe tbody tr th {\n",
       "        vertical-align: top;\n",
       "    }\n",
       "\n",
       "    .dataframe thead th {\n",
       "        text-align: right;\n",
       "    }\n",
       "</style>\n",
       "<table border=\"1\" class=\"dataframe\">\n",
       "  <thead>\n",
       "    <tr style=\"text-align: right;\">\n",
       "      <th></th>\n",
       "      <th>label</th>\n",
       "      <th>prediction</th>\n",
       "      <th>group</th>\n",
       "    </tr>\n",
       "  </thead>\n",
       "  <tbody>\n",
       "    <tr>\n",
       "      <th>0</th>\n",
       "      <td>0.0</td>\n",
       "      <td>0.012195</td>\n",
       "      <td>0</td>\n",
       "    </tr>\n",
       "    <tr>\n",
       "      <th>1</th>\n",
       "      <td>0.0</td>\n",
       "      <td>0.007457</td>\n",
       "      <td>0</td>\n",
       "    </tr>\n",
       "    <tr>\n",
       "      <th>2</th>\n",
       "      <td>0.0</td>\n",
       "      <td>0.011957</td>\n",
       "      <td>0</td>\n",
       "    </tr>\n",
       "    <tr>\n",
       "      <th>3</th>\n",
       "      <td>0.0</td>\n",
       "      <td>0.007467</td>\n",
       "      <td>0</td>\n",
       "    </tr>\n",
       "    <tr>\n",
       "      <th>4</th>\n",
       "      <td>0.0</td>\n",
       "      <td>0.018401</td>\n",
       "      <td>0</td>\n",
       "    </tr>\n",
       "    <tr>\n",
       "      <th>...</th>\n",
       "      <td>...</td>\n",
       "      <td>...</td>\n",
       "      <td>...</td>\n",
       "    </tr>\n",
       "    <tr>\n",
       "      <th>922988</th>\n",
       "      <td>0.0</td>\n",
       "      <td>0.010332</td>\n",
       "      <td>92</td>\n",
       "    </tr>\n",
       "    <tr>\n",
       "      <th>922989</th>\n",
       "      <td>0.0</td>\n",
       "      <td>0.014409</td>\n",
       "      <td>92</td>\n",
       "    </tr>\n",
       "    <tr>\n",
       "      <th>922990</th>\n",
       "      <td>0.0</td>\n",
       "      <td>0.012227</td>\n",
       "      <td>92</td>\n",
       "    </tr>\n",
       "    <tr>\n",
       "      <th>922991</th>\n",
       "      <td>0.0</td>\n",
       "      <td>0.013421</td>\n",
       "      <td>92</td>\n",
       "    </tr>\n",
       "    <tr>\n",
       "      <th>922992</th>\n",
       "      <td>0.0</td>\n",
       "      <td>0.003705</td>\n",
       "      <td>92</td>\n",
       "    </tr>\n",
       "  </tbody>\n",
       "</table>\n",
       "<p>922993 rows × 3 columns</p>\n",
       "</div>"
      ],
      "text/plain": [
       "        label  prediction  group\n",
       "0         0.0    0.012195      0\n",
       "1         0.0    0.007457      0\n",
       "2         0.0    0.011957      0\n",
       "3         0.0    0.007467      0\n",
       "4         0.0    0.018401      0\n",
       "...       ...         ...    ...\n",
       "922988    0.0    0.010332     92\n",
       "922989    0.0    0.014409     92\n",
       "922990    0.0    0.012227     92\n",
       "922991    0.0    0.013421     92\n",
       "922992    0.0    0.003705     92\n",
       "\n",
       "[922993 rows x 3 columns]"
      ]
     },
     "execution_count": 41,
     "metadata": {},
     "output_type": "execute_result"
    }
   ],
   "source": [
    "predictions['group'] = (predictions.index // 10000)"
   ]
  },
  {
   "cell_type": "code",
   "execution_count": null,
   "id": "5b69e514-4ec7-45d3-ba9b-2142ba5f2f1f",
   "metadata": {},
   "outputs": [],
   "source": []
  },
  {
   "cell_type": "code",
   "execution_count": 34,
   "id": "ac32b556-db1a-4d9f-8fce-25ffb2116382",
   "metadata": {},
   "outputs": [
    {
     "name": "stdout",
     "output_type": "stream",
     "text": [
      "ROC AUC 0.7579853116770789\n"
     ]
    },
    {
     "data": {
      "text/plain": [
       "<sklearn.metrics._plot.roc_curve.RocCurveDisplay at 0x285990a70>"
      ]
     },
     "execution_count": 34,
     "metadata": {},
     "output_type": "execute_result"
    },
    {
     "data": {
      "image/png": "[encoded data removed]",
      "text/plain": [
       "<Figure size 640x480 with 1 Axes>"
      ]
     },
     "metadata": {},
     "output_type": "display_data"
    }
   ],
   "source": [
    "fpr, tpr, thresholds = metrics.roc_curve(predictions['label'], predictions['prediction'])\n",
    "roc_auc = metrics.auc(fpr, tpr)\n",
    "roc_display = metrics.RocCurveDisplay(fpr=fpr, tpr=tpr, roc_auc=roc_auc)\n",
    "print(f'ROC AUC {roc_auc}')\n",
    "roc_display.plot()"
   ]
  },
  {
   "cell_type": "code",
   "execution_count": null,
   "id": "1ef8bbed-01b3-4822-9ba6-6aaa3e2569d4",
   "metadata": {},
   "outputs": [],
   "source": []
  },
  {
   "cell_type": "code",
   "execution_count": null,
   "id": "5f87e9e7-b970-42b1-b111-22221f6d134c",
   "metadata": {},
   "outputs": [],
   "source": []
  },
  {
   "cell_type": "code",
   "execution_count": 40,
   "id": "3313c6bb-e71a-46bf-b269-e8d955e8cecd",
   "metadata": {},
   "outputs": [
    {
     "data": {
      "text/plain": [
       "Text(0, 0.5, 'ROC AUC score (for that test set of size Step)')"
      ]
     },
     "execution_count": 40,
     "metadata": {},
     "output_type": "execute_result"
    },
    {
     "data": {
      "image/png": "[encoded data removed]",
      "text/plain": [
       "<Figure size 640x480 with 1 Axes>"
      ]
     },
     "metadata": {},
     "output_type": "display_data"
    }
   ],
   "source": [
    "sns.lineplot(x=range(len(stats_list)), y=stats_list, marker=\"o\")\n",
    "plt.title('ROC AUC scores over each step iteration')\n",
    "plt.xlabel('Walk forward Iteration')\n",
    "plt.ylabel('ROC AUC score (for that test set of size Step)')"
   ]
  },
  {
   "cell_type": "code",
   "execution_count": 42,
   "id": "23a0a9a2-092a-4bbd-bb4b-e7175792fe91",
   "metadata": {},
   "outputs": [],
   "source": [
    "default_data_viz = predictions.groupby('group')['label'].mean()"
   ]
  },
  {
   "cell_type": "code",
   "execution_count": 44,
   "id": "33e9dbd6-ce2d-4892-8783-d6556befb54a",
   "metadata": {},
   "outputs": [
    {
     "data": {
      "text/plain": [
       "Text(0, 0.5, '% of defaults')"
      ]
     },
     "execution_count": 44,
     "metadata": {},
     "output_type": "execute_result"
    },
    {
     "data": {
      "image/png": "[encoded data removed]",
      "text/plain": [
       "<Figure size 640x480 with 1 Axes>"
      ]
     },
     "metadata": {},
     "output_type": "display_data"
    }
   ],
   "source": [
    "sns.lineplot(x=range(len(default_data_viz)), y=default_data_viz, marker=\"o\")\n",
    "plt.title('% of defaults in each test set of walkforward')\n",
    "plt.xlabel('Walk forward Iteration')\n",
    "plt.ylabel('% of defaults')"
   ]
  },
  {
   "cell_type": "code",
   "execution_count": null,
   "id": "7ce0ff65-e770-4a0b-a864-ad82cd0ae26d",
   "metadata": {},
   "outputs": [],
   "source": []
  }
 ],
 "metadata": {
  "kernelspec": {
   "display_name": "Python 3 (ipykernel)",
   "language": "python",
   "name": "python3"
  },
  "language_info": {
   "codemirror_mode": {
    "name": "ipython",
    "version": 3
   },
   "file_extension": ".py",
   "mimetype": "text/x-python",
   "name": "python",
   "nbconvert_exporter": "python",
   "pygments_lexer": "ipython3",
   "version": "3.12.1"
  }
 },
 "nbformat": 4,
 "nbformat_minor": 5
}
