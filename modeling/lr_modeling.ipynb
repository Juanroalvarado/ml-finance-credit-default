{
 "cells": [
  {
   "cell_type": "code",
   "execution_count": 1,
   "id": "ed16e89e-9105-47c4-a57f-817ec25c5d10",
   "metadata": {},
   "outputs": [],
   "source": [
    "import pandas as pd\n",
    "import numpy as np\n",
    "\n",
    "import matplotlib.pyplot as plt\n",
    "\n",
    "from IPython.display import clear_output, display"
   ]
  },
  {
   "cell_type": "markdown",
   "id": "93bf0463-9366-4f68-84ba-f3cf1f87fffa",
   "metadata": {},
   "source": [
    "## Modeling"
   ]
  },
  {
   "cell_type": "code",
   "execution_count": 2,
   "id": "4ee810b3-6386-48c1-9bc4-32f1a51a5d4a",
   "metadata": {},
   "outputs": [],
   "source": [
    "features = [\n",
    "    'asst_tot', 'asst_tot_quantile_values',\n",
    "    'financial_leverage', 'financial_leverage_quantile_values',\n",
    "    'profitability_ratio', 'profitability_ratio_quantile_values',\n",
    "    'net_income_growth', 'net_income_growth_quantile_values',\n",
    "    'quick_ratio_v2', 'quick_ratio_v2_quantile_values',\n",
    "    'sales_growth', 'sales_growth_quantile_values',\n",
    "    'cash_assets_ratio', 'cash_assets_ratio_quantile_values',\n",
    "    'dscr', 'dscr_quantile', 'ebitda','is_first_occurrence'\n",
    "]"
   ]
  },
  {
   "cell_type": "code",
   "execution_count": 3,
   "id": "f8e98d78-8b4c-4783-aedd-a9f5db9a9870",
   "metadata": {},
   "outputs": [
    {
     "data": {
      "text/plain": [
       "(1023552, 72)"
      ]
     },
     "execution_count": 3,
     "metadata": {},
     "output_type": "execute_result"
    }
   ],
   "source": [
    "df = pd.read_csv('../data/processed_data.csv')\n",
    "df.shape"
   ]
  },
  {
   "cell_type": "code",
   "execution_count": 140,
   "id": "64a5773c-337d-4e6c-8e84-315b2ba3e3e9",
   "metadata": {},
   "outputs": [
    {
     "data": {
      "text/html": [
       "<div>\n",
       "<style scoped>\n",
       "    .dataframe tbody tr th:only-of-type {\n",
       "        vertical-align: middle;\n",
       "    }\n",
       "\n",
       "    .dataframe tbody tr th {\n",
       "        vertical-align: top;\n",
       "    }\n",
       "\n",
       "    .dataframe thead th {\n",
       "        text-align: right;\n",
       "    }\n",
       "</style>\n",
       "<table border=\"1\" class=\"dataframe\">\n",
       "  <thead>\n",
       "    <tr style=\"text-align: right;\">\n",
       "      <th></th>\n",
       "      <th>financial_leverage</th>\n",
       "      <th>financial_leverage_quantile</th>\n",
       "      <th>financial_leverage_quantile_values</th>\n",
       "    </tr>\n",
       "  </thead>\n",
       "  <tbody>\n",
       "    <tr>\n",
       "      <th>0</th>\n",
       "      <td>0.923659</td>\n",
       "      <td>9.0</td>\n",
       "      <td>0.018178</td>\n",
       "    </tr>\n",
       "    <tr>\n",
       "      <th>1</th>\n",
       "      <td>0.985222</td>\n",
       "      <td>10.0</td>\n",
       "      <td>0.016486</td>\n",
       "    </tr>\n",
       "    <tr>\n",
       "      <th>2</th>\n",
       "      <td>0.987754</td>\n",
       "      <td>10.0</td>\n",
       "      <td>0.016486</td>\n",
       "    </tr>\n",
       "    <tr>\n",
       "      <th>3</th>\n",
       "      <td>0.768580</td>\n",
       "      <td>6.0</td>\n",
       "      <td>0.008812</td>\n",
       "    </tr>\n",
       "    <tr>\n",
       "      <th>4</th>\n",
       "      <td>0.810523</td>\n",
       "      <td>7.0</td>\n",
       "      <td>0.011098</td>\n",
       "    </tr>\n",
       "  </tbody>\n",
       "</table>\n",
       "</div>"
      ],
      "text/plain": [
       "   financial_leverage  financial_leverage_quantile  \\\n",
       "0            0.923659                          9.0   \n",
       "1            0.985222                         10.0   \n",
       "2            0.987754                         10.0   \n",
       "3            0.768580                          6.0   \n",
       "4            0.810523                          7.0   \n",
       "\n",
       "   financial_leverage_quantile_values  \n",
       "0                            0.018178  \n",
       "1                            0.016486  \n",
       "2                            0.016486  \n",
       "3                            0.008812  \n",
       "4                            0.011098  "
      ]
     },
     "execution_count": 140,
     "metadata": {},
     "output_type": "execute_result"
    }
   ],
   "source": [
    "df[['financial_leverage','financial_leverage_quantile','financial_leverage_quantile_values']].head()"
   ]
  },
  {
   "cell_type": "code",
   "execution_count": null,
   "id": "4107f636-9b2d-42f6-98cc-2bd04f26682e",
   "metadata": {},
   "outputs": [],
   "source": []
  },
  {
   "cell_type": "code",
   "execution_count": 137,
   "id": "2f758f76-b487-4320-a9b1-d80a42628f5f",
   "metadata": {},
   "outputs": [
    {
     "data": {
      "text/html": [
       "<div>\n",
       "<style scoped>\n",
       "    .dataframe tbody tr th:only-of-type {\n",
       "        vertical-align: middle;\n",
       "    }\n",
       "\n",
       "    .dataframe tbody tr th {\n",
       "        vertical-align: top;\n",
       "    }\n",
       "\n",
       "    .dataframe thead th {\n",
       "        text-align: right;\n",
       "    }\n",
       "</style>\n",
       "<table border=\"1\" class=\"dataframe\">\n",
       "  <thead>\n",
       "    <tr style=\"text-align: right;\">\n",
       "      <th></th>\n",
       "      <th>roa</th>\n",
       "      <th>profitability_ratio</th>\n",
       "    </tr>\n",
       "  </thead>\n",
       "  <tbody>\n",
       "    <tr>\n",
       "      <th>0</th>\n",
       "      <td>6.20</td>\n",
       "      <td>0.020763</td>\n",
       "    </tr>\n",
       "    <tr>\n",
       "      <th>1</th>\n",
       "      <td>-2.76</td>\n",
       "      <td>-0.051692</td>\n",
       "    </tr>\n",
       "    <tr>\n",
       "      <th>2</th>\n",
       "      <td>-2.17</td>\n",
       "      <td>-0.039385</td>\n",
       "    </tr>\n",
       "    <tr>\n",
       "      <th>3</th>\n",
       "      <td>-4.08</td>\n",
       "      <td>-0.044052</td>\n",
       "    </tr>\n",
       "    <tr>\n",
       "      <th>4</th>\n",
       "      <td>-3.81</td>\n",
       "      <td>-0.041752</td>\n",
       "    </tr>\n",
       "    <tr>\n",
       "      <th>...</th>\n",
       "      <td>...</td>\n",
       "      <td>...</td>\n",
       "    </tr>\n",
       "    <tr>\n",
       "      <th>1023547</th>\n",
       "      <td>-0.08</td>\n",
       "      <td>0.002484</td>\n",
       "    </tr>\n",
       "    <tr>\n",
       "      <th>1023548</th>\n",
       "      <td>1.92</td>\n",
       "      <td>0.004856</td>\n",
       "    </tr>\n",
       "    <tr>\n",
       "      <th>1023549</th>\n",
       "      <td>-6.78</td>\n",
       "      <td>-0.079854</td>\n",
       "    </tr>\n",
       "    <tr>\n",
       "      <th>1023550</th>\n",
       "      <td>0.43</td>\n",
       "      <td>0.001288</td>\n",
       "    </tr>\n",
       "    <tr>\n",
       "      <th>1023551</th>\n",
       "      <td>0.84</td>\n",
       "      <td>0.000028</td>\n",
       "    </tr>\n",
       "  </tbody>\n",
       "</table>\n",
       "<p>1023552 rows × 2 columns</p>\n",
       "</div>"
      ],
      "text/plain": [
       "          roa  profitability_ratio\n",
       "0        6.20             0.020763\n",
       "1       -2.76            -0.051692\n",
       "2       -2.17            -0.039385\n",
       "3       -4.08            -0.044052\n",
       "4       -3.81            -0.041752\n",
       "...       ...                  ...\n",
       "1023547 -0.08             0.002484\n",
       "1023548  1.92             0.004856\n",
       "1023549 -6.78            -0.079854\n",
       "1023550  0.43             0.001288\n",
       "1023551  0.84             0.000028\n",
       "\n",
       "[1023552 rows x 2 columns]"
      ]
     },
     "execution_count": 137,
     "metadata": {},
     "output_type": "execute_result"
    }
   ],
   "source": [
    "df[['roa','profitability_ratio']]"
   ]
  },
  {
   "cell_type": "code",
   "execution_count": 5,
   "id": "1bd8fd03-f976-4ad0-ae0f-c1eb9a3f4f36",
   "metadata": {},
   "outputs": [
    {
     "data": {
      "text/plain": [
       "margin_fin                40758\n",
       "roe                       72937\n",
       "debt_bank_lt              90971\n",
       "debt_fin_lt               92068\n",
       "AP_lt                     92244\n",
       "AP_st                    120635\n",
       "debt_bank_st             121331\n",
       "debt_fin_st              122772\n",
       "days_rec                 740211\n",
       "eqty_corp_family_tot    1023552\n",
       "dtype: int64"
      ]
     },
     "execution_count": 5,
     "metadata": {},
     "output_type": "execute_result"
    }
   ],
   "source": [
    "modeling_df = df.drop(['def_date'],axis=1)\n",
    "modeling_df.isna().sum().sort_values().tail(10)"
   ]
  },
  {
   "cell_type": "code",
   "execution_count": 6,
   "id": "dad7b69b-3a04-4799-8da8-bf6102760a6d",
   "metadata": {},
   "outputs": [],
   "source": [
    "# modeling_df['HQ_city'] = modeling_df['HQ_city'].fillna(-1.0)"
   ]
  },
  {
   "cell_type": "code",
   "execution_count": 7,
   "id": "b1a487fd-bf18-4238-b86b-d364516323c8",
   "metadata": {},
   "outputs": [
    {
     "data": {
      "text/plain": [
       "default\n",
       "0    1010614\n",
       "1      12938\n",
       "Name: count, dtype: int64"
      ]
     },
     "execution_count": 7,
     "metadata": {},
     "output_type": "execute_result"
    }
   ],
   "source": [
    "modeling_df[~modeling_df.index.isin(modeling_df.dropna().index)]['default'].value_counts()"
   ]
  },
  {
   "cell_type": "code",
   "execution_count": 8,
   "id": "f970b64c-3706-4f3b-9f0c-ce38367a9531",
   "metadata": {},
   "outputs": [],
   "source": [
    " modeling_df['sales_growth'] = modeling_df['sales_growth'].replace([np.inf,-np.inf],0)"
   ]
  },
  {
   "cell_type": "code",
   "execution_count": 11,
   "id": "8b4210ab-94f0-42f1-8810-782ab0d4c826",
   "metadata": {},
   "outputs": [
    {
     "data": {
      "text/plain": [
       "asst_tot                               0\n",
       "asst_tot_quantile_values               0\n",
       "financial_leverage                     0\n",
       "financial_leverage_quantile_values     1\n",
       "profitability_ratio                    0\n",
       "profitability_ratio_quantile_values    1\n",
       "net_income_growth                      0\n",
       "net_income_growth_quantile_values      1\n",
       "quick_ratio_v2                         0\n",
       "quick_ratio_v2_quantile_values         0\n",
       "sales_growth                           0\n",
       "sales_growth_quantile_values           0\n",
       "cash_assets_ratio                      0\n",
       "cash_assets_ratio_quantile_values      0\n",
       "dscr                                   0\n",
       "dscr_quantile                          0\n",
       "ebitda                                 0\n",
       "is_first_occurrence                    0\n",
       "dtype: int64"
      ]
     },
     "execution_count": 11,
     "metadata": {},
     "output_type": "execute_result"
    }
   ],
   "source": [
    "modeling_df[features].isna().sum(axis=0)"
   ]
  },
  {
   "cell_type": "code",
   "execution_count": 12,
   "id": "a17127ec-fdef-433e-8616-3d9136737250",
   "metadata": {},
   "outputs": [],
   "source": [
    "### we'll try dropping NA's for now\n",
    "modeling_df = modeling_df[~(modeling_df[features].isna().sum(axis=1)>0)].copy()"
   ]
  },
  {
   "cell_type": "code",
   "execution_count": 13,
   "id": "f80ac97d-b1ed-4f37-824f-43cd003b74ee",
   "metadata": {},
   "outputs": [],
   "source": [
    "modeling_df.sort_values('stmt_date', inplace=True)"
   ]
  },
  {
   "cell_type": "code",
   "execution_count": 14,
   "id": "7426111b-2cb3-4080-bcae-45eb4335c8c3",
   "metadata": {},
   "outputs": [],
   "source": [
    "train_df = modeling_df.iloc[:int(len(modeling_df)*0.8)]"
   ]
  },
  {
   "cell_type": "code",
   "execution_count": 15,
   "id": "d66ed6da-ddd1-4543-8ed7-466c6c772a3c",
   "metadata": {},
   "outputs": [],
   "source": [
    "test_df = modeling_df[~modeling_df.index.isin(train_df.index)]"
   ]
  },
  {
   "cell_type": "code",
   "execution_count": 16,
   "id": "e61d07b1-f058-4ecb-82f5-c068e98d9aa8",
   "metadata": {},
   "outputs": [],
   "source": [
    "import statsmodels.api as sm\n",
    "import statsmodels.formula.api as smf"
   ]
  },
  {
   "cell_type": "code",
   "execution_count": 17,
   "id": "9dd251db-9e58-4b1b-927d-5af08ebedca8",
   "metadata": {},
   "outputs": [],
   "source": [
    "# test_df[feature_list].isna().sum()"
   ]
  },
  {
   "cell_type": "code",
   "execution_count": 141,
   "id": "b07facc8-416a-402c-9eba-1afd9d56264f",
   "metadata": {},
   "outputs": [],
   "source": [
    "quantile_features = [\n",
    "  'asst_tot_quantile_values',\n",
    " 'financial_leverage_quantile_values',\n",
    " 'profitability_ratio_quantile_values',\n",
    " # 'net_income_growth_quantile_values',\n",
    " 'quick_ratio_v2_quantile_values',\n",
    " # 'sales_growth_quantile_values',\n",
    " 'cash_assets_ratio_quantile_values',\n",
    " 'dscr_quantile',\n",
    "    # 'ebitda',\n",
    "    # 'is_first_occurrence'\n",
    "]\n"
   ]
  },
  {
   "cell_type": "code",
   "execution_count": 142,
   "id": "aa57c680-3bdd-41d5-acd7-0ebf2c15d62b",
   "metadata": {},
   "outputs": [],
   "source": [
    "# train_df[quantile_features]"
   ]
  },
  {
   "cell_type": "code",
   "execution_count": 143,
   "id": "d85ab3af-5bda-4778-82e2-a629766382f6",
   "metadata": {},
   "outputs": [],
   "source": [
    "# feature_list = [\n",
    "#                 'HQ_city',\n",
    "#                  'legal_struct',\n",
    "#                  'ateco_sector',\n",
    "#                   'asst_tot',\n",
    "#                  'financial_leverage',\n",
    "#                  'profitability_ratio',\n",
    "#                  'profit',\n",
    "#                  'net_income_growth',\n",
    "#                  'quick_ratio_v2',\n",
    "#                  'sales_growth',\n",
    "#                  'cash_assets_ratio',\n",
    "#                  'dscr'\n",
    "#                  ]"
   ]
  },
  {
   "cell_type": "code",
   "execution_count": 144,
   "id": "9ee55fd5-d2c2-49ee-ab41-83c09a1b6417",
   "metadata": {},
   "outputs": [
    {
     "data": {
      "text/plain": [
       "'default ~ asst_tot_quantile_values + financial_leverage_quantile_values + profitability_ratio_quantile_values + quick_ratio_v2_quantile_values + cash_assets_ratio_quantile_values + dscr_quantile'"
      ]
     },
     "execution_count": 144,
     "metadata": {},
     "output_type": "execute_result"
    }
   ],
   "source": [
    "formula = 'default ~ '+' + '.join(quantile_features)\n",
    "formula"
   ]
  },
  {
   "cell_type": "code",
   "execution_count": 145,
   "id": "2832170b-c200-4d93-96fd-dd7a2aabfe38",
   "metadata": {},
   "outputs": [
    {
     "name": "stdout",
     "output_type": "stream",
     "text": [
      "Optimization terminated successfully.\n",
      "         Current function value: 0.063499\n",
      "         Iterations 10\n",
      "                           Logit Regression Results                           \n",
      "==============================================================================\n",
      "Dep. Variable:                default   No. Observations:               818840\n",
      "Model:                          Logit   Df Residuals:                   818833\n",
      "Method:                           MLE   Df Model:                            6\n",
      "Date:                Sat, 09 Nov 2024   Pseudo R-squ.:                  0.1156\n",
      "Time:                        16:31:11   Log-Likelihood:                -51995.\n",
      "converged:                       True   LL-Null:                       -58791.\n",
      "Covariance Type:            nonrobust   LLR p-value:                     0.000\n",
      "=======================================================================================================\n",
      "                                          coef    std err          z      P>|z|      [0.025      0.975]\n",
      "-------------------------------------------------------------------------------------------------------\n",
      "Intercept                              -4.5603      0.094    -48.288      0.000      -4.745      -4.375\n",
      "asst_tot_quantile_values               81.8126      6.462     12.660      0.000      69.147      94.478\n",
      "financial_leverage_quantile_values      3.5439      0.163     21.730      0.000       3.224       3.864\n",
      "profitability_ratio_quantile_values     9.5625      0.144     66.238      0.000       9.280       9.845\n",
      "quick_ratio_v2_quantile_values        -12.7334      1.987     -6.410      0.000     -16.627      -8.840\n",
      "cash_assets_ratio_quantile_values       4.9756      3.193      1.558      0.119      -1.283      11.235\n",
      "dscr_quantile                          -0.0502      0.001    -59.142      0.000      -0.052      -0.049\n",
      "=======================================================================================================\n"
     ]
    }
   ],
   "source": [
    "model = smf.logit(formula, data = train_df) \n",
    "logit_model_sm = model.fit()\n",
    "print(logit_model_sm.summary())"
   ]
  },
  {
   "cell_type": "code",
   "execution_count": 146,
   "id": "1ffc6d44-b927-4bd9-ba72-ec4693642e5c",
   "metadata": {},
   "outputs": [
    {
     "name": "stdout",
     "output_type": "stream",
     "text": [
      "        Logit Marginal Effects       \n",
      "=====================================\n",
      "Dep. Variable:                default\n",
      "Method:                          dydx\n",
      "At:                           overall\n",
      "=======================================================================================================\n",
      "                                         dy/dx    std err          z      P>|z|      [0.025      0.975]\n",
      "-------------------------------------------------------------------------------------------------------\n",
      "asst_tot_quantile_values                1.0421      0.083     12.594      0.000       0.880       1.204\n",
      "financial_leverage_quantile_values      0.0451      0.002     21.491      0.000       0.041       0.049\n",
      "profitability_ratio_quantile_values     0.1218      0.002     60.474      0.000       0.118       0.126\n",
      "quick_ratio_v2_quantile_values         -0.1622      0.025     -6.401      0.000      -0.212      -0.113\n",
      "cash_assets_ratio_quantile_values       0.0634      0.041      1.558      0.119      -0.016       0.143\n",
      "dscr_quantile                          -0.0006   1.22e-05    -52.429      0.000      -0.001      -0.001\n",
      "=======================================================================================================\n"
     ]
    }
   ],
   "source": [
    "print(logit_model_sm.get_margeff().summary())"
   ]
  },
  {
   "cell_type": "code",
   "execution_count": 147,
   "id": "48646f0c-5d5b-45ff-8b35-c3c0b1c398b5",
   "metadata": {},
   "outputs": [
    {
     "data": {
      "text/html": [
       "<div>\n",
       "<style scoped>\n",
       "    .dataframe tbody tr th:only-of-type {\n",
       "        vertical-align: middle;\n",
       "    }\n",
       "\n",
       "    .dataframe tbody tr th {\n",
       "        vertical-align: top;\n",
       "    }\n",
       "\n",
       "    .dataframe thead th {\n",
       "        text-align: right;\n",
       "    }\n",
       "</style>\n",
       "<table border=\"1\" class=\"dataframe\">\n",
       "  <thead>\n",
       "    <tr style=\"text-align: right;\">\n",
       "      <th></th>\n",
       "      <th>default</th>\n",
       "      <th>predicted_probability</th>\n",
       "    </tr>\n",
       "  </thead>\n",
       "  <tbody>\n",
       "    <tr>\n",
       "      <th>7620</th>\n",
       "      <td>0</td>\n",
       "      <td>0.002650</td>\n",
       "    </tr>\n",
       "    <tr>\n",
       "      <th>563844</th>\n",
       "      <td>0</td>\n",
       "      <td>0.008293</td>\n",
       "    </tr>\n",
       "    <tr>\n",
       "      <th>644987</th>\n",
       "      <td>0</td>\n",
       "      <td>0.004794</td>\n",
       "    </tr>\n",
       "    <tr>\n",
       "      <th>95331</th>\n",
       "      <td>1</td>\n",
       "      <td>0.024650</td>\n",
       "    </tr>\n",
       "    <tr>\n",
       "      <th>563853</th>\n",
       "      <td>0</td>\n",
       "      <td>0.012398</td>\n",
       "    </tr>\n",
       "  </tbody>\n",
       "</table>\n",
       "</div>"
      ],
      "text/plain": [
       "        default  predicted_probability\n",
       "7620          0               0.002650\n",
       "563844        0               0.008293\n",
       "644987        0               0.004794\n",
       "95331         1               0.024650\n",
       "563853        0               0.012398"
      ]
     },
     "execution_count": 147,
     "metadata": {},
     "output_type": "execute_result"
    }
   ],
   "source": [
    "predictions = test_df[['default']].copy()\n",
    "predictions['predicted_probability'] = logit_model_sm.predict(test_df)\n",
    "# predictions.dropna(inplace=True)\n",
    "predictions.head()"
   ]
  },
  {
   "cell_type": "code",
   "execution_count": 148,
   "id": "56925498-f45c-4a4e-b82b-f9314c54b765",
   "metadata": {},
   "outputs": [
    {
     "data": {
      "text/plain": [
       "count    204711.000000\n",
       "mean          0.013490\n",
       "std           0.023851\n",
       "min           0.001259\n",
       "25%           0.004224\n",
       "50%           0.008324\n",
       "75%           0.016739\n",
       "max           0.652917\n",
       "Name: predicted_probability, dtype: float64"
      ]
     },
     "execution_count": 148,
     "metadata": {},
     "output_type": "execute_result"
    }
   ],
   "source": [
    "predictions['predicted_probability'].describe()"
   ]
  },
  {
   "cell_type": "code",
   "execution_count": 110,
   "id": "034a06a3-c92b-45b9-9f51-ab983cd6c1b5",
   "metadata": {},
   "outputs": [
    {
     "data": {
      "text/plain": [
       "np.float64(0.0007376711771845617)"
      ]
     },
     "execution_count": 110,
     "metadata": {},
     "output_type": "execute_result"
    }
   ],
   "source": [
    "predictions['predicted_probability'].min()"
   ]
  },
  {
   "cell_type": "code",
   "execution_count": 111,
   "id": "2c3d5b89-e905-434f-a893-6fba98f7ebcf",
   "metadata": {},
   "outputs": [
    {
     "data": {
      "text/plain": [
       "np.float64(0.008949201557317389)"
      ]
     },
     "execution_count": 111,
     "metadata": {},
     "output_type": "execute_result"
    }
   ],
   "source": [
    "predictions['default'].mean()"
   ]
  },
  {
   "cell_type": "code",
   "execution_count": 112,
   "id": "ecc7e8fb-2a72-4c90-ad32-a4c33ed83c23",
   "metadata": {},
   "outputs": [],
   "source": [
    "from sklearn.calibration import CalibratedClassifierCV"
   ]
  },
  {
   "cell_type": "code",
   "execution_count": 113,
   "id": "db334458-3572-409e-92bc-f6da4c1ff7ab",
   "metadata": {},
   "outputs": [],
   "source": [
    "cal_model = CalibratedClassifierCV"
   ]
  },
  {
   "cell_type": "code",
   "execution_count": 114,
   "id": "db74da59-6735-4080-91ae-77bb88b79678",
   "metadata": {},
   "outputs": [
    {
     "name": "stdout",
     "output_type": "stream",
     "text": [
      "0.8330730831444709 0.9995401655379281\n"
     ]
    },
    {
     "data": {
      "image/png": "[encoded data removed]",
      "text/plain": [
       "<Figure size 800x600 with 1 Axes>"
      ]
     },
     "metadata": {},
     "output_type": "display_data"
    }
   ],
   "source": [
    "field = 'predicted_probability'\n",
    "# custom_bins = [0,.10,.11,.12,.13,.14,.19]\n",
    "cut, bins = pd.cut(predictions['predicted_probability'], bins=6, labels=False, retbins=True, duplicates = 'drop')\n",
    "cut+=1# Adding 1 to make quantiles start from 1\n",
    "default_prob_values = predictions.groupby(cut)[['default']].mean()\n",
    "# print(bins)\n",
    "print(bins[-2],bins[-1])\n",
    "plt.figure(figsize=(8, 6))\n",
    "plt.plot(default_prob_values.index, default_prob_values.default, marker='o', linestyle='-', color='b')\n",
    "plt.title(f'Conditional Mean by {field}')\n",
    "plt.xlabel(field)\n",
    "plt.ylabel('Default Probability')\n",
    "plt.grid(True)\n",
    "plt.show()"
   ]
  },
  {
   "cell_type": "code",
   "execution_count": 115,
   "id": "73ba8908-dd96-48e7-a77e-2842aeb81860",
   "metadata": {},
   "outputs": [
    {
     "data": {
      "text/plain": [
       "np.float64(0.0007376711771845617)"
      ]
     },
     "execution_count": 115,
     "metadata": {},
     "output_type": "execute_result"
    }
   ],
   "source": [
    "predictions['predicted_probability'].min()"
   ]
  },
  {
   "cell_type": "code",
   "execution_count": null,
   "id": "47857963-0dce-4538-99cf-06a6779cc1ec",
   "metadata": {},
   "outputs": [],
   "source": []
  },
  {
   "cell_type": "code",
   "execution_count": 116,
   "id": "528fba2f-3055-4b8b-91e6-3d0b29093d59",
   "metadata": {},
   "outputs": [],
   "source": [
    "from sklearn import metrics"
   ]
  },
  {
   "cell_type": "code",
   "execution_count": 117,
   "id": "d0db62f5-051a-4ff9-97f1-923dbce3dc47",
   "metadata": {},
   "outputs": [
    {
     "data": {
      "text/plain": [
       "np.float64(0.8005826568683537)"
      ]
     },
     "execution_count": 117,
     "metadata": {},
     "output_type": "execute_result"
    }
   ],
   "source": [
    "metrics.roc_auc_score(y_score=predictions['predicted_probability'], y_true=predictions['default'])"
   ]
  },
  {
   "cell_type": "code",
   "execution_count": 118,
   "id": "c579a40b-4214-4164-9d75-5e2f9ba26f05",
   "metadata": {},
   "outputs": [],
   "source": [
    "import seaborn as sns\n",
    "sns.set()"
   ]
  },
  {
   "cell_type": "code",
   "execution_count": 119,
   "id": "8593344f-b887-4727-950d-bdf9984d48f8",
   "metadata": {},
   "outputs": [
    {
     "data": {
      "text/plain": [
       "<Axes: xlabel='predicted_probability', ylabel='Count'>"
      ]
     },
     "execution_count": 119,
     "metadata": {},
     "output_type": "execute_result"
    },
    {
     "data": {
      "image/png": "[encoded data removed]",
      "text/plain": [
       "<Figure size 640x480 with 1 Axes>"
      ]
     },
     "metadata": {},
     "output_type": "display_data"
    }
   ],
   "source": [
    "sns.histplot(predictions['predicted_probability'])"
   ]
  },
  {
   "cell_type": "code",
   "execution_count": 120,
   "id": "a5971c0c-04f9-4d0f-a086-ea094f9e5f34",
   "metadata": {},
   "outputs": [
    {
     "name": "stdout",
     "output_type": "stream",
     "text": [
      "ROC AUC 0.8005826568683537\n"
     ]
    },
    {
     "data": {
      "text/plain": [
       "<sklearn.metrics._plot.roc_curve.RocCurveDisplay at 0x2c7e599a0>"
      ]
     },
     "execution_count": 120,
     "metadata": {},
     "output_type": "execute_result"
    },
    {
     "data": {
      "image/png": "[encoded data removed]",
      "text/plain": [
       "<Figure size 640x480 with 1 Axes>"
      ]
     },
     "metadata": {},
     "output_type": "display_data"
    }
   ],
   "source": [
    "fpr, tpr, thresholds = metrics.roc_curve(predictions['default'], predictions['predicted_probability'])\n",
    "roc_auc = metrics.auc(fpr, tpr)\n",
    "roc_display = metrics.RocCurveDisplay(fpr=fpr, tpr=tpr, roc_auc=roc_auc)\n",
    "print(f'ROC AUC {roc_auc}')\n",
    "roc_display.plot()"
   ]
  },
  {
   "cell_type": "markdown",
   "id": "c00e0db3-2016-4c4b-a621-f79673fe8c7d",
   "metadata": {},
   "source": [
    "## Walk forward"
   ]
  },
  {
   "cell_type": "code",
   "execution_count": 121,
   "id": "6440d5be-1f75-4f47-aa52-b249f626bdee",
   "metadata": {},
   "outputs": [],
   "source": [
    "def predictor(new_df, model):\n",
    "    predictions = model.predict(new_df)\n",
    "    return(predictions)"
   ]
  },
  {
   "cell_type": "code",
   "execution_count": 122,
   "id": "a3d520c0-a2b2-4aba-892e-cf22da78f4e0",
   "metadata": {},
   "outputs": [],
   "source": [
    "def preprocessor(df, preproc_params = {}, new = True):\n",
    "\n",
    "    quantiles = preproc_params['quantiles']\n",
    "    \n",
    "    to_quantile_features = ['asst_tot',\n",
    "                 'financial_leverage',\n",
    "                 'profitability_ratio',\n",
    "                 'profit',\n",
    "                 # 'net_income_growth',\n",
    "                 'quick_ratio_v2',\n",
    "                 # 'sales_growth',\n",
    "                 'cash_assets_ratio',\n",
    "                 'dscr']\n",
    "\n",
    "    feature_names = []\n",
    "    \n",
    "    for feature in to_quantile_features:\n",
    "        if new:\n",
    "            cut, bins = pd.qcut(df[feature], q=quantiles, retbins=True,labels=False, duplicates='drop')\n",
    "            \n",
    "            prob_values = df.groupby(cut)[['default']].mean()\n",
    "\n",
    "            feature_name = f'{feature}_quantile_value'\n",
    "            feature_names.append(feature_name)\n",
    "            \n",
    "            df[feature_name] = cut.to_frame().join(prob_values, how='left',on= feature)['default']\n",
    "            preproc_params['quantile_bins'][feature] = bins\n",
    "            \n",
    "        else:\n",
    "            if feature not in preproc_params['quantile_bins']:\n",
    "                raise Exception(\"Error bins haven't been fitted\")\n",
    "            bins = preproc_params['quantile_bins'][feature]\n",
    "            \n",
    "            cut = pd.cut(df[feature], bins=bins, labels=False, include_lowest=True)\n",
    "            prob_values = df.groupby(cut)[['default']].mean()\n",
    "\n",
    "            feature_name = f'{feature}_quantile_value'\n",
    "            feature_names.append(feature_name)\n",
    "            \n",
    "            df[feature_name] = cut.to_frame().join(prob_values, how='left',on= feature)['default']\n",
    "\n",
    "    preproc_params['features'] = feature_names\n",
    "    \n",
    "    return(df, preproc_params)"
   ]
  },
  {
   "cell_type": "code",
   "execution_count": 123,
   "id": "ba6fbbcd-7da8-4fcf-933d-1b4c162558c1",
   "metadata": {},
   "outputs": [],
   "source": [
    "def estimator(df, fitting_algo, est_params = {}):\n",
    "    \n",
    "    my_formula = est_params['formula']\n",
    "    model = fitting_algo(my_formula, data = df) \n",
    "    fitted_model = model.fit(disp=False)\n",
    "    \n",
    "    return(fitted_model)"
   ]
  },
  {
   "cell_type": "code",
   "execution_count": 124,
   "id": "c194cc6f-6f32-4d08-be4f-2f674fa7704c",
   "metadata": {},
   "outputs": [],
   "source": [
    "def progress_bar(k, n, incr_txt=\"Step\", bar_len = 10):\n",
    "   \n",
    "    bar_char  = u'\\u25A5'\n",
    "    line_char = u'\\u21E2' # u'\\u2192'  u'\\u23AF' u'\\u25AD'\n",
    "    \n",
    "    places   = int(np.ceil(n/bar_len))\n",
    "    pct      = k/n\n",
    "    n_str    = \"{:,.0f}\".format(n)        \n",
    "    k_str    = \"{:,.0f}\".format(k)\n",
    "    pct_str  = \"{:,.0f}%\".format(k/n * 100)\n",
    "    # d_format = \"%\" + str(places) + \"d\"\n",
    "    \n",
    "    if k == n-1:\n",
    "        n_bars = bar_len\n",
    "        n_spaces = 0\n",
    "        text_txt = \"Completed \" + n_str + \" \" + incr_txt + \"s.\"\n",
    "    else:\n",
    "        n_bars   = int(np.floor(pct * bar_len))\n",
    "        n_spaces = bar_len - n_bars\n",
    "        text_txt = \" \" + pct_str +  \" (\" + incr_txt + \" \" + k_str + \" of  \" + n_str + \").\"\n",
    "\n",
    "    bar_txt  = \"[\" + \"\".ljust(n_bars,bar_char) + \"\".rjust(n_spaces,line_char) + \"]  \" \n",
    "\n",
    "    clear_output()\n",
    "    display(bar_txt + text_txt)"
   ]
  },
  {
   "cell_type": "code",
   "execution_count": null,
   "id": "d671a5b8-fdd2-484d-b059-d752bf76069a",
   "metadata": {},
   "outputs": [],
   "source": []
  },
  {
   "cell_type": "code",
   "execution_count": 125,
   "id": "92f95325-8582-4002-91cc-1cf7f05a6756",
   "metadata": {},
   "outputs": [],
   "source": [
    "def walk_forward_harness(df, preprocessor, estimator, predictor, \n",
    "                         start, date_col = 'Date', step_size = 1):     \n",
    "    predictions = []\n",
    "    model_list = []\n",
    "    group_list = []\n",
    "    \n",
    "    stats_list = []\n",
    "    def_percent = []\n",
    "\n",
    "    labels = []\n",
    "\n",
    "    preproc_params = {\n",
    "        'quantiles':20,\n",
    "        'quantile_bins':{},\n",
    "        'features': quantile_features\n",
    "    }\n",
    "    \n",
    "    \n",
    "    df[date_col] = pd.to_datetime(df[date_col])\n",
    "    walk_range = df[date_col].dt.year.unique()\n",
    "    \n",
    "    for i in range(start,len(walk_range), step_size):\n",
    "        \n",
    "        train_idx = walk_range[:i]\n",
    "        test_idx = [walk_range[i]]\n",
    "\n",
    "        # print('train',train_idx)\n",
    "        # print('test',test_idx)\n",
    "        \n",
    "        train_data = df[df[date_col].dt.year.isin(train_idx)].copy()\n",
    "        test_data = df[df[date_col].dt.year.isin(test_idx)].copy()\n",
    "        \n",
    "        # train_data_proc , preproc_params = preprocessor(train_data, preproc_params, new=True)\n",
    "        # test_data_proc , preproc_params = preprocessor(test_data, preproc_params, new=False)\n",
    "        train_data_proc = train_data\n",
    "        test_data_proc = test_data\n",
    "        \n",
    "        algo_params = {'formula': 'default ~ '+' + '.join(preproc_params['features'])}\n",
    "        \n",
    "        algo = smf.logit\n",
    "    \n",
    "        trained_model = estimator(train_data_proc, algo, algo_params)\n",
    "        prediction = predictor(test_data_proc, trained_model)\n",
    "        \n",
    "        \n",
    "        labels += list(test_data['default'].values)\n",
    "        predictions += list(prediction.values)\n",
    "        \n",
    "        group_list += test_idx * len(prediction.values)\n",
    "        \n",
    "        try:\n",
    "            preds = pd.DataFrame([labels,predictions,group_list]).T\n",
    "            preds.columns = ['label','prediction','group']\n",
    "            preds = preds.dropna()\n",
    "            score = metrics.roc_auc_score(y_score=preds['prediction'], y_true=preds['label'])\n",
    "            \n",
    "        except Exception as e:\n",
    "            print(F'Error scoring {e}')\n",
    "            score = np.nan\n",
    "\n",
    "        \n",
    "        stats_list.append(score)\n",
    "        model_list.append(trained_model)\n",
    "        \n",
    "\n",
    "        progress_bar(i, len(walk_range))\n",
    "    \n",
    "    predictions = pd.DataFrame([labels,predictions,group_list]).T\n",
    "    predictions.columns = ['label','prediction','group']\n",
    "    #predictions.set_index('index', inplace=True)\n",
    "    \n",
    "    return(predictions, model_list, stats_list)"
   ]
  },
  {
   "cell_type": "code",
   "execution_count": null,
   "id": "92b04394-546a-478a-9c1a-dc88f7a34772",
   "metadata": {},
   "outputs": [],
   "source": []
  },
  {
   "cell_type": "code",
   "execution_count": 126,
   "id": "907ffda8-bbce-4e99-9f97-a9ef82cd4e54",
   "metadata": {},
   "outputs": [
    {
     "data": {
      "text/plain": [
       "'[▥▥▥▥▥▥▥▥▥▥]  Completed 6 Steps.'"
      ]
     },
     "metadata": {},
     "output_type": "display_data"
    }
   ],
   "source": [
    "predictions, model_list, stats_list = walk_forward_harness(modeling_df,\n",
    "                                                           preprocessor = preprocessor, \n",
    "                                                           estimator = estimator, \n",
    "                                                           predictor = predictor, \n",
    "                                                           date_col = 'stmt_date',\n",
    "                                                           start = 1, \n",
    "                                                           step_size = 1)"
   ]
  },
  {
   "cell_type": "code",
   "execution_count": 127,
   "id": "33d48258-b4cc-4a37-8eed-de8568947652",
   "metadata": {},
   "outputs": [
    {
     "data": {
      "text/plain": [
       "label          0\n",
       "prediction    17\n",
       "group          0\n",
       "dtype: int64"
      ]
     },
     "execution_count": 127,
     "metadata": {},
     "output_type": "execute_result"
    }
   ],
   "source": [
    "predictions.isna().sum()"
   ]
  },
  {
   "cell_type": "code",
   "execution_count": 130,
   "id": "513d4d77-3b41-4a91-aa3f-db0f34796288",
   "metadata": {},
   "outputs": [],
   "source": [
    "predictions = predictions.dropna()"
   ]
  },
  {
   "cell_type": "code",
   "execution_count": 131,
   "id": "ac32b556-db1a-4d9f-8fce-25ffb2116382",
   "metadata": {},
   "outputs": [
    {
     "name": "stdout",
     "output_type": "stream",
     "text": [
      "ROC AUC 0.7749998931754506\n"
     ]
    },
    {
     "data": {
      "text/plain": [
       "<sklearn.metrics._plot.roc_curve.RocCurveDisplay at 0x313cc74d0>"
      ]
     },
     "execution_count": 131,
     "metadata": {},
     "output_type": "execute_result"
    },
    {
     "data": {
      "image/png": "[encoded data removed]",
      "text/plain": [
       "<Figure size 640x480 with 1 Axes>"
      ]
     },
     "metadata": {},
     "output_type": "display_data"
    }
   ],
   "source": [
    "fpr, tpr, thresholds = metrics.roc_curve(predictions['label'], predictions['prediction'])\n",
    "roc_auc = metrics.auc(fpr, tpr)\n",
    "roc_display = metrics.RocCurveDisplay(fpr=fpr, tpr=tpr, roc_auc=roc_auc)\n",
    "print(f'ROC AUC {roc_auc}')\n",
    "roc_display.plot()"
   ]
  },
  {
   "cell_type": "code",
   "execution_count": 132,
   "id": "3313c6bb-e71a-46bf-b269-e8d955e8cecd",
   "metadata": {},
   "outputs": [
    {
     "data": {
      "text/plain": [
       "Text(0, 0.5, 'ROC AUC score (for that test set of size Step)')"
      ]
     },
     "execution_count": 132,
     "metadata": {},
     "output_type": "execute_result"
    },
    {
     "data": {
      "image/png": "[encoded data removed]",
      "text/plain": [
       "<Figure size 640x480 with 1 Axes>"
      ]
     },
     "metadata": {},
     "output_type": "display_data"
    }
   ],
   "source": [
    "sns.lineplot(x=predictions['group'].unique(), y=stats_list, marker=\"o\")\n",
    "plt.title('ROC AUC scores over each step iteration')\n",
    "plt.xlabel('Walk forward Iteration')\n",
    "plt.ylabel('ROC AUC score (for that test set of size Step)')"
   ]
  },
  {
   "cell_type": "code",
   "execution_count": 133,
   "id": "23a0a9a2-092a-4bbd-bb4b-e7175792fe91",
   "metadata": {},
   "outputs": [],
   "source": [
    "default_data_viz = predictions.groupby('group')['label'].mean()"
   ]
  },
  {
   "cell_type": "code",
   "execution_count": 95,
   "id": "33e9dbd6-ce2d-4892-8783-d6556befb54a",
   "metadata": {},
   "outputs": [
    {
     "data": {
      "text/plain": [
       "Text(0, 0.5, '% of defaults')"
      ]
     },
     "execution_count": 95,
     "metadata": {},
     "output_type": "execute_result"
    },
    {
     "data": {
      "image/png": "[encoded data removed]",
      "text/plain": [
       "<Figure size 640x480 with 1 Axes>"
      ]
     },
     "metadata": {},
     "output_type": "display_data"
    }
   ],
   "source": [
    "sns.lineplot(x=default_data_viz.index, y=default_data_viz, marker=\"o\")\n",
    "plt.title('% of defaults in each test set of walkforward')\n",
    "plt.xlabel('Walk forward Iteration')\n",
    "plt.ylabel('% of defaults')"
   ]
  },
  {
   "cell_type": "code",
   "execution_count": null,
   "id": "7ce0ff65-e770-4a0b-a864-ad82cd0ae26d",
   "metadata": {},
   "outputs": [],
   "source": []
  }
 ],
 "metadata": {
  "kernelspec": {
   "display_name": "Python 3 (ipykernel)",
   "language": "python",
   "name": "python3"
  },
  "language_info": {
   "codemirror_mode": {
    "name": "ipython",
    "version": 3
   },
   "file_extension": ".py",
   "mimetype": "text/x-python",
   "name": "python",
   "nbconvert_exporter": "python",
   "pygments_lexer": "ipython3",
   "version": "3.12.1"
  }
 },
 "nbformat": 4,
 "nbformat_minor": 5
}
