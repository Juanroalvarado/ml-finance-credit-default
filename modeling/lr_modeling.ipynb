{
 "cells": [
  {
   "cell_type": "code",
   "execution_count": 1,
   "id": "ed16e89e-9105-47c4-a57f-817ec25c5d10",
   "metadata": {},
   "outputs": [],
   "source": [
    "import pandas as pd\n",
    "import numpy as np\n",
    "\n",
    "import matplotlib.pyplot as plt\n",
    "\n",
    "from IPython.display import clear_output, display"
   ]
  },
  {
   "cell_type": "markdown",
   "id": "93bf0463-9366-4f68-84ba-f3cf1f87fffa",
   "metadata": {},
   "source": [
    "## Modeling"
   ]
  },
  {
   "cell_type": "code",
   "execution_count": 36,
   "id": "f8e98d78-8b4c-4783-aedd-a9f5db9a9870",
   "metadata": {},
   "outputs": [
    {
     "name": "stderr",
     "output_type": "stream",
     "text": [
      "/var/folders/kj/yvh7dv5569ggqx7tcy8crpp00000gn/T/ipykernel_84099/1394540614.py:1: DtypeWarning: Columns (6) have mixed types. Specify dtype option on import or set low_memory=False.\n",
      "  df = pd.read_csv('../data/features_for_model.csv', index_col=0)\n"
     ]
    },
    {
     "data": {
      "text/plain": [
       "(1023552, 16)"
      ]
     },
     "execution_count": 36,
     "metadata": {},
     "output_type": "execute_result"
    }
   ],
   "source": [
    "df = pd.read_csv('../data/features_for_model.csv', index_col=0)\n",
    "df.shape"
   ]
  },
  {
   "cell_type": "code",
   "execution_count": 37,
   "id": "a92d5566-4512-42df-9940-9d36bcde30d6",
   "metadata": {},
   "outputs": [],
   "source": [
    "df['stmt_date'] = pd.to_datetime(df['stmt_date'])"
   ]
  },
  {
   "cell_type": "code",
   "execution_count": 38,
   "id": "e3f0868c-23f9-49bc-998c-8d81cde8a427",
   "metadata": {},
   "outputs": [
    {
     "data": {
      "text/plain": [
       "stmt_date\n",
       "2007    144528\n",
       "2008    161863\n",
       "2009    171150\n",
       "2010    175399\n",
       "2011    184973\n",
       "2012    185639\n",
       "Name: count, dtype: int64"
      ]
     },
     "execution_count": 38,
     "metadata": {},
     "output_type": "execute_result"
    }
   ],
   "source": [
    "df['stmt_date'].dt.year.value_counts().sort_index()"
   ]
  },
  {
   "cell_type": "code",
   "execution_count": 39,
   "id": "62601df8-634c-4bce-bcaa-6037f7c554ff",
   "metadata": {},
   "outputs": [],
   "source": [
    "df['available_date'] = (df['stmt_date'] + pd.Timedelta(days=180)) + pd.offsets.MonthEnd(0)"
   ]
  },
  {
   "cell_type": "code",
   "execution_count": 40,
   "id": "1944d489-f272-4bef-a182-1dda3809e4ee",
   "metadata": {},
   "outputs": [],
   "source": [
    "df['def_date'] = pd.to_datetime(df['def_date'])\n",
    "\n",
    "# Calculate 1 year after stmt_date\n",
    "one_year_after = df['available_date'] + pd.DateOffset(years=1)\n",
    "\n",
    "# Define default if def_date is between stmt_date and one_year_after\n",
    "df['default_2'] = ((df['def_date'] >= df['available_date']) & (df['def_date'] <= one_year_after)).astype(int)"
   ]
  },
  {
   "cell_type": "code",
   "execution_count": 41,
   "id": "54cd51a0-e399-4d9b-880c-c516576b2a95",
   "metadata": {},
   "outputs": [
    {
     "data": {
      "text/plain": [
       "(np.float64(0.0112783717876571), np.float64(0.012942185643719127))"
      ]
     },
     "execution_count": 41,
     "metadata": {},
     "output_type": "execute_result"
    }
   ],
   "source": [
    "df['default'].mean(),df['default_2'].mean()"
   ]
  },
  {
   "cell_type": "code",
   "execution_count": 42,
   "id": "1bd8fd03-f976-4ad0-ae0f-c1eb9a3f4f36",
   "metadata": {},
   "outputs": [
    {
     "data": {
      "text/plain": [
       "id                       0\n",
       "stmt_date                0\n",
       "HQ_city                277\n",
       "legal_struct             0\n",
       "ateco_sector             0\n",
       "fs_year                  0\n",
       "asst_tot                 0\n",
       "COGS                    24\n",
       "financial_leverage     156\n",
       "profitability_ratio     20\n",
       "quick_ratio_v2          47\n",
       "cash_assets_ratio       17\n",
       "dscr                   405\n",
       "default                  0\n",
       "available_date           0\n",
       "default_2                0\n",
       "dtype: int64"
      ]
     },
     "execution_count": 42,
     "metadata": {},
     "output_type": "execute_result"
    }
   ],
   "source": [
    "modeling_df = df.drop(['def_date','quick_ratio_v1'],axis=1)\n",
    "modeling_df.isna().sum()"
   ]
  },
  {
   "cell_type": "code",
   "execution_count": 43,
   "id": "dad7b69b-3a04-4799-8da8-bf6102760a6d",
   "metadata": {},
   "outputs": [],
   "source": [
    "modeling_df['HQ_city'] = modeling_df['HQ_city'].fillna(-1.0)"
   ]
  },
  {
   "cell_type": "code",
   "execution_count": 44,
   "id": "bfb9eac0-c61d-4df3-8e0a-f6a7a7322819",
   "metadata": {},
   "outputs": [],
   "source": [
    "modeling_df['quick_ratio_v2'] = modeling_df['quick_ratio_v2'].replace([-np.inf,np.inf],0)"
   ]
  },
  {
   "cell_type": "code",
   "execution_count": 45,
   "id": "b1a487fd-bf18-4238-b86b-d364516323c8",
   "metadata": {},
   "outputs": [
    {
     "data": {
      "text/plain": [
       "default\n",
       "0    550\n",
       "1      9\n",
       "Name: count, dtype: int64"
      ]
     },
     "execution_count": 45,
     "metadata": {},
     "output_type": "execute_result"
    }
   ],
   "source": [
    "modeling_df[~modeling_df.index.isin(modeling_df.dropna().index)]['default'].value_counts()"
   ]
  },
  {
   "cell_type": "code",
   "execution_count": 46,
   "id": "f8ad4555-6d58-4b82-b122-39fc78b324bd",
   "metadata": {},
   "outputs": [
    {
     "data": {
      "text/plain": [
       "default\n",
       "0    1011458\n",
       "1      11535\n",
       "Name: count, dtype: int64"
      ]
     },
     "execution_count": 46,
     "metadata": {},
     "output_type": "execute_result"
    }
   ],
   "source": [
    "modeling_df[modeling_df.index.isin(modeling_df.dropna().index)]['default'].value_counts()"
   ]
  },
  {
   "cell_type": "code",
   "execution_count": 47,
   "id": "529a7181-1946-4a60-a6b0-e0e384e54049",
   "metadata": {},
   "outputs": [
    {
     "data": {
      "text/plain": [
       "default_2\n",
       "0    1009759\n",
       "1      13234\n",
       "Name: count, dtype: int64"
      ]
     },
     "execution_count": 47,
     "metadata": {},
     "output_type": "execute_result"
    }
   ],
   "source": [
    "modeling_df[modeling_df.index.isin(modeling_df.dropna().index)]['default_2'].value_counts()"
   ]
  },
  {
   "cell_type": "code",
   "execution_count": 48,
   "id": "a17127ec-fdef-433e-8616-3d9136737250",
   "metadata": {},
   "outputs": [],
   "source": [
    "### we'll try dropping NA's for now\n",
    "modeling_df = modeling_df.dropna().copy()"
   ]
  },
  {
   "cell_type": "code",
   "execution_count": 49,
   "id": "f80ac97d-b1ed-4f37-824f-43cd003b74ee",
   "metadata": {},
   "outputs": [],
   "source": [
    "modeling_df.sort_values('stmt_date', inplace=True)"
   ]
  },
  {
   "cell_type": "code",
   "execution_count": 50,
   "id": "7426111b-2cb3-4080-bcae-45eb4335c8c3",
   "metadata": {},
   "outputs": [],
   "source": [
    "train_df = modeling_df.iloc[:int(len(modeling_df)*0.8)]"
   ]
  },
  {
   "cell_type": "code",
   "execution_count": 51,
   "id": "d66ed6da-ddd1-4543-8ed7-466c6c772a3c",
   "metadata": {},
   "outputs": [],
   "source": [
    "test_df = modeling_df[~modeling_df.index.isin(train_df.index)]"
   ]
  },
  {
   "cell_type": "code",
   "execution_count": 52,
   "id": "e61d07b1-f058-4ecb-82f5-c068e98d9aa8",
   "metadata": {},
   "outputs": [],
   "source": [
    "import statsmodels.api as sm\n",
    "import statsmodels.formula.api as smf"
   ]
  },
  {
   "cell_type": "code",
   "execution_count": 53,
   "id": "b07facc8-416a-402c-9eba-1afd9d56264f",
   "metadata": {},
   "outputs": [
    {
     "data": {
      "text/plain": [
       "['id',\n",
       " 'stmt_date',\n",
       " 'HQ_city',\n",
       " 'legal_struct',\n",
       " 'ateco_sector',\n",
       " 'fs_year',\n",
       " 'asst_tot',\n",
       " 'COGS',\n",
       " 'financial_leverage',\n",
       " 'profitability_ratio',\n",
       " 'quick_ratio_v2',\n",
       " 'cash_assets_ratio',\n",
       " 'dscr',\n",
       " 'default',\n",
       " 'available_date',\n",
       " 'default_2']"
      ]
     },
     "execution_count": 53,
     "metadata": {},
     "output_type": "execute_result"
    }
   ],
   "source": [
    "modeling_df.columns.to_list()"
   ]
  },
  {
   "cell_type": "code",
   "execution_count": 54,
   "id": "d85ab3af-5bda-4778-82e2-a629766382f6",
   "metadata": {},
   "outputs": [],
   "source": [
    "feature_list = [\n",
    "                'HQ_city',\n",
    "                 # 'legal_struct',\n",
    "                 'ateco_sector',\n",
    "                 'asst_tot',\n",
    "                 'COGS',\n",
    "                 'financial_leverage',\n",
    "                 'profitability_ratio',\n",
    "                 'quick_ratio_v2',\n",
    "                 'cash_assets_ratio',\n",
    "                 'dscr',]"
   ]
  },
  {
   "cell_type": "code",
   "execution_count": 60,
   "id": "09e027d2-2f46-4ab6-8ccd-36bd90581674",
   "metadata": {},
   "outputs": [],
   "source": [
    "feature_list = [\n",
    "                # 'HQ_city',\n",
    "                 # 'legal_struct',\n",
    "                 'ateco_sector',\n",
    "                 'asst_tot',\n",
    "                 'COGS',\n",
    "                 'financial_leverage',\n",
    "                 'profitability_ratio',\n",
    "                 # 'quick_ratio_v2',\n",
    "                 'cash_assets_ratio',\n",
    "                 # 'dscr',\n",
    "]"
   ]
  },
  {
   "cell_type": "code",
   "execution_count": 61,
   "id": "9ee55fd5-d2c2-49ee-ab41-83c09a1b6417",
   "metadata": {},
   "outputs": [
    {
     "data": {
      "text/plain": [
       "'default_2 ~ ateco_sector + asst_tot + COGS + financial_leverage + profitability_ratio + cash_assets_ratio'"
      ]
     },
     "execution_count": 61,
     "metadata": {},
     "output_type": "execute_result"
    }
   ],
   "source": [
    "formula = 'default_2 ~ '+' + '.join(feature_list)\n",
    "formula"
   ]
  },
  {
   "cell_type": "code",
   "execution_count": 62,
   "id": "2832170b-c200-4d93-96fd-dd7a2aabfe38",
   "metadata": {},
   "outputs": [
    {
     "name": "stdout",
     "output_type": "stream",
     "text": [
      "Optimization terminated successfully.\n",
      "         Current function value: 0.071350\n",
      "         Iterations 10\n",
      "                           Logit Regression Results                           \n",
      "==============================================================================\n",
      "Dep. Variable:              default_2   No. Observations:               818394\n",
      "Model:                          Logit   Df Residuals:                   818387\n",
      "Method:                           MLE   Df Model:                            6\n",
      "Date:                Wed, 30 Oct 2024   Pseudo R-squ.:                 0.05817\n",
      "Time:                        01:43:39   Log-Likelihood:                -58393.\n",
      "converged:                       True   LL-Null:                       -61999.\n",
      "Covariance Type:            nonrobust   LLR p-value:                     0.000\n",
      "=======================================================================================\n",
      "                          coef    std err          z      P>|z|      [0.025      0.975]\n",
      "---------------------------------------------------------------------------------------\n",
      "Intercept              -4.6323      0.032   -142.684      0.000      -4.696      -4.569\n",
      "ateco_sector           -0.0062      0.000    -12.764      0.000      -0.007      -0.005\n",
      "asst_tot            -1.299e-09   6.04e-10     -2.151      0.032   -2.48e-09   -1.15e-10\n",
      "COGS                -2.947e-09   7.73e-10     -3.813      0.000   -4.46e-09   -1.43e-09\n",
      "financial_leverage      0.9884      0.028     35.693      0.000       0.934       1.043\n",
      "profitability_ratio    -2.4961      0.049    -51.384      0.000      -2.591      -2.401\n",
      "cash_assets_ratio      -1.4751      0.121    -12.201      0.000      -1.712      -1.238\n",
      "=======================================================================================\n"
     ]
    }
   ],
   "source": [
    "model = smf.logit(formula, data = train_df) \n",
    "logit_model_sm = model.fit()\n",
    "print(logit_model_sm.summary())"
   ]
  },
  {
   "cell_type": "code",
   "execution_count": 63,
   "id": "48646f0c-5d5b-45ff-8b35-c3c0b1c398b5",
   "metadata": {},
   "outputs": [
    {
     "data": {
      "text/html": [
       "<div>\n",
       "<style scoped>\n",
       "    .dataframe tbody tr th:only-of-type {\n",
       "        vertical-align: middle;\n",
       "    }\n",
       "\n",
       "    .dataframe tbody tr th {\n",
       "        vertical-align: top;\n",
       "    }\n",
       "\n",
       "    .dataframe thead th {\n",
       "        text-align: right;\n",
       "    }\n",
       "</style>\n",
       "<table border=\"1\" class=\"dataframe\">\n",
       "  <thead>\n",
       "    <tr style=\"text-align: right;\">\n",
       "      <th></th>\n",
       "      <th>default</th>\n",
       "      <th>predicted_probability</th>\n",
       "    </tr>\n",
       "    <tr>\n",
       "      <th>Unnamed: 0</th>\n",
       "      <th></th>\n",
       "      <th></th>\n",
       "    </tr>\n",
       "  </thead>\n",
       "  <tbody>\n",
       "    <tr>\n",
       "      <th>2471028</th>\n",
       "      <td>0</td>\n",
       "      <td>0.023471</td>\n",
       "    </tr>\n",
       "    <tr>\n",
       "      <th>2498807</th>\n",
       "      <td>0</td>\n",
       "      <td>0.007457</td>\n",
       "    </tr>\n",
       "    <tr>\n",
       "      <th>2471048</th>\n",
       "      <td>0</td>\n",
       "      <td>0.002610</td>\n",
       "    </tr>\n",
       "    <tr>\n",
       "      <th>2471109</th>\n",
       "      <td>0</td>\n",
       "      <td>0.014760</td>\n",
       "    </tr>\n",
       "    <tr>\n",
       "      <th>2498783</th>\n",
       "      <td>0</td>\n",
       "      <td>0.009151</td>\n",
       "    </tr>\n",
       "  </tbody>\n",
       "</table>\n",
       "</div>"
      ],
      "text/plain": [
       "            default  predicted_probability\n",
       "Unnamed: 0                                \n",
       "2471028           0               0.023471\n",
       "2498807           0               0.007457\n",
       "2471048           0               0.002610\n",
       "2471109           0               0.014760\n",
       "2498783           0               0.009151"
      ]
     },
     "execution_count": 63,
     "metadata": {},
     "output_type": "execute_result"
    }
   ],
   "source": [
    "predictions = test_df[['default']].copy()\n",
    "predictions['predicted_probability'] = logit_model_sm.predict(test_df)\n",
    "# predictions.dropna(inplace=True)\n",
    "predictions.head()"
   ]
  },
  {
   "cell_type": "code",
   "execution_count": 64,
   "id": "17b46144-3d1a-4bbc-98a5-49ccf65af08b",
   "metadata": {},
   "outputs": [
    {
     "data": {
      "text/plain": [
       "default                  0.0\n",
       "predicted_probability    0.0\n",
       "dtype: float64"
      ]
     },
     "execution_count": 64,
     "metadata": {},
     "output_type": "execute_result"
    }
   ],
   "source": [
    "predictions.isna().mean()"
   ]
  },
  {
   "cell_type": "code",
   "execution_count": 65,
   "id": "528fba2f-3055-4b8b-91e6-3d0b29093d59",
   "metadata": {},
   "outputs": [],
   "source": [
    "from sklearn import metrics"
   ]
  },
  {
   "cell_type": "code",
   "execution_count": 66,
   "id": "d0db62f5-051a-4ff9-97f1-923dbce3dc47",
   "metadata": {},
   "outputs": [
    {
     "data": {
      "text/plain": [
       "np.float64(0.828515403276065)"
      ]
     },
     "execution_count": 66,
     "metadata": {},
     "output_type": "execute_result"
    }
   ],
   "source": [
    "metrics.roc_auc_score(y_score=predictions['predicted_probability'], y_true=predictions['default'])"
   ]
  },
  {
   "cell_type": "code",
   "execution_count": 67,
   "id": "c579a40b-4214-4164-9d75-5e2f9ba26f05",
   "metadata": {},
   "outputs": [],
   "source": [
    "import seaborn as sns\n",
    "sns.set()"
   ]
  },
  {
   "cell_type": "code",
   "execution_count": 68,
   "id": "8593344f-b887-4727-950d-bdf9984d48f8",
   "metadata": {},
   "outputs": [
    {
     "data": {
      "text/plain": [
       "<Axes: xlabel='predicted_probability', ylabel='Count'>"
      ]
     },
     "execution_count": 68,
     "metadata": {},
     "output_type": "execute_result"
    },
    {
     "data": {
      "image/png": "[encoded data removed]",
      "text/plain": [
       "<Figure size 640x480 with 1 Axes>"
      ]
     },
     "metadata": {},
     "output_type": "display_data"
    }
   ],
   "source": [
    "sns.histplot(predictions['predicted_probability'])"
   ]
  },
  {
   "cell_type": "code",
   "execution_count": 69,
   "id": "a5971c0c-04f9-4d0f-a086-ea094f9e5f34",
   "metadata": {},
   "outputs": [
    {
     "name": "stdout",
     "output_type": "stream",
     "text": [
      "ROC AUC 0.828515403276065\n"
     ]
    },
    {
     "data": {
      "text/plain": [
       "<sklearn.metrics._plot.roc_curve.RocCurveDisplay at 0x2a7cbf440>"
      ]
     },
     "execution_count": 69,
     "metadata": {},
     "output_type": "execute_result"
    },
    {
     "data": {
      "image/png": "[encoded data removed]",
      "text/plain": [
       "<Figure size 640x480 with 1 Axes>"
      ]
     },
     "metadata": {},
     "output_type": "display_data"
    }
   ],
   "source": [
    "fpr, tpr, thresholds = metrics.roc_curve(predictions['default'], predictions['predicted_probability'])\n",
    "roc_auc = metrics.auc(fpr, tpr)\n",
    "roc_display = metrics.RocCurveDisplay(fpr=fpr, tpr=tpr, roc_auc=roc_auc)\n",
    "print(f'ROC AUC {roc_auc}')\n",
    "roc_display.plot()"
   ]
  },
  {
   "cell_type": "markdown",
   "id": "c00e0db3-2016-4c4b-a621-f79673fe8c7d",
   "metadata": {},
   "source": [
    "## Walk forward"
   ]
  },
  {
   "cell_type": "code",
   "execution_count": 70,
   "id": "6440d5be-1f75-4f47-aa52-b249f626bdee",
   "metadata": {},
   "outputs": [],
   "source": [
    "def predictor(new_df, model):\n",
    "    predictions = model.predict(new_df)\n",
    "    return(predictions)"
   ]
  },
  {
   "cell_type": "code",
   "execution_count": 71,
   "id": "a3d520c0-a2b2-4aba-892e-cf22da78f4e0",
   "metadata": {},
   "outputs": [],
   "source": [
    "def preprocessor(df, preproc_params = {}, new = True):\n",
    "    \n",
    "    \n",
    "    return(df, preproc_params)"
   ]
  },
  {
   "cell_type": "code",
   "execution_count": 72,
   "id": "ba6fbbcd-7da8-4fcf-933d-1b4c162558c1",
   "metadata": {},
   "outputs": [],
   "source": [
    "def estimator(df, fitting_algo, est_params = {}):\n",
    "    \n",
    "    my_formula = est_params['formula']\n",
    "    model = fitting_algo(my_formula, data = df) \n",
    "    fitted_model = model.fit(disp=False)\n",
    "    \n",
    "    return(fitted_model)"
   ]
  },
  {
   "cell_type": "code",
   "execution_count": 73,
   "id": "c194cc6f-6f32-4d08-be4f-2f674fa7704c",
   "metadata": {},
   "outputs": [],
   "source": [
    "def progress_bar(k, n, incr_txt=\"Step\", bar_len = 10):\n",
    "   \n",
    "    bar_char  = u'\\u25A5'\n",
    "    line_char = u'\\u21E2' # u'\\u2192'  u'\\u23AF' u'\\u25AD'\n",
    "    \n",
    "    places   = int(np.ceil(n/bar_len))\n",
    "    pct      = k/n\n",
    "    n_str    = \"{:,.0f}\".format(n)        \n",
    "    k_str    = \"{:,.0f}\".format(k)\n",
    "    pct_str  = \"{:,.0f}%\".format(k/n * 100)\n",
    "    # d_format = \"%\" + str(places) + \"d\"\n",
    "    \n",
    "    if k == n-1:\n",
    "        n_bars = bar_len\n",
    "        n_spaces = 0\n",
    "        text_txt = \"Completed \" + n_str + \" \" + incr_txt + \"s.\"\n",
    "    else:\n",
    "        n_bars   = int(np.floor(pct * bar_len))\n",
    "        n_spaces = bar_len - n_bars\n",
    "        text_txt = \" \" + pct_str +  \" (\" + incr_txt + \" \" + k_str + \" of  \" + n_str + \").\"\n",
    "\n",
    "    bar_txt  = \"[\" + \"\".ljust(n_bars,bar_char) + \"\".rjust(n_spaces,line_char) + \"]  \" \n",
    "\n",
    "    clear_output()\n",
    "    display(bar_txt + text_txt)"
   ]
  },
  {
   "cell_type": "code",
   "execution_count": 103,
   "id": "d671a5b8-fdd2-484d-b059-d752bf76069a",
   "metadata": {},
   "outputs": [],
   "source": []
  },
  {
   "cell_type": "code",
   "execution_count": 148,
   "id": "92f95325-8582-4002-91cc-1cf7f05a6756",
   "metadata": {},
   "outputs": [],
   "source": [
    "def walk_forward_harness(df, preprocessor, estimator, predictor, \n",
    "                         start, date_col = 'Date', step_size = 1):     \n",
    "    predictions = []\n",
    "    model_list = []\n",
    "    group_list = []\n",
    "    \n",
    "    stats_list = []\n",
    "    def_percent = []\n",
    "    \n",
    "    # preproc_params = {\n",
    "    #     'scaler':StandardScaler()\n",
    "    # }\n",
    "    proc_all_data , _= preprocessor(df, {})\n",
    "\n",
    "    labels = []\n",
    "\n",
    "    algo_params = {\n",
    "        'formula': 'default ~ '+' + '.join(feature_list)\n",
    "    }\n",
    "    \n",
    "    df[date_col] = pd.to_datetime(df[date_col])\n",
    "    walk_range = df[date_col].dt.year.unique()\n",
    "    \n",
    "    for i in range(start,len(walk_range), step_size):\n",
    "        \n",
    "        train_idx = walk_range[:i]\n",
    "        test_idx = [walk_range[i]]\n",
    "\n",
    "        # print('train',train_idx)\n",
    "        # print('test',test_idx)\n",
    "        \n",
    "        train_data = proc_all_data[proc_all_data[date_col].dt.year.isin(train_idx)]\n",
    "        test_data = proc_all_data[proc_all_data[date_col].dt.year.isin(test_idx)]\n",
    "\n",
    "        algo = smf.logit\n",
    "    \n",
    "        trained_model = estimator(train_data, algo, algo_params)\n",
    "        prediction = predictor(test_data, trained_model)\n",
    "        \n",
    "        \n",
    "        labels += list(test_data['default'].values)\n",
    "        predictions += list(prediction.values)\n",
    "        \n",
    "        group_list += test_idx * len(prediction.values)\n",
    "        \n",
    "        try:\n",
    "            score = metrics.roc_auc_score(y_score=predictions, y_true=labels)\n",
    "            \n",
    "        except Exception as e:\n",
    "            print(F'Error scoring {e}')\n",
    "            score = np.nan\n",
    "\n",
    "        \n",
    "        stats_list.append(score)\n",
    "        model_list.append(trained_model)\n",
    "        \n",
    "\n",
    "        progress_bar(i, len(walk_range))\n",
    "    \n",
    "    predictions = pd.DataFrame([labels,predictions,group_list]).T\n",
    "    predictions.columns = ['label','prediction','group']\n",
    "    #predictions.set_index('index', inplace=True)\n",
    "    \n",
    "    return(predictions, model_list, stats_list)"
   ]
  },
  {
   "cell_type": "code",
   "execution_count": null,
   "id": "92b04394-546a-478a-9c1a-dc88f7a34772",
   "metadata": {},
   "outputs": [],
   "source": []
  },
  {
   "cell_type": "code",
   "execution_count": null,
   "id": "6ffbb0f8-7dd4-42e4-8302-96949b1bfdd2",
   "metadata": {},
   "outputs": [],
   "source": []
  },
  {
   "cell_type": "code",
   "execution_count": 158,
   "id": "907ffda8-bbce-4e99-9f97-a9ef82cd4e54",
   "metadata": {},
   "outputs": [
    {
     "data": {
      "text/plain": [
       "'[▥▥▥▥▥▥▥▥▥▥]  Completed 6 Steps.'"
      ]
     },
     "metadata": {},
     "output_type": "display_data"
    }
   ],
   "source": [
    "predictions, model_list, stats_list = walk_forward_harness(modeling_df,\n",
    "                                                           preprocessor = preprocessor, \n",
    "                                                           estimator = estimator, \n",
    "                                                           predictor = predictor, \n",
    "                                                           date_col = 'stmt_date',\n",
    "                                                           start = 1, \n",
    "                                                           step_size = 1)"
   ]
  },
  {
   "cell_type": "code",
   "execution_count": 159,
   "id": "ac32b556-db1a-4d9f-8fce-25ffb2116382",
   "metadata": {},
   "outputs": [
    {
     "name": "stdout",
     "output_type": "stream",
     "text": [
      "ROC AUC 0.7939441207966718\n"
     ]
    },
    {
     "data": {
      "text/plain": [
       "<sklearn.metrics._plot.roc_curve.RocCurveDisplay at 0x2a7cca360>"
      ]
     },
     "execution_count": 159,
     "metadata": {},
     "output_type": "execute_result"
    },
    {
     "data": {
      "image/png": "[encoded data removed]",
      "text/plain": [
       "<Figure size 640x480 with 1 Axes>"
      ]
     },
     "metadata": {},
     "output_type": "display_data"
    }
   ],
   "source": [
    "fpr, tpr, thresholds = metrics.roc_curve(predictions['label'], predictions['prediction'])\n",
    "roc_auc = metrics.auc(fpr, tpr)\n",
    "roc_display = metrics.RocCurveDisplay(fpr=fpr, tpr=tpr, roc_auc=roc_auc)\n",
    "print(f'ROC AUC {roc_auc}')\n",
    "roc_display.plot()"
   ]
  },
  {
   "cell_type": "code",
   "execution_count": null,
   "id": "1ef8bbed-01b3-4822-9ba6-6aaa3e2569d4",
   "metadata": {},
   "outputs": [],
   "source": []
  },
  {
   "cell_type": "code",
   "execution_count": 162,
   "id": "5f87e9e7-b970-42b1-b111-22221f6d134c",
   "metadata": {},
   "outputs": [
    {
     "data": {
      "text/plain": [
       "array([2008., 2009., 2010., 2011., 2012.])"
      ]
     },
     "execution_count": 162,
     "metadata": {},
     "output_type": "execute_result"
    }
   ],
   "source": []
  },
  {
   "cell_type": "code",
   "execution_count": 163,
   "id": "3313c6bb-e71a-46bf-b269-e8d955e8cecd",
   "metadata": {},
   "outputs": [
    {
     "data": {
      "text/plain": [
       "Text(0, 0.5, 'ROC AUC score (for that test set of size Step)')"
      ]
     },
     "execution_count": 163,
     "metadata": {},
     "output_type": "execute_result"
    },
    {
     "data": {
      "image/png": "[encoded data removed]",
      "text/plain": [
       "<Figure size 640x480 with 1 Axes>"
      ]
     },
     "metadata": {},
     "output_type": "display_data"
    }
   ],
   "source": [
    "sns.lineplot(x=predictions['group'].unique(), y=stats_list, marker=\"o\")\n",
    "plt.title('ROC AUC scores over each step iteration')\n",
    "plt.xlabel('Walk forward Iteration')\n",
    "plt.ylabel('ROC AUC score (for that test set of size Step)')"
   ]
  },
  {
   "cell_type": "code",
   "execution_count": 164,
   "id": "23a0a9a2-092a-4bbd-bb4b-e7175792fe91",
   "metadata": {},
   "outputs": [],
   "source": [
    "default_data_viz = predictions.groupby('group')['label'].mean()"
   ]
  },
  {
   "cell_type": "code",
   "execution_count": 165,
   "id": "33e9dbd6-ce2d-4892-8783-d6556befb54a",
   "metadata": {},
   "outputs": [
    {
     "data": {
      "text/plain": [
       "Text(0, 0.5, '% of defaults')"
      ]
     },
     "execution_count": 165,
     "metadata": {},
     "output_type": "execute_result"
    },
    {
     "data": {
      "image/png": "[encoded data removed]",
      "text/plain": [
       "<Figure size 640x480 with 1 Axes>"
      ]
     },
     "metadata": {},
     "output_type": "display_data"
    }
   ],
   "source": [
    "sns.lineplot(x=default_data_viz.index, y=default_data_viz, marker=\"o\")\n",
    "plt.title('% of defaults in each test set of walkforward')\n",
    "plt.xlabel('Walk forward Iteration')\n",
    "plt.ylabel('% of defaults')"
   ]
  },
  {
   "cell_type": "code",
   "execution_count": null,
   "id": "7ce0ff65-e770-4a0b-a864-ad82cd0ae26d",
   "metadata": {},
   "outputs": [],
   "source": []
  }
 ],
 "metadata": {
  "kernelspec": {
   "display_name": "Python 3 (ipykernel)",
   "language": "python",
   "name": "python3"
  },
  "language_info": {
   "codemirror_mode": {
    "name": "ipython",
    "version": 3
   },
   "file_extension": ".py",
   "mimetype": "text/x-python",
   "name": "python",
   "nbconvert_exporter": "python",
   "pygments_lexer": "ipython3",
   "version": "3.11.4"
  }
 },
 "nbformat": 4,
 "nbformat_minor": 5
}
