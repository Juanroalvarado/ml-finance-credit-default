{
 "cells": [
  {
   "cell_type": "code",
   "execution_count": 1,
   "id": "ed16e89e-9105-47c4-a57f-817ec25c5d10",
   "metadata": {},
   "outputs": [],
   "source": [
    "import pandas as pd\n",
    "import numpy as np\n",
    "\n",
    "import pickle\n",
    "\n",
    "import matplotlib.pyplot as plt\n",
    "\n",
    "import statsmodels.api as sm\n",
    "import statsmodels.formula.api as smf\n",
    "\n",
    "from importlib import reload  # Python 3.4+\n",
    "\n",
    "from sklearn import metrics\n",
    "import seaborn as sns\n",
    "sns.set()\n",
    "\n",
    "from sklearn.calibration import CalibratedClassifierCV\n",
    "\n",
    "from IPython.display import clear_output, display"
   ]
  },
  {
   "cell_type": "markdown",
   "id": "93bf0463-9366-4f68-84ba-f3cf1f87fffa",
   "metadata": {},
   "source": [
    "## Modeling"
   ]
  },
  {
   "cell_type": "code",
   "execution_count": null,
   "id": "4ee810b3-6386-48c1-9bc4-32f1a51a5d4a",
   "metadata": {},
   "outputs": [],
   "source": []
  },
  {
   "cell_type": "markdown",
   "id": "c00e0db3-2016-4c4b-a621-f79673fe8c7d",
   "metadata": {},
   "source": [
    "## Walk forward"
   ]
  },
  {
   "cell_type": "code",
   "execution_count": 3,
   "id": "6440d5be-1f75-4f47-aa52-b249f626bdee",
   "metadata": {},
   "outputs": [],
   "source": [
    "def predictor(new_df, model):\n",
    "    predictions = model.predict(new_df)\n",
    "    return(predictions)"
   ]
  },
  {
   "cell_type": "code",
   "execution_count": 4,
   "id": "a3d520c0-a2b2-4aba-892e-cf22da78f4e0",
   "metadata": {
    "jupyter": {
     "source_hidden": true
    }
   },
   "outputs": [],
   "source": [
    "# def preprocessor(df, preproc_params = {}, new = True):\n",
    "\n",
    "#     quantiles = preproc_params['quantiles']\n",
    "    \n",
    "#     to_quantile_features = ['asst_tot',\n",
    "#                  'financial_leverage',\n",
    "#                  'profitability_ratio',\n",
    "#                  'profit',\n",
    "#                  # 'net_income_growth',\n",
    "#                  'quick_ratio_v2',\n",
    "#                  # 'sales_growth',\n",
    "#                  'cash_assets_ratio',\n",
    "#                  'dscr']\n",
    "\n",
    "#     feature_names = []\n",
    "    \n",
    "#     for feature in to_quantile_features:\n",
    "#         if new:\n",
    "#             cut, bins = pd.qcut(df[feature], q=quantiles, retbins=True,labels=False, duplicates='drop')\n",
    "            \n",
    "#             prob_values = df.groupby(cut)[['default']].mean()\n",
    "\n",
    "#             feature_name = f'{feature}_quantile_value'\n",
    "#             feature_names.append(feature_name)\n",
    "            \n",
    "#             df[feature_name] = cut.to_frame().join(prob_values, how='left',on= feature)['default']\n",
    "#             preproc_params['quantile_bins'][feature] = bins\n",
    "            \n",
    "#         else:\n",
    "#             if feature not in preproc_params['quantile_bins']:\n",
    "#                 raise Exception(\"Error bins haven't been fitted\")\n",
    "#             bins = preproc_params['quantile_bins'][feature]\n",
    "            \n",
    "#             cut = pd.cut(df[feature], bins=bins, labels=False, include_lowest=True)\n",
    "#             prob_values = df.groupby(cut)[['default']].mean()\n",
    "\n",
    "#             feature_name = f'{feature}_quantile_value'\n",
    "#             feature_names.append(feature_name)\n",
    "            \n",
    "#             df[feature_name] = cut.to_frame().join(prob_values, how='left',on= feature)['default']\n",
    "\n",
    "#     preproc_params['features'] = feature_names\n",
    "    \n",
    "#     return(df, preproc_params)"
   ]
  },
  {
   "cell_type": "code",
   "execution_count": 5,
   "id": "ba6fbbcd-7da8-4fcf-933d-1b4c162558c1",
   "metadata": {},
   "outputs": [],
   "source": [
    "def estimator(df, fitting_algo, est_params = {}):\n",
    "    \n",
    "    my_formula = est_params['formula']\n",
    "    model = fitting_algo(my_formula, data = df) \n",
    "    fitted_model = model.fit(disp=False)\n",
    "    \n",
    "    return(fitted_model)"
   ]
  },
  {
   "cell_type": "code",
   "execution_count": 6,
   "id": "c194cc6f-6f32-4d08-be4f-2f674fa7704c",
   "metadata": {},
   "outputs": [],
   "source": [
    "def progress_bar(k, n, incr_txt=\"Step\", bar_len = 10):\n",
    "   \n",
    "    bar_char  = u'\\u25A5'\n",
    "    line_char = u'\\u21E2' # u'\\u2192'  u'\\u23AF' u'\\u25AD'\n",
    "    \n",
    "    places   = int(np.ceil(n/bar_len))\n",
    "    pct      = k/n\n",
    "    n_str    = \"{:,.0f}\".format(n)        \n",
    "    k_str    = \"{:,.0f}\".format(k)\n",
    "    pct_str  = \"{:,.0f}%\".format(k/n * 100)\n",
    "    # d_format = \"%\" + str(places) + \"d\"\n",
    "    \n",
    "    if k == n-1:\n",
    "        n_bars = bar_len\n",
    "        n_spaces = 0\n",
    "        text_txt = \"Completed \" + n_str + \" \" + incr_txt + \"s.\"\n",
    "    else:\n",
    "        n_bars   = int(np.floor(pct * bar_len))\n",
    "        n_spaces = bar_len - n_bars\n",
    "        text_txt = \" \" + pct_str +  \" (\" + incr_txt + \" \" + k_str + \" of  \" + n_str + \").\"\n",
    "\n",
    "    bar_txt  = \"[\" + \"\".ljust(n_bars,bar_char) + \"\".rjust(n_spaces,line_char) + \"]  \" \n",
    "\n",
    "    clear_output()\n",
    "    display(bar_txt + text_txt)"
   ]
  },
  {
   "cell_type": "code",
   "execution_count": 71,
   "id": "92f95325-8582-4002-91cc-1cf7f05a6756",
   "metadata": {},
   "outputs": [],
   "source": [
    "def walk_forward_harness(df, preprocessor, estimator, predictor, \n",
    "                         start, date_col = 'Date', step_size = 1):     \n",
    "    predictions = []\n",
    "    model_list = []\n",
    "    group_list = []\n",
    "    \n",
    "    stats_list = []\n",
    "    def_percent = []\n",
    "\n",
    "    labels = []\n",
    "\n",
    "    with open('quantile_custom_bins.pkl', 'rb') as file:\n",
    "        custom_bins = pickle.load(file)\n",
    "    \n",
    "    preproc_params = {\n",
    "        'quantile_bins' : {},\n",
    "        'quantile_values' : {}\n",
    "    }\n",
    "    \n",
    "    df[date_col] = pd.to_datetime(df[date_col])\n",
    "    walk_range = df[date_col].dt.year.unique()\n",
    "    \n",
    "    for i in range(start,len(walk_range), step_size):\n",
    "        print(stats_list)\n",
    "        \n",
    "        train_idx = walk_range[:i]\n",
    "        test_idx = [walk_range[i]]\n",
    "        print('Training range:',train_idx)\n",
    "        print('Test step:',test_idx)\n",
    "\n",
    "        # print('train',train_idx)\n",
    "        # print('test',test_idx)\n",
    "        \n",
    "        train_data = df[df[date_col].dt.year.isin(train_idx)].copy()\n",
    "        test_data = df[df[date_col].dt.year.isin(test_idx)].copy()\n",
    "        print(train_data.shape)\n",
    "        print(test_data.shape)\n",
    "\n",
    "        train_data_proc , preproc_params = pre_process(train_data, \n",
    "                                                       custom_bins=custom_bins, \n",
    "                                                       preproc_params = preproc_params,  \n",
    "                                                       quantiles = 50, \n",
    "                                                       days_until_statement = 150)\n",
    "        # test_data_proc , preproc_params = preprocessor(test_data, preproc_params, new=False)\n",
    "        test_data_proc , preproc_params = pre_process(test_data, \n",
    "                                                     historical_df=train_data_proc, \n",
    "                                                     new=False, \n",
    "                                                     preproc_params = preproc_params,  \n",
    "                                                     quantiles = 50, \n",
    "                                                     days_until_statement = 150)\n",
    "        print(train_data_proc['default'].mean())\n",
    "        print(test_data_proc['default'].mean())\n",
    "\n",
    "        print(train_data_proc[features].tail(3))\n",
    "        print(test_data_proc[features].tail(3))\n",
    "        \n",
    "        # formula = 'default ~ '+' + '.join(features)\n",
    "\n",
    "        # model = smf.logit(formula, data = train_data_proc) \n",
    "        # logit_model_sm = model.fit()\n",
    "        # print(logit_model_sm.summary())\n",
    "        \n",
    "        # predz = test_data_proc[['default']].copy()\n",
    "        # predz['predicted_probability'] = logit_model_sm.predict(test_data_proc)\n",
    "        # # predictions.dropna(inplace=True)\n",
    "        # # predictions.head()\n",
    "        # print(metrics.roc_auc_score(y_score=predz['predicted_probability'], y_true=predz['default']))\n",
    "        \n",
    "        algo_params = {'formula': 'default ~ '+' + '.join(features)}\n",
    "        \n",
    "        algo = smf.logit\n",
    "    \n",
    "        trained_model = estimator(train_data_proc, algo, algo_params)\n",
    "        prediction = predictor(test_data_proc, trained_model)\n",
    "        \n",
    "        labels += list(test_data_proc['default'].values)\n",
    "        predictions += list(prediction.values)\n",
    "        \n",
    "        \n",
    "        group_list += test_idx * len(prediction)\n",
    "        \n",
    "        try:\n",
    "            preds = pd.DataFrame([labels,predictions,group_list]).T\n",
    "            preds.columns = ['label','prediction','group']\n",
    "            # preds = preds.dropna()\n",
    "            score = metrics.roc_auc_score(y_score=preds['prediction'], y_true=preds['label'])\n",
    "            \n",
    "        except Exception as e:\n",
    "            print(F'Error scoring {e}')\n",
    "            score = np.nan\n",
    "\n",
    "        \n",
    "        stats_list.append(score)\n",
    "        model_list.append(trained_model)\n",
    "        \n",
    "\n",
    "        progress_bar(i, len(walk_range))\n",
    "    \n",
    "    predictions = pd.DataFrame([labels,predictions,group_list]).T\n",
    "    predictions.columns = ['label','prediction','group']\n",
    "    #predictions.set_index('index', inplace=True)\n",
    "    \n",
    "    return(predictions, model_list, stats_list)"
   ]
  },
  {
   "cell_type": "code",
   "execution_count": null,
   "id": "54532c6b-8d5d-496c-9515-4d23224f1cf0",
   "metadata": {},
   "outputs": [],
   "source": []
  },
  {
   "cell_type": "code",
   "execution_count": 72,
   "id": "92b04394-546a-478a-9c1a-dc88f7a34772",
   "metadata": {},
   "outputs": [
    {
     "data": {
      "text/plain": [
       "(1023552, 44)"
      ]
     },
     "execution_count": 72,
     "metadata": {},
     "output_type": "execute_result"
    }
   ],
   "source": [
    "modeling_df = pd.read_csv('../data/train.csv')\n",
    "modeling_df.shape"
   ]
  },
  {
   "cell_type": "code",
   "execution_count": 73,
   "id": "8de7af7a-2e05-48a8-b0ec-342f6c419be3",
   "metadata": {},
   "outputs": [],
   "source": [
    "modeling_df['stmt_date'] = pd.to_datetime(modeling_df['stmt_date'])\n",
    "modeling_df['def_date'] = pd.to_datetime(modeling_df['def_date'], format=\"%d/%m/%Y\")"
   ]
  },
  {
   "cell_type": "code",
   "execution_count": 74,
   "id": "e5a8deeb-23f4-461f-b2e0-608e3012414b",
   "metadata": {},
   "outputs": [],
   "source": [
    "### we'll try dropping NA's for now\n",
    "# modeling_df = modeling_df[~(modeling_df[features].isna().sum(axis=1)>0)].copy()\n",
    "modeling_df.sort_values('stmt_date', inplace=True)"
   ]
  },
  {
   "cell_type": "code",
   "execution_count": 75,
   "id": "be9e8c57-72ca-4581-84c8-aa51995d41eb",
   "metadata": {
    "jupyter": {
     "source_hidden": true
    }
   },
   "outputs": [],
   "source": [
    "features_needed = ['id',\n",
    "                     'stmt_date',\n",
    "                     # 'HQ_city',\n",
    "                     # 'legal_struct',\n",
    "                     # 'ateco_sector',\n",
    "                     'def_date',\n",
    "                     # 'fs_year',\n",
    "                     # 'asst_intang_fixed',\n",
    "                     # 'asst_tang_fixed',\n",
    "                     # 'asst_fixed_fin',\n",
    "                     # 'asst_current',\n",
    "                     'AR',\n",
    "                     'cash_and_equiv',\n",
    "                     'asst_tot',\n",
    "                     # 'eqty_tot',\n",
    "                     # 'eqty_corp_family_tot',\n",
    "                     # 'liab_lt',\n",
    "                     # 'liab_lt_emp',\n",
    "                     # 'debt_bank_st',\n",
    "                     # 'debt_bank_lt',\n",
    "                     # 'debt_fin_st',\n",
    "                     # 'debt_fin_lt',\n",
    "                     # 'AP_st',\n",
    "                     # 'AP_lt',\n",
    "                     'debt_st',\n",
    "                     'debt_lt',\n",
    "                     'rev_operating',\n",
    "                     # 'COGS',\n",
    "                     'prof_operations',\n",
    "                     # 'goodwill',\n",
    "                     # 'inc_financing',\n",
    "                     'exp_financing',\n",
    "                     # 'prof_financing',\n",
    "                     # 'inc_extraord',\n",
    "                     # 'taxes',\n",
    "                     'profit',\n",
    "                     # 'days_rec',\n",
    "                     'ebitda',\n",
    "                     # 'roa',\n",
    "                     # 'roe',\n",
    "                     # 'wc_net',\n",
    "                     # 'margin_fin',\n",
    "                     # 'cf_operations'\n",
    "                  ]"
   ]
  },
  {
   "cell_type": "code",
   "execution_count": 76,
   "id": "8fef8778-6199-48fb-bd7a-034bc5bbf9f8",
   "metadata": {},
   "outputs": [],
   "source": [
    "modeling_df = modeling_df[features_needed]"
   ]
  },
  {
   "cell_type": "code",
   "execution_count": 77,
   "id": "da124277-d801-4f16-8f01-051ac4f7affd",
   "metadata": {},
   "outputs": [],
   "source": [
    "modeling_df['def_date'] = pd.to_datetime(modeling_df['def_date'], format=\"%d/%m/%Y\")"
   ]
  },
  {
   "cell_type": "code",
   "execution_count": 78,
   "id": "99d6eba9-bab7-4383-9434-b579443797a6",
   "metadata": {},
   "outputs": [],
   "source": [
    "from harness_functions import pre_process"
   ]
  },
  {
   "cell_type": "code",
   "execution_count": 80,
   "id": "16ccd1ca-b483-48d2-8c2c-218a07baf3cd",
   "metadata": {},
   "outputs": [],
   "source": [
    "features = [\n",
    "  'asst_tot_quantile_values',\n",
    " 'financial_leverage_quantile_values',\n",
    " 'profitability_ratio_quantile_values',\n",
    " # 'net_income_growth_quantile_values',\n",
    " 'quick_ratio_v2_quantile_values',\n",
    " # 'sales_growth_quantile_values',\n",
    " 'cash_assets_ratio_quantile_values',\n",
    " 'dscr_quantile_values',\n",
    "    # 'ebitda',\n",
    "    # 'is_first_occurrence'\n",
    "]\n"
   ]
  },
  {
   "cell_type": "code",
   "execution_count": 81,
   "id": "e87b4c31-bf9a-44b3-b744-1ddc884861d9",
   "metadata": {},
   "outputs": [],
   "source": [
    "rec_features = [\n",
    "  'asst_tot_quantile_values',\n",
    " 'financial_leverage_quantile_values',\n",
    " 'profitability_ratio_quantile_values',\n",
    " 'net_income_growth_quantile_values',\n",
    " 'quick_ratio_v2_quantile_values',\n",
    " 'sales_growth_quantile_values',\n",
    " 'cash_assets_ratio_quantile_values',\n",
    " 'dscr_quantile_values',\n",
    "    # 'ebitda',\n",
    "    # 'is_first_occurrence'\n",
    "]\n"
   ]
  },
  {
   "cell_type": "code",
   "execution_count": 79,
   "id": "907ffda8-bbce-4e99-9f97-a9ef82cd4e54",
   "metadata": {},
   "outputs": [
    {
     "data": {
      "text/plain": [
       "'[▥▥▥▥▥▥▥▥▥▥]  Completed 6 Steps.'"
      ]
     },
     "metadata": {},
     "output_type": "display_data"
    }
   ],
   "source": [
    "predictions, model_list, stats_list = walk_forward_harness(modeling_df,\n",
    "                                                           preprocessor = pre_process, \n",
    "                                                           estimator = estimator, \n",
    "                                                           predictor = predictor, \n",
    "                                                           date_col = 'stmt_date',\n",
    "                                                           start = 1, \n",
    "                                                           step_size = 1)"
   ]
  },
  {
   "cell_type": "code",
   "execution_count": null,
   "id": "5ae38ce0-f377-484b-a63f-2481cded824d",
   "metadata": {},
   "outputs": [],
   "source": []
  },
  {
   "cell_type": "code",
   "execution_count": 59,
   "id": "33d48258-b4cc-4a37-8eed-de8568947652",
   "metadata": {},
   "outputs": [
    {
     "data": {
      "text/plain": [
       "label              0\n",
       "prediction         0\n",
       "group         879019\n",
       "dtype: int64"
      ]
     },
     "execution_count": 59,
     "metadata": {},
     "output_type": "execute_result"
    }
   ],
   "source": [
    "predictions.isna().sum()"
   ]
  },
  {
   "cell_type": "code",
   "execution_count": 60,
   "id": "513d4d77-3b41-4a91-aa3f-db0f34796288",
   "metadata": {},
   "outputs": [],
   "source": [
    "# predictions = predictions.dropna()"
   ]
  },
  {
   "cell_type": "code",
   "execution_count": 61,
   "id": "ac32b556-db1a-4d9f-8fce-25ffb2116382",
   "metadata": {},
   "outputs": [
    {
     "name": "stdout",
     "output_type": "stream",
     "text": [
      "ROC AUC 0.7640811195804489\n"
     ]
    },
    {
     "data": {
      "text/plain": [
       "<sklearn.metrics._plot.roc_curve.RocCurveDisplay at 0x148793620>"
      ]
     },
     "execution_count": 61,
     "metadata": {},
     "output_type": "execute_result"
    },
    {
     "data": {
      "image/png": "[encoded data removed]",
      "text/plain": [
       "<Figure size 640x480 with 1 Axes>"
      ]
     },
     "metadata": {},
     "output_type": "display_data"
    }
   ],
   "source": [
    "fpr, tpr, thresholds = metrics.roc_curve(predictions['label'], predictions['prediction'])\n",
    "roc_auc = metrics.auc(fpr, tpr)\n",
    "roc_display = metrics.RocCurveDisplay(fpr=fpr, tpr=tpr, roc_auc=roc_auc)\n",
    "print(f'ROC AUC {roc_auc}')\n",
    "roc_display.plot()"
   ]
  },
  {
   "cell_type": "code",
   "execution_count": 62,
   "id": "3313c6bb-e71a-46bf-b269-e8d955e8cecd",
   "metadata": {},
   "outputs": [
    {
     "ename": "ValueError",
     "evalue": "All arrays must be of the same length",
     "output_type": "error",
     "traceback": [
      "\u001b[0;31m---------------------------------------------------------------------------\u001b[0m",
      "\u001b[0;31mValueError\u001b[0m                                Traceback (most recent call last)",
      "Cell \u001b[0;32mIn[62], line 1\u001b[0m\n\u001b[0;32m----> 1\u001b[0m \u001b[43msns\u001b[49m\u001b[38;5;241;43m.\u001b[39;49m\u001b[43mlineplot\u001b[49m\u001b[43m(\u001b[49m\u001b[43mx\u001b[49m\u001b[38;5;241;43m=\u001b[39;49m\u001b[43mpredictions\u001b[49m\u001b[43m[\u001b[49m\u001b[38;5;124;43m'\u001b[39;49m\u001b[38;5;124;43mgroup\u001b[39;49m\u001b[38;5;124;43m'\u001b[39;49m\u001b[43m]\u001b[49m\u001b[38;5;241;43m.\u001b[39;49m\u001b[43munique\u001b[49m\u001b[43m(\u001b[49m\u001b[43m)\u001b[49m\u001b[43m,\u001b[49m\u001b[43m \u001b[49m\u001b[43my\u001b[49m\u001b[38;5;241;43m=\u001b[39;49m\u001b[43mstats_list\u001b[49m\u001b[43m,\u001b[49m\u001b[43m \u001b[49m\u001b[43mmarker\u001b[49m\u001b[38;5;241;43m=\u001b[39;49m\u001b[38;5;124;43m\"\u001b[39;49m\u001b[38;5;124;43mo\u001b[39;49m\u001b[38;5;124;43m\"\u001b[39;49m\u001b[43m)\u001b[49m\n\u001b[1;32m      2\u001b[0m plt\u001b[38;5;241m.\u001b[39mtitle(\u001b[38;5;124m'\u001b[39m\u001b[38;5;124mROC AUC scores over each step iteration\u001b[39m\u001b[38;5;124m'\u001b[39m)\n\u001b[1;32m      3\u001b[0m plt\u001b[38;5;241m.\u001b[39mxlabel(\u001b[38;5;124m'\u001b[39m\u001b[38;5;124mWalk forward Iteration\u001b[39m\u001b[38;5;124m'\u001b[39m)\n",
      "File \u001b[0;32m~/miniconda3/envs/nyu2/lib/python3.12/site-packages/seaborn/relational.py:485\u001b[0m, in \u001b[0;36mlineplot\u001b[0;34m(data, x, y, hue, size, style, units, weights, palette, hue_order, hue_norm, sizes, size_order, size_norm, dashes, markers, style_order, estimator, errorbar, n_boot, seed, orient, sort, err_style, err_kws, legend, ci, ax, **kwargs)\u001b[0m\n\u001b[1;32m    471\u001b[0m \u001b[38;5;28;01mdef\u001b[39;00m \u001b[38;5;21mlineplot\u001b[39m(\n\u001b[1;32m    472\u001b[0m     data\u001b[38;5;241m=\u001b[39m\u001b[38;5;28;01mNone\u001b[39;00m, \u001b[38;5;241m*\u001b[39m,\n\u001b[1;32m    473\u001b[0m     x\u001b[38;5;241m=\u001b[39m\u001b[38;5;28;01mNone\u001b[39;00m, y\u001b[38;5;241m=\u001b[39m\u001b[38;5;28;01mNone\u001b[39;00m, hue\u001b[38;5;241m=\u001b[39m\u001b[38;5;28;01mNone\u001b[39;00m, size\u001b[38;5;241m=\u001b[39m\u001b[38;5;28;01mNone\u001b[39;00m, style\u001b[38;5;241m=\u001b[39m\u001b[38;5;28;01mNone\u001b[39;00m, units\u001b[38;5;241m=\u001b[39m\u001b[38;5;28;01mNone\u001b[39;00m, weights\u001b[38;5;241m=\u001b[39m\u001b[38;5;28;01mNone\u001b[39;00m,\n\u001b[0;32m   (...)\u001b[0m\n\u001b[1;32m    481\u001b[0m \n\u001b[1;32m    482\u001b[0m     \u001b[38;5;66;03m# Handle deprecation of ci parameter\u001b[39;00m\n\u001b[1;32m    483\u001b[0m     errorbar \u001b[38;5;241m=\u001b[39m _deprecate_ci(errorbar, ci)\n\u001b[0;32m--> 485\u001b[0m     p \u001b[38;5;241m=\u001b[39m \u001b[43m_LinePlotter\u001b[49m\u001b[43m(\u001b[49m\n\u001b[1;32m    486\u001b[0m \u001b[43m        \u001b[49m\u001b[43mdata\u001b[49m\u001b[38;5;241;43m=\u001b[39;49m\u001b[43mdata\u001b[49m\u001b[43m,\u001b[49m\n\u001b[1;32m    487\u001b[0m \u001b[43m        \u001b[49m\u001b[43mvariables\u001b[49m\u001b[38;5;241;43m=\u001b[39;49m\u001b[38;5;28;43mdict\u001b[39;49m\u001b[43m(\u001b[49m\n\u001b[1;32m    488\u001b[0m \u001b[43m            \u001b[49m\u001b[43mx\u001b[49m\u001b[38;5;241;43m=\u001b[39;49m\u001b[43mx\u001b[49m\u001b[43m,\u001b[49m\u001b[43m \u001b[49m\u001b[43my\u001b[49m\u001b[38;5;241;43m=\u001b[39;49m\u001b[43my\u001b[49m\u001b[43m,\u001b[49m\u001b[43m \u001b[49m\u001b[43mhue\u001b[49m\u001b[38;5;241;43m=\u001b[39;49m\u001b[43mhue\u001b[49m\u001b[43m,\u001b[49m\u001b[43m \u001b[49m\u001b[43msize\u001b[49m\u001b[38;5;241;43m=\u001b[39;49m\u001b[43msize\u001b[49m\u001b[43m,\u001b[49m\u001b[43m \u001b[49m\u001b[43mstyle\u001b[49m\u001b[38;5;241;43m=\u001b[39;49m\u001b[43mstyle\u001b[49m\u001b[43m,\u001b[49m\u001b[43m \u001b[49m\u001b[43munits\u001b[49m\u001b[38;5;241;43m=\u001b[39;49m\u001b[43munits\u001b[49m\u001b[43m,\u001b[49m\u001b[43m \u001b[49m\u001b[43mweight\u001b[49m\u001b[38;5;241;43m=\u001b[39;49m\u001b[43mweights\u001b[49m\n\u001b[1;32m    489\u001b[0m \u001b[43m        \u001b[49m\u001b[43m)\u001b[49m\u001b[43m,\u001b[49m\n\u001b[1;32m    490\u001b[0m \u001b[43m        \u001b[49m\u001b[43mestimator\u001b[49m\u001b[38;5;241;43m=\u001b[39;49m\u001b[43mestimator\u001b[49m\u001b[43m,\u001b[49m\u001b[43m \u001b[49m\u001b[43mn_boot\u001b[49m\u001b[38;5;241;43m=\u001b[39;49m\u001b[43mn_boot\u001b[49m\u001b[43m,\u001b[49m\u001b[43m \u001b[49m\u001b[43mseed\u001b[49m\u001b[38;5;241;43m=\u001b[39;49m\u001b[43mseed\u001b[49m\u001b[43m,\u001b[49m\u001b[43m \u001b[49m\u001b[43merrorbar\u001b[49m\u001b[38;5;241;43m=\u001b[39;49m\u001b[43merrorbar\u001b[49m\u001b[43m,\u001b[49m\n\u001b[1;32m    491\u001b[0m \u001b[43m        \u001b[49m\u001b[43msort\u001b[49m\u001b[38;5;241;43m=\u001b[39;49m\u001b[43msort\u001b[49m\u001b[43m,\u001b[49m\u001b[43m \u001b[49m\u001b[43morient\u001b[49m\u001b[38;5;241;43m=\u001b[39;49m\u001b[43morient\u001b[49m\u001b[43m,\u001b[49m\u001b[43m \u001b[49m\u001b[43merr_style\u001b[49m\u001b[38;5;241;43m=\u001b[39;49m\u001b[43merr_style\u001b[49m\u001b[43m,\u001b[49m\u001b[43m \u001b[49m\u001b[43merr_kws\u001b[49m\u001b[38;5;241;43m=\u001b[39;49m\u001b[43merr_kws\u001b[49m\u001b[43m,\u001b[49m\n\u001b[1;32m    492\u001b[0m \u001b[43m        \u001b[49m\u001b[43mlegend\u001b[49m\u001b[38;5;241;43m=\u001b[39;49m\u001b[43mlegend\u001b[49m\u001b[43m,\u001b[49m\n\u001b[1;32m    493\u001b[0m \u001b[43m    \u001b[49m\u001b[43m)\u001b[49m\n\u001b[1;32m    495\u001b[0m     p\u001b[38;5;241m.\u001b[39mmap_hue(palette\u001b[38;5;241m=\u001b[39mpalette, order\u001b[38;5;241m=\u001b[39mhue_order, norm\u001b[38;5;241m=\u001b[39mhue_norm)\n\u001b[1;32m    496\u001b[0m     p\u001b[38;5;241m.\u001b[39mmap_size(sizes\u001b[38;5;241m=\u001b[39msizes, order\u001b[38;5;241m=\u001b[39msize_order, norm\u001b[38;5;241m=\u001b[39msize_norm)\n",
      "File \u001b[0;32m~/miniconda3/envs/nyu2/lib/python3.12/site-packages/seaborn/relational.py:216\u001b[0m, in \u001b[0;36m_LinePlotter.__init__\u001b[0;34m(self, data, variables, estimator, n_boot, seed, errorbar, sort, orient, err_style, err_kws, legend)\u001b[0m\n\u001b[1;32m    202\u001b[0m \u001b[38;5;28;01mdef\u001b[39;00m \u001b[38;5;21m__init__\u001b[39m(\n\u001b[1;32m    203\u001b[0m     \u001b[38;5;28mself\u001b[39m, \u001b[38;5;241m*\u001b[39m,\n\u001b[1;32m    204\u001b[0m     data\u001b[38;5;241m=\u001b[39m\u001b[38;5;28;01mNone\u001b[39;00m, variables\u001b[38;5;241m=\u001b[39m{},\n\u001b[0;32m   (...)\u001b[0m\n\u001b[1;32m    210\u001b[0m     \u001b[38;5;66;03m# the kind of plot to draw, but for the time being we need to set\u001b[39;00m\n\u001b[1;32m    211\u001b[0m     \u001b[38;5;66;03m# this information so the SizeMapping can use it\u001b[39;00m\n\u001b[1;32m    212\u001b[0m     \u001b[38;5;28mself\u001b[39m\u001b[38;5;241m.\u001b[39m_default_size_range \u001b[38;5;241m=\u001b[39m (\n\u001b[1;32m    213\u001b[0m         np\u001b[38;5;241m.\u001b[39mr_[\u001b[38;5;241m.5\u001b[39m, \u001b[38;5;241m2\u001b[39m] \u001b[38;5;241m*\u001b[39m mpl\u001b[38;5;241m.\u001b[39mrcParams[\u001b[38;5;124m\"\u001b[39m\u001b[38;5;124mlines.linewidth\u001b[39m\u001b[38;5;124m\"\u001b[39m]\n\u001b[1;32m    214\u001b[0m     )\n\u001b[0;32m--> 216\u001b[0m     \u001b[38;5;28;43msuper\u001b[39;49m\u001b[43m(\u001b[49m\u001b[43m)\u001b[49m\u001b[38;5;241;43m.\u001b[39;49m\u001b[38;5;21;43m__init__\u001b[39;49m\u001b[43m(\u001b[49m\u001b[43mdata\u001b[49m\u001b[38;5;241;43m=\u001b[39;49m\u001b[43mdata\u001b[49m\u001b[43m,\u001b[49m\u001b[43m \u001b[49m\u001b[43mvariables\u001b[49m\u001b[38;5;241;43m=\u001b[39;49m\u001b[43mvariables\u001b[49m\u001b[43m)\u001b[49m\n\u001b[1;32m    218\u001b[0m     \u001b[38;5;28mself\u001b[39m\u001b[38;5;241m.\u001b[39mestimator \u001b[38;5;241m=\u001b[39m estimator\n\u001b[1;32m    219\u001b[0m     \u001b[38;5;28mself\u001b[39m\u001b[38;5;241m.\u001b[39merrorbar \u001b[38;5;241m=\u001b[39m errorbar\n",
      "File \u001b[0;32m~/miniconda3/envs/nyu2/lib/python3.12/site-packages/seaborn/_base.py:634\u001b[0m, in \u001b[0;36mVectorPlotter.__init__\u001b[0;34m(self, data, variables)\u001b[0m\n\u001b[1;32m    629\u001b[0m \u001b[38;5;66;03m# var_ordered is relevant only for categorical axis variables, and may\u001b[39;00m\n\u001b[1;32m    630\u001b[0m \u001b[38;5;66;03m# be better handled by an internal axis information object that tracks\u001b[39;00m\n\u001b[1;32m    631\u001b[0m \u001b[38;5;66;03m# such information and is set up by the scale_* methods. The analogous\u001b[39;00m\n\u001b[1;32m    632\u001b[0m \u001b[38;5;66;03m# information for numeric axes would be information about log scales.\u001b[39;00m\n\u001b[1;32m    633\u001b[0m \u001b[38;5;28mself\u001b[39m\u001b[38;5;241m.\u001b[39m_var_ordered \u001b[38;5;241m=\u001b[39m {\u001b[38;5;124m\"\u001b[39m\u001b[38;5;124mx\u001b[39m\u001b[38;5;124m\"\u001b[39m: \u001b[38;5;28;01mFalse\u001b[39;00m, \u001b[38;5;124m\"\u001b[39m\u001b[38;5;124my\u001b[39m\u001b[38;5;124m\"\u001b[39m: \u001b[38;5;28;01mFalse\u001b[39;00m}  \u001b[38;5;66;03m# alt., used DefaultDict\u001b[39;00m\n\u001b[0;32m--> 634\u001b[0m \u001b[38;5;28;43mself\u001b[39;49m\u001b[38;5;241;43m.\u001b[39;49m\u001b[43massign_variables\u001b[49m\u001b[43m(\u001b[49m\u001b[43mdata\u001b[49m\u001b[43m,\u001b[49m\u001b[43m \u001b[49m\u001b[43mvariables\u001b[49m\u001b[43m)\u001b[49m\n\u001b[1;32m    636\u001b[0m \u001b[38;5;66;03m# TODO Lots of tests assume that these are called to initialize the\u001b[39;00m\n\u001b[1;32m    637\u001b[0m \u001b[38;5;66;03m# mappings to default values on class initialization. I'd prefer to\u001b[39;00m\n\u001b[1;32m    638\u001b[0m \u001b[38;5;66;03m# move away from that and only have a mapping when explicitly called.\u001b[39;00m\n\u001b[1;32m    639\u001b[0m \u001b[38;5;28;01mfor\u001b[39;00m var \u001b[38;5;129;01min\u001b[39;00m [\u001b[38;5;124m\"\u001b[39m\u001b[38;5;124mhue\u001b[39m\u001b[38;5;124m\"\u001b[39m, \u001b[38;5;124m\"\u001b[39m\u001b[38;5;124msize\u001b[39m\u001b[38;5;124m\"\u001b[39m, \u001b[38;5;124m\"\u001b[39m\u001b[38;5;124mstyle\u001b[39m\u001b[38;5;124m\"\u001b[39m]:\n",
      "File \u001b[0;32m~/miniconda3/envs/nyu2/lib/python3.12/site-packages/seaborn/_base.py:679\u001b[0m, in \u001b[0;36mVectorPlotter.assign_variables\u001b[0;34m(self, data, variables)\u001b[0m\n\u001b[1;32m    674\u001b[0m \u001b[38;5;28;01melse\u001b[39;00m:\n\u001b[1;32m    675\u001b[0m     \u001b[38;5;66;03m# When dealing with long-form input, use the newer PlotData\u001b[39;00m\n\u001b[1;32m    676\u001b[0m     \u001b[38;5;66;03m# object (internal but introduced for the objects interface)\u001b[39;00m\n\u001b[1;32m    677\u001b[0m     \u001b[38;5;66;03m# to centralize / standardize data consumption logic.\u001b[39;00m\n\u001b[1;32m    678\u001b[0m     \u001b[38;5;28mself\u001b[39m\u001b[38;5;241m.\u001b[39minput_format \u001b[38;5;241m=\u001b[39m \u001b[38;5;124m\"\u001b[39m\u001b[38;5;124mlong\u001b[39m\u001b[38;5;124m\"\u001b[39m\n\u001b[0;32m--> 679\u001b[0m     plot_data \u001b[38;5;241m=\u001b[39m \u001b[43mPlotData\u001b[49m\u001b[43m(\u001b[49m\u001b[43mdata\u001b[49m\u001b[43m,\u001b[49m\u001b[43m \u001b[49m\u001b[43mvariables\u001b[49m\u001b[43m)\u001b[49m\n\u001b[1;32m    680\u001b[0m     frame \u001b[38;5;241m=\u001b[39m plot_data\u001b[38;5;241m.\u001b[39mframe\n\u001b[1;32m    681\u001b[0m     names \u001b[38;5;241m=\u001b[39m plot_data\u001b[38;5;241m.\u001b[39mnames\n",
      "File \u001b[0;32m~/miniconda3/envs/nyu2/lib/python3.12/site-packages/seaborn/_core/data.py:58\u001b[0m, in \u001b[0;36mPlotData.__init__\u001b[0;34m(self, data, variables)\u001b[0m\n\u001b[1;32m     51\u001b[0m \u001b[38;5;28;01mdef\u001b[39;00m \u001b[38;5;21m__init__\u001b[39m(\n\u001b[1;32m     52\u001b[0m     \u001b[38;5;28mself\u001b[39m,\n\u001b[1;32m     53\u001b[0m     data: DataSource,\n\u001b[1;32m     54\u001b[0m     variables: \u001b[38;5;28mdict\u001b[39m[\u001b[38;5;28mstr\u001b[39m, VariableSpec],\n\u001b[1;32m     55\u001b[0m ):\n\u001b[1;32m     57\u001b[0m     data \u001b[38;5;241m=\u001b[39m handle_data_source(data)\n\u001b[0;32m---> 58\u001b[0m     frame, names, ids \u001b[38;5;241m=\u001b[39m \u001b[38;5;28;43mself\u001b[39;49m\u001b[38;5;241;43m.\u001b[39;49m\u001b[43m_assign_variables\u001b[49m\u001b[43m(\u001b[49m\u001b[43mdata\u001b[49m\u001b[43m,\u001b[49m\u001b[43m \u001b[49m\u001b[43mvariables\u001b[49m\u001b[43m)\u001b[49m\n\u001b[1;32m     60\u001b[0m     \u001b[38;5;28mself\u001b[39m\u001b[38;5;241m.\u001b[39mframe \u001b[38;5;241m=\u001b[39m frame\n\u001b[1;32m     61\u001b[0m     \u001b[38;5;28mself\u001b[39m\u001b[38;5;241m.\u001b[39mnames \u001b[38;5;241m=\u001b[39m names\n",
      "File \u001b[0;32m~/miniconda3/envs/nyu2/lib/python3.12/site-packages/seaborn/_core/data.py:265\u001b[0m, in \u001b[0;36mPlotData._assign_variables\u001b[0;34m(self, data, variables)\u001b[0m\n\u001b[1;32m    260\u001b[0m             ids[key] \u001b[38;5;241m=\u001b[39m \u001b[38;5;28mid\u001b[39m(val)\n\u001b[1;32m    262\u001b[0m \u001b[38;5;66;03m# Construct a tidy plot DataFrame. This will convert a number of\u001b[39;00m\n\u001b[1;32m    263\u001b[0m \u001b[38;5;66;03m# types automatically, aligning on index in case of pandas objects\u001b[39;00m\n\u001b[1;32m    264\u001b[0m \u001b[38;5;66;03m# TODO Note: this fails when variable specs *only* have scalars!\u001b[39;00m\n\u001b[0;32m--> 265\u001b[0m frame \u001b[38;5;241m=\u001b[39m \u001b[43mpd\u001b[49m\u001b[38;5;241;43m.\u001b[39;49m\u001b[43mDataFrame\u001b[49m\u001b[43m(\u001b[49m\u001b[43mplot_data\u001b[49m\u001b[43m)\u001b[49m\n\u001b[1;32m    267\u001b[0m \u001b[38;5;28;01mreturn\u001b[39;00m frame, names, ids\n",
      "File \u001b[0;32m~/miniconda3/envs/nyu2/lib/python3.12/site-packages/pandas/core/frame.py:778\u001b[0m, in \u001b[0;36mDataFrame.__init__\u001b[0;34m(self, data, index, columns, dtype, copy)\u001b[0m\n\u001b[1;32m    772\u001b[0m     mgr \u001b[38;5;241m=\u001b[39m \u001b[38;5;28mself\u001b[39m\u001b[38;5;241m.\u001b[39m_init_mgr(\n\u001b[1;32m    773\u001b[0m         data, axes\u001b[38;5;241m=\u001b[39m{\u001b[38;5;124m\"\u001b[39m\u001b[38;5;124mindex\u001b[39m\u001b[38;5;124m\"\u001b[39m: index, \u001b[38;5;124m\"\u001b[39m\u001b[38;5;124mcolumns\u001b[39m\u001b[38;5;124m\"\u001b[39m: columns}, dtype\u001b[38;5;241m=\u001b[39mdtype, copy\u001b[38;5;241m=\u001b[39mcopy\n\u001b[1;32m    774\u001b[0m     )\n\u001b[1;32m    776\u001b[0m \u001b[38;5;28;01melif\u001b[39;00m \u001b[38;5;28misinstance\u001b[39m(data, \u001b[38;5;28mdict\u001b[39m):\n\u001b[1;32m    777\u001b[0m     \u001b[38;5;66;03m# GH#38939 de facto copy defaults to False only in non-dict cases\u001b[39;00m\n\u001b[0;32m--> 778\u001b[0m     mgr \u001b[38;5;241m=\u001b[39m \u001b[43mdict_to_mgr\u001b[49m\u001b[43m(\u001b[49m\u001b[43mdata\u001b[49m\u001b[43m,\u001b[49m\u001b[43m \u001b[49m\u001b[43mindex\u001b[49m\u001b[43m,\u001b[49m\u001b[43m \u001b[49m\u001b[43mcolumns\u001b[49m\u001b[43m,\u001b[49m\u001b[43m \u001b[49m\u001b[43mdtype\u001b[49m\u001b[38;5;241;43m=\u001b[39;49m\u001b[43mdtype\u001b[49m\u001b[43m,\u001b[49m\u001b[43m \u001b[49m\u001b[43mcopy\u001b[49m\u001b[38;5;241;43m=\u001b[39;49m\u001b[43mcopy\u001b[49m\u001b[43m,\u001b[49m\u001b[43m \u001b[49m\u001b[43mtyp\u001b[49m\u001b[38;5;241;43m=\u001b[39;49m\u001b[43mmanager\u001b[49m\u001b[43m)\u001b[49m\n\u001b[1;32m    779\u001b[0m \u001b[38;5;28;01melif\u001b[39;00m \u001b[38;5;28misinstance\u001b[39m(data, ma\u001b[38;5;241m.\u001b[39mMaskedArray):\n\u001b[1;32m    780\u001b[0m     \u001b[38;5;28;01mfrom\u001b[39;00m \u001b[38;5;21;01mnumpy\u001b[39;00m\u001b[38;5;21;01m.\u001b[39;00m\u001b[38;5;21;01mma\u001b[39;00m \u001b[38;5;28;01mimport\u001b[39;00m mrecords\n",
      "File \u001b[0;32m~/miniconda3/envs/nyu2/lib/python3.12/site-packages/pandas/core/internals/construction.py:503\u001b[0m, in \u001b[0;36mdict_to_mgr\u001b[0;34m(data, index, columns, dtype, typ, copy)\u001b[0m\n\u001b[1;32m    499\u001b[0m     \u001b[38;5;28;01melse\u001b[39;00m:\n\u001b[1;32m    500\u001b[0m         \u001b[38;5;66;03m# dtype check to exclude e.g. range objects, scalars\u001b[39;00m\n\u001b[1;32m    501\u001b[0m         arrays \u001b[38;5;241m=\u001b[39m [x\u001b[38;5;241m.\u001b[39mcopy() \u001b[38;5;28;01mif\u001b[39;00m \u001b[38;5;28mhasattr\u001b[39m(x, \u001b[38;5;124m\"\u001b[39m\u001b[38;5;124mdtype\u001b[39m\u001b[38;5;124m\"\u001b[39m) \u001b[38;5;28;01melse\u001b[39;00m x \u001b[38;5;28;01mfor\u001b[39;00m x \u001b[38;5;129;01min\u001b[39;00m arrays]\n\u001b[0;32m--> 503\u001b[0m \u001b[38;5;28;01mreturn\u001b[39;00m \u001b[43marrays_to_mgr\u001b[49m\u001b[43m(\u001b[49m\u001b[43marrays\u001b[49m\u001b[43m,\u001b[49m\u001b[43m \u001b[49m\u001b[43mcolumns\u001b[49m\u001b[43m,\u001b[49m\u001b[43m \u001b[49m\u001b[43mindex\u001b[49m\u001b[43m,\u001b[49m\u001b[43m \u001b[49m\u001b[43mdtype\u001b[49m\u001b[38;5;241;43m=\u001b[39;49m\u001b[43mdtype\u001b[49m\u001b[43m,\u001b[49m\u001b[43m \u001b[49m\u001b[43mtyp\u001b[49m\u001b[38;5;241;43m=\u001b[39;49m\u001b[43mtyp\u001b[49m\u001b[43m,\u001b[49m\u001b[43m \u001b[49m\u001b[43mconsolidate\u001b[49m\u001b[38;5;241;43m=\u001b[39;49m\u001b[43mcopy\u001b[49m\u001b[43m)\u001b[49m\n",
      "File \u001b[0;32m~/miniconda3/envs/nyu2/lib/python3.12/site-packages/pandas/core/internals/construction.py:114\u001b[0m, in \u001b[0;36marrays_to_mgr\u001b[0;34m(arrays, columns, index, dtype, verify_integrity, typ, consolidate)\u001b[0m\n\u001b[1;32m    111\u001b[0m \u001b[38;5;28;01mif\u001b[39;00m verify_integrity:\n\u001b[1;32m    112\u001b[0m     \u001b[38;5;66;03m# figure out the index, if necessary\u001b[39;00m\n\u001b[1;32m    113\u001b[0m     \u001b[38;5;28;01mif\u001b[39;00m index \u001b[38;5;129;01mis\u001b[39;00m \u001b[38;5;28;01mNone\u001b[39;00m:\n\u001b[0;32m--> 114\u001b[0m         index \u001b[38;5;241m=\u001b[39m \u001b[43m_extract_index\u001b[49m\u001b[43m(\u001b[49m\u001b[43marrays\u001b[49m\u001b[43m)\u001b[49m\n\u001b[1;32m    115\u001b[0m     \u001b[38;5;28;01melse\u001b[39;00m:\n\u001b[1;32m    116\u001b[0m         index \u001b[38;5;241m=\u001b[39m ensure_index(index)\n",
      "File \u001b[0;32m~/miniconda3/envs/nyu2/lib/python3.12/site-packages/pandas/core/internals/construction.py:677\u001b[0m, in \u001b[0;36m_extract_index\u001b[0;34m(data)\u001b[0m\n\u001b[1;32m    675\u001b[0m lengths \u001b[38;5;241m=\u001b[39m \u001b[38;5;28mlist\u001b[39m(\u001b[38;5;28mset\u001b[39m(raw_lengths))\n\u001b[1;32m    676\u001b[0m \u001b[38;5;28;01mif\u001b[39;00m \u001b[38;5;28mlen\u001b[39m(lengths) \u001b[38;5;241m>\u001b[39m \u001b[38;5;241m1\u001b[39m:\n\u001b[0;32m--> 677\u001b[0m     \u001b[38;5;28;01mraise\u001b[39;00m \u001b[38;5;167;01mValueError\u001b[39;00m(\u001b[38;5;124m\"\u001b[39m\u001b[38;5;124mAll arrays must be of the same length\u001b[39m\u001b[38;5;124m\"\u001b[39m)\n\u001b[1;32m    679\u001b[0m \u001b[38;5;28;01mif\u001b[39;00m have_dicts:\n\u001b[1;32m    680\u001b[0m     \u001b[38;5;28;01mraise\u001b[39;00m \u001b[38;5;167;01mValueError\u001b[39;00m(\n\u001b[1;32m    681\u001b[0m         \u001b[38;5;124m\"\u001b[39m\u001b[38;5;124mMixing dicts with non-Series may lead to ambiguous ordering.\u001b[39m\u001b[38;5;124m\"\u001b[39m\n\u001b[1;32m    682\u001b[0m     )\n",
      "\u001b[0;31mValueError\u001b[0m: All arrays must be of the same length"
     ]
    }
   ],
   "source": [
    "sns.lineplot(x=predictions['group'].unique(), y=stats_list, marker=\"o\")\n",
    "plt.title('ROC AUC scores over each step iteration')\n",
    "plt.xlabel('Walk forward Iteration')\n",
    "plt.ylabel('ROC AUC score (for that test set of size Step)')"
   ]
  },
  {
   "cell_type": "code",
   "execution_count": 48,
   "id": "23a0a9a2-092a-4bbd-bb4b-e7175792fe91",
   "metadata": {},
   "outputs": [],
   "source": [
    "default_data_viz = predictions.groupby('group')['label'].mean()"
   ]
  },
  {
   "cell_type": "code",
   "execution_count": 49,
   "id": "33e9dbd6-ce2d-4892-8783-d6556befb54a",
   "metadata": {},
   "outputs": [
    {
     "data": {
      "text/plain": [
       "Text(0, 0.5, '% of defaults')"
      ]
     },
     "execution_count": 49,
     "metadata": {},
     "output_type": "execute_result"
    },
    {
     "data": {
      "image/png": "[encoded data removed]",
      "text/plain": [
       "<Figure size 640x480 with 1 Axes>"
      ]
     },
     "metadata": {},
     "output_type": "display_data"
    }
   ],
   "source": [
    "sns.lineplot(x=default_data_viz.index, y=default_data_viz, marker=\"o\")\n",
    "plt.title('% of defaults in each test set of walkforward')\n",
    "plt.xlabel('Walk forward Iteration')\n",
    "plt.ylabel('% of defaults')"
   ]
  },
  {
   "cell_type": "code",
   "execution_count": null,
   "id": "7ce0ff65-e770-4a0b-a864-ad82cd0ae26d",
   "metadata": {},
   "outputs": [],
   "source": []
  }
 ],
 "metadata": {
  "kernelspec": {
   "display_name": "Python 3 (ipykernel)",
   "language": "python",
   "name": "python3"
  },
  "language_info": {
   "codemirror_mode": {
    "name": "ipython",
    "version": 3
   },
   "file_extension": ".py",
   "mimetype": "text/x-python",
   "name": "python",
   "nbconvert_exporter": "python",
   "pygments_lexer": "ipython3",
   "version": "3.12.1"
  }
 },
 "nbformat": 4,
 "nbformat_minor": 5
}
